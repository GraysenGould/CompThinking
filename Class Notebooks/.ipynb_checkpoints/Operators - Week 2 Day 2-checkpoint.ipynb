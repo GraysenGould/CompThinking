{
 "cells": [
  {
   "cell_type": "markdown",
   "id": "bc3c9921-9f84-4d13-a5a9-13c2dc55a3e6",
   "metadata": {},
   "source": [
    "## Logical operators"
   ]
  },
  {
   "cell_type": "code",
   "execution_count": null,
   "id": "8988ce9b",
   "metadata": {},
   "outputs": [],
   "source": [
    "x=100\n",
    "y=50"
   ]
  },
  {
   "cell_type": "code",
   "execution_count": null,
   "id": "39cdb2b2",
   "metadata": {},
   "outputs": [],
   "source": [
    "x==100 and y==50"
   ]
  },
  {
   "cell_type": "code",
   "execution_count": null,
   "id": "fec49b95",
   "metadata": {},
   "outputs": [],
   "source": [
    "x>=100 and y>=100"
   ]
  },
  {
   "cell_type": "code",
   "execution_count": null,
   "id": "e8ac40d4",
   "metadata": {},
   "outputs": [],
   "source": [
    "x>=100 or y>=100"
   ]
  },
  {
   "cell_type": "code",
   "execution_count": null,
   "id": "ef3c360f",
   "metadata": {},
   "outputs": [],
   "source": [
    "x>100 or y>100"
   ]
  },
  {
   "cell_type": "code",
   "execution_count": null,
   "id": "d384c7d3",
   "metadata": {},
   "outputs": [],
   "source": [
    "not x==100"
   ]
  },
  {
   "cell_type": "code",
   "execution_count": null,
   "id": "12871e7d",
   "metadata": {},
   "outputs": [],
   "source": [
    "not x>100"
   ]
  },
  {
   "cell_type": "markdown",
   "id": "f3df10a9-581b-496b-acb3-33d14151a985",
   "metadata": {},
   "source": [
    "## Comparison operators"
   ]
  },
  {
   "cell_type": "code",
   "execution_count": null,
   "id": "a9366488",
   "metadata": {},
   "outputs": [],
   "source": [
    "x==100"
   ]
  },
  {
   "cell_type": "code",
   "execution_count": null,
   "id": "84a4ea1b",
   "metadata": {},
   "outputs": [],
   "source": [
    "x!=y"
   ]
  },
  {
   "cell_type": "code",
   "execution_count": null,
   "id": "1178a9ca",
   "metadata": {},
   "outputs": [],
   "source": [
    "x>y"
   ]
  },
  {
   "cell_type": "code",
   "execution_count": null,
   "id": "53305ef7",
   "metadata": {},
   "outputs": [],
   "source": [
    "x>=y"
   ]
  },
  {
   "cell_type": "code",
   "execution_count": null,
   "id": "71870131",
   "metadata": {},
   "outputs": [],
   "source": [
    "x<y"
   ]
  },
  {
   "cell_type": "code",
   "execution_count": null,
   "id": "57294579",
   "metadata": {},
   "outputs": [],
   "source": [
    "x<=100"
   ]
  },
  {
   "cell_type": "markdown",
   "id": "7f97cf9a-9e2b-426b-9131-e7277d54c7ca",
   "metadata": {},
   "source": [
    "## Precedence of arithmatic operators"
   ]
  },
  {
   "cell_type": "code",
   "execution_count": 9,
   "id": "0097aed1",
   "metadata": {},
   "outputs": [],
   "source": [
    "a=2\n",
    "b=5\n",
    "c=0.5\n",
    "d=-10\n",
    "e=d*a**b+c-2*b/a+b**(a+c)  "
   ]
  },
  {
   "cell_type": "code",
   "execution_count": 11,
   "id": "22d70692",
   "metadata": {},
   "outputs": [
    {
     "name": "stdout",
     "output_type": "stream",
     "text": [
      "-268.59830056250524\n"
     ]
    }
   ],
   "source": [
    "print(e)"
   ]
  },
  {
   "cell_type": "markdown",
   "id": "63fb6cfb-c522-4d58-96f0-5e35eb5f9dfc",
   "metadata": {},
   "source": [
    "## Combination of arithmatc logical and comparison operators in same expression"
   ]
  },
  {
   "cell_type": "code",
   "execution_count": 26,
   "id": "08dbb9fa-71ef-4366-94d9-184bdf61e15e",
   "metadata": {},
   "outputs": [
    {
     "data": {
      "text/plain": [
       "True"
      ]
     },
     "execution_count": 26,
     "metadata": {},
     "output_type": "execute_result"
    }
   ],
   "source": [
    "a=2\n",
    "b=5\n",
    "c=0.5\n",
    "d=-10\n",
    "a+b>c+d and a*c>b*d"
   ]
  },
  {
   "cell_type": "code",
   "execution_count": null,
   "id": "556aa7b6-9c66-40d4-b0a8-44cf5dee9daf",
   "metadata": {},
   "outputs": [],
   "source": []
  }
 ],
 "metadata": {
  "kernelspec": {
   "display_name": "Python 3 (ipykernel)",
   "language": "python",
   "name": "python3"
  },
  "language_info": {
   "codemirror_mode": {
    "name": "ipython",
    "version": 3
   },
   "file_extension": ".py",
   "mimetype": "text/x-python",
   "name": "python",
   "nbconvert_exporter": "python",
   "pygments_lexer": "ipython3",
   "version": "3.12.4"
  }
 },
 "nbformat": 4,
 "nbformat_minor": 5
}
