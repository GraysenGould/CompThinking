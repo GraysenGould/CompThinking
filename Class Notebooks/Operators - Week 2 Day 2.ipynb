{
 "cells": [
  {
   "cell_type": "markdown",
   "id": "bc3c9921-9f84-4d13-a5a9-13c2dc55a3e6",
   "metadata": {},
   "source": [
    "## Logical operators"
   ]
  },
  {
   "cell_type": "code",
   "execution_count": 5,
   "id": "8988ce9b",
   "metadata": {},
   "outputs": [],
   "source": [
    "x=100\n",
    "y=50"
   ]
  },
  {
   "cell_type": "code",
   "execution_count": 6,
   "id": "39cdb2b2",
   "metadata": {},
   "outputs": [
    {
     "data": {
      "text/plain": [
       "True"
      ]
     },
     "execution_count": 6,
     "metadata": {},
     "output_type": "execute_result"
    }
   ],
   "source": [
    "x==100 and y==50"
   ]
  },
  {
   "cell_type": "code",
   "execution_count": 7,
   "id": "fec49b95",
   "metadata": {},
   "outputs": [
    {
     "data": {
      "text/plain": [
       "False"
      ]
     },
     "execution_count": 7,
     "metadata": {},
     "output_type": "execute_result"
    }
   ],
   "source": [
    "x>=100 and y>=100"
   ]
  },
  {
   "cell_type": "code",
   "execution_count": 8,
   "id": "e8ac40d4",
   "metadata": {},
   "outputs": [
    {
     "data": {
      "text/plain": [
       "True"
      ]
     },
     "execution_count": 8,
     "metadata": {},
     "output_type": "execute_result"
    }
   ],
   "source": [
    "x>=100 or y>=100"
   ]
  },
  {
   "cell_type": "code",
   "execution_count": 9,
   "id": "ef3c360f",
   "metadata": {},
   "outputs": [
    {
     "data": {
      "text/plain": [
       "False"
      ]
     },
     "execution_count": 9,
     "metadata": {},
     "output_type": "execute_result"
    }
   ],
   "source": [
    "x>100 or y>100"
   ]
  },
  {
   "cell_type": "code",
   "execution_count": 10,
   "id": "d384c7d3",
   "metadata": {},
   "outputs": [
    {
     "data": {
      "text/plain": [
       "False"
      ]
     },
     "execution_count": 10,
     "metadata": {},
     "output_type": "execute_result"
    }
   ],
   "source": [
    "not x==100"
   ]
  },
  {
   "cell_type": "code",
   "execution_count": 11,
   "id": "12871e7d",
   "metadata": {},
   "outputs": [
    {
     "data": {
      "text/plain": [
       "True"
      ]
     },
     "execution_count": 11,
     "metadata": {},
     "output_type": "execute_result"
    }
   ],
   "source": [
    "not x>100"
   ]
  },
  {
   "cell_type": "markdown",
   "id": "f3df10a9-581b-496b-acb3-33d14151a985",
   "metadata": {},
   "source": [
    "## Comparison operators"
   ]
  },
  {
   "cell_type": "code",
   "execution_count": 12,
   "id": "a9366488",
   "metadata": {},
   "outputs": [
    {
     "data": {
      "text/plain": [
       "True"
      ]
     },
     "execution_count": 12,
     "metadata": {},
     "output_type": "execute_result"
    }
   ],
   "source": [
    "x==100"
   ]
  },
  {
   "cell_type": "code",
   "execution_count": 13,
   "id": "84a4ea1b",
   "metadata": {},
   "outputs": [
    {
     "data": {
      "text/plain": [
       "True"
      ]
     },
     "execution_count": 13,
     "metadata": {},
     "output_type": "execute_result"
    }
   ],
   "source": [
    "x!=y"
   ]
  },
  {
   "cell_type": "code",
   "execution_count": 14,
   "id": "1178a9ca",
   "metadata": {},
   "outputs": [
    {
     "data": {
      "text/plain": [
       "True"
      ]
     },
     "execution_count": 14,
     "metadata": {},
     "output_type": "execute_result"
    }
   ],
   "source": [
    "x>y"
   ]
  },
  {
   "cell_type": "code",
   "execution_count": 15,
   "id": "53305ef7",
   "metadata": {},
   "outputs": [
    {
     "data": {
      "text/plain": [
       "True"
      ]
     },
     "execution_count": 15,
     "metadata": {},
     "output_type": "execute_result"
    }
   ],
   "source": [
    "x>=y"
   ]
  },
  {
   "cell_type": "code",
   "execution_count": 16,
   "id": "71870131",
   "metadata": {},
   "outputs": [
    {
     "data": {
      "text/plain": [
       "False"
      ]
     },
     "execution_count": 16,
     "metadata": {},
     "output_type": "execute_result"
    }
   ],
   "source": [
    "x<y"
   ]
  },
  {
   "cell_type": "code",
   "execution_count": 17,
   "id": "57294579",
   "metadata": {},
   "outputs": [
    {
     "data": {
      "text/plain": [
       "True"
      ]
     },
     "execution_count": 17,
     "metadata": {},
     "output_type": "execute_result"
    }
   ],
   "source": [
    "x<=100"
   ]
  },
  {
   "cell_type": "markdown",
   "id": "7f97cf9a-9e2b-426b-9131-e7277d54c7ca",
   "metadata": {},
   "source": [
    "## Precedence of arithmatic operators"
   ]
  },
  {
   "cell_type": "code",
   "execution_count": 18,
   "id": "0097aed1",
   "metadata": {},
   "outputs": [],
   "source": [
    "a=2\n",
    "b=5\n",
    "c=0.5\n",
    "d=-10\n",
    "e=d*a**b+c-2*b/a+b**(a+c)  "
   ]
  },
  {
   "cell_type": "code",
   "execution_count": 19,
   "id": "22d70692",
   "metadata": {},
   "outputs": [
    {
     "name": "stdout",
     "output_type": "stream",
     "text": [
      "-268.59830056250524\n"
     ]
    }
   ],
   "source": [
    "print(e)"
   ]
  },
  {
   "cell_type": "markdown",
   "id": "63fb6cfb-c522-4d58-96f0-5e35eb5f9dfc",
   "metadata": {},
   "source": [
    "## Combination of arithmatc logical and comparison operators in same expression"
   ]
  },
  {
   "cell_type": "code",
   "execution_count": 2,
   "id": "08dbb9fa-71ef-4366-94d9-184bdf61e15e",
   "metadata": {},
   "outputs": [
    {
     "name": "stdout",
     "output_type": "stream",
     "text": [
      "True\n"
     ]
    }
   ],
   "source": [
    "a=2\n",
    "b=5\n",
    "c=0.5\n",
    "d=-10\n",
    "print(a+b>c+d and a*c>b*d)"
   ]
  },
  {
   "cell_type": "code",
   "execution_count": 3,
   "id": "556aa7b6-9c66-40d4-b0a8-44cf5dee9daf",
   "metadata": {},
   "outputs": [
    {
     "name": "stdout",
     "output_type": "stream",
     "text": [
      "7\n"
     ]
    }
   ],
   "source": [
    "print(a+b)"
   ]
  },
  {
   "cell_type": "code",
   "execution_count": 5,
   "id": "5b2322df-73a3-41a8-bca4-55d4a39481f0",
   "metadata": {},
   "outputs": [
    {
     "name": "stdout",
     "output_type": "stream",
     "text": [
      "HELLO WORLD\n",
      "hello world\n"
     ]
    }
   ],
   "source": [
    "string  = \"Hello World\"\n",
    "print(string.upper())\n",
    "print(string.lower())"
   ]
  },
  {
   "cell_type": "code",
   "execution_count": null,
   "id": "bd2239c5-b9d9-440d-bfb8-cc9f4a726ba4",
   "metadata": {},
   "outputs": [],
   "source": []
  }
 ],
 "metadata": {
  "kernelspec": {
   "display_name": "Python 3 (ipykernel)",
   "language": "python",
   "name": "python3"
  },
  "language_info": {
   "codemirror_mode": {
    "name": "ipython",
    "version": 3
   },
   "file_extension": ".py",
   "mimetype": "text/x-python",
   "name": "python",
   "nbconvert_exporter": "python",
   "pygments_lexer": "ipython3",
   "version": "3.12.4"
  }
 },
 "nbformat": 4,
 "nbformat_minor": 5
}
