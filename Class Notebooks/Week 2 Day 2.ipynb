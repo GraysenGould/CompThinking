{
 "cells": [
  {
   "cell_type": "code",
   "execution_count": 1,
   "id": "f36d4053-4e33-42b1-9b09-a680e8c3de92",
   "metadata": {},
   "outputs": [
    {
     "name": "stdout",
     "output_type": "stream",
     "text": [
      "2\n"
     ]
    }
   ],
   "source": [
    "print(5//2)"
   ]
  },
  {
   "cell_type": "code",
   "execution_count": 2,
   "id": "abd534a1-63e5-4983-9435-1881d72178bd",
   "metadata": {},
   "outputs": [
    {
     "name": "stdout",
     "output_type": "stream",
     "text": [
      "1\n"
     ]
    }
   ],
   "source": [
    "print(5%2)"
   ]
  },
  {
   "cell_type": "code",
   "execution_count": 3,
   "id": "d62fde0f-cddb-4882-98f8-5c8a5301c0cb",
   "metadata": {},
   "outputs": [
    {
     "name": "stdout",
     "output_type": "stream",
     "text": [
      "2.5\n"
     ]
    }
   ],
   "source": [
    "print(5/2)"
   ]
  },
  {
   "cell_type": "code",
   "execution_count": 7,
   "id": "f1ef49b1-3502-447d-8191-15ed81e4fdeb",
   "metadata": {},
   "outputs": [
    {
     "name": "stdout",
     "output_type": "stream",
     "text": [
      "-201.7333333333333\n"
     ]
    }
   ],
   "source": [
    "print((-10*2**5) + 3.6 - 8*(5/3) + 4**(2+1.5)) "
   ]
  },
  {
   "cell_type": "code",
   "execution_count": 11,
   "id": "a0a03cd8-e61b-45fc-9fc9-0f4c14f66ec0",
   "metadata": {},
   "outputs": [
    {
     "ename": "SyntaxError",
     "evalue": "cannot assign to expression here. Maybe you meant '==' instead of '='? (3403764052.py, line 1)",
     "output_type": "error",
     "traceback": [
      "\u001b[1;36m  Cell \u001b[1;32mIn[11], line 1\u001b[1;36m\u001b[0m\n\u001b[1;33m    x | y | z = 'Hello World'\u001b[0m\n\u001b[1;37m    ^\u001b[0m\n\u001b[1;31mSyntaxError\u001b[0m\u001b[1;31m:\u001b[0m cannot assign to expression here. Maybe you meant '==' instead of '='?\n"
     ]
    }
   ],
   "source": [
    "x | y | z = 'Hello World' "
   ]
  },
  {
   "cell_type": "code",
   "execution_count": 9,
   "id": "fd94f7f8-5fda-4265-b987-097ac2a3f894",
   "metadata": {},
   "outputs": [
    {
     "name": "stdout",
     "output_type": "stream",
     "text": [
      "Hello World Hello World Hello World\n"
     ]
    }
   ],
   "source": [
    "print(x,y,z)"
   ]
  },
  {
   "cell_type": "code",
   "execution_count": 12,
   "id": "64388635-2d20-4374-b20b-c39f33203dda",
   "metadata": {},
   "outputs": [],
   "source": [
    "x, y, z = \"Orange\", \"Banana\", \"Cherry\"  "
   ]
  },
  {
   "cell_type": "code",
   "execution_count": 14,
   "id": "50daf7f8-e792-4b5a-adf2-0363e1bf999a",
   "metadata": {},
   "outputs": [],
   "source": [
    "x = y = z = \"Orange\", \"Banana\", \"Cherry\""
   ]
  },
  {
   "cell_type": "code",
   "execution_count": 15,
   "id": "607526ce-5315-460c-99ca-3a09c9028afe",
   "metadata": {},
   "outputs": [
    {
     "name": "stdout",
     "output_type": "stream",
     "text": [
      "('Orange', 'Banana', 'Cherry') ('Orange', 'Banana', 'Cherry') ('Orange', 'Banana', 'Cherry')\n"
     ]
    }
   ],
   "source": [
    "print(x, y, z)"
   ]
  },
  {
   "cell_type": "code",
   "execution_count": null,
   "id": "a0c08972-0022-49fc-bd7f-daacac829cdd",
   "metadata": {},
   "outputs": [],
   "source": []
  }
 ],
 "metadata": {
  "kernelspec": {
   "display_name": "Python 3 (ipykernel)",
   "language": "python",
   "name": "python3"
  },
  "language_info": {
   "codemirror_mode": {
    "name": "ipython",
    "version": 3
   },
   "file_extension": ".py",
   "mimetype": "text/x-python",
   "name": "python",
   "nbconvert_exporter": "python",
   "pygments_lexer": "ipython3",
   "version": "3.12.4"
  }
 },
 "nbformat": 4,
 "nbformat_minor": 5
}
