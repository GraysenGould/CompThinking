{
 "cells": [
  {
   "cell_type": "code",
   "execution_count": 1,
   "id": "99e3e78a-d1e4-4c56-bcf9-74b2af5fdb10",
   "metadata": {},
   "outputs": [
    {
     "name": "stdout",
     "output_type": "stream",
     "text": [
      "1\n"
     ]
    }
   ],
   "source": [
    "x = 0\n",
    "\n",
    "def funny():\n",
    "    b = x +1\n",
    "    return b\n",
    "print(funny())"
   ]
  },
  {
   "cell_type": "code",
   "execution_count": null,
   "id": "9ddff967-de4a-405a-afbf-4ecd95f059eb",
   "metadata": {},
   "outputs": [],
   "source": []
  }
 ],
 "metadata": {
  "kernelspec": {
   "display_name": "Python 3 (ipykernel)",
   "language": "python",
   "name": "python3"
  },
  "language_info": {
   "codemirror_mode": {
    "name": "ipython",
    "version": 3
   },
   "file_extension": ".py",
   "mimetype": "text/x-python",
   "name": "python",
   "nbconvert_exporter": "python",
   "pygments_lexer": "ipython3",
   "version": "3.12.4"
  }
 },
 "nbformat": 4,
 "nbformat_minor": 5
}
