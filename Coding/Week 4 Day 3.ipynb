{
 "cells": [
  {
   "cell_type": "code",
   "execution_count": 3,
   "id": "a314c68d-085e-4a4e-8ba7-4c0f78426f35",
   "metadata": {},
   "outputs": [
    {
     "name": "stdin",
     "output_type": "stream",
     "text": [
      "please input the ammount of stars 5\n"
     ]
    },
    {
     "name": "stdout",
     "output_type": "stream",
     "text": [
      "*\n",
      "**\n",
      "***\n",
      "****\n",
      "*****\n"
     ]
    }
   ],
   "source": [
    "n = int(input(\"please input the ammount of stars\"))\n",
    "\n",
    "for i in range(1, n+1):\n",
    "    print(\"*\"*i)"
   ]
  },
  {
   "cell_type": "code",
   "execution_count": 10,
   "id": "0d83cfa9-9e58-47e1-8ef6-65b12f24e69e",
   "metadata": {},
   "outputs": [
    {
     "name": "stdin",
     "output_type": "stream",
     "text": [
      "please input a number to calculate a pyramid number 100000000\n"
     ]
    },
    {
     "name": "stdout",
     "output_type": "stream",
     "text": [
      "Your pyramid number is 5000000050000000\n"
     ]
    }
   ],
   "source": [
    "n = int(input(\"please input a number to calculate a pyramid number\"))\n",
    "x = 0\n",
    "\n",
    "for i in range(1, n+1):\n",
    "    x = x + i\n",
    "\n",
    "print(f\"Your pyramid number is {x}\")"
   ]
  },
  {
   "cell_type": "code",
   "execution_count": 18,
   "id": "1d3de4ae-147d-43db-9b59-3095de784cd5",
   "metadata": {},
   "outputs": [
    {
     "name": "stdin",
     "output_type": "stream",
     "text": [
      "input 0 for even numbers, input 1 for odd numbers 1\n",
      "please input the number you want to calculate up to 19\n"
     ]
    },
    {
     "name": "stdout",
     "output_type": "stream",
     "text": [
      "the value of the first 10 odd numbers is 100\n"
     ]
    }
   ],
   "source": [
    "#program for calculating first number of even or odd number\n",
    "even_odd = int(input(\"input 0 for even numbers, input 1 for odd numbers\"))\n",
    "n = int(input(\"please input the number you want to calculate up to\"))\n",
    "x = 0\n",
    "\n",
    "# even numbers\n",
    "if not even_odd:\n",
    "    for i in range(0, n+1, 2):\n",
    "        x = x + i \n",
    "    print(f\"the value of the first {n//2 + 1} even numbers (including zero) is {x}\")\n",
    "\n",
    "#odd numbers\n",
    "if even_odd:\n",
    "    for i in range(1, n+1, 2):\n",
    "        x = x + i\n",
    "    print(f\"the value of the first {n//2 + 1} odd numbers is {x}\")\n"
   ]
  },
  {
   "cell_type": "code",
   "execution_count": null,
   "id": "3a87d2d1-598f-4815-bb9f-9d4765411798",
   "metadata": {},
   "outputs": [],
   "source": []
  }
 ],
 "metadata": {
  "kernelspec": {
   "display_name": "Python 3 (ipykernel)",
   "language": "python",
   "name": "python3"
  },
  "language_info": {
   "codemirror_mode": {
    "name": "ipython",
    "version": 3
   },
   "file_extension": ".py",
   "mimetype": "text/x-python",
   "name": "python",
   "nbconvert_exporter": "python",
   "pygments_lexer": "ipython3",
   "version": "3.12.4"
  }
 },
 "nbformat": 4,
 "nbformat_minor": 5
}
