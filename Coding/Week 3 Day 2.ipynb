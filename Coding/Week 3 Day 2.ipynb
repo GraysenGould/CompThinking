{
 "cells": [
  {
   "cell_type": "code",
   "execution_count": 1,
   "id": "1e421f5f-08b8-4658-962d-4c7aae54b998",
   "metadata": {},
   "outputs": [],
   "source": [
    "# 9-6-24"
   ]
  },
  {
   "cell_type": "code",
   "execution_count": 18,
   "id": "8c5f84ee-4439-4736-bd5e-ec4ebf939982",
   "metadata": {},
   "outputs": [],
   "source": [
    "my_sent = \"the quick brown fox jumped over the lazy dogs\""
   ]
  },
  {
   "cell_type": "code",
   "execution_count": 19,
   "id": "8fc739a6-04e7-4412-a3ee-c923120bcf33",
   "metadata": {},
   "outputs": [
    {
     "name": "stdout",
     "output_type": "stream",
     "text": [
      "None\n"
     ]
    }
   ],
   "source": [
    "my_set = list(set(my_sent))\n",
    "print(my_set.sort())\n"
   ]
  },
  {
   "cell_type": "code",
   "execution_count": 20,
   "id": "06b6310a-a06e-4e3c-a901-875a6d1956ef",
   "metadata": {},
   "outputs": [
    {
     "name": "stdout",
     "output_type": "stream",
     "text": [
      "27\n",
      "[' ', 'a', 'b', 'c', 'd', 'e', 'f', 'g', 'h', 'i', 'j', 'k', 'l', 'm', 'n', 'o', 'p', 'q', 'r', 's', 't', 'u', 'v', 'w', 'x', 'y', 'z']\n"
     ]
    }
   ],
   "source": [
    "print(len(my_set))\n",
    "print(my_set)"
   ]
  },
  {
   "cell_type": "code",
   "execution_count": 26,
   "id": "3985d54d-bb23-4536-856c-9896fd3dccb4",
   "metadata": {},
   "outputs": [
    {
     "name": "stdout",
     "output_type": "stream",
     "text": [
      "{'o', 't', 'e', ' ', 'h', 'r', 'l'}\n",
      "{'o', 'i', 't', 's', 'y', 'e', 'r', 'c', ' ', 'h', 'a', 'l'}\n"
     ]
    }
   ],
   "source": [
    "set1 = set(\"hello there\")\n",
    "set2 = set(\"this is a really cool set\")\n",
    "\n",
    "print(set1)\n",
    "print(set2)"
   ]
  },
  {
   "cell_type": "code",
   "execution_count": 37,
   "id": "597224c2-eb49-4221-8222-ee38e96a63fd",
   "metadata": {},
   "outputs": [
    {
     "name": "stdout",
     "output_type": "stream",
     "text": [
      "{'o', 't', 'e', ' ', 'h', 'r', 'l'}\n",
      "{'i', 's', 'y', 'a', 'c'}\n",
      "True\n",
      "True\n",
      "True\n",
      "False\n"
     ]
    }
   ],
   "source": [
    "print(set1&set2)\n",
    "print(set2.difference(set1))\n",
    "print(set2.issuperset(set1)) # or set2 >= set1\n",
    "print(set2 >= set1)\n",
    "print(set1.issubset(set1))\n",
    "print(set1.isdisjoint(set2))"
   ]
  },
  {
   "cell_type": "code",
   "execution_count": 1,
   "id": "5a3decb4-d339-42a0-a6d5-f1f862c4666b",
   "metadata": {},
   "outputs": [
    {
     "name": "stdout",
     "output_type": "stream",
     "text": [
      "3.0\n"
     ]
    }
   ],
   "source": [
    "x2 = 2 % (2 + 2) * 2 - 2 / 2\n",
    "print(x2)"
   ]
  },
  {
   "cell_type": "code",
   "execution_count": 3,
   "id": "ea1f2659-f807-4dfb-9011-96ce0539234c",
   "metadata": {},
   "outputs": [
    {
     "name": "stdout",
     "output_type": "stream",
     "text": [
      "2\n"
     ]
    }
   ],
   "source": [
    "print(2 % (2 +2))"
   ]
  },
  {
   "cell_type": "code",
   "execution_count": 4,
   "id": "3667b3f0-c6a7-47c3-93df-a0160a64114a",
   "metadata": {},
   "outputs": [
    {
     "name": "stdout",
     "output_type": "stream",
     "text": [
      "2\n"
     ]
    }
   ],
   "source": [
    "print(2%4)"
   ]
  },
  {
   "cell_type": "code",
   "execution_count": null,
   "id": "2502dc95-2b41-44ec-a263-5dba2a9d2704",
   "metadata": {},
   "outputs": [],
   "source": []
  }
 ],
 "metadata": {
  "kernelspec": {
   "display_name": "Python 3 (ipykernel)",
   "language": "python",
   "name": "python3"
  },
  "language_info": {
   "codemirror_mode": {
    "name": "ipython",
    "version": 3
   },
   "file_extension": ".py",
   "mimetype": "text/x-python",
   "name": "python",
   "nbconvert_exporter": "python",
   "pygments_lexer": "ipython3",
   "version": "3.12.4"
  }
 },
 "nbformat": 4,
 "nbformat_minor": 5
}
