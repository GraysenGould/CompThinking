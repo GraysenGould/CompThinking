{
 "cells": [
  {
   "cell_type": "code",
   "execution_count": 12,
   "id": "e53cb1c2-c7d4-4012-b850-e2620fc40be7",
   "metadata": {},
   "outputs": [],
   "source": [
    "import minimod"
   ]
  },
  {
   "cell_type": "code",
   "execution_count": 13,
   "id": "32da6faa-aff0-40a2-85db-b66fcbb55f82",
   "metadata": {},
   "outputs": [
    {
     "name": "stdout",
     "output_type": "stream",
     "text": [
      "why not?\n"
     ]
    }
   ],
   "source": [
    "minimod.why_not()"
   ]
  },
  {
   "cell_type": "code",
   "execution_count": 14,
   "id": "1b940435-e466-4d39-8e6c-f42523f33a5f",
   "metadata": {},
   "outputs": [
    {
     "data": {
      "text/plain": [
       "['__builtins__',\n",
       " '__cached__',\n",
       " '__doc__',\n",
       " '__file__',\n",
       " '__loader__',\n",
       " '__name__',\n",
       " '__package__',\n",
       " '__spec__',\n",
       " 'why_not']"
      ]
     },
     "execution_count": 14,
     "metadata": {},
     "output_type": "execute_result"
    }
   ],
   "source": [
    "dir(minimod)"
   ]
  },
  {
   "cell_type": "code",
   "execution_count": 11,
   "id": "0b7e0642-6868-41f3-8a44-257f60f3205b",
   "metadata": {},
   "outputs": [
    {
     "ename": "AttributeError",
     "evalue": "module 'minimod' has no attribute 'player'",
     "output_type": "error",
     "traceback": [
      "\u001b[1;31m---------------------------------------------------------------------------\u001b[0m",
      "\u001b[1;31mAttributeError\u001b[0m                            Traceback (most recent call last)",
      "Cell \u001b[1;32mIn[11], line 1\u001b[0m\n\u001b[1;32m----> 1\u001b[0m my_player \u001b[38;5;241m=\u001b[39m \u001b[43mminimod\u001b[49m\u001b[38;5;241;43m.\u001b[39;49m\u001b[43mplayer\u001b[49m()\n",
      "\u001b[1;31mAttributeError\u001b[0m: module 'minimod' has no attribute 'player'"
     ]
    }
   ],
   "source": [
    "my_player = minimod.player()"
   ]
  },
  {
   "cell_type": "code",
   "execution_count": null,
   "id": "87ff6f30-7334-4630-af57-e9ace8664093",
   "metadata": {},
   "outputs": [],
   "source": []
  }
 ],
 "metadata": {
  "kernelspec": {
   "display_name": "Python 3 (ipykernel)",
   "language": "python",
   "name": "python3"
  },
  "language_info": {
   "codemirror_mode": {
    "name": "ipython",
    "version": 3
   },
   "file_extension": ".py",
   "mimetype": "text/x-python",
   "name": "python",
   "nbconvert_exporter": "python",
   "pygments_lexer": "ipython3",
   "version": "3.12.4"
  }
 },
 "nbformat": 4,
 "nbformat_minor": 5
}
