{
 "cells": [
  {
   "cell_type": "code",
   "execution_count": 4,
   "id": "4aaea571-f107-4b41-956c-ab0723ac93af",
   "metadata": {},
   "outputs": [
    {
     "name": "stdout",
     "output_type": "stream",
     "text": [
      "True\n"
     ]
    }
   ],
   "source": [
    "print(type(\"hello\") == type(str()))"
   ]
  },
  {
   "cell_type": "code",
   "execution_count": 8,
   "id": "b4a4a3d2-38f1-4398-83a6-6040a6eb518d",
   "metadata": {},
   "outputs": [],
   "source": [
    "def binary(a):\n",
    "    output=[]\n",
    "    for i in a:                       \n",
    "        binary = format(ord(i), '08b')\n",
    "        #print(binary)\n",
    "        output.append(binary)\n",
    "    print(\"output: \", ' '.join(output))"
   ]
  },
  {
   "cell_type": "code",
   "execution_count": 15,
   "id": "c080c058-d864-4802-8331-0e8759b41b8f",
   "metadata": {},
   "outputs": [
    {
     "name": "stdout",
     "output_type": "stream",
     "text": [
      "output:  01100001\n"
     ]
    }
   ],
   "source": [
    "binary(\"a\")"
   ]
  },
  {
   "cell_type": "code",
   "execution_count": 12,
   "id": "dc3e674f-1821-451f-b986-6237af72059b",
   "metadata": {},
   "outputs": [
    {
     "data": {
      "text/plain": [
       "'00110001'"
      ]
     },
     "execution_count": 12,
     "metadata": {},
     "output_type": "execute_result"
    }
   ],
   "source": [
    "format(ord(\"1\"), '08b')"
   ]
  },
  {
   "cell_type": "code",
   "execution_count": 17,
   "id": "f3c44ca1-f06e-48b1-b5de-17f8084237b0",
   "metadata": {},
   "outputs": [],
   "source": [
    "my_string = \"Hello World\""
   ]
  },
  {
   "cell_type": "code",
   "execution_count": 18,
   "id": "abe035b8-06c9-42d0-8ff6-c048b9ce3d14",
   "metadata": {},
   "outputs": [
    {
     "name": "stdout",
     "output_type": "stream",
     "text": [
      "llo \n"
     ]
    }
   ],
   "source": [
    "print(my_string[2:6])"
   ]
  },
  {
   "cell_type": "code",
   "execution_count": 20,
   "id": "cf634669-c962-4354-960d-37cf60ceb286",
   "metadata": {},
   "outputs": [
    {
     "name": "stdout",
     "output_type": "stream",
     "text": [
      "dlroW olleH\n"
     ]
    }
   ],
   "source": [
    "print(my_string[::-1])"
   ]
  },
  {
   "cell_type": "code",
   "execution_count": 21,
   "id": "254f8e78-02f2-49ad-838e-cb019412664a",
   "metadata": {},
   "outputs": [
    {
     "name": "stdout",
     "output_type": "stream",
     "text": [
      "d\n"
     ]
    }
   ],
   "source": [
    "print(my_string[-1])"
   ]
  },
  {
   "cell_type": "code",
   "execution_count": 22,
   "id": "e990ad67-c30d-4d23-ad0e-bc06be96d6a3",
   "metadata": {},
   "outputs": [
    {
     "name": "stdout",
     "output_type": "stream",
     "text": [
      "['Hello', 'World']\n"
     ]
    }
   ],
   "source": [
    "# .upper() and .lower() are easy\n",
    "print(my_string.split(\" \"))"
   ]
  },
  {
   "cell_type": "code",
   "execution_count": 24,
   "id": "26e4ace6-5186-4b97-92fd-b177afac9597",
   "metadata": {},
   "outputs": [
    {
     "name": "stdout",
     "output_type": "stream",
     "text": [
      "Hello my fabulus World\n"
     ]
    }
   ],
   "source": [
    "print(my_string.replace(\" \", \" my fabulus \"))"
   ]
  },
  {
   "cell_type": "code",
   "execution_count": 28,
   "id": "8b4f7147-5892-4098-bfd0-24305fad3d26",
   "metadata": {},
   "outputs": [
    {
     "name": "stdout",
     "output_type": "stream",
     "text": [
      "6\n",
      "6\n",
      "-1\n",
      "this string starts at 6 and ends at 10\n"
     ]
    }
   ],
   "source": [
    "print(my_string.find(\"World\"))\n",
    "print(my_string.find(\"W\"))\n",
    "print(my_string.find(\"w\")) # -1 means does not exist, case sensitive\n",
    "find_it = \"World\"\n",
    "print(f\"this string starts at {my_string.find(find_it)} and ends at {my_string.find(find_it[-1])}\")\n"
   ]
  },
  {
   "cell_type": "code",
   "execution_count": 30,
   "id": "233c24e4-c400-4268-81e3-ed3f5b032dfe",
   "metadata": {},
   "outputs": [
    {
     "name": "stdin",
     "output_type": "stream",
     "text": [
      "please input your age 25\n"
     ]
    },
    {
     "name": "stdout",
     "output_type": "stream",
     "text": [
      "my age is 25 years\n"
     ]
    }
   ],
   "source": [
    "# .format can be usefull in some scenarios - when \n",
    "\n",
    "age_report  = \"my age is {} years\"\n",
    "my_age = input(\"please input your age\")\n",
    "print(age_report.format(my_age))"
   ]
  },
  {
   "cell_type": "code",
   "execution_count": 33,
   "id": "be518d83-519a-4ef8-81f2-5ad9de886fc5",
   "metadata": {},
   "outputs": [
    {
     "name": "stdout",
     "output_type": "stream",
     "text": [
      "my age is 35.000000 years\n"
     ]
    }
   ],
   "source": [
    "# concat with % - not very usefull\n",
    "\n",
    "print(\"my age is %f years\"%35) #yea, not very usefull"
   ]
  },
  {
   "cell_type": "code",
   "execution_count": 35,
   "id": "a37bc13d-f430-4ef4-8438-80927a8a01e0",
   "metadata": {},
   "outputs": [
    {
     "name": "stdout",
     "output_type": "stream",
     "text": [
      "2\n",
      "2\n"
     ]
    }
   ],
   "source": [
    "#count method is also quite usefull\n",
    "puzzle = \"green glass room\"\n",
    "print(puzzle.count(\"e\")) # extremely self explainatory\n",
    "print(puzzle.count(\"g\"))"
   ]
  },
  {
   "cell_type": "code",
   "execution_count": 38,
   "id": "56808bd0-afc3-4ef7-880f-a8dfea09e6f3",
   "metadata": {},
   "outputs": [
    {
     "name": "stdout",
     "output_type": "stream",
     "text": [
      "['the', 'quick', 'brown', 'fox', 'jumped', 'over', 'the', 'lazy', 'dog']\n"
     ]
    }
   ],
   "source": [
    "fox_string = \"the quick brown fox jumped over the lazy dog\"\n",
    "print(fox_string.split(\" \"))"
   ]
  },
  {
   "cell_type": "code",
   "execution_count": 49,
   "id": "2948ca44-53a3-45c0-beb4-47382949ad3e",
   "metadata": {},
   "outputs": [
    {
     "name": "stdout",
     "output_type": "stream",
     "text": [
      "quick brown fox jumped over the lazy\n"
     ]
    }
   ],
   "source": [
    "print(fox_string.strip(\"the dog\"))"
   ]
  },
  {
   "cell_type": "markdown",
   "id": "43428636-2f06-415a-9806-86b0771d09d9",
   "metadata": {},
   "source": [
    "# escape sequences"
   ]
  },
  {
   "cell_type": "code",
   "execution_count": 56,
   "id": "7d0e953b-9489-4eaf-b1ce-4bf5855aae5f",
   "metadata": {},
   "outputs": [
    {
     "name": "stdout",
     "output_type": "stream",
     "text": [
      "he called me \"pedro\"\n",
      " world\n",
      "hell world\n",
      " H \n",
      " e \n"
     ]
    }
   ],
   "source": [
    "print(\"he called me \\\"pedro\\\"\")\n",
    "print(\"hello \\r world\")\n",
    "print(\"hello\\b world\")\n",
    "print(\" \\x48 \")\n",
    "print(\" \\145 \")"
   ]
  },
  {
   "cell_type": "code",
   "execution_count": null,
   "id": "dca9070c-9a50-4979-8e90-5c95a174d067",
   "metadata": {},
   "outputs": [],
   "source": []
  }
 ],
 "metadata": {
  "kernelspec": {
   "display_name": "Python 3 (ipykernel)",
   "language": "python",
   "name": "python3"
  },
  "language_info": {
   "codemirror_mode": {
    "name": "ipython",
    "version": 3
   },
   "file_extension": ".py",
   "mimetype": "text/x-python",
   "name": "python",
   "nbconvert_exporter": "python",
   "pygments_lexer": "ipython3",
   "version": "3.12.4"
  }
 },
 "nbformat": 4,
 "nbformat_minor": 5
}
