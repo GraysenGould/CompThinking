{
 "cells": [
  {
   "cell_type": "markdown",
   "id": "ec6c946c-97fb-44ec-a7c8-583c3c45a855",
   "metadata": {},
   "source": [
    "# lists"
   ]
  },
  {
   "cell_type": "code",
   "execution_count": 23,
   "id": "d1896d05-d35b-4664-aa21-2b527f5a04d4",
   "metadata": {},
   "outputs": [],
   "source": [
    "my_list = [\"a\", \"a\", \"b\", \"c\"]"
   ]
  },
  {
   "cell_type": "code",
   "execution_count": 24,
   "id": "eecb09fb-f632-40f8-89de-fb3a7bb65026",
   "metadata": {},
   "outputs": [
    {
     "name": "stdout",
     "output_type": "stream",
     "text": [
      "2\n"
     ]
    }
   ],
   "source": [
    "print(my_list.count(\"a\"))"
   ]
  },
  {
   "cell_type": "code",
   "execution_count": 25,
   "id": "4b09bc12-878c-4369-9dd1-640d3b520d4b",
   "metadata": {},
   "outputs": [],
   "source": [
    "my_list.insert(3, \"e\")"
   ]
  },
  {
   "cell_type": "code",
   "execution_count": 26,
   "id": "baac9986-a420-404a-bb9a-96c406e67f57",
   "metadata": {},
   "outputs": [
    {
     "name": "stdout",
     "output_type": "stream",
     "text": [
      "['a', 'a', 'b', 'e', 'c']\n"
     ]
    }
   ],
   "source": [
    "print(my_list)"
   ]
  },
  {
   "cell_type": "code",
   "execution_count": 27,
   "id": "66cfbc19-47c3-4dc6-b78e-d0d3da436422",
   "metadata": {},
   "outputs": [
    {
     "name": "stdout",
     "output_type": "stream",
     "text": [
      "['a', 'a', 'b', 'e', 'c', 'f']\n"
     ]
    }
   ],
   "source": [
    "my_list.append(\"f\") # can only append one thing at a time\n",
    "print(my_list)"
   ]
  },
  {
   "cell_type": "code",
   "execution_count": 28,
   "id": "f57a3c77-b26b-4d7c-948f-88ebd0dff6a9",
   "metadata": {},
   "outputs": [
    {
     "data": {
      "text/plain": [
       "['a', 'a', 'b', 'e', 'c', 'f', 'g', 'h']"
      ]
     },
     "execution_count": 28,
     "metadata": {},
     "output_type": "execute_result"
    }
   ],
   "source": [
    "my_list.extend([\"g\", \"h\"])\n",
    "my_list"
   ]
  },
  {
   "cell_type": "code",
   "execution_count": 29,
   "id": "b9b88700-281e-426f-bf21-78d307f04715",
   "metadata": {},
   "outputs": [
    {
     "name": "stdout",
     "output_type": "stream",
     "text": [
      "['a', 'a', 'b', 'e', 'c', 'f', 'g']\n"
     ]
    }
   ],
   "source": [
    "my_list.pop()\n",
    "print(my_list)"
   ]
  },
  {
   "cell_type": "code",
   "execution_count": 30,
   "id": "d39f42de-0fee-468f-840c-38f5576b5785",
   "metadata": {},
   "outputs": [
    {
     "name": "stdout",
     "output_type": "stream",
     "text": [
      "['a', 'a', 'b', 'c', 'f', 'g']\n"
     ]
    }
   ],
   "source": [
    "my_list.remove(\"e\")\n",
    "print(my_list)"
   ]
  },
  {
   "cell_type": "code",
   "execution_count": 33,
   "id": "f2a86e4c-fc8e-49c4-ada5-533ab85c64a2",
   "metadata": {},
   "outputs": [],
   "source": [
    "l2 = [3,5,3,7,9,3,1]"
   ]
  },
  {
   "cell_type": "code",
   "execution_count": 35,
   "id": "d016b37c-b07b-4fec-96db-ef829a641d38",
   "metadata": {},
   "outputs": [],
   "source": [
    "l2.sort(reverse=True)"
   ]
  },
  {
   "cell_type": "code",
   "execution_count": 36,
   "id": "a1b1df03-aabb-4450-9248-ba3d53adcf4a",
   "metadata": {},
   "outputs": [
    {
     "name": "stdout",
     "output_type": "stream",
     "text": [
      "[9, 7, 5, 3, 3, 3, 1]\n"
     ]
    }
   ],
   "source": [
    "print(l2)"
   ]
  },
  {
   "cell_type": "code",
   "execution_count": 2,
   "id": "eede9037-384a-4d5b-a52c-a2073b4b5483",
   "metadata": {},
   "outputs": [
    {
     "name": "stdout",
     "output_type": "stream",
     "text": [
      "no newline here.  told you so!\n"
     ]
    }
   ],
   "source": [
    "print(\"no newline here. \", end = \" \")\n",
    "print(\"told you so!\")"
   ]
  },
  {
   "cell_type": "code",
   "execution_count": null,
   "id": "7c0f7ebd-f33d-4bde-9946-7cbbda1f9c45",
   "metadata": {},
   "outputs": [],
   "source": []
  }
 ],
 "metadata": {
  "kernelspec": {
   "display_name": "Python 3 (ipykernel)",
   "language": "python",
   "name": "python3"
  },
  "language_info": {
   "codemirror_mode": {
    "name": "ipython",
    "version": 3
   },
   "file_extension": ".py",
   "mimetype": "text/x-python",
   "name": "python",
   "nbconvert_exporter": "python",
   "pygments_lexer": "ipython3",
   "version": "3.12.4"
  }
 },
 "nbformat": 4,
 "nbformat_minor": 5
}
