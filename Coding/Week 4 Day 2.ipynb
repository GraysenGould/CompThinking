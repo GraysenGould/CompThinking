{
 "cells": [
  {
   "cell_type": "code",
   "execution_count": 2,
   "id": "63b97bdf-7bee-44fa-a7bc-0e3c57d3a816",
   "metadata": {},
   "outputs": [
    {
     "name": "stdout",
     "output_type": "stream",
     "text": [
      "range(1, 4)\n"
     ]
    }
   ],
   "source": [
    "print(range(1,4))"
   ]
  },
  {
   "cell_type": "code",
   "execution_count": 7,
   "id": "1aa6afea-88be-45a7-be84-5b44c4864c10",
   "metadata": {},
   "outputs": [
    {
     "name": "stdout",
     "output_type": "stream",
     "text": [
      "0\n",
      "2\n",
      "4\n",
      "6\n",
      "8\n",
      "10\n"
     ]
    }
   ],
   "source": [
    "for i in range(0,11,2):\n",
    "    print(i)"
   ]
  },
  {
   "cell_type": "code",
   "execution_count": 12,
   "id": "ca832061-b843-4489-85c6-ed2bae2a321a",
   "metadata": {},
   "outputs": [
    {
     "name": "stdin",
     "output_type": "stream",
     "text": [
      "please input a score:  100\n"
     ]
    },
    {
     "name": "stdout",
     "output_type": "stream",
     "text": [
      "Your Grade is: A+\n"
     ]
    }
   ],
   "source": [
    "# Better way to write conditionals for a grade \n",
    "score_num = [0, 70, 80, 90, 100]\n",
    "score_grade = [\"F\", \"C\", \"B\", \"A\", \"A+\"]\n",
    "score = int(input(\"please input a score: \"))\n",
    "grade = \"\"\n",
    "\n",
    "for i in score_num:\n",
    "    if score >= i:\n",
    "        grade = score_grade[score_num.index(i)]\n",
    "print(f\"Your Grade is: {grade}\")"
   ]
  },
  {
   "cell_type": "code",
   "execution_count": 14,
   "id": "e239a48a-320f-454e-836c-f31d4a68b51f",
   "metadata": {},
   "outputs": [
    {
     "name": "stdout",
     "output_type": "stream",
     "text": [
      "s is 0\n",
      "x is 1\n",
      "\n",
      "s is 1\n",
      "x is 3\n",
      "\n",
      "s is 4\n",
      "x is 5\n",
      "\n",
      "s is 9\n",
      "x is 7\n",
      "\n",
      "s is 16\n",
      "x is 9\n",
      "\n"
     ]
    }
   ],
   "source": [
    "n= 5\n",
    "\n",
    "s=0\n",
    "x=1\n",
    "for i in range(n):\n",
    "    #s is the sum of the odd numbes, x is the odd numbers\n",
    "    print(f\"s is {s}\")\n",
    "    print(f\"x is {x}\\n\")\n",
    "    s=s+x\n",
    "    x=x+2 \n",
    "    "
   ]
  },
  {
   "cell_type": "code",
   "execution_count": 16,
   "id": "42db1a84-cfa3-4b48-8237-0e32681df2c5",
   "metadata": {},
   "outputs": [
    {
     "name": "stdout",
     "output_type": "stream",
     "text": [
      "[0, 1, 2, 3, 4]\n"
     ]
    }
   ],
   "source": [
    "print(list(range(5)))"
   ]
  },
  {
   "cell_type": "code",
   "execution_count": 16,
   "id": "75b56718-bc99-4d3f-b64c-65f573fb4fef",
   "metadata": {},
   "outputs": [
    {
     "name": "stdout",
     "output_type": "stream",
     "text": [
      "era\n"
     ]
    }
   ],
   "source": [
    "my_str = \"hello thare\"\n",
    "print(my_str[-1:-4:-1])"
   ]
  },
  {
   "cell_type": "markdown",
   "id": "10c9d25f-f92c-4f8d-b719-f766e9627a67",
   "metadata": {},
   "source": [
    "### print(my_str[-1:-4])"
   ]
  },
  {
   "cell_type": "code",
   "execution_count": 17,
   "id": "fde140f4-2b05-4b1e-a338-b595f6e85fee",
   "metadata": {},
   "outputs": [
    {
     "name": "stdout",
     "output_type": "stream",
     "text": [
      "my message is hello\n"
     ]
    }
   ],
   "source": [
    "#there is more stuff going on\n",
    "\n",
    "x = \"hello\"\n",
    "\n",
    "print(f\"my message is {x}\")"
   ]
  },
  {
   "cell_type": "code",
   "execution_count": null,
   "id": "0b1bd77d-6017-4c38-87c5-4ddc6f9fb4d5",
   "metadata": {},
   "outputs": [],
   "source": []
  }
 ],
 "metadata": {
  "kernelspec": {
   "display_name": "Python 3 (ipykernel)",
   "language": "python",
   "name": "python3"
  },
  "language_info": {
   "codemirror_mode": {
    "name": "ipython",
    "version": 3
   },
   "file_extension": ".py",
   "mimetype": "text/x-python",
   "name": "python",
   "nbconvert_exporter": "python",
   "pygments_lexer": "ipython3",
   "version": "3.12.4"
  }
 },
 "nbformat": 4,
 "nbformat_minor": 5
}
