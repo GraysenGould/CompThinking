{
 "cells": [
  {
   "cell_type": "code",
   "execution_count": 1,
   "id": "e53cb1c2-c7d4-4012-b850-e2620fc40be7",
   "metadata": {},
   "outputs": [],
   "source": [
    "import minimod"
   ]
  },
  {
   "cell_type": "code",
   "execution_count": 2,
   "id": "32da6faa-aff0-40a2-85db-b66fcbb55f82",
   "metadata": {},
   "outputs": [
    {
     "name": "stdout",
     "output_type": "stream",
     "text": [
      "why not?\n"
     ]
    }
   ],
   "source": [
    "minimod.why_not()"
   ]
  },
  {
   "cell_type": "code",
   "execution_count": 3,
   "id": "1b940435-e466-4d39-8e6c-f42523f33a5f",
   "metadata": {},
   "outputs": [
    {
     "data": {
      "text/plain": [
       "['__builtins__',\n",
       " '__cached__',\n",
       " '__doc__',\n",
       " '__file__',\n",
       " '__loader__',\n",
       " '__name__',\n",
       " '__package__',\n",
       " '__spec__',\n",
       " 'player',\n",
       " 'why_not']"
      ]
     },
     "execution_count": 3,
     "metadata": {},
     "output_type": "execute_result"
    }
   ],
   "source": [
    "dir(minimod)"
   ]
  },
  {
   "cell_type": "code",
   "execution_count": 5,
   "id": "0b7e0642-6868-41f3-8a44-257f60f3205b",
   "metadata": {},
   "outputs": [],
   "source": [
    "my_player = minimod.player()"
   ]
  },
  {
   "cell_type": "code",
   "execution_count": 6,
   "id": "87ff6f30-7334-4630-af57-e9ace8664093",
   "metadata": {},
   "outputs": [
    {
     "name": "stdout",
     "output_type": "stream",
     "text": [
      "1.8\n"
     ]
    }
   ],
   "source": [
    "print(my_player.height)"
   ]
  },
  {
   "cell_type": "code",
   "execution_count": 7,
   "id": "db9f1e34-2647-4053-abcf-9e19d1903f54",
   "metadata": {},
   "outputs": [
    {
     "name": "stdout",
     "output_type": "stream",
     "text": [
      "2\n"
     ]
    }
   ],
   "source": [
    "my_player.height = 2\n",
    "print(my_player.height)"
   ]
  },
  {
   "cell_type": "code",
   "execution_count": 8,
   "id": "f6e46e6d-768b-4f9b-aada-8a80180f13a2",
   "metadata": {},
   "outputs": [],
   "source": [
    "import numpy"
   ]
  },
  {
   "cell_type": "code",
   "execution_count": 9,
   "id": "7f8892e9-7c02-4ae1-a8a2-ac406f688c7e",
   "metadata": {},
   "outputs": [],
   "source": [
    "import pandas"
   ]
  },
  {
   "cell_type": "code",
   "execution_count": null,
   "id": "d649de28-c822-4a95-9d41-3a001f735131",
   "metadata": {},
   "outputs": [],
   "source": []
  }
 ],
 "metadata": {
  "kernelspec": {
   "display_name": "Python 3 (ipykernel)",
   "language": "python",
   "name": "python3"
  },
  "language_info": {
   "codemirror_mode": {
    "name": "ipython",
    "version": 3
   },
   "file_extension": ".py",
   "mimetype": "text/x-python",
   "name": "python",
   "nbconvert_exporter": "python",
   "pygments_lexer": "ipython3",
   "version": "3.12.4"
  }
 },
 "nbformat": 4,
 "nbformat_minor": 5
}
