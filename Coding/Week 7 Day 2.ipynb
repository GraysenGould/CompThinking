{
 "cells": [
  {
   "cell_type": "code",
   "execution_count": 1,
   "id": "fa1488fa-1df2-4d3c-a3c8-e352d36b348e",
   "metadata": {},
   "outputs": [
    {
     "name": "stdout",
     "output_type": "stream",
     "text": [
      "1717501\n"
     ]
    }
   ],
   "source": [
    "num1=\"1a34fd\"\n",
    "\n",
    "num2=int(num1,base=16)\n",
    "\n",
    "print(num2)"
   ]
  },
  {
   "cell_type": "code",
   "execution_count": 2,
   "id": "29bbbf49-5572-4449-ab44-470f71879466",
   "metadata": {},
   "outputs": [],
   "source": [
    "import numpy as np"
   ]
  },
  {
   "cell_type": "code",
   "execution_count": 3,
   "id": "a7ff1f0b-b6df-4ad9-9117-e1d42da27a4a",
   "metadata": {},
   "outputs": [],
   "source": [
    "a = np.array([1,2,3,4,5])"
   ]
  },
  {
   "cell_type": "code",
   "execution_count": 4,
   "id": "4a8894c1-391f-4a8e-8cd8-0896a2277423",
   "metadata": {},
   "outputs": [
    {
     "name": "stdout",
     "output_type": "stream",
     "text": [
      "[1 2 3 4 5]\n"
     ]
    }
   ],
   "source": [
    "print(a)"
   ]
  },
  {
   "cell_type": "code",
   "execution_count": 5,
   "id": "4cbe41e2-befb-4bd7-9a6c-0acc07393240",
   "metadata": {},
   "outputs": [
    {
     "name": "stdout",
     "output_type": "stream",
     "text": [
      "[3 4 5 6 7]\n"
     ]
    }
   ],
   "source": [
    "print(a+2)"
   ]
  },
  {
   "cell_type": "code",
   "execution_count": 6,
   "id": "98ceac2b-dfb9-429c-b834-fcb8308ad229",
   "metadata": {},
   "outputs": [
    {
     "name": "stdout",
     "output_type": "stream",
     "text": [
      "[ 1  4  9 16 25]\n"
     ]
    }
   ],
   "source": [
    "print(a*a)"
   ]
  },
  {
   "cell_type": "code",
   "execution_count": 13,
   "id": "c438fc29-314b-40cc-ad35-c40dd6726382",
   "metadata": {},
   "outputs": [
    {
     "name": "stdout",
     "output_type": "stream",
     "text": [
      "[ 1  4  9 16 25]\n",
      "<class 'numpy.ndarray'>\n",
      "[1, 2, 3, 4, 5]\n",
      "int32\n"
     ]
    }
   ],
   "source": [
    "b = np.array(range(1,6))\n",
    "print(b*b)\n",
    "print(type(b))\n",
    "print(list(b))\n",
    "print(b.dtype)"
   ]
  },
  {
   "cell_type": "code",
   "execution_count": 15,
   "id": "d1b5c658-923d-4245-99ea-197b538fe4ca",
   "metadata": {},
   "outputs": [
    {
     "name": "stdout",
     "output_type": "stream",
     "text": [
      "[1 2 3 4 5 6]\n"
     ]
    }
   ],
   "source": [
    "c = np.array([1,2,3,4,5,6.6], dtype = \"int16\")\n",
    "print(c)"
   ]
  },
  {
   "cell_type": "code",
   "execution_count": 12,
   "id": "47660499-a028-4ba2-a9cf-f67ab730d59e",
   "metadata": {},
   "outputs": [
    {
     "name": "stdout",
     "output_type": "stream",
     "text": [
      "float64\n"
     ]
    }
   ],
   "source": [
    "print(c.dtype)"
   ]
  },
  {
   "cell_type": "code",
   "execution_count": 19,
   "id": "96dc09cc-d652-4a03-960f-43be0757cb09",
   "metadata": {},
   "outputs": [
    {
     "name": "stdout",
     "output_type": "stream",
     "text": [
      "<U5\n"
     ]
    }
   ],
   "source": [
    "d = np.array([True, False, \"14\"])\n",
    "print(d.dtype)"
   ]
  },
  {
   "cell_type": "code",
   "execution_count": 23,
   "id": "84eea5c3-02b1-48a3-83c0-20dca949a03a",
   "metadata": {},
   "outputs": [
    {
     "name": "stdout",
     "output_type": "stream",
     "text": [
      "[[[1 2 3]]] (1, 1, 3)\n"
     ]
    }
   ],
   "source": [
    "e = np.array([[[1,2,3]]])\n",
    "print(e, e.shape)"
   ]
  },
  {
   "cell_type": "code",
   "execution_count": 28,
   "id": "02775d91-4924-4660-8035-2be73695ed31",
   "metadata": {},
   "outputs": [
    {
     "name": "stdout",
     "output_type": "stream",
     "text": [
      "4\n"
     ]
    }
   ],
   "source": [
    "f = np.array(list(\"hello world\"), )\n",
    "print(f.itemsize)"
   ]
  },
  {
   "cell_type": "markdown",
   "id": "f9f3e624-b74f-4fb9-a58e-e463b2303c6c",
   "metadata": {},
   "source": [
    "# os and files"
   ]
  },
  {
   "cell_type": "code",
   "execution_count": 1,
   "id": "b24317ab-bfe9-4300-9cb4-98da96da6e03",
   "metadata": {},
   "outputs": [],
   "source": [
    "import os"
   ]
  },
  {
   "cell_type": "code",
   "execution_count": 19,
   "id": "1bfa0282-7add-4bc6-ab37-95c3c2b461d8",
   "metadata": {},
   "outputs": [
    {
     "name": "stdout",
     "output_type": "stream",
     "text": [
      "<class 'str'>\n",
      "<class 'list'>\n",
      "['C:', 'Users', 'gould', 'OneDrive', 'Desktop', 'College Classes', 'ENGR 1330 - Computational Thinking - Fall 2024']\n",
      "C:\\\\Users\\\\gould\\\\OneDrive\\\\Desktop\\\\College Classes\\\\ENGR 1330 - Computational Thinking - Fall 2024\n"
     ]
    }
   ],
   "source": [
    "print(type(os.getcwd()))\n",
    "print(type(os.listdir()))\n",
    "directory_list = os.getcwd().split(\"\\\\\")\n",
    "print(directory_list[:-1])\n",
    "new_dir = r\"\\\\\".join(directory_list[:-1])\n",
    "print(new_dir)"
   ]
  },
  {
   "cell_type": "code",
   "execution_count": 3,
   "id": "f29c5909-1145-47ab-bcce-861659d390fd",
   "metadata": {},
   "outputs": [
    {
     "data": {
      "text/plain": [
       "'C:\\\\Users\\\\gould\\\\OneDrive\\\\Desktop\\\\College Classes\\\\ENGR 1330 - Computational Thinking - Fall 2024\\\\Coding'"
      ]
     },
     "execution_count": 3,
     "metadata": {},
     "output_type": "execute_result"
    }
   ],
   "source": [
    "%pwd"
   ]
  },
  {
   "cell_type": "code",
   "execution_count": 20,
   "id": "8040aa1e-6cdc-4b80-b5ad-8915ed9e5113",
   "metadata": {},
   "outputs": [
    {
     "data": {
      "text/plain": [
       "['.ipynb_checkpoints',\n",
       " 'Day1.ipynb',\n",
       " 'Exam 1 test.ipynb',\n",
       " 'firstNoteBook.ipynb',\n",
       " 'minimod.py',\n",
       " 'Week 2 Day 3.ipynb',\n",
       " 'Week 3 Day 1.ipynb',\n",
       " 'Week 3 Day 2.ipynb',\n",
       " 'week 4 day 1.ipynb',\n",
       " 'Week 4 Day 2.ipynb',\n",
       " 'Week 4 Day 3.ipynb',\n",
       " 'Week 5 Day 2.ipynb',\n",
       " 'Week 5 Day 3.ipynb',\n",
       " 'Week 6 Day 1.ipynb',\n",
       " 'Week 6 Day 2.ipynb',\n",
       " 'Week 7 Day 2.ipynb',\n",
       " '__pycache__']"
      ]
     },
     "execution_count": 20,
     "metadata": {},
     "output_type": "execute_result"
    }
   ],
   "source": [
    "os.listdir()"
   ]
  },
  {
   "cell_type": "code",
   "execution_count": 73,
   "id": "1b95a14b-9ece-47d5-a9ae-38cd395c7d73",
   "metadata": {},
   "outputs": [],
   "source": [
    "coolfile = open(\"coolfile.txt\", \"w+\")\n",
    "\n",
    "coolfile.write(\"this is some awesome stuff \\n\")\n",
    "\n",
    "\n",
    "coolfile.close()"
   ]
  },
  {
   "cell_type": "code",
   "execution_count": 74,
   "id": "b8345c6b-f699-44c9-9322-b2b0cd9d5a53",
   "metadata": {},
   "outputs": [],
   "source": [
    "coolfile = open(\"coolfile.txt\", \"a+\")\n",
    "coolfile.write(\"this is some awesome stuff \\n\")\n",
    "coolfile.seek(0)\n",
    "whatsinside = coolfile.read()\n",
    "coolfile.close()"
   ]
  },
  {
   "cell_type": "code",
   "execution_count": 75,
   "id": "613eb604-ce74-4df9-8b76-3664defb01d6",
   "metadata": {},
   "outputs": [
    {
     "name": "stdout",
     "output_type": "stream",
     "text": [
      "this is some awesome stuff \n",
      "this is some awesome stuff \n",
      "\n"
     ]
    }
   ],
   "source": [
    "print(whatsinside)"
   ]
  },
  {
   "cell_type": "code",
   "execution_count": 77,
   "id": "8ce39004-7f33-4182-acc5-32796e9220ef",
   "metadata": {},
   "outputs": [
    {
     "name": "stdout",
     "output_type": "stream",
     "text": [
      "hmmmm, seems to be an error. You might have already deleted the file\n",
      "the dang thing gone!\n"
     ]
    }
   ],
   "source": [
    "try:\n",
    "    os.remove(\"coolfile.txt\")\n",
    "except:\n",
    "    print(\"hmmmm, seems to be an error. You might have already deleted the file\")\n",
    "print(\"the dang thing gone!\")"
   ]
  },
  {
   "cell_type": "code",
   "execution_count": null,
   "id": "a0bc3905-c16c-451e-bac0-4610ed6db251",
   "metadata": {},
   "outputs": [],
   "source": []
  }
 ],
 "metadata": {
  "kernelspec": {
   "display_name": "Python 3 (ipykernel)",
   "language": "python",
   "name": "python3"
  },
  "language_info": {
   "codemirror_mode": {
    "name": "ipython",
    "version": 3
   },
   "file_extension": ".py",
   "mimetype": "text/x-python",
   "name": "python",
   "nbconvert_exporter": "python",
   "pygments_lexer": "ipython3",
   "version": "3.12.4"
  }
 },
 "nbformat": 4,
 "nbformat_minor": 5
}
