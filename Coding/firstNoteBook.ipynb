{
 "cells": [
  {
   "cell_type": "code",
   "execution_count": null,
   "id": "7f04b4f1-c8c6-41f2-b193-b782361e8e32",
   "metadata": {},
   "outputs": [
    {
     "name": "stdout",
     "output_type": "stream",
     "text": [
      "hello world\n"
     ]
    }
   ],
   "source": [
    "print(\"hello world\")\n"
   ]
  },
  {
   "cell_type": "code",
   "execution_count": 2,
   "id": "13b54d82-c29b-443b-a8ca-10f2aa69c6da",
   "metadata": {},
   "outputs": [],
   "source": [
    "import math\n",
    "import random as r"
   ]
  },
  {
   "cell_type": "code",
   "execution_count": 8,
   "id": "2c015d95-6eae-439e-9ccc-1304bed0d10b",
   "metadata": {},
   "outputs": [
    {
     "name": "stdout",
     "output_type": "stream",
     "text": [
      "54\n"
     ]
    }
   ],
   "source": [
    "print(r.randint(1,100))"
   ]
  },
  {
   "cell_type": "code",
   "execution_count": 4,
   "id": "0ef610f6-30d1-4ea0-a867-a68922015fc6",
   "metadata": {},
   "outputs": [
    {
     "name": "stdout",
     "output_type": "stream",
     "text": [
      "2\n"
     ]
    }
   ],
   "source": [
    "print(math.floor(2.333))"
   ]
  },
  {
   "cell_type": "code",
   "execution_count": null,
   "id": "66e0d456-6faa-4eb0-a5e5-2c293995a7dd",
   "metadata": {},
   "outputs": [],
   "source": []
  }
 ],
 "metadata": {
  "kernelspec": {
   "display_name": "Python 3 (ipykernel)",
   "language": "python",
   "name": "python3"
  },
  "language_info": {
   "codemirror_mode": {
    "name": "ipython",
    "version": 3
   },
   "file_extension": ".py",
   "mimetype": "text/x-python",
   "name": "python",
   "nbconvert_exporter": "python",
   "pygments_lexer": "ipython3",
   "version": "3.12.4"
  }
 },
 "nbformat": 4,
 "nbformat_minor": 5
}
