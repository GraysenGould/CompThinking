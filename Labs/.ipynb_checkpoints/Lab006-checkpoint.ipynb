{
 "cells": [
  {
   "cell_type": "markdown",
   "metadata": {},
   "source": [
    "# <font color=darkred>Laboratory 6: Count Controlled Repetition </font>"
   ]
  },
  {
   "cell_type": "code",
   "execution_count": null,
   "metadata": {},
   "outputs": [],
   "source": [
    "# Preamble script block to identify host, user, and kernel\n",
    "import sys\n",
    "! hostname\n",
    "! whoami\n",
    "print(sys.executable)\n",
    "print(sys.version)\n",
    "print(sys.version_info)"
   ]
  },
  {
   "cell_type": "markdown",
   "metadata": {},
   "source": [
    "## Full name: \n",
    "## R#: \n",
    "## Title of the notebook: Loops, Looops, Loooooops\n",
    "## Date:\n",
    "___"
   ]
  },
  {
   "cell_type": "markdown",
   "metadata": {},
   "source": [
    "![](https://i.pinimg.com/originals/d0/45/12/d04512a3837fd4c7cf88efe26883e037.gif) <br>"
   ]
  },
  {
   "cell_type": "markdown",
   "metadata": {},
   "source": [
    "## <font color=purple>Program flow control (Loops)</font>\n",
    "- Controlled repetition\n",
    "- Structured FOR Loop\n",
    "- Structured WHILE Loop"
   ]
  },
  {
   "cell_type": "markdown",
   "metadata": {},
   "source": [
    "### <font color=purple>Count controlled repetition</font>\n",
    "![](https://chortle.ccsu.edu/assemblytutorial/Chapter-18/countingLoop.gif) <br>\n",
    "\n",
    "Count-controlled repetition is also called definite repetition because the number of repetitions is known before the loop begins executing. \n",
    "When we do not know in advance the number of times we want to execute a statement, we cannot use count-controlled repetition. \n",
    "In such an instance, we would use sentinel-controlled repetition. \n",
    "\n",
    "A count-controlled repetition will exit after running a certain number of times. \n",
    "The count is kept in a variable called an index or counter. \n",
    "When the index reaches a certain value (the loop bound) the loop will end. \n",
    "\n",
    "Count-controlled repetition requires\n",
    "\n",
    "* control variable (or loop counter)\n",
    "* initial value of the control variable\n",
    "* increment (or decrement) by which the control variable is modified each iteration through the loop\n",
    "* condition that tests for the final value of the control variable \n",
    "\n",
    "We can use both `for` and `while` loops, for count controlled repetition, but the `for` loop in combination with the `range()` function is more common.\n",
    "\n",
    "#### Structured `FOR` loop\n",
    "We have seen the for loop already, but we will formally introduce it here. The `for` loop executes a block of code repeatedly until the condition in the `for` statement is no longer true.\n",
    "\n",
    "#### Looping through an iterable\n",
    "An iterable is anything that can be looped over - typically a list, string, or tuple. \n",
    "The syntax for looping through an iterable is illustrated by an example.\n",
    "\n",
    "First a generic syntax\n",
    "\n",
    "    for a in iterable:\n",
    "    print(a)\n",
    "    \n",
    "Notice the colon `:` and the indentation.\n",
    "Now a specific example:"
   ]
  },
  {
   "cell_type": "markdown",
   "metadata": {},
   "source": [
    "___\n",
    "### Example: A Loop to Begin With! \n",
    "\n",
    "Make a list with \"Walter\", \"Jesse\", \"Gus, \"Hank\". Then, write a loop that prints all the elements of your lisk."
   ]
  },
  {
   "cell_type": "code",
   "execution_count": null,
   "metadata": {},
   "outputs": [],
   "source": [
    "# set a list\n",
    "BB = [\"Walter\",\"Jesse\",\"Gus\",\"Hank\"]\n",
    "# loop thru the list\n",
    "for AllStrings in BB:\n",
    "    print(AllStrings)"
   ]
  },
  {
   "cell_type": "markdown",
   "metadata": {},
   "source": [
    "___\n",
    "#### The `range()` function to create an iterable\n",
    "\n",
    "The `range(begin,end,increment)` function will create an iterable starting at a value of begin, in steps defined by increment (`begin += increment`), ending at `end`. \n",
    "\n",
    "So a generic syntax becomes\n",
    "\n",
    "    for a in range(begin,end,increment):\n",
    "    print(a)\n",
    "\n",
    "The example that follows is count-controlled repetition (increment skip if greater)"
   ]
  },
  {
   "cell_type": "code",
   "execution_count": null,
   "metadata": {},
   "outputs": [],
   "source": [
    "# set a list\n",
    "BB = [\"Walter\",\"Jesse\",\"Gus\",\"Hank\"]\n",
    "# loop thru the list\n",
    "for i in range(0,4,1): # Change the numbers, what happens?\n",
    "    print(BB[i])"
   ]
  },
  {
   "cell_type": "markdown",
   "metadata": {},
   "source": [
    "___\n",
    "### Example: That's odd! \n",
    "\n",
    "Write a loop to print all the odd numbers between 0 and 10."
   ]
  },
  {
   "cell_type": "code",
   "execution_count": null,
   "metadata": {},
   "outputs": [],
   "source": [
    "# For loop with range\n",
    "for x in range(1,10,2): # a sequence from 2 to 5 with steps of 1\n",
    "  print(x)"
   ]
  },
  {
   "cell_type": "markdown",
   "metadata": {},
   "source": [
    "___\n",
    "### <font color=purple>Nested Repetition | Loops within Loops</font>\n",
    " \n",
    "![](https://i.gifer.com/7kmF.gif) <br>\n",
    "\n"
   ]
  },
  {
   "cell_type": "markdown",
   "metadata": {},
   "source": [
    "> Round like a circle in a spiral, like a wheel within a wheel <br>\n",
    "Never ending or beginning on an ever spinning reel <br>\n",
    "Like a snowball down a mountain, or a carnival balloon <br>\n",
    "Like a carousel that's turning running rings around the moon <br>\n",
    "Like a clock whose hands are sweeping past the minutes of its face <br>\n",
    "And the world is like an apple whirling silently in space <br>\n",
    "Like the circles that you find in the windmills of your mind! <br>\n",
    "<br>\n",
    "***Windmills of Your Mind lyrics © Sony/ATV Music Publishing LLC, BMG Rights Management*** <br>\n",
    "***Songwriters: Marilyn Bergman / Michel Legrand / Alan Bergman*** <br>\n",
    "***Recommended versions: Neil Diamond | Dusty Springfield | Farhad Mehrad***  <br>"
   ]
  },
  {
   "cell_type": "markdown",
   "metadata": {},
   "source": [
    "\"Like the circles that you find in the windmills of your mind\", Nested repetition is when a control structure is placed inside of the body or main part of another control structure.\n",
    "\n",
    "#### `break` to exit out of a loop\n",
    "\n",
    "Sometimes you may want to exit the loop when a certain condition different from the counting\n",
    "condition is met. Perhaps you are looping through a list and want to exit when you find the\n",
    "first element in the list that matches some criterion. The break keyword is useful for such\n",
    "an operation.\n",
    "For example run the following program:"
   ]
  },
  {
   "cell_type": "code",
   "execution_count": null,
   "metadata": {},
   "outputs": [],
   "source": [
    "#\n",
    "j = 0\n",
    "for i in range(0,5,1):\n",
    "    j += 2\n",
    "    print (\"i = \",i,\"j = \",j)\n",
    "    if j == 6:\n",
    "        break"
   ]
  },
  {
   "cell_type": "code",
   "execution_count": null,
   "metadata": {},
   "outputs": [],
   "source": [
    "# One Small Change\n",
    "j = 0\n",
    "for i in range(0,5,1):\n",
    "    j += 2\n",
    "    print( \"i = \",i,\"j = \",j)\n",
    "    if j == 7:\n",
    "        break"
   ]
  },
  {
   "cell_type": "markdown",
   "metadata": {},
   "source": [
    "In the first case, the for loop only executes 3 times before the condition j == 6 is TRUE and the loop is exited. \n",
    "In the second case, j == 7 never happens so the loop completes all its anticipated traverses.\n",
    "\n",
    "In both cases an `if` statement was used within a for loop. Such \"mixed\" control structures\n",
    "are quite common (and pretty necessary). \n",
    "A `while` loop contained within a `for` loop, with several `if` statements would be very common and such a structure is called __nested control.__\n",
    "There is typically an upper limit to nesting but the limit is pretty large - easily in the\n",
    "hundreds. It depends on the language and the system architecture ; suffice to say it is not\n",
    "a practical limit except possibly for general-domain AI applications.\n",
    "<hr>\n",
    "We can also do mundane activities and leverage loops, arithmetic, and format codes to make useful tables like\n"
   ]
  },
  {
   "cell_type": "markdown",
   "metadata": {},
   "source": [
    "### Example: Cosines in the loop! \n",
    "\n",
    "Write a loop to print a table of the cosines of numbers between 0 and 0.01 with steps of 0.001."
   ]
  },
  {
   "cell_type": "code",
   "execution_count": null,
   "metadata": {},
   "outputs": [],
   "source": [
    "import math # package that contains cosine\n",
    "print(\"     Cosines     \")\n",
    "print(\"   x   \",\"|\",\" cos(x) \")\n",
    "print(\"--------|--------\")\n",
    "for i in range(0,100,1):\n",
    "    x = float(i)*0.001\n",
    "    print(\"%.3f\" % x, \"  |\", \" %.4f \"  % math.cos(x)) # note the format code and the placeholder % and syntax of using package"
   ]
  },
  {
   "cell_type": "markdown",
   "metadata": {},
   "source": [
    "___\n",
    "### Example: Getting the hang of it! \n",
    "\n",
    "Write a Python script that takes a real input value (a float) for x and returns the y\n",
    "value according to the rules below\n",
    "\n",
    "\\begin{gather}\n",
    "y = x~for~0 <= x < 1 \\\\\n",
    "y = x^2~for~1 <= x < 2 \\\\\n",
    "y = x + 2~for~2 <= x < 3 \\\\\n",
    "\\end{gather}\n",
    "\n",
    "Test the script with x values of 0.0, 1.0, 1.1, and 2.1. <br>\n",
    "add functionality to **automaticaly** populate the table below:\n",
    "\n",
    "|x|y(x)|\n",
    "|---:|---:|\n",
    "|0.0|  |\n",
    "|1.0|  |\n",
    "|2.0|  |\n",
    "|3.0|  |\n",
    "|4.0|  |\n",
    "|5.0|  |"
   ]
  },
  {
   "cell_type": "code",
   "execution_count": null,
   "metadata": {},
   "outputs": [],
   "source": [
    "userInput = input('Enter enter a float') #ask for user's input\n",
    "x = float(userInput)\n",
    "print(\"x:\", x)\n",
    "\n",
    "if x >= 0 and x < 1:\n",
    "    y = x\n",
    "    print(\"y is equal to\",y)\n",
    "elif x >= 1 and x < 2:\n",
    "    y = x*x\n",
    "    print(\"y is equal to\",y)\n",
    "else:\n",
    "    y = x+2\n",
    "    print(\"y is equal to\",y)"
   ]
  },
  {
   "cell_type": "code",
   "execution_count": 3,
   "metadata": {},
   "outputs": [
    {
     "name": "stdout",
     "output_type": "stream",
     "text": [
      "Requirement already satisfied: prettytable in /Users/afam/anaconda3/lib/python3.11/site-packages (3.9.0)\n",
      "Requirement already satisfied: wcwidth in /Users/afam/anaconda3/lib/python3.11/site-packages (from prettytable) (0.2.5)\n"
     ]
    }
   ],
   "source": [
    "# Later we will explain more on installing Libraries but for now just run this cell to install pretty table\n",
    "!pip install prettytable"
   ]
  },
  {
   "cell_type": "code",
   "execution_count": 5,
   "metadata": {},
   "outputs": [
    {
     "name": "stdout",
     "output_type": "stream",
     "text": [
      "---x--- | ---y---\n",
      "--------|--------\n",
      "   0    |     0 \n",
      "   1    |     1 \n",
      "   2    |     4 \n",
      "   3    |     5 \n",
      "   4    |     6 \n",
      "   5    |     7 \n"
     ]
    }
   ],
   "source": [
    "# without pretty table\n",
    "\n",
    "print(\"---x---\",\"|\",\"---y---\")\n",
    "print(\"--------|--------\")\n",
    "for x in range(0,6,1):\n",
    "    if x >= 0 and x < 1:\n",
    "        y = x\n",
    "        print(\"%4.f\" % x, \"   |\", \" %4.f \" % y)\n",
    "    elif x >= 1 and x < 2:\n",
    "        y = x*x\n",
    "        print(\"%4.f\" % x, \"   |\", \" %4.f \" % y)\n",
    "    else:\n",
    "        y = x+2\n",
    "        print(\"%4.f\" % x, \"   |\", \" %4.f \" % y)"
   ]
  },
  {
   "cell_type": "code",
   "execution_count": 7,
   "metadata": {},
   "outputs": [
    {
     "name": "stdout",
     "output_type": "stream",
     "text": [
      "for x equal to 0 , y is equal to 0\n",
      "for x equal to 1 , y is equal to 1\n",
      "for x equal to 2 , y is equal to 4\n",
      "for x equal to 3 , y is equal to 5\n",
      "for x equal to 4 , y is equal to 6\n",
      "for x equal to 5 , y is equal to 7\n",
      "+---+---+\n",
      "| x | y |\n",
      "+---+---+\n",
      "| 0 | 0 |\n",
      "| 1 | 1 |\n",
      "| 2 | 4 |\n",
      "| 3 | 5 |\n",
      "| 4 | 6 |\n",
      "| 5 | 7 |\n",
      "+---+---+\n"
     ]
    }
   ],
   "source": [
    "# with pretty table\n",
    "\n",
    "from prettytable import PrettyTable #Required to create tables\n",
    "\n",
    "t = PrettyTable(['x', 'y']) #Define an empty table\n",
    "\n",
    "\n",
    "for x in range(0,6,1):\n",
    "    if x >= 0 and x < 1:\n",
    "        y = x\n",
    "        print(\"for x equal to\", x, \", y is equal to\",y)\n",
    "        t.add_row([x, y]) #will add a row to the table \"t\"\n",
    "    elif x >= 1 and x < 2:\n",
    "        y = x*x\n",
    "        print(\"for x equal to\", x, \", y is equal to\",y)\n",
    "        t.add_row([x, y])\n",
    "    else:\n",
    "        y = x+2\n",
    "        print(\"for x equal to\", x, \", y is equal to\",y)\n",
    "        t.add_row([x, y])\n",
    "\n",
    "print(t)"
   ]
  },
  {
   "cell_type": "markdown",
   "metadata": {},
   "source": [
    "___\n",
    "#### The `continue` statement\n",
    "The continue instruction skips the block of code after it is executed for that iteration. \n",
    "It is\n",
    "best illustrated by an example."
   ]
  },
  {
   "cell_type": "code",
   "execution_count": null,
   "metadata": {},
   "outputs": [],
   "source": [
    "j = 0\n",
    "for i in range(0,5,1):\n",
    "    j += 2\n",
    "    print (\"\\n i = \", i , \", j = \", j) #here the \\n is a newline command\n",
    "    if j == 6:\n",
    "        continue\n",
    "    print(\" this message will be skipped over if j = 6 \") # still within the loop, so the skip is implemented\n",
    "    \n",
    "#When j ==6 the line after the continue keyword is not printed. \n",
    "#Other than that one difference the rest of the script runs normally."
   ]
  },
  {
   "cell_type": "code",
   "execution_count": null,
   "metadata": {},
   "outputs": [],
   "source": []
  },
  {
   "cell_type": "markdown",
   "metadata": {},
   "source": [
    "### Example 1\n",
    "\n",
    "Write a code that counts number of characters in a string. "
   ]
  },
  {
   "cell_type": "code",
   "execution_count": null,
   "metadata": {},
   "outputs": [],
   "source": []
  },
  {
   "cell_type": "markdown",
   "metadata": {},
   "source": [
    "### Example 2\n",
    "Write a script that adds all the digits of an integer. if the resulting sum is more than one digit keep repeating till the sum is  one digit"
   ]
  },
  {
   "cell_type": "code",
   "execution_count": null,
   "metadata": {},
   "outputs": [],
   "source": []
  },
  {
   "cell_type": "markdown",
   "metadata": {},
   "source": [
    "## EXERCISE 6.1 (80 marks)\n",
    "1. Print your name in 3 rows and columns by using nested for loops"
   ]
  },
  {
   "cell_type": "code",
   "execution_count": null,
   "metadata": {},
   "outputs": [],
   "source": [
    "#Write your code here\n"
   ]
  },
  {
   "cell_type": "markdown",
   "metadata": {},
   "source": [
    "2. FOR or WHILE? <br>\n",
    "1000 people have asked to be enlisted to take the first dose of COVID-19 vaccine. You are asked to write a loop and allow the ones who meet the requirements to take the shot. What kind of loop will you use? a FOR loop or a WHILE loop? Explain the logic behind your choice briefly. \n"
   ]
  },
  {
   "cell_type": "code",
   "execution_count": null,
   "metadata": {},
   "outputs": [],
   "source": []
  },
  {
   "cell_type": "markdown",
   "metadata": {},
   "source": [
    "3. Print a pattern of stars using nested for loops:"
   ]
  },
  {
   "cell_type": "code",
   "execution_count": null,
   "metadata": {},
   "outputs": [],
   "source": []
  },
  {
   "cell_type": "markdown",
   "metadata": {},
   "source": [
    "4. Find the first occurrence of a number 8  in a my_list using a loop: <br>\n",
    "my_list = [3,7,9,2,80,45,34,78,8,2,7,90,93,12,46,8,34,8,4,90,4]"
   ]
  },
  {
   "cell_type": "code",
   "execution_count": null,
   "metadata": {},
   "outputs": [],
   "source": []
  },
  {
   "cell_type": "markdown",
   "metadata": {},
   "source": [
    "5. Calculate the sum of numbers from 1 to 100 using a loop:"
   ]
  },
  {
   "cell_type": "code",
   "execution_count": null,
   "metadata": {},
   "outputs": [],
   "source": []
  },
  {
   "cell_type": "markdown",
   "metadata": {},
   "source": [
    "6. Find all prime numbers between 1 and 50 using nested for and if: <br>\n",
    "Hint: You will need an outer loop that iterates from 2 to 50, and the inner for loop checks for divisibility of num by numbers from 2 to num. If it is divisible by any number, the inner loop is broken, otherwise, the else block is executed, and the number is printed."
   ]
  },
  {
   "cell_type": "code",
   "execution_count": null,
   "metadata": {},
   "outputs": [],
   "source": []
  },
  {
   "cell_type": "markdown",
   "metadata": {},
   "source": [
    "7. Find the common elements in two lists using a for loop: <br>\n",
    "list1 = [1, 2, 3, 4, 5,6,9,3,7,9] <br>\n",
    "list2 = [3, 4, 5, 6, 7,65,4,7,3,2,8] <br>"
   ]
  },
  {
   "cell_type": "code",
   "execution_count": null,
   "metadata": {},
   "outputs": [],
   "source": []
  },
  {
   "cell_type": "markdown",
   "metadata": {},
   "source": [
    "8. Print numbers from 1 to 10. If a number is divisible by 4, stop the loop using a for loop and break statement:"
   ]
  },
  {
   "cell_type": "code",
   "execution_count": null,
   "metadata": {},
   "outputs": [],
   "source": []
  },
  {
   "cell_type": "markdown",
   "metadata": {},
   "source": [
    "---\n",
    "## Lab Exercise 6.2 (20 marks)\n",
    "Ensure you entered your full name and R Number in the top cell<br>\n",
    "Convert to PDF and submit both PDF and IPYNB\n"
   ]
  },
  {
   "cell_type": "markdown",
   "metadata": {},
   "source": [
    "___\n",
    "![](https://media2.giphy.com/media/5nj4ZZWl6QwneEaBX4/source.gif) <br>\n",
    "\n",
    "\n",
    "*Here are some great reads on this topic:* \n",
    "- __\"Python for Loop\"__ available at *https://www.programiz.com/python-programming/for-loop/<br>\n",
    "- __\"Python \"for\" Loops (Definite Iteration)\"__ by __John Sturtz__ available at *https://realpython.com/python-for-loop/ <br>\n",
    "- __\"Python \"while\" Loops (Indefinite Iteration)\"__ by __John Sturtz__ available at *https://realpython.com/python-while-loop/ <br>\n",
    "- __\"loops in python\"__ available at *https://www.geeksforgeeks.org/loops-in-python/ <br>\n",
    "- __\"Python Exceptions: An Introduction\"__ by __Said van de Klundert__ available at *https://realpython.com/python-exceptions/ <br>\n",
    "\n",
    "*Here are some great videos on these topics:* \n",
    "- __\"Python For Loops - Python Tutorial for Absolute Beginners\"__ by __Programming with Mosh__ available at *https://www.youtube.com/watch?v=94UHCEmprCY <br>\n",
    "- __\"Python Tutorial for Beginners 7: Loops and Iterations - For/While Loops\"__ by __Corey Schafer__ available at *https://www.youtube.com/watch?v=6iF8Xb7Z3wQ <br>\n",
    "- __\"Python 3 Programming Tutorial - For loop\"__ by __sentdex__ available at *https://www.youtube.com/watch?v=xtXexPSfcZg <br><br>"
   ]
  },
  {
   "cell_type": "markdown",
   "metadata": {},
   "source": [
    "![](https://quotefancy.com/media/wallpaper/3840x2160/506210-Mason-Cooley-Quote-Reason-cannot-break-out-of-its-own-loop.jpg)"
   ]
  }
 ],
 "metadata": {
  "kernelspec": {
   "display_name": "Python 3 (ipykernel)",
   "language": "python",
   "name": "python3"
  },
  "language_info": {
   "codemirror_mode": {
    "name": "ipython",
    "version": 3
   },
   "file_extension": ".py",
   "mimetype": "text/x-python",
   "name": "python",
   "nbconvert_exporter": "python",
   "pygments_lexer": "ipython3",
   "version": "3.12.0"
  }
 },
 "nbformat": 4,
 "nbformat_minor": 4
}
