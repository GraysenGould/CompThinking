{
 "cells": [
  {
   "cell_type": "markdown",
   "metadata": {},
   "source": [
    "# <font color=darkred>Laboratory 4: Algorithm Building Blocks </font>\n",
    "### Complete all of the cells below as the lab exercise portion\n",
    "\n"
   ]
  },
  {
   "cell_type": "code",
   "execution_count": 1,
   "metadata": {},
   "outputs": [
    {
     "name": "stdout",
     "output_type": "stream",
     "text": [
      "GouldPC\n",
      "gouldpc\\gould\n",
      "C:\\Users\\gould\\anaconda3\\python.exe\n",
      "3.12.4 | packaged by Anaconda, Inc. | (main, Jun 18 2024, 15:03:56) [MSC v.1929 64 bit (AMD64)]\n",
      "sys.version_info(major=3, minor=12, micro=4, releaselevel='final', serial=0)\n"
     ]
    }
   ],
   "source": [
    "# Preamble script block to identify host, user, and kernel\n",
    "import sys\n",
    "! hostname\n",
    "! whoami\n",
    "print(sys.executable)\n",
    "print(sys.version)\n",
    "print(sys.version_info)"
   ]
  },
  {
   "cell_type": "markdown",
   "metadata": {},
   "source": [
    "## Full name: Graysen Gould\n",
    "## R#11944656\n",
    "## Title of the notebook: Lab_04.ipynb\n",
    "## Date: 9-16-24\n",
    "___"
   ]
  },
  {
   "cell_type": "markdown",
   "metadata": {},
   "source": [
    "___\n",
    "## <font color=purple>Algorithm Building Blocks</font>\n",
    "\n",
    "All programs are made up of three fundamental patterns of control or flow:  \n",
    "  1. **Sequence** - one instruction after another  \n",
    "  2. **Selection (Conditional)** - A group of instructions may or may not be executed, depending on some condition  \n",
    "  3. **Repetition (Loop)** – A group of instructions repeated multiple times  \n"
   ]
  },
  {
   "attachments": {
    "636afbb5-be1a-482e-b874-6151b0f3bbe0.png": {
     "image/png": "[encoded data removed]"
    }
   },
   "cell_type": "markdown",
   "metadata": {},
   "source": [
    "### <font color=\"purple\">Sequential Algorithm </font>\n",
    "\n",
    "A basic algorithm is the sequential algorithm which is a linear series of steps to solve a given problem . <br>\n",
    "\n",
    "![image.png](attachment:636afbb5-be1a-482e-b874-6151b0f3bbe0.png)\n"
   ]
  },
  {
   "cell_type": "markdown",
   "metadata": {},
   "source": [
    "___\n",
    "## <font color=purple>Let's Practice...</font>"
   ]
  },
  {
   "cell_type": "markdown",
   "metadata": {},
   "source": [
    "___\n",
    "### Story time #1\n",
    "We want a volunteer to share his coffee routine:\n",
    "* please include approximately 7-8 steps.\n",
    "* let's format those in to a pseudo code..."
   ]
  },
  {
   "cell_type": "markdown",
   "metadata": {},
   "source": [
    "## Black Coffee\n",
    "***Inputs:*** <br>\n",
    "1 tbsp of instant coffee <br>\n",
    "a cup of water <br>\n",
    "...\n",
    "\n",
    "***Outputs:*** <br>\n",
    "a cup of coffee <br>\n",
    "...\n",
    "\n",
    "***Procedure:*** <br>\n",
    "step 1: boil the cup of water <br>\n",
    "step 2: add a tbsp of coffee to the boiled water <br>\n",
    "step 3: serve it <br>\n",
    "..."
   ]
  },
  {
   "cell_type": "markdown",
   "metadata": {},
   "source": [
    "## Area, and Perimeter for square  <br>\n",
    "\n",
    "**Input:** <br>\n",
    "**Output:** <br>\n",
    "**Procedure:** <br>\n",
    "step 1: input the length of the square <br>\n",
    "step 2: multiply the length by 4 to get the perimeter <br>\n",
    "step 3: take the square of the length to get the area <br>\n",
    "step 4: print the area and perimeter of the square <br>"
   ]
  },
  {
   "cell_type": "markdown",
   "metadata": {},
   "source": [
    "## Sequence\n",
    "\n",
    "Our first structure is sequential.  To belabor the concept we will compute a short list of cubes, by cubing each element in a list and placing it into another list. The example below is dumb, but useful to introduce repetition later in the lab.  \n",
    "\n",
    "First an unusual cell, used to reset a notebook - it will clear the workspace.  Here we use it so the notebook will work the same for everyone (at least at first)."
   ]
  },
  {
   "cell_type": "raw",
   "metadata": {},
   "source": [
    "step 1: create a list Alist of 5 decimal numbers\n",
    "step 2: create an empty list Blist to store the output\n",
    "step 3: intialize a index as -1\n",
    "step 4: increment index by 1\n",
    "step 5: BList[index] = Alist[index] ** 3\n",
    "step 6: repeat steps 4 to 5 four times"
   ]
  },
  {
   "cell_type": "code",
   "execution_count": 39,
   "metadata": {},
   "outputs": [],
   "source": [
    "AList = [0.0,1.0,2.0,3.0,4.0] # Create a list of floats"
   ]
  },
  {
   "cell_type": "code",
   "execution_count": 40,
   "metadata": {},
   "outputs": [],
   "source": [
    "BList = [] #empty list to accept values"
   ]
  },
  {
   "cell_type": "code",
   "execution_count": 41,
   "metadata": {},
   "outputs": [
    {
     "data": {
      "text/plain": [
       "-1"
      ]
     },
     "execution_count": 41,
     "metadata": {},
     "output_type": "execute_result"
    }
   ],
   "source": [
    "position = -1 # set position pointer to -1\n",
    "position"
   ]
  },
  {
   "cell_type": "code",
   "execution_count": 42,
   "metadata": {},
   "outputs": [
    {
     "data": {
      "text/plain": [
       "0"
      ]
     },
     "execution_count": 42,
     "metadata": {},
     "output_type": "execute_result"
    }
   ],
   "source": [
    "position = position + 1 # increment position \n",
    "position"
   ]
  },
  {
   "cell_type": "code",
   "execution_count": 43,
   "metadata": {},
   "outputs": [],
   "source": [
    "BList.append(pow(AList[position] **3,3)) # append to BList to build list of cubes"
   ]
  },
  {
   "cell_type": "code",
   "execution_count": 44,
   "metadata": {},
   "outputs": [
    {
     "data": {
      "text/plain": [
       "[0.0]"
      ]
     },
     "execution_count": 44,
     "metadata": {},
     "output_type": "execute_result"
    }
   ],
   "source": [
    "BList"
   ]
  },
  {
   "cell_type": "code",
   "execution_count": 45,
   "metadata": {},
   "outputs": [
    {
     "data": {
      "text/plain": [
       "1"
      ]
     },
     "execution_count": 45,
     "metadata": {},
     "output_type": "execute_result"
    }
   ],
   "source": [
    "position = position + 1\n",
    "position"
   ]
  },
  {
   "cell_type": "code",
   "execution_count": 46,
   "metadata": {},
   "outputs": [
    {
     "data": {
      "text/plain": [
       "[0.0, 1.0]"
      ]
     },
     "execution_count": 46,
     "metadata": {},
     "output_type": "execute_result"
    }
   ],
   "source": [
    "BList.append(pow(AList[position],3))\n",
    "BList"
   ]
  },
  {
   "cell_type": "code",
   "execution_count": 47,
   "metadata": {},
   "outputs": [],
   "source": [
    "position = position + 1\n",
    "BList.append(pow(AList[position],3))"
   ]
  },
  {
   "cell_type": "code",
   "execution_count": 48,
   "metadata": {},
   "outputs": [],
   "source": [
    "position = position + 1\n",
    "BList.append(pow(AList[position],3))"
   ]
  },
  {
   "cell_type": "code",
   "execution_count": 49,
   "metadata": {},
   "outputs": [],
   "source": [
    "position = position + 1\n",
    "BList.append(pow(AList[position],3))"
   ]
  },
  {
   "cell_type": "code",
   "execution_count": 50,
   "metadata": {},
   "outputs": [
    {
     "name": "stdout",
     "output_type": "stream",
     "text": [
      "[0.0, 1.0, 8.0, 27.0, 64.0]\n"
     ]
    }
   ],
   "source": [
    "print(BList)"
   ]
  },
  {
   "cell_type": "code",
   "execution_count": null,
   "metadata": {},
   "outputs": [],
   "source": []
  },
  {
   "attachments": {
    "4bb841ca-336c-4155-bd37-40d4f90cd02b.png": {
     "image/png": "[encoded data removed]"
    }
   },
   "cell_type": "markdown",
   "metadata": {},
   "source": [
    "### <font color=\"purple\">Selection Algorithm </font>\n",
    "\n",
    "A basic algorithm is the sequential algorithm which is a linear series of steps to solve a given problem . <br>\n",
    "\n",
    "![image.png](attachment:4bb841ca-336c-4155-bd37-40d4f90cd02b.png)\n"
   ]
  },
  {
   "cell_type": "markdown",
   "metadata": {},
   "source": [
    "### Example: Pass or Fail?\n",
    "\n",
    "Take the following inputs from the user: \n",
    "\n",
    "    1. Grade for Lesson 1 (from 0 to 5)\n",
    "    2. Grade for Lesson 2 (from 0 to 5)\n",
    "    3. Grade for Lesson 3 (from 0 to 5)\n",
    "   \n",
    "Compute the average of the three grades. Use the result to decide whether the student will pass or fail."
   ]
  },
  {
   "cell_type": "code",
   "execution_count": 82,
   "metadata": {},
   "outputs": [
    {
     "name": "stdin",
     "output_type": "stream",
     "text": [
      "please input lesson 1 grade 2\n",
      "please input lesson 2 grade 3\n",
      "please input lesson 3 grade 4\n"
     ]
    },
    {
     "name": "stdout",
     "output_type": "stream",
     "text": [
      "pass\n"
     ]
    }
   ],
   "source": [
    "#step 1: create an empty list\n",
    "grades = []\n",
    "\n",
    "#step 2: take input of three values\n",
    "grades.append(int(input(\"please input lesson 1 grade\")))\n",
    "grades.append(int(input(\"please input lesson 2 grade\")))\n",
    "grades.append(int(input(\"please input lesson 3 grade\")))\n",
    "\n",
    "#step 3: calculate sum of 3 grades\n",
    "grade_sum = sum(grades)\n",
    "\n",
    "#step 4: calculate average of 3 grades\n",
    "avg_grade = grade_sum / 3\n",
    "\n",
    "#step 5: test whether grade >= 3\n",
    "if avg_grade >= 3:\n",
    "    #step 6: if true, output \"pass\":\n",
    "    print(\"pass\")\n",
    "else:\n",
    "    #step 7: if true, output \"fail\"\n",
    "    print(\"fail\")\n"
   ]
  },
  {
   "cell_type": "markdown",
   "metadata": {},
   "source": [
    "### Selection\n",
    "\n",
    "Our next structure is selection, illustrated by a simple example\n",
    "\n",
    "A council member will not be allowed to vote on an ordinance if his/her attendence at council meetings is less than 75%. \n",
    "Take the following inputs from the user: \n",
    "\n",
    "    1. Number of council meetings held.\n",
    "    2. Number of council meetings attended. \n",
    "   \n",
    "Compute the percentage of meetings attended \n",
    "\n",
    "$$\\%_{attended} = \\frac{Meetings_{attended}}{Meetings_{total}}*100$$\n",
    "\n",
    "Use the result to decide whether the council member will be allowed to vote or not."
   ]
  },
  {
   "cell_type": "code",
   "execution_count": 61,
   "metadata": {},
   "outputs": [
    {
     "name": "stdin",
     "output_type": "stream",
     "text": [
      "enter council person name bob\n"
     ]
    }
   ],
   "source": [
    "# use our simple I/O methods to obtain council persons name\n",
    "council_name = str(input('enter council person name'))"
   ]
  },
  {
   "cell_type": "code",
   "execution_count": 62,
   "metadata": {},
   "outputs": [
    {
     "name": "stdin",
     "output_type": "stream",
     "text": [
      "How many meetings since last vote? 4\n"
     ]
    }
   ],
   "source": [
    "# use our simple I/O methods to obtain meeting count\n",
    "meetings_total = int(input('How many meetings since last vote?'))"
   ]
  },
  {
   "cell_type": "code",
   "execution_count": 63,
   "metadata": {},
   "outputs": [
    {
     "name": "stdin",
     "output_type": "stream",
     "text": [
      "How many meetings did bob attend?  3\n"
     ]
    }
   ],
   "source": [
    "# use our simple I/O methods to obtain meetings attended\n",
    "prompt_string = 'How many meetings did ' + council_name + ' attend? '\n",
    "meetings_attended = int(input(prompt_string))"
   ]
  },
  {
   "cell_type": "code",
   "execution_count": 64,
   "metadata": {},
   "outputs": [],
   "source": [
    "# compute percent_attendence\n",
    "percent_attend = 100.0*(meetings_attended/meetings_total) #the 100.0 forces float"
   ]
  },
  {
   "cell_type": "code",
   "execution_count": 65,
   "metadata": {},
   "outputs": [
    {
     "name": "stdout",
     "output_type": "stream",
     "text": [
      "Council person  bob  attended  75.0  percent of meetings and is eligible to vote\n"
     ]
    }
   ],
   "source": [
    "# select and make eligibility report\n",
    "if percent_attend < 75:\n",
    "    print('Council person ',council_name,' attended ',percent_attend,' percent of meetings and is NOT eligible to vote')\n",
    "else:\n",
    "    print('Council person ',council_name,' attended ',percent_attend,' percent of meetings and is eligible to vote')"
   ]
  },
  {
   "cell_type": "code",
   "execution_count": null,
   "metadata": {},
   "outputs": [],
   "source": [
    "# Multiple Conditional Statements"
   ]
  },
  {
   "cell_type": "code",
   "execution_count": 69,
   "metadata": {},
   "outputs": [
    {
     "name": "stdin",
     "output_type": "stream",
     "text": [
      "Enter the number 1 or 2 1\n"
     ]
    },
    {
     "name": "stdout",
     "output_type": "stream",
     "text": [
      "Hello World\n",
      "How do you do? \n"
     ]
    }
   ],
   "source": [
    "# Block if example\n",
    "userInput = input('Enter the number 1 or 2')\n",
    "# Use block if structure\n",
    "if userInput == '1':\n",
    "    print(\"Hello World\")\n",
    "    print(\"How do you do? \")\n",
    "elif userInput == '2':\n",
    "    print(\"Snakes on a plane \")\n",
    "else:\n",
    "    print(\"You did not enter a valid number\")"
   ]
  },
  {
   "cell_type": "markdown",
   "metadata": {},
   "source": []
  },
  {
   "cell_type": "markdown",
   "metadata": {},
   "source": [
    "### Story time #1\n",
    "> Farhang goes to the campus from home everyday. He told Mert that he has three travel options to choose from. He can either walk, ride his bicycle, or take the bus. Farhang's choice depends on what time he leaves his home. His first class is at 8am, and if he has more than 30 minutes till class when he leaves home he walks. But, if he has less than 30 minutes he takes his bike. Sometimes he leaves his home even later. If he only has 15 minutes or less before class then he takes the bus."
   ]
  },
  {
   "cell_type": "markdown",
   "metadata": {},
   "source": [
    "Mert wants to write the pseudo code to understand this problem.\n",
    "* Provide the pseudo code to solve this\n",
    "* What is the input?\n",
    "* What is the output?"
   ]
  },
  {
   "cell_type": "markdown",
   "metadata": {},
   "source": [
    "***Inputs:***\n",
    "\n",
    "Input how long Farhang has to get to his clas\n",
    "\n",
    "***Outputs:***\n",
    "\n",
    "output transportation method: \"bike\", \"walk\", or \"bus\"\n",
    "\n",
    "***Procedure:***\n",
    "\n",
    "1. input number of minutes until 8am class\n",
    "\n",
    "2. check if number of minutes greater than 30\n",
    "\n",
    "3. if greater than 30, output \"walk\"\n",
    "\n",
    "4. if greater than 15 but less than 30, output \"bike\"\n",
    "\n",
    "5. if less than 15, output \"bus\""
   ]
  },
  {
   "cell_type": "code",
   "execution_count": null,
   "metadata": {},
   "outputs": [],
   "source": []
  },
  {
   "cell_type": "markdown",
   "metadata": {},
   "source": [
    "## Excersise 4.1 (20 marks):\n",
    "\n",
    "What to select?\n",
    "Below is a multiple-alternative if statement to display a message indicating the success of a student for a given assignment on a grade scale of 5. \n",
    "> i.e., 1:fail, 2:bad, 3:satisfactory, 4:good, 5:excellent.\n",
    "\n",
    "However this code is not functioning as expected. Why? Please correct the mistakes and make this code work.\n",
    " * Make sure to cite any resources that you may use. "
   ]
  },
  {
   "cell_type": "code",
   "execution_count": 76,
   "metadata": {},
   "outputs": [
    {
     "name": "stdin",
     "output_type": "stream",
     "text": [
      "Enter the grade 6\n"
     ]
    },
    {
     "name": "stdout",
     "output_type": "stream",
     "text": [
      "ERROR\n"
     ]
    }
   ],
   "source": [
    "# Block if example\n",
    "userInput = int(input('Enter the grade')) # forced intput to be datatype int\n",
    "\n",
    "\n",
    "# Use block if structure\n",
    "if userInput == 1:\n",
    "    print(\"FAIL\") # changed print argument to string literal\n",
    "elif userInput == 2:\n",
    "    print(\"bad\") # changed print argument to string literal\n",
    "elif userInput == 3: # changed to an elif statement\n",
    "    print(\"satisfactory\") # changed print argument to string literal\n",
    "elif userInput == 4:\n",
    "    print(\"good\") # changed print argument to string literal\n",
    "elif userInput == 5:\n",
    "    print(\"excellent\") # changed print argument to string literal\n",
    "else:\n",
    "    print(\"ERROR\")"
   ]
  },
  {
   "cell_type": "markdown",
   "metadata": {},
   "source": [
    "## Excersise 4.1\n",
    "\n",
    "Given two integer numbers return their product only if the product is greater than 1000, else return their sum.\n",
    "- Case 2: `number1 = 40` and `number2 = 30`"
   ]
  },
  {
   "cell_type": "code",
   "execution_count": 79,
   "metadata": {},
   "outputs": [],
   "source": [
    "def int_fun(number1,number2):\n",
    "    if number1*number2 > 1000:\n",
    "        return number1*number2\n",
    "    else:\n",
    "        return number1 + number2"
   ]
  },
  {
   "cell_type": "code",
   "execution_count": 80,
   "metadata": {},
   "outputs": [
    {
     "name": "stdout",
     "output_type": "stream",
     "text": [
      "60\n"
     ]
    }
   ],
   "source": [
    "# case2\n",
    "print(int_fun(40, 20))"
   ]
  },
  {
   "cell_type": "code",
   "execution_count": 81,
   "metadata": {},
   "outputs": [
    {
     "name": "stdout",
     "output_type": "stream",
     "text": [
      "1050\n"
     ]
    }
   ],
   "source": [
    "# why is there no case 1??\n",
    "# demonstratoin of other output of function\n",
    "print(int_fun(50, 21))"
   ]
  },
  {
   "cell_type": "markdown",
   "metadata": {},
   "source": [
    "## Excersise 4.3\n",
    "\n",
    "Write a program to check if the given number is a palindrome number. A palindrome number is a number that is same after reverse. For example 545, is a palindrome number."
   ]
  },
  {
   "cell_type": "code",
   "execution_count": 4,
   "metadata": {},
   "outputs": [
    {
     "name": "stdout",
     "output_type": "stream",
     "text": [
      "Palindrome\n"
     ]
    }
   ],
   "source": [
    "s =\"545\"\n",
    "if s == s[::-1]:\n",
    "    print(\"Palindrome\")\n",
    "else:\n",
    "    print(\"Not Palindrome\")"
   ]
  },
  {
   "cell_type": "markdown",
   "metadata": {},
   "source": [
    "---\n",
    "## Lab Exercise 4.4 (20 marks)\n",
    "Ensure you entered your full name and R Number in the top cell<br>\n",
    "Convert to PDF and submit both PDF and IPYNB"
   ]
  },
  {
   "cell_type": "markdown",
   "metadata": {},
   "source": [
    "___\n",
    "![](https://media2.giphy.com/media/5nj4ZZWl6QwneEaBX4/source.gif) <br>\n",
    "\n",
    "*Here are some great reads on this topic:* \n",
    "- __\"Python - Algorithm Design\"__ at *https://www.tutorialspoint.com/python_data_structure/python_algorithm_design.htm <br>\n",
    "- __\"Thinking in Algorithms and Writing Pseudocode\"__ by __Steve Pitchford__ at https://blog.majestic.com/training/thinking-in-algorithms-and-writing-pseudocode/ <br>\n",
    "- __\"Pseudocode 101: An Introduction to Writing Good Pseudocode\"__ by __Sata A. Metwalli__ at h*ttps://towardsdatascience.com/pseudocode-101-an-introduction-to-writing-good-pseudocode-1331cb855be7 <br>\n",
    "\n",
    "*Here are some great videos on these topics:* \n",
    "- __\"What is Pseudocode in Python? Day 21\"__ by __Make School__ at *https://www.youtube.com/watch?v=3WSrPxINIt8 <br>\n",
    "- __\"What is Pseudocode And How Do You Use It?\"__ by __Codecademy__ at *https://www.youtube.com/watch?v=PwGA4Lm8zuE <br>\n"
   ]
  },
  {
   "cell_type": "code",
   "execution_count": null,
   "metadata": {},
   "outputs": [],
   "source": []
  }
 ],
 "metadata": {
  "kernelspec": {
   "display_name": "Python 3 (ipykernel)",
   "language": "python",
   "name": "python3"
  },
  "language_info": {
   "codemirror_mode": {
    "name": "ipython",
    "version": 3
   },
   "file_extension": ".py",
   "mimetype": "text/x-python",
   "name": "python",
   "nbconvert_exporter": "python",
   "pygments_lexer": "ipython3",
   "version": "3.12.4"
  }
 },
 "nbformat": 4,
 "nbformat_minor": 4
}
