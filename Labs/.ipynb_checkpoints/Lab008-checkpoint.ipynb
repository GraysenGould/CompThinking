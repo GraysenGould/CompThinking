{
 "cells": [
  {
   "cell_type": "markdown",
   "metadata": {},
   "source": [
    "# <font color=darkred>Laboratory 8: AI & Basic Python All Together  </font>"
   ]
  },
  {
   "cell_type": "code",
   "execution_count": 1,
   "metadata": {},
   "outputs": [
    {
     "name": "stdout",
     "output_type": "stream",
     "text": [
      "GouldPC\n",
      "gouldpc\\gould\n",
      "C:\\Users\\gould\\anaconda3\\python.exe\n",
      "3.12.4 | packaged by Anaconda, Inc. | (main, Jun 18 2024, 15:03:56) [MSC v.1929 64 bit (AMD64)]\n",
      "sys.version_info(major=3, minor=12, micro=4, releaselevel='final', serial=0)\n"
     ]
    }
   ],
   "source": [
    "# Preamble script block to identify host, user, and kernel\n",
    "import sys\n",
    "! hostname\n",
    "! whoami\n",
    "print(sys.executable)\n",
    "print(sys.version)\n",
    "print(sys.version_info)"
   ]
  },
  {
   "cell_type": "markdown",
   "metadata": {},
   "source": [
    "## Full name: Graysen Gould\n",
    "## R#: 11944656\n",
    "## Title of the notebook: Laborator 8: AI & Basic Python All Together\n",
    "## Date: 9-25-24\n",
    "___"
   ]
  },
  {
   "cell_type": "markdown",
   "metadata": {},
   "source": [
    "### Warning: Relying on AI to Write Python Code\n",
    "\n",
    "While AI tools, such as CoPilot and ChatGPT, can assist in generating Python code and providing coding solutions, it is crucial to be cautious when relying solely on these tools. For this course we expect that all your solution be your own code but you can use AI to see different approaches to the solution. \n",
    "#### Some important considerations:\n",
    "\n",
    "1. **Accuracy:** AI-generated code may contain errors or bugs. Always review and test the code thoroughly to ensure it meets your requirements and functions correctly.\n",
    "\n",
    "2. **Understanding:** Relying too heavily on AI can impede your understanding of the underlying concepts and logic. It is essential to comprehend the code and the principles behind it to write efficient and effective programs.\n",
    "\n",
    "3. **Security:** AI tools may not always consider security best practices. Ensure that your code adheres to security standards and does not introduce vulnerabilities.\n",
    "\n",
    "4. **Customization:** AI-generated code may not be tailored to your specific needs or constraints. Customize and adapt the code as necessary to fit your particular use case.\n",
    "\n",
    "5. **Learning:** Writing code manually and solving problems on your own helps build valuable skills and knowledge. Use AI as a supplement, not a replacement, for learning and problem-solving.\n",
    "\n",
    "#### Below are example of previous exam question and solutions that were flagged"
   ]
  },
  {
   "cell_type": "markdown",
   "metadata": {},
   "source": [
    "---\n",
    "## Example 1\n",
    "### Here we show a previous exam Question and a wrong solution by ChatGPT\n",
    "Define a function that takes input as a string (let’s call it mystring) and an integer  (let’s call it myint) as parameters. The function should move myint character of mystring to the beginning and return the resulting string. \n",
    "\n",
    "For example, if mystring is  “This exam is easy” and myint is 5, then the returned string will be “eThis xam is easy” \n",
    "\n",
    "If myint is larger than the length of mystr, then the function should return mystr unchanged. \n",
    "\n",
    "Call this function in the 2nd cell with your full name as the string input and last digit of your R number as the integer input\n"
   ]
  },
  {
   "cell_type": "code",
   "execution_count": 2,
   "metadata": {},
   "outputs": [
    {
     "name": "stdout",
     "output_type": "stream",
     "text": [
      "Original string: Graysen Gould\n",
      "Modified string:  GouldGraysen\n"
     ]
    }
   ],
   "source": [
    "# Wrong Solution by ChatGPT\n",
    "def move_chars_to_front(mystring, myint):\n",
    "    # Check if myint is larger than the length of mystring\n",
    "    if myint > len(mystring):\n",
    "        return mystring\n",
    "    else:\n",
    "        # Move the last myint characters to the front\n",
    "        return mystring[-myint:] + mystring[:-myint]\n",
    "\n",
    "# Example usage with full name and last digit of R number\n",
    "mystring = \"Graysen Gould\"  # Replace this with your full name\n",
    "myint = 6  # Replace this with the last digit of your R number\n",
    "result = move_chars_to_front(mystring, myint)\n",
    "print(f\"Original string: {mystring}\")\n",
    "print(f\"Modified string: {result}\")\n"
   ]
  },
  {
   "cell_type": "markdown",
   "metadata": {},
   "source": [
    "### Explanation by ChatGPT:\n",
    "The function checks if `myint` is greater than the length of `mystring`. If it is, it simply returns the original string.  \n",
    "If `myint` is within bounds, the function slices the last `myint` characters from the string using `mystring[-myint:]` and concatenates them at the front of the string with `mystring[:-myint]` (the rest of the string).  \n",
    "Replace `\"John Doe\"` with your full name and `5` with the last digit of your R number in the example usage.\n",
    "\n",
    "### ChatGPT's Mistake\n",
    "The Question asked we move myint character of mystring to the beginning and **not the the last `myint` characters**. <br>\n",
    "\n",
    "### Correct Solution"
   ]
  },
  {
   "cell_type": "code",
   "execution_count": 6,
   "metadata": {},
   "outputs": [],
   "source": [
    "#Define the function here\n",
    "def swap(mystring, myint):\n",
    "    # First we check if myint is larger than the length of mystring\n",
    "    if myint > len(mystring):\n",
    "        return mystring\n",
    "    else:\n",
    "        # Move the last myint characters to the front\n",
    "        return mystring[myint] + mystring[:myint] +  mystring[myint+1:]"
   ]
  },
  {
   "cell_type": "code",
   "execution_count": 7,
   "metadata": {},
   "outputs": [
    {
     "name": "stdin",
     "output_type": "stream",
     "text": [
      "Please enter your full name :  Graysen Gould\n",
      "Please enter the last digit of your R number :  6\n"
     ]
    },
    {
     "name": "stdout",
     "output_type": "stream",
     "text": [
      "Original string: Graysen Gould\n",
      "Modified string: nGrayse Gould\n"
     ]
    }
   ],
   "source": [
    "# Call the function here\n",
    "mystring = input('Please enter your full name : ')\n",
    "myint = int(input('Please enter the last digit of your R number : '))\n",
    "result = swap(mystring, myint)\n",
    "print(f\"Original string: {mystring}\")\n",
    "print(f\"Modified string: {result}\")"
   ]
  },
  {
   "cell_type": "markdown",
   "metadata": {},
   "source": [
    "___\n",
    "## Example 2\n",
    "### Here we present a previous exam question, and the solution contains additional information that indicates it was copied. If you fully understand the code, those extra details wouldn't be included.\n",
    "Define a function to calculate the energy required to lift a given weight to a given height.\n",
    "\n",
    "The formula for calculating energy is:\n",
    "\n",
    "E = mgh\n",
    "\n",
    "where m is the mass of the object being lifted in kg, g is the acceleration due to gravity (9.8 m/s^2 on Earth), and h is the height to which the object is lifted in meters.\n",
    "\n",
    "The program should prompt the user to enter the mass and height, and then use a function to calculate the energy required. If the mass entered is less than or equal to 0, the program should display an error message and ask the user to enter the mass again. The program should repeat this process until a valid mass is entered.\n",
    "\n",
    "Once a valid mass is entered, the program should use a for loop to calculate the total energy required to lift the object to each meter of the given height, starting from 0. The program should use conditional statements to determine whether the current height is a multiple of 5, and if so, print the energy required at that height.\n",
    "\n",
    "Try the code in the 2nd cell by entering first 2 digits of your Rnumber as mass and last 2 digits of your Rnumber as height. "
   ]
  },
  {
   "cell_type": "code",
   "execution_count": 8,
   "metadata": {},
   "outputs": [
    {
     "name": "stdout",
     "output_type": "stream",
     "text": [
      "Test with mass = 11 kg and height = 56 meters:\n",
      "\n"
     ]
    },
    {
     "name": "stdin",
     "output_type": "stream",
     "text": [
      "Enter the mass in kg (must be greater than 0):  5\n",
      "Enter the height in meters:  11\n"
     ]
    },
    {
     "name": "stdout",
     "output_type": "stream",
     "text": [
      "\n",
      "Calculating energy for each meter from 0 to 11 meters...\n",
      "\n",
      "At height 5 meters, the energy required is 245.00 Joules.\n",
      "At height 10 meters, the energy required is 490.00 Joules.\n"
     ]
    }
   ],
   "source": [
    "def calculate_energy(mass, height):\n",
    "    g = 9.8  # acceleration due to gravity in m/s^2\n",
    "    return mass * g * height\n",
    "\n",
    "def main():\n",
    "    while True:\n",
    "        try:\n",
    "            mass = float(input(\"Enter the mass in kg (must be greater than 0): \"))\n",
    "            if mass <= 0:\n",
    "                print(\"Error: Mass must be greater than 0. Please try again.\")\n",
    "            else:\n",
    "                break\n",
    "        except ValueError:\n",
    "            print(\"Invalid input. Please enter a valid number.\")\n",
    "\n",
    "    try:\n",
    "        height = int(input(\"Enter the height in meters: \"))\n",
    "    except ValueError:\n",
    "        print(\"Invalid input. Height should be an integer.\")\n",
    "        return\n",
    "\n",
    "    print(f\"\\nCalculating energy for each meter from 0 to {height} meters...\\n\")\n",
    "    \n",
    "    for h in range(1, height + 1):\n",
    "        energy = calculate_energy(mass, h)\n",
    "        if h % 5 == 0:\n",
    "            print(f\"At height {h} meters, the energy required is {energy:.2f} Joules.\")\n",
    "\n",
    "# Example usage with R-number values\n",
    "mass = 11  # Replace with the first 2 digits of your R number\n",
    "height = 56  # Replace with the last 2 digits of your R number\n",
    "\n",
    "# Manually set these values for testing the program\n",
    "print(f\"Test with mass = {mass} kg and height = {height} meters:\\n\")\n",
    "main()\n"
   ]
  },
  {
   "cell_type": "markdown",
   "metadata": {},
   "source": [
    "While this solution is technically correct, the presence of extra text suggests to someone reading your code that you either do not fully understand it or did not take the time to review and clean up the output. This extra text can indicate a lack of attention to detail and may give the impression that you didn't invest effort into ensuring the code and its comments are clear and relevant. To present a polished solution, it's important to remove any unnecessary or redundant information and ensure that comments and explanations are meaningful and directly related to the code.<br>\n",
    "#### Extra Text\n",
    "**Example usage with R-number values**<br>\n",
    "**mass = 12  # Replace with the first 2 digits of your R number**<br>\n",
    "**height = 34  # Replace with the last 2 digits of your R number**\n",
    "___"
   ]
  },
  {
   "cell_type": "markdown",
   "metadata": {},
   "source": [
    "### Example 3\n",
    "#### In this example, we present a previous exam question and a solution provided by ChatGPT. Since ChatGPT used list comprehension, understanding and correcting the code may be more challenging compared to writing your own solution from scratch.\n",
    "Use the input function to provide your full name. Pick 8 characters from your name being at index positions as the 8 digits of your R number and print them with a space between every 2 characters.\n",
    "\n",
    "    Example: \n",
    "    If your name is Ronald Weasley and you R number is 11201385, you will pick characters from index positions 1,1,2,0,1,3,8,5 and the output will be \"o o n R o a e d\".\n"
   ]
  },
  {
   "cell_type": "code",
   "execution_count": 15,
   "metadata": {},
   "outputs": [
    {
     "name": "stdin",
     "output_type": "stream",
     "text": [
      "Enter your full name:  Graysen Gould\n"
     ]
    },
    {
     "name": "stdout",
     "output_type": "stream",
     "text": [
      "r r r o s s s n n e n n\n"
     ]
    }
   ],
   "source": [
    "def format_name_from_indices(full_name, indices):\n",
    "    # Extract characters from the specified indices\n",
    "    characters = [full_name[int(index)] for index in indices]\n",
    "    # Join characters with a space between every two characters\n",
    "    formatted_output = ' '.join(characters[i] + ((' ' + characters[i+1]) if i % 2 == 0 else '') for i in range(len(characters)))\n",
    "    return formatted_output\n",
    "\n",
    "# Input your full name\n",
    "full_name = input(\"Enter your full name: \")\n",
    "\n",
    "# R number indices (assuming R number is 8 digits long)\n",
    "r_number = \"11944656\"  # Replace this with your actual R number if different\n",
    "indices = [int(digit) for digit in r_number]\n",
    "\n",
    "# Get the formatted name\n",
    "result = format_name_from_indices(full_name, indices)\n",
    "print(result)\n"
   ]
  },
  {
   "cell_type": "code",
   "execution_count": 25,
   "metadata": {},
   "outputs": [
    {
     "name": "stdin",
     "output_type": "stream",
     "text": [
      "please input your name:  Graysen Gould\n",
      "please input your R number:  11944656\n"
     ]
    },
    {
     "name": "stdout",
     "output_type": "stream",
     "text": [
      "r r o s s n e n\n"
     ]
    }
   ],
   "source": [
    "def get_indices (name, num):\n",
    "    indices = \"\"\n",
    "    for n in str(num):\n",
    "        indices = indices + name[int(n)] + \" \"\n",
    "    return indices[:-1]\n",
    "        \n",
    "\n",
    "name = input(\"please input your name: \")\n",
    "num = int(input(\"please input your R number: \"))\n",
    "\n",
    "indices = get_indices(name, num)\n",
    "\n",
    "print(indices)"
   ]
  },
  {
   "cell_type": "markdown",
   "metadata": {},
   "source": [
    "---"
   ]
  },
  {
   "cell_type": "markdown",
   "metadata": {},
   "source": [
    "### Exercise 8.1 (80 marks)\n",
    "1. Write a Python function to calculate the factorial of a number (a non-negative integer). The function accepts the number as an argument."
   ]
  },
  {
   "cell_type": "code",
   "execution_count": 48,
   "metadata": {},
   "outputs": [
    {
     "name": "stdin",
     "output_type": "stream",
     "text": [
      "please input a positive integer:  5\n"
     ]
    },
    {
     "name": "stdout",
     "output_type": "stream",
     "text": [
      "Your input is: 5\n",
      "The factorial of 5 is 120\n"
     ]
    }
   ],
   "source": [
    "# Ask the user to input a number to compute its factorial and store it in variable 'n'\n",
    "\n",
    "# function to calculate for the factorial of x\n",
    "def get_factorial (x):\n",
    "    factorial = 1\n",
    "    if x == 0: # factorial of 0 is 1\n",
    "        return 1\n",
    "    for i in range(1, x+1):\n",
    "        factorial = factorial*i\n",
    "    return factorial\n",
    "\n",
    "# get a positive integer from the user\n",
    "def get_positive_int ():\n",
    "    while True:\n",
    "        try:\n",
    "            x = input(\"please input a positive integer: \")\n",
    "            x = int(x) #throws an error if not an integer\n",
    "        except:\n",
    "            print(\"Please input an integer!\")\n",
    "        else:\n",
    "            if x >= 0: #make sure number is positive\n",
    "                print(f\"Your input is: {x}\")\n",
    "                return x\n",
    "            else:\n",
    "                print(\"please input a number larger than 0\")\n",
    "                \n",
    "x = get_positive_int()\n",
    "f = get_factorial(x)\n",
    "print(f\"The factorial of {x} is {f}\")"
   ]
  },
  {
   "cell_type": "markdown",
   "metadata": {},
   "source": [
    "2. Write a Python program to convert degrees to radians."
   ]
  },
  {
   "cell_type": "markdown",
   "metadata": {},
   "source": [
    "![](https://www.w3resource.com/w3r_images/python-math-image-exercise-1.svg)"
   ]
  },
  {
   "cell_type": "code",
   "execution_count": 55,
   "metadata": {},
   "outputs": [
    {
     "name": "stdout",
     "output_type": "stream",
     "text": [
      "45 degrees is 0.7854 radians\n"
     ]
    }
   ],
   "source": [
    "import math # use math module to get number for pi\n",
    "\n",
    "def degrees_to_radians (d):\n",
    "    return round(d*math.pi/180,5) #precision of 5 decimal places\n",
    "\n",
    "d = 45 # hard coding number of degrees for simplicity\n",
    "r = degrees_to_radians(d)\n",
    "\n",
    "print(f\"{d} degrees is {r} radians\")\n",
    "    "
   ]
  },
  {
   "cell_type": "markdown",
   "metadata": {},
   "source": [
    "3. Write a Python program to calculate the area of a trapezoid. <br>\n",
    "Note : A trapezoid is a quadrilateral with two sides parallel. The trapezoid is equivalent to the British definition of the trapezium. An isosceles trapezoid is a trapezoid in which the base angles are equal so."
   ]
  },
  {
   "cell_type": "code",
   "execution_count": 58,
   "metadata": {},
   "outputs": [
    {
     "name": "stdin",
     "output_type": "stream",
     "text": [
      "please input the length of the base of the trapezoid:  1\n",
      "please input the length of the top of the trapezoid:  2\n",
      "please input the height of the trapezoid:  3\n"
     ]
    },
    {
     "name": "stdout",
     "output_type": "stream",
     "text": [
      "the area of a trapezoid with bases of length 1 and 2, and a height of 3 is 4.5 units squared\n"
     ]
    }
   ],
   "source": [
    "#calculate area\n",
    "def trap_area (a, b, h):\n",
    "    return h*(a+b) / 2\n",
    "\n",
    "# take measurements as inputs\n",
    "a = int(input(\"please input the length of the base of the trapezoid: \"))\n",
    "b = int(input(\"please input the length of the top of the trapezoid: \"))\n",
    "h = int(input(\"please input the height of the trapezoid: \"))\n",
    "\n",
    "area = trap_area(a,b,h)\n",
    "\n",
    "print(f\"the area of a trapezoid with bases of length {a} and {b}, and a height of {h} is {area} units squared\") \n"
   ]
  },
  {
   "cell_type": "markdown",
   "metadata": {},
   "source": [
    "4. Write a Python program to calculate the surface volume and area of a sphere.\n",
    "Note: A sphere is a perfectly round geometrical object in three-dimensional space that is the surface of a completely round ball."
   ]
  },
  {
   "cell_type": "markdown",
   "metadata": {},
   "source": [
    "![](https://www.w3resource.com/w3r_images/python-volume-sphere-math-exercise-6.png)\n",
    "![](https://www.w3resource.com/w3r_images/python-area-sphere-math-exercise-6.png)"
   ]
  },
  {
   "cell_type": "code",
   "execution_count": 63,
   "metadata": {},
   "outputs": [
    {
     "name": "stdin",
     "output_type": "stream",
     "text": [
      "Please input the raduius of the sphere:  2\n"
     ]
    },
    {
     "name": "stdout",
     "output_type": "stream",
     "text": [
      "A sphere with radius 2 has a volume of 33.5103 units cubed and a surface area of 50.2655 units squared\n"
     ]
    }
   ],
   "source": [
    "import math # get accurate value of pi\n",
    "\n",
    "#calculate volume of sphere\n",
    "def sphere_volume(r):\n",
    "    vol = 4*(math.pi * r**3) / 3\n",
    "    return round(vol, 4) # report to 4 decimal places\n",
    "\n",
    "# calculate the surface area of a sphere\n",
    "def sphere_sa (r):\n",
    "    sa = 4*(math.pi*r**2)\n",
    "    return round(sa, 4)\n",
    "\n",
    "r = int(input(\"Please input the raduius of the sphere: \"))\n",
    "vol = sphere_volume(r)\n",
    "sa = sphere_sa(r)\n",
    "print(f\"A sphere with radius {r} has a volume of {vol} units cubed and a surface area of {sa} units squared\")"
   ]
  },
  {
   "cell_type": "markdown",
   "metadata": {},
   "source": [
    "5. Write a Python program to calculate the distance between two points using latitude and longitude."
   ]
  },
  {
   "cell_type": "code",
   "execution_count": 120,
   "metadata": {},
   "outputs": [
    {
     "name": "stdout",
     "output_type": "stream",
     "text": [
      "the distances between these points is 817.43 mi or 1315.51 km\n"
     ]
    }
   ],
   "source": [
    "# It seems that we have to use circular geometry to do this problem?\n",
    "#distance in km =acos(sin(lat1)*sin(lat2)+cos(lat1)*cos(lat2)*cos(lon2-lon1))*6371 \n",
    "# source: https://community.fabric.microsoft.com/t5/Desktop/How-to-calculate-lat-long-distance/td-p/1488227\n",
    "import math\n",
    "\n",
    "def get_distance (lat1, long1, lat2, long2):\n",
    "    \n",
    "    # Math functions in python need radians as input, not degrees\n",
    "    lat1 = math.radians(lat1)\n",
    "    lat2 = math.radians(lat2)\n",
    "    long1 = math.radians(long1)\n",
    "    long2 = math.radians(long2)\n",
    "\n",
    "    #calculate distance in miles\n",
    "    dist_mi = math.acos(math.sin(lat1)*math.sin(lat2)\n",
    "                     + math.cos(lat1)*math.cos(lat2)*\n",
    "                     math.cos(long2 - long1)) * 3958.8 # earths radius in miles\n",
    "\n",
    "    #calculate distance in km\n",
    "    dist_km = math.acos(math.sin(lat1)*math.sin(lat2)\n",
    "                     + math.cos(lat1)*math.cos(lat2)*\n",
    "                     math.cos(long2 - long1)) *  6371 # earths radius in kilometers\n",
    "    \n",
    "    distances = {\"miles\": round(dist_mi,2), \"km\": round(dist_km, 2)}\n",
    "    # Reporting distances to two decimal places\n",
    "\n",
    "    return distances\n",
    "\n",
    "lat1 = 52.2296756\n",
    "long1 = 21.0122287\n",
    "lat2 = 41.8919300\n",
    "long2 = 12.5113300\n",
    "\n",
    "dist = get_distance(lat1, long1, lat2, long2)\n",
    "\n",
    "print(f\"the distances between these points is {dist[\"miles\"]} mi or {dist[\"km\"]} km\")\n"
   ]
  },
  {
   "cell_type": "markdown",
   "metadata": {},
   "source": [
    "6. Write a Python program to find the roots of a quadratic function."
   ]
  },
  {
   "cell_type": "code",
   "execution_count": 129,
   "metadata": {},
   "outputs": [
    {
     "name": "stdout",
     "output_type": "stream",
     "text": [
      "Please get your quadratic equation in the general format: ax^2 + bx + c = 0\n"
     ]
    },
    {
     "name": "stdin",
     "output_type": "stream",
     "text": [
      "Please input a:  1\n",
      "Please input b:  0\n",
      "Please input c:  -4\n"
     ]
    },
    {
     "name": "stdout",
     "output_type": "stream",
     "text": [
      "the roots of the equation 1x^2 + 0x + -4 = 0 are -2.0 and 2.0\n"
     ]
    }
   ],
   "source": [
    "\n",
    "def get_roots (a, b, c):\n",
    "    determinate = b**2 - 4*a*c\n",
    "    if (determinate) >= 0:\n",
    "        root1 = (-b -(determinate)**0.5) / (2*a)\n",
    "        root2 = (-b +(determinate)**0.5) / (2*a)\n",
    "        return root1, root2\n",
    "    else:\n",
    "        return None\n",
    "\n",
    "print(\"Please get your quadratic equation in the general format: ax^2 + bx + c = 0\")\n",
    "a = int(input(\"Please input a: \"))\n",
    "b = int(input(\"Please input b: \"))\n",
    "c = int(input(\"Please input c: \"))\n",
    "\n",
    "roots = get_roots(a, b, c)\n",
    "\n",
    "if roots and roots[0] != roots[1]:\n",
    "    print(f\"the roots of the equation {a}x^2 + {b}x + {c} = 0 are {roots[0]} and {roots[1]}\")\n",
    "elif roots and roots[0] == roots[1]:\n",
    "    print(f\"Your equation {a}x^2 + {b}x + {c} = 0 has one root at {roots[0]}\")\n",
    "else:\n",
    "    print(\"Your equation has no roots, as it does not cross the x axis\")"
   ]
  },
  {
   "cell_type": "markdown",
   "metadata": {},
   "source": [
    "7. Write a program in which a user can guess a secret number. The program has a secret number saved in a variable. The user is repeatedly asked to guess the number, and the program will tell if the number is higher, lower, or equal to the secret number. If they are equal, then the game ends and player wins. If the number of attempts exceeds 10, the player loses and the game ends."
   ]
  },
  {
   "cell_type": "code",
   "execution_count": 87,
   "metadata": {},
   "outputs": [
    {
     "name": "stdout",
     "output_type": "stream",
     "text": [
      "A random integer has been generated between 0 and 100\n"
     ]
    },
    {
     "name": "stdin",
     "output_type": "stream",
     "text": [
      "Please guess the secret number:  50\n"
     ]
    },
    {
     "name": "stdout",
     "output_type": "stream",
     "text": [
      "Your guess is too low!\n"
     ]
    },
    {
     "name": "stdin",
     "output_type": "stream",
     "text": [
      "Please guess the secret number:  75\n"
     ]
    },
    {
     "name": "stdout",
     "output_type": "stream",
     "text": [
      "Your Guess is too high!\n"
     ]
    },
    {
     "name": "stdin",
     "output_type": "stream",
     "text": [
      "Please guess the secret number:  60\n"
     ]
    },
    {
     "name": "stdout",
     "output_type": "stream",
     "text": [
      "Your Guess is too high!\n"
     ]
    },
    {
     "name": "stdin",
     "output_type": "stream",
     "text": [
      "Please guess the secret number:  55\n"
     ]
    },
    {
     "name": "stdout",
     "output_type": "stream",
     "text": [
      "Your guess is too low!\n"
     ]
    },
    {
     "name": "stdin",
     "output_type": "stream",
     "text": [
      "Please guess the secret number:  57\n"
     ]
    },
    {
     "name": "stdout",
     "output_type": "stream",
     "text": [
      "Your Guess is too high!\n"
     ]
    },
    {
     "name": "stdin",
     "output_type": "stream",
     "text": [
      "Please guess the secret number:  56\n"
     ]
    },
    {
     "name": "stdout",
     "output_type": "stream",
     "text": [
      "You Guessed it right! The secret number is 56\n"
     ]
    }
   ],
   "source": [
    "import random\n",
    "low = 0\n",
    "high = 100\n",
    "secret_num = random.randint(low, high)\n",
    "guess = None\n",
    "\n",
    "print(f\"A random integer has been generated between {low} and {high}\")\n",
    "\n",
    "while guess != secret_num:\n",
    "    guess = int(input(\"Please guess the secret number: \"))\n",
    "    if guess > secret_num:\n",
    "        print(\"Your Guess is too high!\")\n",
    "    elif guess < secret_num:\n",
    "        print(\"Your guess is too low!\")\n",
    "        \n",
    "print(f\"You Guessed it right! The secret number is {secret_num}\")"
   ]
  },
  {
   "cell_type": "markdown",
   "metadata": {},
   "source": [
    "8. Run the following cell to create a list of random integers (You should provide the inputs as prompted). The use the next 2 cells to write your code. You should create (define) a function \n",
    "that will take one argument, which is supposed to be a list. Then, perform the following tasks within the function:\n",
    "- Count the number of unique elements in the list and print it.\n",
    "- Count how many times each of the unique element appear in the list. \n",
    "\n",
    "    The function should return a dictionary: the keys should be made of the unique elements, and an integer under the keys for the occurances of the unique element in the key. You should use print function with appropriate message to display the functions output.\n"
   ]
  },
  {
   "cell_type": "code",
   "execution_count": 88,
   "metadata": {},
   "outputs": [
    {
     "name": "stdin",
     "output_type": "stream",
     "text": [
      "First 2 digits of your R number: 11\n",
      "Last 3 digits of your R number: 656\n"
     ]
    },
    {
     "name": "stdout",
     "output_type": "stream",
     "text": [
      "\n",
      "\n",
      " The list you have is:  [636, 111, 106, 557, 556, 77, 490, 448, 260, 622, 62, 49, 522, 529, 238, 605, 287, 170, 606, 635, 221, 543, 530, 43, 192, 146, 509, 323, 386, 287, 200, 138, 200, 592, 560, 270, 310, 244, 650, 357, 198, 574, 278, 643, 332, 156, 512, 300, 310, 615, 281, 241, 11, 33, 330, 499, 519, 559, 605, 417, 90, 144, 580, 84, 425, 221, 96, 545, 226, 155, 620, 620, 216, 412, 426, 637, 273, 239, 495, 137, 205, 277, 136, 501, 371, 487, 408, 447, 123, 260, 16, 398, 116, 653, 201, 626, 342, 32, 328, 228]\n"
     ]
    }
   ],
   "source": [
    "#just run this cell to generate your list of random integers\n",
    "import numpy as np\n",
    "lo=int(float(input(\"First 2 digits of your R number:\")))\n",
    "hi=int(float(input(\"Last 3 digits of your R number:\")))\n",
    "thelist=list(np.random.randint(lo,hi,100)) \n",
    "print(\"\\n\\n The list you have is: \",thelist)"
   ]
  },
  {
   "cell_type": "code",
   "execution_count": 104,
   "metadata": {},
   "outputs": [],
   "source": [
    "## define your function in this cell\n",
    "def rand_fun (thelist):\n",
    "    \n",
    "    unique_dict = dict()\n",
    "    unique_set = set(thelist) # get unique items with a set\n",
    "    unique_count = len(unique_set) #get number of unique items\n",
    "    \n",
    "    print(f\"There are {unique_count} unique numbers in this list\")\n",
    "    for u in unique_set:\n",
    "        unique_dict[u] = thelist.count(u) #unique numbers are keys in list, the count in the list are the values\n",
    "    return unique_dict"
   ]
  },
  {
   "cell_type": "code",
   "execution_count": 105,
   "metadata": {},
   "outputs": [
    {
     "name": "stdout",
     "output_type": "stream",
     "text": [
      "There are 93 unique numbers in this list\n",
      "here are the all the unique numbers with the count of how many times they appear in the list: \n",
      "{512: 1, 519: 1, 522: 1, 11: 1, 16: 1, 529: 1, 530: 1, 543: 1, 32: 1, 33: 1, 545: 1, 43: 1, 556: 1, 557: 1, 559: 1, 560: 1, 49: 1, 62: 1, 574: 1, 580: 1, 77: 1, 592: 1, 84: 1, 90: 1, 605: 2, 606: 1, 96: 1, 615: 1, 106: 1, 620: 2, 622: 1, 111: 1, 626: 1, 116: 1, 635: 1, 636: 1, 637: 1, 123: 1, 643: 1, 136: 1, 137: 1, 138: 1, 650: 1, 653: 1, 144: 1, 146: 1, 155: 1, 156: 1, 170: 1, 192: 1, 198: 1, 200: 2, 201: 1, 205: 1, 216: 1, 221: 2, 226: 1, 228: 1, 238: 1, 239: 1, 241: 1, 244: 1, 260: 2, 270: 1, 273: 1, 277: 1, 278: 1, 281: 1, 287: 2, 300: 1, 310: 2, 323: 1, 328: 1, 330: 1, 332: 1, 342: 1, 357: 1, 371: 1, 386: 1, 398: 1, 408: 1, 412: 1, 417: 1, 425: 1, 426: 1, 447: 1, 448: 1, 487: 1, 490: 1, 495: 1, 499: 1, 501: 1, 509: 1}\n"
     ]
    }
   ],
   "source": [
    "## call the function providing thelist as argument, \n",
    "## and print the returns from the function\n",
    "\n",
    "unique_dict = rand_fun(thelist)\n",
    "print(f\"here are the all the unique numbers with the count of how many times they appear in the list: \\n{unique_dict}\")"
   ]
  },
  {
   "cell_type": "markdown",
   "metadata": {},
   "source": [
    "---\n",
    "## Lab Exercise 8.2 (20 marks)\n",
    "Ensure you entered your full name and R Number in the top cell<br>\n",
    "Convert to PDF and submit both PDF and IPYNB"
   ]
  },
  {
   "cell_type": "markdown",
   "metadata": {},
   "source": [
    "___\n",
    "![](https://media2.giphy.com/media/5nj4ZZWl6QwneEaBX4/source.gif) <br>\n",
    "\n",
    "\n",
    "*Here are some great reads on this topic:* \n",
    "- __\"Functions in Python\"__ available at *https://www.geeksforgeeks.org/functions-in-python/<br>\n",
    "- __\"Defining Your Own Python Function\"__ by __John Sturtz__ available at *https://realpython.com/defining-your-own-python-function/ <br>\n",
    "- __\"Graph Plotting in Python | Set 1\"__ available at *https://www.geeksforgeeks.org/graph-plotting-in-python-set-1/ <br>\n",
    "- __\"Python Plotting With Matplotlib (Guide)\"__ by __Brad Solomon__ available at *https://realpython.com/python-matplotlib-guide/ <br>\n",
    "\n",
    "*Here are some great videos on these topics:* \n",
    "- __\"How To Use Functions In Python (Python Tutorial #3)\"__ by __CS Dojo__ available at *https://www.youtube.com/watch?v=NSbOtYzIQI0 <br>\n",
    "- __\"Python Tutorial for Beginners 8: Functions\"__ by __Corey Schafer__ available at *https://www.youtube.com/watch?v=9Os0o3wzS_I <br>\n",
    "- __\"Python 3 Programming Tutorial - Functions\"__ by __sentdex__ available at *https://www.youtube.com/watch?v=owglNL1KQf0 <br><br>"
   ]
  },
  {
   "cell_type": "code",
   "execution_count": null,
   "metadata": {},
   "outputs": [],
   "source": []
  }
 ],
 "metadata": {
  "kernelspec": {
   "display_name": "Python 3 (ipykernel)",
   "language": "python",
   "name": "python3"
  },
  "language_info": {
   "codemirror_mode": {
    "name": "ipython",
    "version": 3
   },
   "file_extension": ".py",
   "mimetype": "text/x-python",
   "name": "python",
   "nbconvert_exporter": "python",
   "pygments_lexer": "ipython3",
   "version": "3.12.4"
  }
 },
 "nbformat": 4,
 "nbformat_minor": 4
}
