{
 "cells": [
  {
   "cell_type": "markdown",
   "metadata": {},
   "source": [
    "# <font color=darkred>Laboratory 9: Working with Files </font>"
   ]
  },
  {
   "cell_type": "code",
   "execution_count": null,
   "metadata": {},
   "outputs": [],
   "source": [
    "# Preamble script block to identify host, user, and kernel\n",
    "import sys\n",
    "! hostname\n",
    "! whoami\n",
    "print(sys.executable)\n",
    "print(sys.version)\n",
    "print(sys.version_info)"
   ]
  },
  {
   "cell_type": "markdown",
   "metadata": {},
   "source": [
    "## Full name: \n",
    "## R#: \n",
    "## Title of the notebook:\n",
    "## Date:\n",
    "___"
   ]
  },
  {
   "cell_type": "markdown",
   "metadata": {},
   "source": [
    "![](https://www.winzip.com/static/wz/images/learn/features/archive-file/archive-file.png) <br>\n",
    "\n",
    "\n",
    "### <font color=purple>Background</font>\n",
    "\n",
    "A computer file is a computer resource for recording data discretely (not in the secretive context, but specifically somewhere on a piece of hardware) in a computer storage device. Just as words can be written to paper, so can information be written to a computer file. Files can be edited and transferred through the internet on that particular computer system.\n",
    "\n",
    "There are different types of computer files, designed for different purposes. A file may be designed to store a picture, a written message, a video, a computer program, or a wide variety of other kinds of data. Some types of files can store several types of information at once.\n",
    "\n",
    "By using computer programs, a person can open, read, change, save, and close a computer file. Computer files may be reopened, modified, and copied an arbitrary number of times.\n",
    "\n",
    "Typically, files are organised in a file system, which keeps track of where the files are located on disk and enables user access. \n",
    "\n",
    "### <font color=purple>File system</font>\n",
    "\n",
    "In computing, a file system or filesystem, controls how data is stored and retrieved. \n",
    "Without a file system, data placed in a storage medium would be one large body of data with no way to tell where one piece of data stops and the next begins. \n",
    "By separating the data into pieces and giving each piece a name, the data is isolated and identified. \n",
    "Taking its name from the way paper-based data management system is named, each group of data is called a “file”. \n",
    "The structure and logic rules used to manage the groups of data and their names is called a “file system”.\n",
    "\n",
    "### <font color=purple>Path</font>\n",
    "\n",
    "A path, the general form of the name of a file or directory, specifies a unique location in a file system. A path points to a file system location by following the directory tree hierarchy expressed in a string of characters in which path components, separated by a delimiting character, represent each directory. The delimiting character is most commonly the slash (”/”), the backslash character (”\\”), or colon (”:”), though some operating systems may use a different delimiter.\n",
    "Paths are used extensively in computer science to represent the directory/file relationships common in modern operating systems, and are essential in the construction of Uniform Resource Locators (URLs). Resources can be represented by either absolute or relative paths.\n",
    "As an example consider the following two files:\n",
    "\n",
    "1. /Users/Afam/Downloads/ENGR1330_Syllabus_Fall2024.pdf     (Mac and Linux)\n",
    "2. c:\\Users\\Afam\\Downloads\\ENGR1330_Syllabus_Fall2024.pdf    (Windows)\n",
    "\n",
    "They both have the same file name, but are located on different paths. \n",
    "Failure to provide the path when addressing the file can be a problem. \n",
    "Another way to interpret is that the two unique files actually have different names, and only part of those names is common (Guest.conf)\n",
    "The two names above (including the path) are called fully qualified filenames (or absolute names), a relative path (usually relative to the file or program of interest depends on where in the directory structure the file lives. \n",
    "If we are currently in the .git directory (the first file) the path to the file is just the filename.\n",
    "\n",
    "### <font color=purple>File Manipulation</font>\n",
    "\n",
    " Files can be \"created\",\"read\",\"updated\", or \"deleted\" (CRUD). <br>\n",
    " You need to select the location when you files will be created and you can use the OS Library. <br>\n",
    " To Check your current working directory you use **os.getcwd()** or **%pwd**<br>\n",
    " To change your current working directory you use **os.chdir()**<br>\n",
    "\n",
    "\n",
    "### <font color=purple>File Types</font>\n",
    "There are numerous file types used in the digital world, each designed for specific purposes. To determine the exact file type you are working with, you can check the file extension, which is typically found at the end of the file name. The extension usually consists of a few letters following a dot (e.g., .docx, .jpg, .pdf) and helps identify the file's format and associated software. Understanding file extensions is essential, as it allows you to select the appropriate software to open, edit, or share the file. In this course, we will consider some of the relevant file types to be successful in a programing environment. \n",
    "\n",
    "1. Text Files. Text files are regular files that contain information readable by the user. This information is stored in ASCII. You can display and print these files. The lines of a text file must not contain NULL characters, and none can exceed a prescribed (by architecture) length, including the new-line character.  The term text file does not prevent the inclusion of control or other nonprintable characters (other than NUL). Therefore, standard utilities that list text files as inputs or outputs are either able to process the special characters gracefully or they explicitly describe their limitations within their individual sections.\n",
    "\n",
    "2. Binary Files. Binary files are regular files that contain information readable by the computer. Binary files may be executable files that instruct the system to accomplish a job. Commands and programs are stored in executable, binary files. Special compiling programs translate ASCII text into binary code.  The only difference between text and binary files is that text files have lines of less than some length, with no NULL characters, each terminated by a new-line character.\n",
    "\n",
    "3. Directory Files. Directory files contain information the system needs to access all types of files, but they do not contain the actual file data. As a result, directories occupy less space than a regular file and give the file system structure flexibility and depth. Each directory entry represents either a file or a subdirectory. Each entry contains the name of the file and the file's index node reference number (i-node). The i-node points to the unique index node assigned to the file. The i-node describes the location of the data associated with the file. Directories are created and controlled by a separate set of commands.\n",
    "\n",
    "4. CSV or TSV Files\n",
    "There are many scientific data are stored in the comma-separated values (CSV) file format or Tab-seperated Values. CSV files use a delimited text file that uses a comma to separate values and TSV uses tabs. It is a very useful format that can store large tables of data (numbers and text) in plain text. Each line (row) in the data is one data record, and each record consists of one or more fields, separated by commas. It also can be opened using Microsoft Excel, and visualize the rows and columns. Python has its own csv module that could handle the reading and writing of the csv file, you can see the details in the documentation. But we are not going to introduce this csv module here. Instead, we will use the numpy package to deal with the csv file since many times we will read csv file directly to a numpy array or pandas Dataframes.\n",
    "\n",
    "5. JSON Files\n",
    "JSON is another format we are going to introduce. It stands for JavaScript Object Notation. A JSON file usually ends with extension “.json”. Unlike pickle, which is Python dependent, JSON is a language-independent data format, which makes it attractive to use. Besides, it is usually takes less space on the disk and the manipulation is faster than pickle (if you are interested, search online to find more materials about it). Therefore, it is a good option to store your data using JSON. In this section, we will briefly explore how to handle JSON files in Python."
   ]
  },
  {
   "cell_type": "markdown",
   "metadata": {},
   "source": [
    "___\n",
    "### Examples\n",
    "___\n",
    "#### Directory/ Folder locations "
   ]
  },
  {
   "cell_type": "code",
   "execution_count": 1,
   "metadata": {},
   "outputs": [
    {
     "data": {
      "text/plain": [
       "'D:\\\\ENGR 1330\\\\Labs\\\\OneDrive_1_10-2-2024\\\\Lab009'"
      ]
     },
     "execution_count": 1,
     "metadata": {},
     "output_type": "execute_result"
    }
   ],
   "source": [
    "import os\n",
    "#To get your current working directory\n",
    "os.getcwd() "
   ]
  },
  {
   "cell_type": "code",
   "execution_count": 2,
   "metadata": {},
   "outputs": [
    {
     "data": {
      "text/plain": [
       "'D:\\\\ENGR 1330\\\\Labs\\\\OneDrive_1_10-2-2024\\\\Lab009'"
      ]
     },
     "execution_count": 2,
     "metadata": {},
     "output_type": "execute_result"
    }
   ],
   "source": [
    "#To get your current working directory\n",
    "%pwd  # list name of working directory, note it includes path, so it is an absolute path"
   ]
  },
  {
   "cell_type": "code",
   "execution_count": 7,
   "metadata": {},
   "outputs": [
    {
     "data": {
      "text/plain": [
       "['.ipynb_checkpoints',\n",
       " 'OneDrive_1_10-2-2024',\n",
       " 'OneDrive_1_10-2-2024.zip',\n",
       " 'OneDrive_1_5-29-2024',\n",
       " 'OneDrive_1_5-29-2024.zip',\n",
       " 'OneDrive_1_5-29-2024_new',\n",
       " 'OneDrive_2024-08-24',\n",
       " 'OneDrive_2024-08-24.zip',\n",
       " 'Section 1',\n",
       " 'Section 2',\n",
       " 'Week 1',\n",
       " 'Week 4',\n",
       " 'Week 5',\n",
       " 'Week3']"
      ]
     },
     "execution_count": 7,
     "metadata": {},
     "output_type": "execute_result"
    }
   ],
   "source": [
    "os.listdir()"
   ]
  },
  {
   "cell_type": "markdown",
   "metadata": {},
   "source": [
    "### Exercise 9.1  (20 marks)\n",
    "1. Change your current working directory to your systems default **documents** directory. "
   ]
  },
  {
   "cell_type": "code",
   "execution_count": null,
   "metadata": {},
   "outputs": [],
   "source": []
  },
  {
   "cell_type": "markdown",
   "metadata": {},
   "source": [
    "2. Check your current working directory"
   ]
  },
  {
   "cell_type": "code",
   "execution_count": null,
   "metadata": {},
   "outputs": [],
   "source": []
  },
  {
   "cell_type": "markdown",
   "metadata": {},
   "source": [
    "3. Change your current working directory back to the first directory where this IPYNB file is saved. "
   ]
  },
  {
   "cell_type": "code",
   "execution_count": null,
   "metadata": {},
   "outputs": [],
   "source": []
  },
  {
   "cell_type": "markdown",
   "metadata": {},
   "source": [
    "4. List all files in your directory"
   ]
  },
  {
   "cell_type": "code",
   "execution_count": null,
   "metadata": {},
   "outputs": [],
   "source": []
  },
  {
   "cell_type": "markdown",
   "metadata": {},
   "source": [
    "### <font color=purple> TXT Files</font>\n",
    "\n",
    "So far, we used print function to display the data to the screen. But there are many ways to store data onto your disk and share it with other program or colleagues. For example, if I have some strings in this notebook, but I want to use them in another notebook, the easiest way is to store the strings into a text file, and then open it in another notebook. A text file, many times with an extension .txt, is a file containing only plain text. However, programs you write and programs that read your text file will usually expect the text file to be in a certain format; that is, organized in a specific way. <br>\n",
    "\n",
    "To work with text files, we need to use open function which returns a file object. It is commonly used with two arguments:<br>\n",
    "> ***f = open(filename, mode)*** <br>\n",
    "\n",
    "The open() function takes two parameters; filename, and mode.<br>\n",
    "\n",
    "There are four different methods (modes) for opening a file:<br>\n",
    "\n",
    "\"r\" - Read - Default value. Opens a file for reading, error if the file does not exist<br>\n",
    "\n",
    "\"a\" - Append - Opens a file for appending, creates the file if it does not exist<br>\n",
    "\n",
    "\"w\" - Write - Opens a file for writing, creates the file if it does not exist<br>\n",
    "\n",
    "\"x\" - Create - Creates the specified file, returns an error if the file exists<br>\n",
    "\n",
    "In addition you can specify if the file should be handled as binary or text mode<br>\n",
    "\n",
    "\"t\" - Text - Default value. Text mode<br>\n",
    "\n",
    "\"b\" - Binary - Binary mode (e.g. images) <br>\n",
    "\n",
    "\"r+\", open a file (do not create) for reading and writing.<br>\n",
    "\n",
    "\"w+\", open or create a file for writing and reading, discard existing contents.<br>\n",
    "\n",
    "\"a+\", open or create file for reading and writing, and append data to end of file.<br>\n",
    "\n",
    "**Delete a file**\n",
    "\n",
    "Delete can be done by a system call as we did above to clear the local directory<br>\n",
    "\n",
    "In a JupyterLab notebook, we can either use<br>\n",
    "\n",
    "    import os\n",
    "    os.remove(\"myfirstfile.txt\")\n",
    "\n",
    "\n",
    "or <br>\n",
    "\n",
    "    import sys\n",
    "    ! del  myfirstfile.txt  # delete file if it exists, Use rm -f on Mac\n",
    "\n",
    "they both have same effect, both equally dangerous to your filesystem."
   ]
  },
  {
   "cell_type": "markdown",
   "metadata": {},
   "source": [
    "___\n",
    "### Example 1 - we create a file, then append to the file, read the contents and the delete it\n"
   ]
  },
  {
   "cell_type": "code",
   "execution_count": 34,
   "metadata": {
    "tags": []
   },
   "outputs": [],
   "source": [
    "# create file example, hence open with 'w'\n",
    "externalfile = open(\"myfirstfile.txt\",'w') # create connection to file, set to write (w), file does not need to exist\n",
    "mymessage = 'message in a bottle\\n' #some object to write, in this case a string\n",
    "externalfile.write(mymessage)# write the contents of mymessage to the file\n",
    "mymessage2 = 'More message in a bottle\\t second line\\n' #some object to write, in this case a string\n",
    "externalfile.write(mymessage2)# write the contents of mymessage to the file\n",
    "mymessage3 = 'More message in a bottle\\t third line' #some object to write, in this case a string\n",
    "externalfile.write(mymessage3)# write the contents of mymessage to the file\n",
    "externalfile.close() # close the file connection"
   ]
  },
  {
   "cell_type": "code",
   "execution_count": 36,
   "metadata": {},
   "outputs": [],
   "source": [
    "# We append to the file with 'a'. you can check where you save the file to see the changes.\n",
    "externalfile = open(\"myfirstfile.txt\",'a') # create connection to file, set to append (a), file does not need to exist\n",
    "externalfile.write('\\n') # adds a newline character\n",
    "what_to_add = 'I love rock-and-roll, put another dime in the jukebox baby ... \\n' \n",
    "externalfile.write(what_to_add) # add a string including the linefeed\n",
    "what_to_add = '... the waiting is the hardest part \\n' \n",
    "externalfile.write(what_to_add) # add a string including the linefeed\n",
    "mylist = [1,2,3,4,5] # a list of numbers\n",
    "what_to_add = ','.join(map(repr, mylist)) + \"\\n\" # one way to write the list\n",
    "externalfile.write(what_to_add)\n",
    "what_to_add = ','.join(map(repr, mylist[0:len(mylist)])) + \"\\n\" # another way to write the list\n",
    "externalfile.write(what_to_add)\n",
    "externalfile.close()"
   ]
  },
  {
   "cell_type": "code",
   "execution_count": 38,
   "metadata": {
    "collapsed": false,
    "jupyter": {
     "outputs_hidden": false
    }
   },
   "outputs": [
    {
     "name": "stdout",
     "output_type": "stream",
     "text": [
      "message in a bottle\n",
      "More message in a bottle\t second line\n",
      "More message in a bottle\t third line\n",
      "I love rock-and-roll, put another dime in the jukebox baby ... \n",
      "... the waiting is the hardest part \n",
      "1,2,3,4,5\n",
      "1,2,3,4,5\n",
      "\n"
     ]
    }
   ],
   "source": [
    "# we then read file using 'r'\n",
    "externalfile = open(\"myfirstfile.txt\",'r') # create connection to file, set to read (r), file must exist\n",
    "silly_string = externalfile.read() # read the entire contents\n",
    "externalfile.close() # close the file connection\n",
    "print(silly_string)"
   ]
  },
  {
   "cell_type": "code",
   "execution_count": 40,
   "metadata": {
    "collapsed": false,
    "jupyter": {
     "outputs_hidden": false
    }
   },
   "outputs": [
    {
     "name": "stdout",
     "output_type": "stream",
     "text": [
      "myfirstfile.txt  missing or deleted !\n"
     ]
    }
   ],
   "source": [
    "# import os\n",
    "file2kill = \"myfirstfile.txt\"\n",
    "try:\n",
    "    os.remove(file2kill) # file must exist or will generate an exception\n",
    "except:\n",
    "    pass # example of using pass to improve readability\n",
    "print(file2kill, \" missing or deleted !\")"
   ]
  },
  {
   "cell_type": "markdown",
   "metadata": {},
   "source": [
    "### Exercise 9.2 (20 marks)\n",
    "1. Write a Python program that creates a text file named **File1.txt**. The program should generate and write 100 lines of text into the file. Each line should follow the format: **This is line Number X**, where X is the line number, starting from 0 and ending at 99. After writing all 100 lines, the program should properly close the file to ensure that all data is saved. Finally print a confirmation message that indicates the writing process has been completed successfully.\n"
   ]
  },
  {
   "cell_type": "code",
   "execution_count": null,
   "metadata": {},
   "outputs": [],
   "source": []
  },
  {
   "cell_type": "markdown",
   "metadata": {},
   "source": [
    "2. Read the entire Content of the file and store in a variable called **Lines_Read**"
   ]
  },
  {
   "cell_type": "code",
   "execution_count": null,
   "metadata": {},
   "outputs": [],
   "source": []
  },
  {
   "cell_type": "markdown",
   "metadata": {},
   "source": [
    "3. Using append, create a file with **your name** (i.e for Afam -> Afam.txt), write the contents ot the variable **Lines_Read** and also append this line to the end of the file **This is line Number 100**"
   ]
  },
  {
   "cell_type": "code",
   "execution_count": null,
   "metadata": {
    "tags": []
   },
   "outputs": [],
   "source": []
  },
  {
   "cell_type": "markdown",
   "metadata": {},
   "source": [
    "4. Delete **File1.txt** and **File3.txt** and print confimation message if found and deleted else state not found"
   ]
  },
  {
   "cell_type": "code",
   "execution_count": null,
   "metadata": {},
   "outputs": [],
   "source": []
  },
  {
   "cell_type": "code",
   "execution_count": null,
   "metadata": {},
   "outputs": [],
   "source": []
  },
  {
   "cell_type": "markdown",
   "metadata": {},
   "source": [
    "5. Read the text file with **your First Name** (i.e for Afam -> Afam.txt) and print the line 1 to line 6"
   ]
  },
  {
   "cell_type": "code",
   "execution_count": null,
   "metadata": {},
   "outputs": [],
   "source": []
  },
  {
   "cell_type": "markdown",
   "metadata": {},
   "source": [
    "___\n",
    "### <font color=purple> CSV or TSV Files</font>\n",
    "CSV (Comma-Separated Values) files are widely used for storing tabular data, which is data organized in rows and columns, similar to what you would see in a spreadsheet or database table. Each row in a CSV file typically represents a single record, and each column represents a specific attribute or field of that record. The simplicity of CSV files makes them an ideal format for storing and exchanging data between different applications, especially in cases where the data is structured but doesn't require the complexity of a database. CSV files are plain text, making them easy to create, read, and modify using various software tools like spreadsheet programs (e.g., Excel), text editors, or programming languages like Python.\n",
    "when we create a csv file, We can open the csv file using Microsoft Excel.\n",
    "![](https://pythonnumericalmethods.studentorg.berkeley.edu/_images/11.02.01-Write_csv.png)\n",
    "We can also open the csv file using a text editor, we could see the values are separated by the commas.\n",
    "![](https://pythonnumericalmethods.studentorg.berkeley.edu/_images/11.02.02-Open_csv_text.png)\n",
    "### Example 2 - we create a csv file using numpy and read its contents"
   ]
  },
  {
   "cell_type": "code",
   "execution_count": 10,
   "metadata": {},
   "outputs": [],
   "source": [
    "#Creating a csv file by generating 100 rows and 5 columns of data \n",
    "import numpy as np\n",
    "data = np.random.random((100,5))\n",
    "np.savetxt('test.csv', data, fmt = '%.2f', delimiter=',', header = 'c1, c2, c3, c4, c5')"
   ]
  },
  {
   "cell_type": "code",
   "execution_count": 12,
   "metadata": {},
   "outputs": [
    {
     "data": {
      "text/plain": [
       "array([[0.19, 0.25, 0.15, 0.18, 0.45],\n",
       "       [0.48, 0.2 , 0.77, 0.78, 0.1 ],\n",
       "       [0.66, 0.13, 0.91, 0.29, 0.18],\n",
       "       [0.46, 0.65, 0.25, 0.06, 0.31],\n",
       "       [0.05, 0.92, 0.14, 0.23, 0.84]])"
      ]
     },
     "execution_count": 12,
     "metadata": {},
     "output_type": "execute_result"
    }
   ],
   "source": [
    "#Reading the CSV file created\n",
    "my_csv = np.loadtxt('test.csv', delimiter=',')\n",
    "my_csv[:5, :]"
   ]
  },
  {
   "cell_type": "code",
   "execution_count": 17,
   "metadata": {},
   "outputs": [
    {
     "data": {
      "text/plain": [
       "array([[0.57, 0.22, 0.14, 0.84, 0.54],\n",
       "       [0.39, 0.51, 0.09, 0.56, 0.52],\n",
       "       [0.34, 0.45, 0.21, 0.05, 0.38],\n",
       "       [0.91, 0.89, 0.66, 0.2 , 0.97],\n",
       "       [0.41, 0.24, 0.65, 0.39, 0.17]])"
      ]
     },
     "execution_count": 17,
     "metadata": {},
     "output_type": "execute_result"
    }
   ],
   "source": [
    "#Example of changing directory and then saving an loading the file from there\n",
    "os.chdir('D:\\\\ENGR 1330\\\\Labs') \n",
    "np.savetxt('test2.csv', data, fmt = '%.2f', delimiter=',', header = 'c1, c2, c3, c4, c5')\n",
    "my_csv2 = np.loadtxt('D:\\\\ENGR 1330\\\\Labs\\\\test2.csv', delimiter=',')\n",
    "my_csv2[:5, :]"
   ]
  },
  {
   "cell_type": "markdown",
   "metadata": {},
   "source": [
    "### Exercise 9.3 (10 marks)"
   ]
  },
  {
   "cell_type": "markdown",
   "metadata": {},
   "source": [
    "1. Read the File named **CSV_ReadingFile.csv** and print first line"
   ]
  },
  {
   "cell_type": "code",
   "execution_count": null,
   "metadata": {},
   "outputs": [],
   "source": []
  },
  {
   "cell_type": "markdown",
   "metadata": {},
   "source": [
    "2. Save the file as a Tab Seperated file with your **First Name** <br>\n",
    " *If name is afam save as Afam.tsv*"
   ]
  },
  {
   "cell_type": "code",
   "execution_count": null,
   "metadata": {},
   "outputs": [],
   "source": []
  },
  {
   "cell_type": "markdown",
   "metadata": {},
   "source": [
    "___\n",
    "### <font color=purple> Binary files using Pickel Files</font>\n",
    "We talked about saving data into text file or csv file. But in certain cases, we want to store dictionaries, tuples, lists, or any other data type to the disk and use them later or send them to some colleagues. This is where pickle comes in, it can serialize objects so that they can be saved into a file and loaded again later. Pickle can be used to serialize Python object structures, which refers to the process of converting an object in the memory to a byte stream that can be stored as a binary file on disk. When we load it back to a Python program, this binary file can be de-serialized back to a Python object.\n",
    "### Example the create a dictionary save it as dict.pkl and read it back to screen"
   ]
  },
  {
   "cell_type": "code",
   "execution_count": 166,
   "metadata": {},
   "outputs": [],
   "source": [
    "#Create a dictionary, and save it to a pickle file on disk\n",
    "import pickle\n",
    "dict_a = {'A':0, 'B':1, 'C':2}\n",
    "pickle.dump(dict_a, open('dict.pkl', 'wb'))"
   ]
  },
  {
   "cell_type": "code",
   "execution_count": 175,
   "metadata": {},
   "outputs": [
    {
     "data": {
      "text/plain": [
       "{'A': 0, 'B': 1, 'C': 2}"
      ]
     },
     "execution_count": 175,
     "metadata": {},
     "output_type": "execute_result"
    }
   ],
   "source": [
    "# reading back our file\n",
    "my_dict = pickle.load(open('dict.pkl', 'rb'))\n",
    "my_dict"
   ]
  },
  {
   "cell_type": "markdown",
   "metadata": {},
   "source": [
    "### Exercise 9.4 (10 marks)\n",
    "1.  Create a **dictionary named after your last name**, it should have keys Rnumber, Gender and any other details you would like to add. Make sure the first values in the dictonary are yours and the store it in the file **pickle file named after your first name.**"
   ]
  },
  {
   "cell_type": "code",
   "execution_count": null,
   "metadata": {},
   "outputs": [],
   "source": []
  },
  {
   "cell_type": "markdown",
   "metadata": {},
   "source": [
    "2. Store the content of your pickle file in a variable **Pickle_File** and print the contents"
   ]
  },
  {
   "cell_type": "code",
   "execution_count": null,
   "metadata": {},
   "outputs": [],
   "source": []
  },
  {
   "cell_type": "markdown",
   "metadata": {},
   "source": [
    "___\n",
    "### <font color=purple>JSON Files</font>\n",
    "JSON format\n",
    "The text in JSON is done through quoted string containing value in key-value pairs within {}. It is actually very similar to the dictionary we saw in Python. To use json to serialize an object, we use the json.dump function, which takes two arguments: the first one is the object, and the second argument is a file object returned by the open function. Note here the mode of the open function is ‘w’ which indicates write file. JSON supports different types, like strings and numbers, as well as nested lists, tuples and objects. <br>\n",
    "\n",
    "For example:\n"
   ]
  },
  {
   "cell_type": "code",
   "execution_count": 223,
   "metadata": {},
   "outputs": [],
   "source": [
    "#To save a dictionary as a JSON file in Python, you can use the `json` module.\n",
    "import json\n",
    "\n",
    "# Define the dictionary\n",
    "school = {\n",
    "    \"school\": \"TTU\",\n",
    "    \"address\": {\n",
    "        \"city\": \"Lubbock\",\n",
    "        \"state\": \"Texas\",\n",
    "        \"ZipCode\": \"79415\"\n",
    "    },\n",
    "    \"list\": [\n",
    "        \"student 1\",\n",
    "        \"student 2\",\n",
    "        \"student 3\"\n",
    "    ],\n",
    "    \"array\": [1, 2, 3]\n",
    "}\n",
    "\n",
    "# Save the dictionary to a JSON file\n",
    "json.dump(school, open('school.json', 'w'))"
   ]
  },
  {
   "cell_type": "code",
   "execution_count": 225,
   "metadata": {},
   "outputs": [
    {
     "data": {
      "text/plain": [
       "{'school': 'TTU',\n",
       " 'address': {'city': 'Lubbock', 'state': 'Texas', 'ZipCode': '79415'},\n",
       " 'list': ['student 1', 'student 2', 'student 3'],\n",
       " 'array': [1, 2, 3]}"
      ]
     },
     "execution_count": 225,
     "metadata": {},
     "output_type": "execute_result"
    }
   ],
   "source": [
    "# Read a JSON file\n",
    "my_school = json.load(open('./school.json', 'r'))\n",
    "my_school"
   ]
  },
  {
   "cell_type": "markdown",
   "metadata": {},
   "source": [
    "### Exercise 9.4 (10 marks)\n",
    "1. Create a dictionary name it personal details, it should have keys **Name**,**Rnumber**,**School**,**Major**,**Address**,**Languages_Spoken** and **Siblings**. Make sure the first values in the dictonary are yours and the store it in a Json file named after your **first name.**"
   ]
  },
  {
   "cell_type": "code",
   "execution_count": 22,
   "metadata": {},
   "outputs": [],
   "source": [
    "import json\n",
    "\n",
    "# Define the dictionary\n",
    "me = {\n",
    "    \"name\":\"Nengi Harry\",\n",
    "    \"Rnumber\" : 1001,\n",
    "    \"school\": \"TTU\",\n",
    "    \"Major\" : \"Computer Science\",\n",
    "    \"address\": {\n",
    "        \"city\": \"Lubbock\",\n",
    "        \"state\": \"Texas\",\n",
    "        \"ZipCode\": \"79415\"\n",
    "    },\n",
    "    \"Languages_Spoken\": [\"English\", \"Pidgin\"],\n",
    "    \"Siblings\": ['Bisi','Bola','Bukki']\n",
    "}\n",
    "\n",
    "# Save the dictionary to a JSON file\n",
    "json.dump(me, open('me.json', 'w'))"
   ]
  },
  {
   "cell_type": "markdown",
   "metadata": {},
   "source": [
    "2. Read the contents of the Json file and print them."
   ]
  },
  {
   "cell_type": "code",
   "execution_count": 23,
   "metadata": {},
   "outputs": [
    {
     "data": {
      "text/plain": [
       "{'name': 'Nengi Harry',\n",
       " 'Rnumber': 1001,\n",
       " 'school': 'TTU',\n",
       " 'Major': 'Computer Science',\n",
       " 'address': {'city': 'Lubbock', 'state': 'Texas', 'ZipCode': '79415'},\n",
       " 'Languages_Spoken': ['English', 'Pidgin'],\n",
       " 'Siblings': ['Bisi', 'Bola', 'Bukki']}"
      ]
     },
     "execution_count": 23,
     "metadata": {},
     "output_type": "execute_result"
    }
   ],
   "source": [
    "# Read a JSON file\n",
    "Me = json.load(open('me.json', 'r'))\n",
    "Me"
   ]
  },
  {
   "cell_type": "markdown",
   "metadata": {},
   "source": [
    "---\n",
    "## Lab Exercise 9.5 (30 marks)\n",
    "Ensure you entered your full name and R Number in the top cell<br>\n",
    "Convert to PDF ans save as Lab009.pdf <br>\n",
    "In a single submission submit:\n",
    "- Lab009.pdf\n",
    "- Lab009.IPYNB\n",
    "- 'first name' txt file\n",
    "- 'first name' tsv file\n",
    "- 'first name' pkl file\n",
    "- 'first name' json file\n",
    "___"
   ]
  },
  {
   "cell_type": "markdown",
   "metadata": {},
   "source": [
    "___\n",
    "![](https://media2.giphy.com/media/5nj4ZZWl6QwneEaBX4/source.gif) <br>\n",
    "\n",
    " \n",
    "*Here are some great reads on this topic:* \n",
    "- __\"Python File Handling: How to Create Text File, Read, Write, Open, Append Files in Python\"__ by __Steve Campbell__ available at *https://www.guru99.com/reading-and-writing-files-in-python.html <br>\n",
    "- __\"Python Programming and Numerical Methods - A Guide for Engineers and Scientists,__ by __Qingkai Kong, Timmy Siauw, Alexandre Bayen__  available at \"https://pythonnumericalmethods.studentorg.berkeley.edu/notebooks/chapter11.00-Reading-and-Writing-Data.html <br>\n",
    "- __\"Python File Handling Tutorial: How To Create, Open, Read, Write\"__ available at *https://www.softwaretestinghelp.com/python/python-file-reading-writing/ <br>\n",
    "- __\"Python File Operations – Read and Write to files with Python\"__ available at *https://www.journaldev.com/14408/python-read-file-open-write-delete-copy <br>\n",
    "- __\"Python Tutorial: File Objects - Reading and Writing to Files\"__ by __Corey Schafer__ available at *https://www.youtube.com/watch?v=Uh2ebFW8OYM <br>"
   ]
  },
  {
   "cell_type": "markdown",
   "metadata": {},
   "source": [
    "Learn more about CRUD with text files at https://www.guru99.com/reading-and-writing-files-in-python.html\n",
    "\n",
    "Learn more about file delete at https://www.dummies.com/programming/python/how-to-delete-a-file-in-python/\n",
    "    "
   ]
  },
  {
   "cell_type": "markdown",
   "metadata": {},
   "source": [
    "___\n",
    "![](https://media.csesoc.org.au/content/images/2019/10/learn11.gif) <br>\n"
   ]
  },
  {
   "cell_type": "markdown",
   "metadata": {},
   "source": [
    "![](https://quotefancy.com/media/wallpaper/3840x2160/6361186-George-Bernard-Shaw-Quote-Life-isn-t-about-finding-yourself-Life.jpg)"
   ]
  },
  {
   "cell_type": "code",
   "execution_count": null,
   "metadata": {},
   "outputs": [],
   "source": []
  }
 ],
 "metadata": {
  "kernelspec": {
   "display_name": "Python 3 (ipykernel)",
   "language": "python",
   "name": "python3"
  },
  "language_info": {
   "codemirror_mode": {
    "name": "ipython",
    "version": 3
   },
   "file_extension": ".py",
   "mimetype": "text/x-python",
   "name": "python",
   "nbconvert_exporter": "python",
   "pygments_lexer": "ipython3",
   "version": "3.12.0"
  }
 },
 "nbformat": 4,
 "nbformat_minor": 4
}
