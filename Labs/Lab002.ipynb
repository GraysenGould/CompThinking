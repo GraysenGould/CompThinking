{
 "cells": [
  {
   "cell_type": "markdown",
   "metadata": {},
   "source": [
    "# <font color=darkred>Laboratory 2: Input and Output </font>\n",
    "\n",
    "**Gould, Graysen**\n",
    "\n",
    "**R11944656**\n",
    "\n",
    "ENGR 1330 Laboratory 4 - In-Lab\n"
   ]
  },
  {
   "cell_type": "code",
   "execution_count": 1,
   "metadata": {},
   "outputs": [
    {
     "name": "stdout",
     "output_type": "stream",
     "text": [
      "GouldPC\n",
      "gouldpc\\gould\n",
      "C:\\Users\\gould\\anaconda3\\python.exe\n",
      "3.12.4 | packaged by Anaconda, Inc. | (main, Jun 18 2024, 15:03:56) [MSC v.1929 64 bit (AMD64)]\n",
      "sys.version_info(major=3, minor=12, micro=4, releaselevel='final', serial=0)\n"
     ]
    }
   ],
   "source": [
    "# Preamble script block to identify host, user, and kernel\n",
    "import sys\n",
    "! hostname\n",
    "! whoami\n",
    "print(sys.executable)\n",
    "print(sys.version)\n",
    "print(sys.version_info)"
   ]
  },
  {
   "cell_type": "markdown",
   "metadata": {},
   "source": [
    "## Input\n",
    "\n",
    "Useful programs take input and generate output\n",
    "\n",
    "<img src=\"http://54.243.252.9/engr-1330-webroot/8-Labs/Lab04/InNOut.svg.png\" width=\"300\">\n",
    "\n",
    "So here we practice capturing input from the keyboard (most likely) \n",
    "\n",
    "First lets explore the `input()` function"
   ]
  },
  {
   "cell_type": "code",
   "execution_count": 3,
   "metadata": {},
   "outputs": [
    {
     "name": "stdin",
     "output_type": "stream",
     "text": [
      " 5\n"
     ]
    },
    {
     "name": "stdout",
     "output_type": "stream",
     "text": [
      "Data type  =:  <class 'str'>\n",
      "Data value =:  5\n"
     ]
    }
   ],
   "source": [
    "# Case 1 - without a prompt\n",
    "fries=input()\n",
    "print('Data type  =: ',type(fries))\n",
    "print('Data value =: ',fries)"
   ]
  },
  {
   "cell_type": "code",
   "execution_count": 4,
   "metadata": {},
   "outputs": [
    {
     "name": "stdin",
     "output_type": "stream",
     "text": [
      " 5\n"
     ]
    },
    {
     "name": "stdout",
     "output_type": "stream",
     "text": [
      "Data type  =:  <class 'str'>\n",
      "Data value =:  5\n"
     ]
    }
   ],
   "source": [
    "# Case 2 - without a prompt - force data type\n",
    "fries=input()\n",
    "fries=str(fries) # force into a string\n",
    "print('Data type  =: ',type(fries))\n",
    "print('Data value =: ',fries)"
   ]
  },
  {
   "cell_type": "code",
   "execution_count": 5,
   "metadata": {},
   "outputs": [
    {
     "name": "stdin",
     "output_type": "stream",
     "text": [
      " 5\n"
     ]
    },
    {
     "name": "stdout",
     "output_type": "stream",
     "text": [
      "Data type  =:  <class 'str'>\n",
      "Data value =:  5\n"
     ]
    }
   ],
   "source": [
    "# Case 3 - without a prompt - force data to string, make string all upper case\n",
    "fries=input()\n",
    "fries=str(fries) # force into a string\n",
    "fries=fries.upper()\n",
    "print('Data type  =: ',type(fries))\n",
    "print('Data value =: ',fries)"
   ]
  },
  {
   "cell_type": "markdown",
   "metadata": {},
   "source": [
    "---\n",
    "## Exercise 2.1 (10 marks)\n",
    "Modify **Case** 3 to make the **fries** numeric (integer or float), then validate the modification"
   ]
  },
  {
   "cell_type": "code",
   "execution_count": 6,
   "metadata": {},
   "outputs": [
    {
     "name": "stdin",
     "output_type": "stream",
     "text": [
      "Please input the number of fries you want 5\n"
     ]
    },
    {
     "name": "stdout",
     "output_type": "stream",
     "text": [
      "Data type  =:  <class 'int'>\n",
      "Data value =:  5\n"
     ]
    }
   ],
   "source": [
    "#assuming that we are asking the user to input an integer number of fries\n",
    "\n",
    "fries = input(\"Please input the number of fries you want\")\n",
    "while True:\n",
    "    try:\n",
    "        fries = int(fries)\n",
    "    except:\n",
    "        print(\"please input an integer\")\n",
    "        fries = input(\"Please input the number of fries you want\")\n",
    "    else:\n",
    "        print('Data type  =: ',type(fries))\n",
    "        print('Data value =: ',fries)\n",
    "        break\n",
    "    "
   ]
  },
  {
   "cell_type": "markdown",
   "metadata": {},
   "source": [
    "---"
   ]
  },
  {
   "cell_type": "markdown",
   "metadata": {},
   "source": [
    "## About the prompt\n",
    "\n",
    "It is a good idea to tell the user what to input. \n",
    "You can do this by putting the hint in quotes inside the input parentheses. \n",
    "The hint will come in the next line and will wait for the user input. \n",
    "You can then type the input and when you hit the ENTER key, it will capture the input. \n",
    "\n",
    "In this example, \"tell me a beautiful number\" is the hint. \n",
    "This gets printed in the next line when asking for the input. If you type 6, this will be assigned to the variable beautiful_number which we can print later."
   ]
  },
  {
   "cell_type": "code",
   "execution_count": 7,
   "metadata": {},
   "outputs": [
    {
     "name": "stdin",
     "output_type": "stream",
     "text": [
      "tell me a beautiful number  6\n"
     ]
    },
    {
     "name": "stdout",
     "output_type": "stream",
     "text": [
      "6\n"
     ]
    }
   ],
   "source": [
    "# Example\n",
    "beautiful_number = input(\"tell me a beautiful number \")\n",
    "print(beautiful_number)"
   ]
  },
  {
   "cell_type": "code",
   "execution_count": 8,
   "metadata": {},
   "outputs": [
    {
     "name": "stdin",
     "output_type": "stream",
     "text": [
      "Would you like fries with that? Enter Y or N y\n"
     ]
    },
    {
     "name": "stdout",
     "output_type": "stream",
     "text": [
      "Data type  =:  <class 'str'>\n",
      "Data value =:  y\n"
     ]
    }
   ],
   "source": [
    "# Case 1 - with a prompt\n",
    "fries=input('Would you like fries with that? Enter Y or N')\n",
    "print('Data type  =: ',type(fries))\n",
    "print('Data value =: ',fries)"
   ]
  },
  {
   "cell_type": "code",
   "execution_count": 9,
   "metadata": {},
   "outputs": [
    {
     "name": "stdin",
     "output_type": "stream",
     "text": [
      "Would you like fries with that? Enter Y or N Y\n"
     ]
    },
    {
     "name": "stdout",
     "output_type": "stream",
     "text": [
      "Data type  =:  <class 'str'>\n",
      "Data value =:  Y\n"
     ]
    }
   ],
   "source": [
    "# Case 3 - with a prompt - force data to string, make string all upper case\n",
    "fries=input('Would you like fries with that? Enter Y or N')\n",
    "fries=str(fries) # force into a string\n",
    "fries=fries.upper() # force to upper\n",
    "print('Data type  =: ',type(fries))\n",
    "print('Data value =: ',fries)"
   ]
  },
  {
   "cell_type": "markdown",
   "metadata": {},
   "source": [
    "The prompt can be any string variable"
   ]
  },
  {
   "cell_type": "code",
   "execution_count": 10,
   "metadata": {},
   "outputs": [
    {
     "name": "stdin",
     "output_type": "stream",
     "text": [
      "Would you like fries with that? Y or N y\n"
     ]
    },
    {
     "name": "stdout",
     "output_type": "stream",
     "text": [
      "Data type  =:  <class 'str'>\n",
      "Data value =:  Y\n"
     ]
    }
   ],
   "source": [
    "response = 'Would you like fries with that? Y or N'\n",
    "fries=input(response)\n",
    "fries=str(fries) # force into a string\n",
    "fries=fries.upper() # force to upper\n",
    "print('Data type  =: ',type(fries))\n",
    "print('Data value =: ',fries)"
   ]
  },
  {
   "cell_type": "markdown",
   "metadata": {},
   "source": [
    "---\n",
    "## Exercise 2.2 (30 marks)\n",
    "1. Create these 3 variables named `Name`, `Age`, and `Height`.\n",
    "   - `Name = 'Please enter your full name'`\n",
    "   - `Age = 'Please enter your age'`\n",
    "   - `Height = 'Please enter height in Inches only'`\n",
    "\n",
    "2. Using the variables as input prompts, ask users for their name, age, and height.\n",
    "\n",
    "3. Convert the `Name` to uppercase, convert the `Age` to an integer, and convert the `Height` to a float and print all three."
   ]
  },
  {
   "cell_type": "code",
   "execution_count": 69,
   "metadata": {},
   "outputs": [
    {
     "name": "stdin",
     "output_type": "stream",
     "text": [
      "please input your name Graysen\n",
      "please input age 18\n",
      "please input your height in meters 1.81\n"
     ]
    }
   ],
   "source": [
    "# ask for name\n",
    "name = str(input(\"please input your name\")).upper()\n",
    "\n",
    "# aks for age\n",
    "age = int(input(\"please input age\"))\n",
    "\n",
    "#ask for height\n",
    "height = float(input(\"please input your height in meters\"))\n"
   ]
  },
  {
   "cell_type": "code",
   "execution_count": 70,
   "metadata": {},
   "outputs": [
    {
     "name": "stdout",
     "output_type": "stream",
     "text": [
      "your name is GRAYSEN, you are 18 years old, and you are 1.81 meters tall or 5 feet 11 inches tall\n"
     ]
    }
   ],
   "source": [
    "#output name, age, and height\n",
    "\n",
    "print(f\"your name is {name}, you are {age} years old, and you are {height} meters tall or {int(height*100 / 2.54 // 12)} feet {int(height *100 / 2.54 % 12)} inches tall\") "
   ]
  },
  {
   "cell_type": "markdown",
   "metadata": {},
   "source": [
    "___"
   ]
  },
  {
   "cell_type": "markdown",
   "metadata": {},
   "source": [
    "## Example.  Suggestive Sell!\n",
    "\n",
    "Suppose we are building an automated food service program.  If you recall from real life, that when you complete your order the cashier always asks \"would you like fries with that?\"\n",
    "\n",
    "Well lets script the interaction, and get either a yes or no answer from the customer."
   ]
  },
  {
   "cell_type": "code",
   "execution_count": 13,
   "metadata": {
    "scrolled": true
   },
   "outputs": [
    {
     "name": "stdout",
     "output_type": "stream",
     "text": [
      "Thank you for your order\n"
     ]
    },
    {
     "name": "stdin",
     "output_type": "stream",
     "text": [
      "Would you like fries with that too? (Y or N) y\n"
     ]
    },
    {
     "name": "stdout",
     "output_type": "stream",
     "text": [
      "Excellent, I'll add them to your order, Have a nice day!\n"
     ]
    }
   ],
   "source": [
    "statements = ['Thank you for your order','Would you like fries with that too? (Y or N)',\n",
    "'Excellent, I\\'ll add them to your order, Have a nice day!',\n",
    "'Are you sure? They are really yummy (Y or N)',\n",
    "'Ok, no fries!  \\nHave a nice day cheapskate',\n",
    "'You did not enter a Y or N, I can\\'t take this ambiguity, I quit']\n",
    "print(statements[0])\n",
    "fries = str(input(statements[1])).upper() # input with prompt, typecast into string, force uppercase\n",
    "# selection\n",
    "if fries == 'Y':\n",
    "    print(statements[2])\n",
    "elif fries == 'N':\n",
    "    print(statements[3])\n",
    "    fries = str(input(statements[1])).upper() # input with prompt, typecast into string, force uppercase\n",
    "    if fries == 'Y':\n",
    "        print(statements[2])\n",
    "    elif fries == 'N':\n",
    "        print(statements[4])\n",
    "else:\n",
    "    print(statements[5])\n",
    "    "
   ]
  },
  {
   "cell_type": "markdown",
   "metadata": {},
   "source": [
    "## About Output\n",
    "Later on we will learn about printing to a file (here we use the word print as a surrogate for output, not necessarily actually printing something); the remainder of this lab explores some of the necessary ideas involved in output\n",
    "\n",
    "We have already examined and played with \"Hello World\" as shown below - but I added some interaction."
   ]
  },
  {
   "cell_type": "code",
   "execution_count": 14,
   "metadata": {},
   "outputs": [
    {
     "name": "stdin",
     "output_type": "stream",
     "text": [
      "What is your name? Graysen Gould\n"
     ]
    },
    {
     "name": "stdout",
     "output_type": "stream",
     "text": [
      "Hello,  Graysen Gould\n"
     ]
    }
   ],
   "source": [
    "name = input(\"What is your name?\")\n",
    "print(\"Hello, \",name)"
   ]
  },
  {
   "cell_type": "markdown",
   "metadata": {},
   "source": [
    "We can also output values from a list such as"
   ]
  },
  {
   "cell_type": "code",
   "execution_count": 15,
   "metadata": {},
   "outputs": [
    {
     "name": "stdout",
     "output_type": "stream",
     "text": [
      "YES\n",
      "NO\n",
      "OR WHAT?\n",
      "GO AWAY\n"
     ]
    }
   ],
   "source": [
    "prompt = ['YES','NO','OR WHAT?','GO AWAY','PLEASE COME BACK LATER','placeholder','placeholder']\n",
    "print(prompt[0])\n",
    "print(prompt[1])\n",
    "print(prompt[2])\n",
    "print(prompt[3])"
   ]
  },
  {
   "cell_type": "markdown",
   "metadata": {},
   "source": [
    "Or the list can be numeric"
   ]
  },
  {
   "cell_type": "code",
   "execution_count": 16,
   "metadata": {},
   "outputs": [
    {
     "name": "stdout",
     "output_type": "stream",
     "text": [
      "[0, 1, 2, 3, 4, 5]\n",
      "<class 'list'>\n"
     ]
    }
   ],
   "source": [
    "numblist = [0,1,2,3,4,5]\n",
    "print(numblist)\n",
    "print(type(numblist[:]))"
   ]
  },
  {
   "cell_type": "markdown",
   "metadata": {},
   "source": [
    "Print blank lines by using the *newline* symbol, which is `\\n`.\n"
   ]
  },
  {
   "cell_type": "code",
   "execution_count": 17,
   "metadata": {},
   "outputs": [
    {
     "name": "stdout",
     "output_type": "stream",
     "text": [
      "Graysen Gould \n",
      "\n",
      "\n",
      "\n",
      "\n",
      "\n",
      "\n",
      "\n",
      "\n",
      " Graysen Gould\n"
     ]
    }
   ],
   "source": [
    "print (name,\"\\n\\n\\n\\n\\n\\n\\n\\n\\n\",name)"
   ]
  },
  {
   "cell_type": "markdown",
   "metadata": {},
   "source": [
    "## Example \n",
    "Let's build a script thats asks the users name, then says hello. Skips 8 lines and identify ourself as Cyberdyne Terminator Model 101.\n",
    "\n",
    "The work flow is nothing more than\n",
    "\n",
    "- Prompt for a name\n",
    "- Echo the name\n",
    "- Add 8 blank lines\n",
    "- Identify as Cyberdyne\n",
    "\n",
    "Using the bullet list as our structure generator we can start with"
   ]
  },
  {
   "cell_type": "code",
   "execution_count": 18,
   "metadata": {},
   "outputs": [
    {
     "name": "stdin",
     "output_type": "stream",
     "text": [
      "please input your name Graysen\n"
     ]
    },
    {
     "name": "stdout",
     "output_type": "stream",
     "text": [
      "hello, Graysen\n",
      "\n",
      "\n",
      "\n",
      "\n",
      "\n",
      "\n",
      "\n",
      "\n",
      "\n",
      "my name is Cyverdyne Terminator Model 101\n"
     ]
    }
   ],
   "source": [
    "# - Prompt for a name\n",
    "name = input(\"please input your name\")\n",
    "\n",
    "# - Echo the name\n",
    "print(f\"hello, {name}\")\n",
    "\n",
    "# - Add 8 blank lines\n",
    "print(\"\\n\\n\\n\\n\\n\\n\\n\\n\")\n",
    "\n",
    "# - Identify as Cyberdyne\n",
    "print(\"my name is Cyverdyne Terminator Model 101\")"
   ]
  },
  {
   "cell_type": "markdown",
   "metadata": {},
   "source": [
    "Now copy-paste our prompt example"
   ]
  },
  {
   "cell_type": "code",
   "execution_count": 19,
   "metadata": {},
   "outputs": [
    {
     "name": "stdin",
     "output_type": "stream",
     "text": [
      "What is your name? Graysen\n"
     ]
    },
    {
     "name": "stdout",
     "output_type": "stream",
     "text": [
      "Hello,  Graysen\n"
     ]
    }
   ],
   "source": [
    "# - Prompt for a name\n",
    "name = input(\"What is your name?\")\n",
    "# - Echo the name\n",
    "print(\"Hello, \",name)\n",
    "# - Add 8 blank lines\n",
    "# - Identify as Cyberdyne"
   ]
  },
  {
   "cell_type": "markdown",
   "metadata": {},
   "source": [
    "Next lets print 8 linefeeds"
   ]
  },
  {
   "cell_type": "code",
   "execution_count": 20,
   "metadata": {},
   "outputs": [
    {
     "name": "stdin",
     "output_type": "stream",
     "text": [
      "What is your name? Graysen\n"
     ]
    },
    {
     "name": "stdout",
     "output_type": "stream",
     "text": [
      "Hello,  Graysen\n",
      "\n",
      "\n",
      "\n",
      "\n",
      "\n",
      "\n",
      "\n",
      "\n",
      "\n",
      "\n"
     ]
    }
   ],
   "source": [
    "# - Prompt for a name\n",
    "name = input(\"What is your name?\")\n",
    "# - Echo the name\n",
    "print(\"Hello, \",name)\n",
    "# - Add 8 blank lines\n",
    "print (\"\\n\\n\\n\\n\\n\\n\\n\\n\\n\")\n",
    "# - Identify as Cyberdyne"
   ]
  },
  {
   "cell_type": "markdown",
   "metadata": {},
   "source": [
    "Now we add our response."
   ]
  },
  {
   "cell_type": "code",
   "execution_count": 21,
   "metadata": {},
   "outputs": [
    {
     "name": "stdin",
     "output_type": "stream",
     "text": [
      "What is your name? Graysen\n"
     ]
    },
    {
     "name": "stdout",
     "output_type": "stream",
     "text": [
      "Hello,  Graysen\n",
      "\n",
      "\n",
      "\n",
      "\n",
      "\n",
      "\n",
      "\n",
      "\n",
      "\n",
      "\n",
      "My name is Bender, I am a Cyberdyne Terminator Model 101 \n",
      "disguised as a bending robot, my favorite beverage is Alby Bock,\n",
      "Have you seen any living humans around here? death to all humans!\n"
     ]
    }
   ],
   "source": [
    "# - Prompt for a name\n",
    "name = input(\"What is your name?\")\n",
    "# - Echo the name\n",
    "print(\"Hello, \",name)\n",
    "# - Add 8 blank lines\n",
    "print (\"\\n\\n\\n\\n\\n\\n\\n\\n\\n\")\n",
    "# - Identify as Cyberdyne\n",
    "print('''My name is Bender, I am a Cyberdyne Terminator Model 101 \n",
    "disguised as a bending robot, my favorite beverage is Alby Bock,\n",
    "Have you seen any living humans around here? death to all humans!''' )"
   ]
  },
  {
   "cell_type": "markdown",
   "metadata": {},
   "source": [
    "Notice the step-by-step build of the script; obviously you dont need to copy and paste so many cells, but here we want to be overly anal as we learn the JupyterLab environment."
   ]
  },
  {
   "cell_type": "markdown",
   "metadata": {},
   "source": [
    "---\n",
    "## Exercise 2.3 (20 marks)\n",
    "1. Using a single print statement and the variables created earlier, print your `Name` in the next line your `Age`, and after three lines your `Height`."
   ]
  },
  {
   "cell_type": "code",
   "execution_count": 71,
   "metadata": {},
   "outputs": [
    {
     "name": "stdin",
     "output_type": "stream",
     "text": [
      "please input your name Graysen\n",
      "please input age 18\n",
      "please input your height in meters 1.81\n"
     ]
    },
    {
     "name": "stdout",
     "output_type": "stream",
     "text": [
      "\n",
      "your name is Graysen \n",
      "Your age is 18 \n",
      "\n",
      "\n",
      "Your height is 1.81\n"
     ]
    }
   ],
   "source": [
    "# ask for information again just to be sure\n",
    "name = str(input(\"please input your name\"))\n",
    "name = name[0].upper() + name[1:].lower() # force uppercase for only first \n",
    "age = int(input(\"please input age\"))\n",
    "height = float(input(\"please input your height in meters\"))\n",
    "\n",
    "print(f\"\\nyour name is {name} \\nYour age is {age} \\n\\n\\nYour height is {height}\")"
   ]
  },
  {
   "cell_type": "code",
   "execution_count": 23,
   "metadata": {},
   "outputs": [
    {
     "name": "stdout",
     "output_type": "stream",
     "text": [
      "Thank you for your order\n"
     ]
    },
    {
     "name": "stdin",
     "output_type": "stream",
     "text": [
      "Would you like fries with that too? (Y or N) Y\n"
     ]
    },
    {
     "name": "stdout",
     "output_type": "stream",
     "text": [
      "Excellent, I'll add them to your order, Have a nice day!\n"
     ]
    }
   ],
   "source": [
    "statements = ['Thank you for your order','Would you like fries with that too? (Y or N)',\n",
    "'Excellent, I\\'ll add them to your order, Have a nice day!',\n",
    "'Are you sure? They are really yummy (Y or N)',\n",
    "'Ok, no fries!  \\nHave a nice day cheapskate',\n",
    "'You did not enter a Y or N, I can\\'t take this ambiguity, I quit']\n",
    "print(statements[0])\n",
    "fries = str(input(statements[1])).upper() # input with prompt, typecast into string, force uppercase\n",
    "# selection\n",
    "if fries == 'Y':\n",
    "    print(statements[2])\n",
    "elif fries == 'N':\n",
    "    print(statements[3])\n",
    "    fries = str(input(statements[1])).upper() # input with prompt, typecast into string, force uppercase\n",
    "    if fries == 'Y':\n",
    "        print(statements[2])\n",
    "    elif fries == 'N':\n",
    "        print(statements[4])\n",
    "else:\n",
    "    print(statements[5])\n",
    "    "
   ]
  },
  {
   "cell_type": "markdown",
   "metadata": {},
   "source": [
    "2. if you use **yes** or **Yes** as an answer to the input you get the response ***'You did not enter a Y or N, I can\\'t take this ambiguity, I quit'*** but if you use **y** you get a different response. Why does small letter **y** work but we have capital letter **Y** in the statement."
   ]
  },
  {
   "cell_type": "raw",
   "metadata": {},
   "source": [
    "The lowercase y workes because we force it to be an upper case letter with the .upper() method. Inputing \"yes\" does not work because the code has no fuctionality to handle this input. "
   ]
  },
  {
   "cell_type": "markdown",
   "metadata": {},
   "source": [
    "___"
   ]
  },
  {
   "cell_type": "markdown",
   "metadata": {},
   "source": [
    "## Formatting the output\n",
    "There are 3 popular ways to perform string formatting in Python <br>\n",
    "\n",
    "Formatting with **%** Operator.<br>\n",
    "Formatting with **format()** string method.<br>\n",
    "Formatting with **string literals**, called **f-strings**.<br>"
   ]
  },
  {
   "cell_type": "markdown",
   "metadata": {},
   "source": [
    "#### Format String using **%** Operator \n",
    "It is the oldest method of string formatting. Here we use the modulo % operator. The modulo % is also known as the “string-formatting operator”. <br>\n",
    "we use **%s** for strings, **%d** for integers and **%f** for floats.\n",
    "when using **%f**, i.e Floating-point numbers use the format %a.bf. Here, a would be the minimum number of digits to be present in the string; these might be padded with white space if the whole number doesn’t have this many digits. Close to this, bf represents how many digits are to be displayed after the decimal point. \n",
    "\n",
    "#### Examples"
   ]
  },
  {
   "cell_type": "code",
   "execution_count": 24,
   "metadata": {},
   "outputs": [
    {
     "name": "stdout",
     "output_type": "stream",
     "text": [
      "Engineering students are computationally intelligent which enables them to learn programming faster,  than others.\n"
     ]
    }
   ],
   "source": [
    "print(\"Engineering students are %s which enables them to learn programming faster\" %'computationally intelligent' + \",  than others.\")"
   ]
  },
  {
   "cell_type": "code",
   "execution_count": 25,
   "metadata": {},
   "outputs": [
    {
     "name": "stdout",
     "output_type": "stream",
     "text": [
      "Learning Javascript and Python is easy\n"
     ]
    }
   ],
   "source": [
    "x = 'Python'\n",
    "print(\"Learning %s and %s is easy\"%('Javascript',x))"
   ]
  },
  {
   "cell_type": "code",
   "execution_count": 26,
   "metadata": {},
   "outputs": [
    {
     "name": "stdin",
     "output_type": "stream",
     "text": [
      "tell me a beautiful number  7\n"
     ]
    },
    {
     "name": "stdout",
     "output_type": "stream",
     "text": [
      "The beautiful number 7.000 squared is 49.000\n"
     ]
    }
   ],
   "source": [
    "beautiful_number = input(\"tell me a beautiful number \")\n",
    "beautiful_number = float(beautiful_number)\n",
    "print('The beautiful number %.3f squared is %.3f' %(beautiful_number,beautiful_number*beautiful_number))"
   ]
  },
  {
   "cell_type": "code",
   "execution_count": 27,
   "metadata": {},
   "outputs": [
    {
     "name": "stdout",
     "output_type": "stream",
     "text": [
      "The number as an integer is 8 \n",
      "same number as a float is 8.000000\n"
     ]
    }
   ],
   "source": [
    "# why are there no instructions for this cell. What are we even trying to do?\n",
    "\n",
    "number = 8 \n",
    "string = \"The number as an integer is %d \\n\\\n",
    "same number as a float is %f\" %(int(number), float(number))\n",
    "print (string) "
   ]
  },
  {
   "cell_type": "markdown",
   "metadata": {},
   "source": [
    "#### Format Strings Using the `format()` Method\n",
    "\n",
    "The `format()` method was introduced in Python 3 for handling complex string formatting more efficiently. <br>\n",
    "\n",
    "Formatters work by inserting one or more replacement fields and placeholders, defined by a pair of curly braces `{}`, into a string and calling the `str.format()` method. The values that we wish to place into the placeholders and concatenate with the string are passed as parameters into the `format()` function. <br>\n",
    "\n",
    "These String operators type can be used format codes:  <br>\n",
    "- ‘d’ for integers\n",
    "- ‘f’ for floating-point numbers\n",
    "- ‘b’ for binary numbers\n",
    "- ‘o’ for octal numbers\n",
    "- ‘x’ for octal hexadecimal numbers\n",
    "- ‘s’ for string\n",
    "- ‘e’ for floating-point in an exponent format\n",
    "\n",
    "**Syntax:**  \n",
    "`'String here {} then also {}' .format('value1', 'value2')`\n",
    "#### Examples\n"
   ]
  },
  {
   "cell_type": "code",
   "execution_count": 28,
   "metadata": {},
   "outputs": [
    {
     "name": "stdout",
     "output_type": "stream",
     "text": [
      "We all are equal.\n"
     ]
    }
   ],
   "source": [
    "print('We all are {}.'.format('equal'))"
   ]
  },
  {
   "cell_type": "code",
   "execution_count": 29,
   "metadata": {},
   "outputs": [
    {
     "name": "stdin",
     "output_type": "stream",
     "text": [
      "Please enter your name Graysen Gould\n",
      "please enter your age 18\n",
      "please enter your height 1.81\n"
     ]
    },
    {
     "name": "stdout",
     "output_type": "stream",
     "text": [
      "my height is 1.81, my age is 18 and name is Graysen Gould\n"
     ]
    }
   ],
   "source": [
    "# Index-based Insertion\n",
    "name = input('Please enter your name')\n",
    "age = input('please enter your age')\n",
    "height = input('please enter your height')\n",
    "print('my height is {2}, my age is {1} and name is {0}'.format(name,age, height))\n"
   ]
  },
  {
   "cell_type": "code",
   "execution_count": 30,
   "metadata": {},
   "outputs": [
    {
     "name": "stdin",
     "output_type": "stream",
     "text": [
      "Please enter your name Graysen\n",
      "please enter your age 18\n",
      "please enter your height 1.81\n"
     ]
    },
    {
     "name": "stdout",
     "output_type": "stream",
     "text": [
      "my height is 1.81, my age is 18 and name is Graysen\n"
     ]
    }
   ],
   "source": [
    "# Insert object by Assigning Keywords\n",
    "name = input('Please enter your name')\n",
    "age = input('please enter your age')\n",
    "height = input('please enter your height')\n",
    "print('my height is {a}, my age is {c} and name is {b}'.format(b =name,c = age, a = height))"
   ]
  },
  {
   "cell_type": "code",
   "execution_count": 31,
   "metadata": {},
   "outputs": [
    {
     "name": "stdout",
     "output_type": "stream",
     "text": [
      "The value of pi is: 3.142\n",
      "The value of pi is: 3.142\n"
     ]
    }
   ],
   "source": [
    "# Both the codes are doing string formatting. The first String is formatted with ‘%’ and the second String is formatted with .format().\n",
    "print('The value of pi is: %1.3f' %3.141592)\n",
    "print('The value of pi is: {0:1.3f}'.format(3.141592))\n"
   ]
  },
  {
   "cell_type": "markdown",
   "metadata": {},
   "source": [
    "### String Formatting with F-Strings\n",
    "\n",
    "Literal String Interpolation, more commonly known as F-strings (due to the leading `f` character preceding the string literal), simplifies string interpolation in Python.\n",
    "\n",
    "To create an F-string in Python, prefix the string with the letter `f`. The string can be formatted in much the same way as with `str.format()`. F-strings provide a concise and convenient way to embed Python expressions inside string literals for formatting.\n",
    "#### Examples"
   ]
  },
  {
   "cell_type": "code",
   "execution_count": 32,
   "metadata": {},
   "outputs": [
    {
     "name": "stdin",
     "output_type": "stream",
     "text": [
      "Please enter your name Graysen Gould\n"
     ]
    },
    {
     "name": "stdout",
     "output_type": "stream",
     "text": [
      "My name is Graysen Gould.\n"
     ]
    }
   ],
   "source": [
    "name = input('Please enter your name')\n",
    "print(f\"My name is {name}.\")"
   ]
  },
  {
   "cell_type": "code",
   "execution_count": 33,
   "metadata": {},
   "outputs": [
    {
     "name": "stdout",
     "output_type": "stream",
     "text": [
      "He said his age is 20.\n"
     ]
    }
   ],
   "source": [
    "a = 4\n",
    "b = 6\n",
    "print(f\"He said his age is {2 * (a + b)}.\")\n"
   ]
  },
  {
   "cell_type": "markdown",
   "metadata": {},
   "source": [
    "As an example we can combine the Terminator example and beautiful number example."
   ]
  },
  {
   "cell_type": "code",
   "execution_count": 34,
   "metadata": {},
   "outputs": [
    {
     "name": "stdin",
     "output_type": "stream",
     "text": [
      "What is your name? Graysen Gould\n"
     ]
    },
    {
     "name": "stdout",
     "output_type": "stream",
     "text": [
      "Hello Graysen Gould My name is Bender, \n",
      " I am a Cyberdyne Terminator Model 101 \n",
      "disguised as a bending robot, \n",
      " my favorite beverage is Alby Bock,\n",
      "Have you seen any living humans around here? death to all humans!\n"
     ]
    },
    {
     "name": "stdin",
     "output_type": "stream",
     "text": [
      "So Graysen Gould tell me a beautiful number  7\n"
     ]
    },
    {
     "name": "stdout",
     "output_type": "stream",
     "text": [
      "The beautiful number 7.000 squared is 49.000\n"
     ]
    }
   ],
   "source": [
    "# - Prompt for a name\n",
    "name = input(\"What is your name?\")\n",
    "# - Identify as Cyberdyne\n",
    "print('''Hello %s My name is Bender, \\n I am a Cyberdyne Terminator Model 101 \n",
    "disguised as a bending robot, \\n my favorite beverage is Alby Bock,\n",
    "Have you seen any living humans around here? death to all humans!''' %(name) )\n",
    "beautiful_number = input(\"So %s tell me a beautiful number \" %(name))\n",
    "beautiful_number = float(beautiful_number)\n",
    "print('The beautiful number %.3f squared is %.3f' %(beautiful_number,beautiful_number*beautiful_number))"
   ]
  },
  {
   "cell_type": "markdown",
   "metadata": {},
   "source": [
    "### About ending the line\n",
    "\n",
    "By default, print function in Python ends with a newline. This function comes with a parameter called 'end.' The default value of this parameter is `\\n` , i.e., the new line character. You can end a print statement with any character or string using this parameter, but you have to specify in the print statement.  "
   ]
  },
  {
   "cell_type": "code",
   "execution_count": 35,
   "metadata": {},
   "outputs": [
    {
     "name": "stdout",
     "output_type": "stream",
     "text": [
      "Welcome to Bender's world!"
     ]
    }
   ],
   "source": [
    "print (\"Welcome to\", end = ' ') # ends with a null character, so NO LINEFEED\n",
    "print (\"Bender's world\", end = '!')"
   ]
  },
  {
   "cell_type": "markdown",
   "metadata": {},
   "source": [
    "---\n",
    "### Exercise 2.4 (20 marks)\n",
    "\n",
    "In this exercise, you will create a 3 by 3 table using 9 print statements and the variables created earlier.\n",
    "\n",
    "- Each value in the table should have its own print statement.\n",
    "- In the first line, start with your name, then your age, and your height should have 6 decimal places.\n",
    "- In the second line, start with your age after 6 blank spaces using the `%` operator, then your name, and your height should have 6 decimal places.\n",
    "- In the last line, print your height after 3 spaces and with 4 decimal places, then your age, and finally your name.\n",
    "\n",
    "#### Example\n",
    "\n",
    "Afam&nbsp;&nbsp;&nbsp;&nbsp;&nbsp;&nbsp;&nbsp;&nbsp;&nbsp;&nbsp;&nbsp;28&nbsp;&nbsp;&nbsp;&nbsp;&nbsp;&nbsp;&nbsp;&nbsp;&nbsp;&nbsp;&nbsp;&nbsp;&nbsp;&nbsp;&nbsp;6.100000 <br>\n",
    "&nbsp;&nbsp;&nbsp;&nbsp;&nbsp;&nbsp;28&nbsp;&nbsp;&nbsp;&nbsp;&nbsp;&nbsp;&nbsp;&nbsp;&nbsp;Afam&nbsp;&nbsp;&nbsp;&nbsp;&nbsp;&nbsp;&nbsp;&nbsp;&nbsp;&nbsp;&nbsp;6.100000 <br>\n",
    "&nbsp;&nbsp;&nbsp;6.1000&nbsp;&nbsp;&nbsp;&nbsp;&nbsp;28&nbsp;&nbsp;&nbsp;&nbsp;&nbsp;&nbsp;&nbsp;&nbsp;&nbsp;&nbsp;&nbsp;&nbsp;&nbsp;&nbsp;Afam <br>\n"
   ]
  },
  {
   "cell_type": "code",
   "execution_count": 59,
   "metadata": {},
   "outputs": [
    {
     "name": "stdin",
     "output_type": "stream",
     "text": [
      "please input your name Graysen\n",
      "please input age 18\n",
      "please input your height in meters 1.81\n"
     ]
    }
   ],
   "source": [
    "# ask for information again because variables are being redefined way too often\n",
    "name = str(input(\"please input your name\"))\n",
    "age = int(input(\"please input age\"))\n",
    "height = float(input(\"please input your height in meters\"))"
   ]
  },
  {
   "cell_type": "code",
   "execution_count": 67,
   "metadata": {},
   "outputs": [
    {
     "name": "stdout",
     "output_type": "stream",
     "text": [
      "Graysen    18       1.810000\n",
      "     18    Graysen  1.810000\n",
      "   1.8100  18       Graysen\n"
     ]
    }
   ],
   "source": [
    "#first row\n",
    "print(f\"{name}   \", end = \" \")\n",
    "print(f\"{age}   \", end = \" \")\n",
    "print('   %.6f' %height)\n",
    "\n",
    "#second row\n",
    "print(\"     %d\" %age, end = \" \" )\n",
    "print(f\"   {name}\", end = \" \")\n",
    "print(\" %.6f\" %height)\n",
    "\n",
    "#third row\n",
    "print(\"   %.4f\" %height, end = \" \")\n",
    "print(f\" {age}\", end = \" \")\n",
    "print(f\"      {name}\")\n",
    "\n"
   ]
  },
  {
   "cell_type": "markdown",
   "metadata": {},
   "source": [
    "---\n",
    "## Lab Exercise 2.5 (20 marks)\n",
    "Ensure you entered your full name and R Number in the top cell<br>\n",
    "Convert to PDF and submit both PDF and IPYNB\n",
    "___"
   ]
  },
  {
   "cell_type": "code",
   "execution_count": null,
   "metadata": {},
   "outputs": [],
   "source": []
  }
 ],
 "metadata": {
  "kernelspec": {
   "display_name": "Python 3 (ipykernel)",
   "language": "python",
   "name": "python3"
  },
  "language_info": {
   "codemirror_mode": {
    "name": "ipython",
    "version": 3
   },
   "file_extension": ".py",
   "mimetype": "text/x-python",
   "name": "python",
   "nbconvert_exporter": "python",
   "pygments_lexer": "ipython3",
   "version": "3.12.4"
  }
 },
 "nbformat": 4,
 "nbformat_minor": 4
}
