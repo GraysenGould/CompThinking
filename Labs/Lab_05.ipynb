{
 "cells": [
  {
   "cell_type": "markdown",
   "metadata": {},
   "source": [
    "# <font color=darkred>Laboratory 5: Sentinel Controlled Repetition </font>"
   ]
  },
  {
   "cell_type": "code",
   "execution_count": 1,
   "metadata": {},
   "outputs": [
    {
     "name": "stdout",
     "output_type": "stream",
     "text": [
      "GouldPC\n",
      "gouldpc\\gould\n",
      "C:\\Users\\gould\\anaconda3\\python.exe\n",
      "3.12.4 | packaged by Anaconda, Inc. | (main, Jun 18 2024, 15:03:56) [MSC v.1929 64 bit (AMD64)]\n",
      "sys.version_info(major=3, minor=12, micro=4, releaselevel='final', serial=0)\n"
     ]
    }
   ],
   "source": [
    "# Preamble script block to identify host, user, and kernel\n",
    "import sys\n",
    "! hostname\n",
    "! whoami\n",
    "print(sys.executable)\n",
    "print(sys.version)\n",
    "print(sys.version_info)"
   ]
  },
  {
   "cell_type": "markdown",
   "metadata": {},
   "source": [
    "## Full name: Graysen Gould\n",
    "## R#: 11944656\n",
    "## Title of the notebook: Loops, Looops, Loooooops\n",
    "## Date:\n",
    "___"
   ]
  },
  {
   "cell_type": "markdown",
   "metadata": {},
   "source": [
    "## <font color=purple>Program flow control (Loops)</font>\n",
    "- Controlled repetition\n",
    "- Structured FOR Loop\n",
    "- Structured WHILE Loop"
   ]
  },
  {
   "cell_type": "markdown",
   "metadata": {},
   "source": [
    "___\n",
    "### <font color=purple>Sentinel-controlled repetition</font>\n",
    "![](https://www.freecodecamp.org/news/content/images/2020/11/image-24.png) <br>\n",
    "\n",
    "When loop control is based on the value of what we are processing, sentinel-controlled repetition is used. \n",
    "Sentinel-controlled repetition is also called indefinite repetition because it is not known in advance how many times the loop will be executed. \n",
    "\n",
    "\n",
    "![](https://media0.giphy.com/media/3Xw8jY3zbFRtFd6eK8/giphy.gif) <br>\n",
    "\n",
    "It is a repetition procedure for solving a problem by using a sentinel value (also called a signal value, a dummy value or a flag value) to indicate \"end of process\". \n",
    "The sentinel value itself need not be a part of the processed data.\n",
    "\n",
    "One common example of using sentinel-controlled repetition is when we are processing data from a file and we do not know in advance when we would reach the end of the file. \n",
    "\n",
    "We can use both `for` and `while` loops, for __Sentinel__ controlled repetition, but the `while` loop is more common.\n",
    "\n",
    "#### Structured `WHILE` loop\n",
    "The `while` loop repeats a block of instructions inside the loop while a condition remainsvtrue.\n",
    "\n",
    "First a generic syntax\n",
    "\n",
    "    while condition is true:\n",
    "        execute a\n",
    "        execute b\n",
    "    ....\n",
    "\n",
    "Notice our friend, the colon `:` and the indentation again."
   ]
  },
  {
   "cell_type": "code",
   "execution_count": 2,
   "metadata": {},
   "outputs": [
    {
     "name": "stdout",
     "output_type": "stream",
     "text": [
      "Counter =  5\n",
      "Counter =  4\n",
      "Counter =  3\n",
      "Counter =  2\n",
      "Counter =  1\n"
     ]
    }
   ],
   "source": [
    "# set a counter\n",
    "counter = 5\n",
    "# while loop\n",
    "while counter > 0:\n",
    "    print(\"Counter = \",counter)\n",
    "    counter = counter -1"
   ]
  },
  {
   "cell_type": "markdown",
   "metadata": {},
   "source": [
    "> The while loop structure just depicted is a \"decrement, skip if equal\" in lower level languages. The next structure, also a while loop is an \"increment, skip if greater\" structure."
   ]
  },
  {
   "cell_type": "code",
   "execution_count": 3,
   "metadata": {},
   "outputs": [
    {
     "name": "stdout",
     "output_type": "stream",
     "text": [
      "Counter =  0\n",
      "Counter =  1\n",
      "Counter =  2\n",
      "Counter =  3\n",
      "Counter =  4\n",
      "Counter =  5\n"
     ]
    }
   ],
   "source": [
    "# set a counter\n",
    "counter = 0\n",
    "# while loop\n",
    "while counter <= 5:  # change this line to: while counter <= 5: what happens?\n",
    "    print (\"Counter = \",counter)\n",
    "    counter += 1  # change this line to: counter +=1  what happens?\n"
   ]
  },
  {
   "cell_type": "markdown",
   "metadata": {},
   "source": [
    "___\n",
    "#### The `continue` statement\n",
    "The continue instruction skips the block of code after it is executed for that iteration. \n",
    "It is\n",
    "best illustrated by an example."
   ]
  },
  {
   "cell_type": "code",
   "execution_count": 4,
   "metadata": {},
   "outputs": [
    {
     "name": "stdout",
     "output_type": "stream",
     "text": [
      "\n",
      " i =  1 , j =  2\n",
      " this message will be skipped over if j = 6 \n",
      "\n",
      " i =  2 , j =  4\n",
      " this message will be skipped over if j = 6 \n",
      "\n",
      " i =  3 , j =  6\n",
      " this message will be skipped over if j = 6 \n",
      "\n",
      " i =  4 , j =  8\n",
      " this message will be skipped over if j = 6 \n",
      "\n",
      " i =  5 , j =  10\n",
      " this message will be skipped over if j = 6 \n"
     ]
    }
   ],
   "source": [
    "i = 0\n",
    "j = 0\n",
    "while i < 5:\n",
    "    i += 1 \n",
    "    j += 2\n",
    "    print (\"\\n i = \", i , \", j = \", j) #here the \\n is a newline command\n",
    "    print(\" this message will be skipped over if j = 6 \") # still within the loop, so the skip is implemented\n",
    "    \n",
    "#When j ==6 the line after the continue keyword is not printed. \n",
    "#Other than that one difference the rest of the script runs normally."
   ]
  },
  {
   "cell_type": "code",
   "execution_count": 6,
   "metadata": {},
   "outputs": [
    {
     "name": "stdout",
     "output_type": "stream",
     "text": [
      "\n",
      " i =  1 , j =  2\n",
      " this message will be skipped over if j = 6 \n",
      "\n",
      " i =  2 , j =  4\n",
      " this message will be skipped over if j = 6 \n",
      "\n",
      " i =  3 , j =  6\n",
      "\n",
      " i =  4 , j =  8\n",
      " this message will be skipped over if j = 6 \n",
      "\n",
      " i =  5 , j =  10\n",
      " this message will be skipped over if j = 6 \n"
     ]
    }
   ],
   "source": [
    "i = 0\n",
    "j = 0\n",
    "while i < 5:\n",
    "    i += 1\n",
    "    j += 2\n",
    "    print (\"\\n i = \", i , \", j = \", j) #here the \\n is a newline command\n",
    "    if j == 6:\n",
    "        continue\n",
    "    print(\" this message will be skipped over if j = 6 \") # still within the loop, so the skip is implemented\n",
    "    \n",
    "#When j ==6 the line after the continue keyword is not printed. \n",
    "#Other than that one difference the rest of the script runs normally."
   ]
  },
  {
   "cell_type": "markdown",
   "metadata": {},
   "source": [
    "#### The break statement\n",
    "\n",
    "stop loop execution"
   ]
  },
  {
   "cell_type": "code",
   "execution_count": 7,
   "metadata": {},
   "outputs": [
    {
     "name": "stdout",
     "output_type": "stream",
     "text": [
      "\n",
      " i =  1 , j =  2\n",
      " this message will be skipped over if j = 6 \n",
      "\n",
      " i =  2 , j =  4\n",
      " this message will be skipped over if j = 6 \n",
      "\n",
      " i =  3 , j =  6\n"
     ]
    }
   ],
   "source": [
    "i = 0\n",
    "j = 0\n",
    "while i < 5:\n",
    "    i += 1\n",
    "    j += 2\n",
    "    print (\"\\n i = \", i , \", j = \", j) #here the \\n is a newline command\n",
    "    if j == 6:\n",
    "        break\n",
    "    print(\" this message will be skipped over if j = 6 \") # still within the loop, so the skip is implemented\n",
    "    \n",
    "#When j ==6 the line after the continue keyword is not printed. \n",
    "#Other than that one difference the rest of the script runs normally."
   ]
  },
  {
   "cell_type": "markdown",
   "metadata": {},
   "source": [
    "___\n",
    "#### The `try`, `except` structure\n",
    "\n",
    "An important control structure (and a pretty cool one for error trapping) is the `try`, `except`\n",
    "statement.\n",
    "\n",
    "The statement controls how the program proceeds when an error occurs in an instruction.\n",
    "The structure is really useful to trap likely errors (divide by zero, wrong kind of input) \n",
    "yet let the program keep running or at least issue a meaningful message to the user.\n",
    "\n",
    "The syntax is:\n",
    "\n",
    "    try:\n",
    "    do something\n",
    "    except:\n",
    "    do something else if ``do something'' returns an error\n",
    "\n",
    "Here is a really simple, but hugely important example:"
   ]
  },
  {
   "cell_type": "markdown",
   "metadata": {},
   "source": [
    "This code starts with x fixed at a value of 12, and y starting at 12 and decreasing by\n",
    "1 until y equals -1. The code returns the ratio of x to y and at one point y is equal to zero\n",
    "and the division would be undefined. By trapping the error the code can issue us a measure\n",
    "and keep running.\n"
   ]
  },
  {
   "cell_type": "code",
   "execution_count": 9,
   "metadata": {},
   "outputs": [
    {
     "name": "stdout",
     "output_type": "stream",
     "text": [
      "x =  12.0 y =  12.0 x/y =  1.0\n",
      "x =  12.0 y =  11.0 x/y =  1.0909090909090908\n",
      "x =  12.0 y =  10.0 x/y =  1.2\n",
      "x =  12.0 y =  9.0 x/y =  1.3333333333333333\n",
      "x =  12.0 y =  8.0 x/y =  1.5\n",
      "x =  12.0 y =  7.0 x/y =  1.7142857142857142\n",
      "x =  12.0 y =  6.0 x/y =  2.0\n",
      "x =  12.0 y =  5.0 x/y =  2.4\n",
      "x =  12.0 y =  4.0 x/y =  3.0\n",
      "x =  12.0 y =  3.0 x/y =  4.0\n",
      "x =  12.0 y =  2.0 x/y =  6.0\n",
      "x =  12.0 y =  1.0 x/y =  12.0\n",
      "x =  12.0 y =  -1.0 x/y =  -12.0\n",
      "x =  12.0 y =  -2.0 x/y =  -6.0\n",
      "x =  12.0 y =  -3.0 x/y =  -4.0\n",
      "x =  12.0 y =  -4.0 x/y =  -3.0\n",
      "x =  12.0 y =  -5.0 x/y =  -2.4\n",
      "x =  12.0 y =  -6.0 x/y =  -2.0\n",
      "x =  12.0 y =  -7.0 x/y =  -1.7142857142857142\n",
      "x =  12.0 y =  -8.0 x/y =  -1.5\n",
      "x =  12.0 y =  -9.0 x/y =  -1.3333333333333333\n",
      "x =  12.0 y =  -10.0 x/y =  -1.2\n",
      "x =  12.0 y =  -11.0 x/y =  -1.0909090909090908\n",
      "x =  12.0 y =  -12.0 x/y =  -1.0\n"
     ]
    }
   ],
   "source": [
    "#NoErrorTrap.py\n",
    "x = 12.\n",
    "y = 12.\n",
    "while y >= -12.: # sentinel controlled repetition\n",
    "    if y == 0:\n",
    "        y -= 1\n",
    "        continue\n",
    "    print (\"x = \", x, \"y = \", y, \"x/y = \", x/y)\n",
    "    y -= 1"
   ]
  },
  {
   "cell_type": "code",
   "execution_count": 10,
   "metadata": {},
   "outputs": [
    {
     "name": "stdout",
     "output_type": "stream",
     "text": [
      "x =  12.0 y =  12.0 x/y =  1.0\n",
      "x =  12.0 y =  11.0 x/y =  1.0909090909090908\n",
      "x =  12.0 y =  10.0 x/y =  1.2\n",
      "x =  12.0 y =  9.0 x/y =  1.3333333333333333\n",
      "x =  12.0 y =  8.0 x/y =  1.5\n",
      "x =  12.0 y =  7.0 x/y =  1.7142857142857142\n",
      "x =  12.0 y =  6.0 x/y =  2.0\n",
      "x =  12.0 y =  5.0 x/y =  2.4\n",
      "x =  12.0 y =  4.0 x/y =  3.0\n",
      "x =  12.0 y =  3.0 x/y =  4.0\n",
      "x =  12.0 y =  2.0 x/y =  6.0\n",
      "x =  12.0 y =  1.0 x/y =  12.0\n",
      "error divide by zero\n",
      "x =  12.0 y =  -1.0 x/y =  -12.0\n",
      "x =  12.0 y =  -2.0 x/y =  -6.0\n",
      "x =  12.0 y =  -3.0 x/y =  -4.0\n",
      "x =  12.0 y =  -4.0 x/y =  -3.0\n",
      "x =  12.0 y =  -5.0 x/y =  -2.4\n",
      "x =  12.0 y =  -6.0 x/y =  -2.0\n",
      "x =  12.0 y =  -7.0 x/y =  -1.7142857142857142\n",
      "x =  12.0 y =  -8.0 x/y =  -1.5\n",
      "x =  12.0 y =  -9.0 x/y =  -1.3333333333333333\n",
      "x =  12.0 y =  -10.0 x/y =  -1.2\n",
      "x =  12.0 y =  -11.0 x/y =  -1.0909090909090908\n",
      "x =  12.0 y =  -12.0 x/y =  -1.0\n"
     ]
    }
   ],
   "source": [
    "#MyErrorTrap.py\n",
    "x = 12.\n",
    "y = 12.\n",
    "while y >= -12.: # sentinel controlled repetition\n",
    "    try:         \n",
    "        print (\"x = \", x, \"y = \", y, \"x/y = \", x/y)\n",
    "    except:\n",
    "        print (\"error divide by zero\")\n",
    "        \n",
    "    y -= 1"
   ]
  },
  {
   "cell_type": "code",
   "execution_count": 11,
   "metadata": {},
   "outputs": [
    {
     "name": "stdout",
     "output_type": "stream",
     "text": [
      "x =  12.0 y =  12.0 x/y =  1.0\n",
      "x =  12.0 y =  11.0 x/y =  1.0909090909090908\n",
      "x =  12.0 y =  10.0 x/y =  1.2\n",
      "x =  12.0 y =  9.0 x/y =  1.3333333333333333\n",
      "x =  12.0 y =  8.0 x/y =  1.5\n",
      "x =  12.0 y =  7.0 x/y =  1.7142857142857142\n",
      "x =  12.0 y =  6.0 x/y =  2.0\n",
      "x =  12.0 y =  5.0 x/y =  2.4\n",
      "x =  12.0 y =  4.0 x/y =  3.0\n",
      "x =  12.0 y =  3.0 x/y =  4.0\n",
      "x =  12.0 y =  2.0 x/y =  6.0\n",
      "x =  12.0 y =  1.0 x/y =  12.0\n",
      "error divide by zero\n",
      "x =  12.0 y =  -1.0 x/y =  -12.0\n",
      "x =  12.0 y =  -2.0 x/y =  -6.0\n",
      "x =  12.0 y =  -3.0 x/y =  -4.0\n",
      "x =  12.0 y =  -4.0 x/y =  -3.0\n",
      "x =  12.0 y =  -5.0 x/y =  -2.4\n",
      "x =  12.0 y =  -6.0 x/y =  -2.0\n",
      "x =  12.0 y =  -7.0 x/y =  -1.7142857142857142\n",
      "x =  12.0 y =  -8.0 x/y =  -1.5\n",
      "x =  12.0 y =  -9.0 x/y =  -1.3333333333333333\n",
      "x =  12.0 y =  -10.0 x/y =  -1.2\n",
      "x =  12.0 y =  -11.0 x/y =  -1.0909090909090908\n",
      "x =  12.0 y =  -12.0 x/y =  -1.0\n"
     ]
    }
   ],
   "source": [
    "#MyErrorTrap.py\n",
    "x = 12.\n",
    "y = 12.\n",
    "while y >= -12.: # sentinel controlled repetition\n",
    "    try:         \n",
    "        print (\"x = \", x, \"y = \", y, \"x/y = \", x/y)\n",
    "    except:\n",
    "        print (\"error divide by zero\")\n",
    "        \n",
    "    y -= 1"
   ]
  },
  {
   "cell_type": "code",
   "execution_count": 12,
   "metadata": {},
   "outputs": [
    {
     "name": "stdout",
     "output_type": "stream",
     "text": [
      "x =  12.0 y =  12.0 x/y =  1.0\n",
      "x =  12.0 y =  11.0 x/y =  1.0909090909090908\n",
      "x =  12.0 y =  10.0 x/y =  1.2\n",
      "x =  12.0 y =  9.0 x/y =  1.3333333333333333\n",
      "x =  12.0 y =  8.0 x/y =  1.5\n",
      "x =  12.0 y =  7.0 x/y =  1.7142857142857142\n",
      "x =  12.0 y =  6.0 x/y =  2.0\n",
      "x =  12.0 y =  5.0 x/y =  2.4\n",
      "x =  12.0 y =  4.0 x/y =  3.0\n",
      "x =  12.0 y =  3.0 x/y =  4.0\n",
      "x =  12.0 y =  2.0 x/y =  6.0\n",
      "x =  12.0 y =  1.0 x/y =  12.0\n",
      "error divide by zero\n",
      "x =  12.0 y =  -1.0 x/y =  -12.0\n",
      "x =  12.0 y =  -2.0 x/y =  -6.0\n",
      "x =  12.0 y =  -3.0 x/y =  -4.0\n",
      "x =  12.0 y =  -4.0 x/y =  -3.0\n",
      "x =  12.0 y =  -5.0 x/y =  -2.4\n",
      "x =  12.0 y =  -6.0 x/y =  -2.0\n",
      "x =  12.0 y =  -7.0 x/y =  -1.7142857142857142\n",
      "x =  12.0 y =  -8.0 x/y =  -1.5\n",
      "x =  12.0 y =  -9.0 x/y =  -1.3333333333333333\n",
      "x =  12.0 y =  -10.0 x/y =  -1.2\n",
      "x =  12.0 y =  -11.0 x/y =  -1.0909090909090908\n",
      "x =  12.0 y =  -12.0 x/y =  -1.0\n"
     ]
    }
   ],
   "source": [
    "#MyErrorTrap.py\n",
    "x = 12.\n",
    "y = 12.\n",
    "while y >= -12.: # sentinel controlled repetition\n",
    "    try:         \n",
    "        print (\"x = \", x, \"y = \", y, \"x/y = \", x/y)\n",
    "    except ZeroDivisionError:\n",
    "        print (\"error divide by zero\")\n",
    "        \n",
    "    y -= 1"
   ]
  },
  {
   "cell_type": "markdown",
   "metadata": {},
   "source": [
    "## Example 1\n",
    "Recieve a number greater than 2 and calculate the square root until it is no less than 2"
   ]
  },
  {
   "cell_type": "markdown",
   "metadata": {},
   "source": [
    "### Solve Without Considering Constraints"
   ]
  },
  {
   "cell_type": "code",
   "execution_count": 13,
   "metadata": {},
   "outputs": [
    {
     "name": "stdin",
     "output_type": "stream",
     "text": [
      "please input a number greater than 2: 3\n"
     ]
    },
    {
     "name": "stdout",
     "output_type": "stream",
     "text": [
      "Square root taken, x is now 1.7320508075688772\n",
      "the final answer is: 1.7320508075688772\n"
     ]
    }
   ],
   "source": [
    "x = int(input(\"please input a number greater than 2:\"))\n",
    "\n",
    "while x >= 2:\n",
    "    x = x**0.5\n",
    "    print(f\"Square root taken, x is now {x}\")\n",
    "print(f\"the final answer is: {x}\")\n",
    "    "
   ]
  },
  {
   "cell_type": "markdown",
   "metadata": {},
   "source": [
    "### Solve and resolve constraint that number should be greater than 2 using while loop"
   ]
  },
  {
   "cell_type": "code",
   "execution_count": 14,
   "metadata": {},
   "outputs": [
    {
     "name": "stdin",
     "output_type": "stream",
     "text": [
      "please input a number greater than 2:  4\n"
     ]
    },
    {
     "name": "stdout",
     "output_type": "stream",
     "text": [
      "Square root taken, x is now 2.0\n",
      "Square root taken, x is now 1.4142135623730951\n",
      "the final answer is: 1.4142135623730951\n"
     ]
    }
   ],
   "source": [
    "while True:\n",
    "    x = int(input(\"please input a number greater than 2: \"))\n",
    "    if x > 2:\n",
    "        break\n",
    "    else:\n",
    "        print(\"please enter a number greater than 2\")\n",
    "\n",
    "while x >= 2:\n",
    "    x = x**0.5\n",
    "    print(f\"Square root taken, x is now {x}\")\n",
    "print(f\"the final answer is: {x}\")"
   ]
  },
  {
   "cell_type": "markdown",
   "metadata": {},
   "source": [
    "### Solve and resolve constraint that number should be greater than 2 using try and except"
   ]
  },
  {
   "cell_type": "code",
   "execution_count": 15,
   "metadata": {},
   "outputs": [
    {
     "name": "stdin",
     "output_type": "stream",
     "text": [
      "please input a number greater than 2:  f\n"
     ]
    },
    {
     "name": "stdout",
     "output_type": "stream",
     "text": [
      "Please input an integer!\n"
     ]
    },
    {
     "name": "stdin",
     "output_type": "stream",
     "text": [
      "please input a number greater than 2:  1\n"
     ]
    },
    {
     "name": "stdout",
     "output_type": "stream",
     "text": [
      "Please input an integer greater than 2!\n"
     ]
    },
    {
     "name": "stdin",
     "output_type": "stream",
     "text": [
      "please input a number greater than 2:  5\n"
     ]
    },
    {
     "name": "stdout",
     "output_type": "stream",
     "text": [
      "Square root taken, x is now 2.23606797749979\n",
      "Square root taken, x is now 1.4953487812212205\n",
      "the final answer is: 1.4953487812212205\n"
     ]
    }
   ],
   "source": [
    "def get_num ():\n",
    "    while True:\n",
    "        try:\n",
    "            x = int(input(\"please input a number greater than 2: \"))\n",
    "        except:\n",
    "            print(\"Please input an integer!\")\n",
    "        else:\n",
    "            if x > 2:\n",
    "                return x\n",
    "            else:\n",
    "                print(\"Please input an integer greater than 2!\")\n",
    "x = get_num()\n",
    "\n",
    "while x >= 2:\n",
    "    x = x**0.5\n",
    "    print(f\"Square root taken, x is now {x}\")\n",
    "print(f\"the final answer is: {x}\")\n"
   ]
  },
  {
   "cell_type": "code",
   "execution_count": null,
   "metadata": {},
   "outputs": [],
   "source": []
  },
  {
   "cell_type": "markdown",
   "metadata": {},
   "source": [
    "## Example 2\n",
    "Sum all even numbers from 1 to n in which n is even and given by user."
   ]
  },
  {
   "cell_type": "code",
   "execution_count": 16,
   "metadata": {},
   "outputs": [
    {
     "name": "stdin",
     "output_type": "stream",
     "text": [
      "please input an integer, n, greater than 0 5\n"
     ]
    },
    {
     "name": "stdout",
     "output_type": "stream",
     "text": [
      "The sum of the even integers from 1 to 5 is 6\n"
     ]
    }
   ],
   "source": [
    "n = int(input(\"please input an integer, n, greater than 0\"))\n",
    "sum = 0\n",
    "for i in range(n+1):\n",
    "    if not (i%2):\n",
    "        sum += i\n",
    "\n",
    "print(f\"The sum of the even integers from 1 to {n} is {sum}\")\n",
    "        "
   ]
  },
  {
   "cell_type": "markdown",
   "metadata": {},
   "source": [
    "___\n",
    "## EXERCISE 5.1   (80 Marks)\n",
    "1. Using while loop sum all even numbers from 1 to n in which n is even and given by user."
   ]
  },
  {
   "cell_type": "code",
   "execution_count": 18,
   "metadata": {},
   "outputs": [
    {
     "name": "stdin",
     "output_type": "stream",
     "text": [
      "please input an even integer, n, greater than 0 3\n"
     ]
    },
    {
     "name": "stdout",
     "output_type": "stream",
     "text": [
      "Please input an even number greater than 0\n"
     ]
    },
    {
     "name": "stdin",
     "output_type": "stream",
     "text": [
      "please input an even integer, n, greater than 0 s\n"
     ]
    },
    {
     "name": "stdout",
     "output_type": "stream",
     "text": [
      "please input an integer only\n"
     ]
    },
    {
     "name": "stdin",
     "output_type": "stream",
     "text": [
      "please input an even integer, n, greater than 0 5\n"
     ]
    },
    {
     "name": "stdout",
     "output_type": "stream",
     "text": [
      "Please input an even number greater than 0\n"
     ]
    },
    {
     "name": "stdin",
     "output_type": "stream",
     "text": [
      "please input an even integer, n, greater than 0 12\n"
     ]
    },
    {
     "name": "stdout",
     "output_type": "stream",
     "text": [
      "The sum of the even integers from 1 to 12 is 42\n"
     ]
    }
   ],
   "source": [
    "def get_even_int ():\n",
    "    while True:\n",
    "        try:\n",
    "            n = int(input(\"please input an even integer, n, greater than 0\"))\n",
    "        except:\n",
    "            print(\"please input an integer only\")\n",
    "        else:\n",
    "            if not (n%2) and n > 0:\n",
    "                return n\n",
    "            else:\n",
    "                print(\"Please input an even number greater than 0\")\n",
    "\n",
    "def get_sum (n):\n",
    "    sum = 0\n",
    "    for i in range(n+1):\n",
    "        if not (i%2):\n",
    "            sum += i\n",
    "    return sum\n",
    "\n",
    "n = get_even_int()\n",
    "sum = get_sum(n)\n",
    "print(f\"The sum of the even integers from 1 to {n} is {sum}\")"
   ]
  },
  {
   "cell_type": "markdown",
   "metadata": {},
   "source": [
    "2. Using while write a code that counts number of characters in a string. "
   ]
  },
  {
   "cell_type": "code",
   "execution_count": 19,
   "metadata": {},
   "outputs": [
    {
     "name": "stdout",
     "output_type": "stream",
     "text": [
      "Your string is 11 characters long\n"
     ]
    }
   ],
   "source": [
    "my_str = \"Hello World\"\n",
    "\n",
    "count = 0\n",
    "while my_str != \"\":\n",
    "    my_str = my_str[:-1]\n",
    "    count += 1\n",
    "    \n",
    "print(f\"Your string is {count} characters long\")"
   ]
  },
  {
   "cell_type": "markdown",
   "metadata": {},
   "source": [
    "3. Below is code snippet which indends to increment **x** from 0 to 6 and calculate/print a **y** using different methods in different between.\n",
    "\n",
    "> If **x** is 0, **y** should be **x**.\n",
    "\n",
    "> If **x** is 1, **y** should be **x** times **x**.\n",
    "\n",
    "> Else **y** should be **x** plus 2.\n",
    "\n",
    "### However, there are a few errors with this code please fix it and comment to explain your fix.\n",
    "\n",
    "#### * Make sure to cite any resources that you may use. "
   ]
  },
  {
   "cell_type": "code",
   "execution_count": 20,
   "metadata": {},
   "outputs": [
    {
     "name": "stdout",
     "output_type": "stream",
     "text": [
      "---x--- | ---y---\n",
      "--------|--------\n",
      "   2    |     4 \n"
     ]
    }
   ],
   "source": [
    "x = 2\n",
    "\n",
    "print(\"---x---\",\"|\",\"---y---\")\n",
    "print(\"--------|--------\")\n",
    "\n",
    "while x > 6: # added a colon\n",
    "    x += 1 # indented block\n",
    "if x >= 0 and x < 1:\n",
    "    y = x\n",
    "    print(\"%4.f\" % x, \"   |\", \" %4.f \" % y)\n",
    "elif x >= 1 and x < 2:\n",
    "    y = x*x #indented block\n",
    "    print(\"%4.f\" % x, \"   |\", \" %4.f \" % y) #indented block\n",
    "else:\n",
    "    y = x+2\n",
    "    print(\"%4.f\" % x, \"   |\", \" %4.f \" % y)"
   ]
  },
  {
   "cell_type": "markdown",
   "metadata": {},
   "source": [
    "4. Print the Fibonacci sequence up to the 10th term using a while loop:"
   ]
  },
  {
   "cell_type": "code",
   "execution_count": 32,
   "metadata": {},
   "outputs": [
    {
     "name": "stdout",
     "output_type": "stream",
     "text": [
      "the first 10 fibonacci numbers (starting at zero) are: \n",
      "0 \n",
      "1\n",
      "1\n",
      "2\n",
      "3\n",
      "5\n",
      "8\n",
      "13\n",
      "21\n",
      "34\n"
     ]
    }
   ],
   "source": [
    "f = 0\n",
    "f1 = 1\n",
    "f2 = 0\n",
    "print(f\"the first 10 fibonacci numbers (starting at zero) are: \\n{f2} \\n{f1}\")\n",
    "\n",
    "count = 0\n",
    "while count < 8: # has 8 loops becasue we already found the first two numbers, 0 and 1\n",
    "    f = f1 + f2\n",
    "    f2 = f1\n",
    "    f1 = f\n",
    "    count += 1\n",
    "    print(f)"
   ]
  },
  {
   "cell_type": "markdown",
   "metadata": {},
   "source": [
    "---\n",
    "## Lab Exercise 5.2 (20 marks)\n",
    "Ensure you entered your full name and R Number in the top cell<br>\n",
    "Convert to PDF and submit both PDF and IPYNB"
   ]
  },
  {
   "cell_type": "markdown",
   "metadata": {},
   "source": [
    "___\n",
    "![](https://media2.giphy.com/media/5nj4ZZWl6QwneEaBX4/source.gif) <br>\n",
    "\n",
    "\n",
    "*Here are some great reads on this topic:* \n",
    "- __\"Python for Loop\"__ available at *https://www.programiz.com/python-programming/for-loop/<br>\n",
    "- __\"Python \"for\" Loops (Definite Iteration)\"__ by __John Sturtz__ available at *https://realpython.com/python-for-loop/ <br>\n",
    "- __\"Python \"while\" Loops (Indefinite Iteration)\"__ by __John Sturtz__ available at *https://realpython.com/python-while-loop/ <br>\n",
    "- __\"loops in python\"__ available at *https://www.geeksforgeeks.org/loops-in-python/ <br>\n",
    "- __\"Python Exceptions: An Introduction\"__ by __Said van de Klundert__ available at *https://realpython.com/python-exceptions/ <br>\n",
    "\n",
    "*Here are some great videos on these topics:* \n",
    "- __\"Python For Loops - Python Tutorial for Absolute Beginners\"__ by __Programming with Mosh__ available at *https://www.youtube.com/watch?v=94UHCEmprCY <br>\n",
    "- __\"Python Tutorial for Beginners 7: Loops and Iterations - For/While Loops\"__ by __Corey Schafer__ available at *https://www.youtube.com/watch?v=6iF8Xb7Z3wQ <br>\n",
    "- __\"Python 3 Programming Tutorial - For loop\"__ by __sentdex__ available at *https://www.youtube.com/watch?v=xtXexPSfcZg <br><br>"
   ]
  },
  {
   "cell_type": "markdown",
   "metadata": {},
   "source": [
    "![](https://media.csesoc.org.au/content/images/2019/10/learn11.gif) <br>\n",
    "___\n"
   ]
  },
  {
   "cell_type": "code",
   "execution_count": null,
   "metadata": {},
   "outputs": [],
   "source": []
  },
  {
   "cell_type": "markdown",
   "metadata": {},
   "source": [
    "![](https://i.pinimg.com/originals/51/97/7b/51977b7f744a0b085b593af84b0ec943.jpg)"
   ]
  }
 ],
 "metadata": {
  "kernelspec": {
   "display_name": "Python 3 (ipykernel)",
   "language": "python",
   "name": "python3"
  },
  "language_info": {
   "codemirror_mode": {
    "name": "ipython",
    "version": 3
   },
   "file_extension": ".py",
   "mimetype": "text/x-python",
   "name": "python",
   "nbconvert_exporter": "python",
   "pygments_lexer": "ipython3",
   "version": "3.12.4"
  }
 },
 "nbformat": 4,
 "nbformat_minor": 4
}
