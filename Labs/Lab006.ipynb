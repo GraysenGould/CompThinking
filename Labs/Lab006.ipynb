{
 "cells": [
  {
   "cell_type": "markdown",
   "metadata": {},
   "source": [
    "# <font color=darkred>Laboratory 6: Count Controlled Repetition </font>"
   ]
  },
  {
   "cell_type": "code",
   "execution_count": 1,
   "metadata": {},
   "outputs": [
    {
     "name": "stdout",
     "output_type": "stream",
     "text": [
      "GouldPC\n",
      "gouldpc\\gould\n",
      "C:\\Users\\gould\\anaconda3\\python.exe\n",
      "3.12.4 | packaged by Anaconda, Inc. | (main, Jun 18 2024, 15:03:56) [MSC v.1929 64 bit (AMD64)]\n",
      "sys.version_info(major=3, minor=12, micro=4, releaselevel='final', serial=0)\n"
     ]
    }
   ],
   "source": [
    "# Preamble script block to identify host, user, and kernel\n",
    "import sys\n",
    "! hostname\n",
    "! whoami\n",
    "print(sys.executable)\n",
    "print(sys.version)\n",
    "print(sys.version_info)"
   ]
  },
  {
   "cell_type": "markdown",
   "metadata": {},
   "source": [
    "## Full name: Graysen Gould\n",
    "## R#: 11944656\n",
    "## Title of the notebook: Loops, Looops, Loooooops\n",
    "## Date: 9-20-24\n",
    "___"
   ]
  },
  {
   "cell_type": "markdown",
   "metadata": {},
   "source": [
    "![](https://i.pinimg.com/originals/d0/45/12/d04512a3837fd4c7cf88efe26883e037.gif) <br>"
   ]
  },
  {
   "cell_type": "markdown",
   "metadata": {},
   "source": [
    "## <font color=purple>Program flow control (Loops)</font>\n",
    "- Controlled repetition\n",
    "- Structured FOR Loop\n",
    "- Structured WHILE Loop"
   ]
  },
  {
   "cell_type": "markdown",
   "metadata": {},
   "source": [
    "### <font color=purple>Count controlled repetition</font>\n",
    "![](https://chortle.ccsu.edu/assemblytutorial/Chapter-18/countingLoop.gif) <br>\n",
    "\n",
    "Count-controlled repetition is also called definite repetition because the number of repetitions is known before the loop begins executing. \n",
    "When we do not know in advance the number of times we want to execute a statement, we cannot use count-controlled repetition. \n",
    "In such an instance, we would use sentinel-controlled repetition. \n",
    "\n",
    "A count-controlled repetition will exit after running a certain number of times. \n",
    "The count is kept in a variable called an index or counter. \n",
    "When the index reaches a certain value (the loop bound) the loop will end. \n",
    "\n",
    "Count-controlled repetition requires\n",
    "\n",
    "* control variable (or loop counter)\n",
    "* initial value of the control variable\n",
    "* increment (or decrement) by which the control variable is modified each iteration through the loop\n",
    "* condition that tests for the final value of the control variable \n",
    "\n",
    "We can use both `for` and `while` loops, for count controlled repetition, but the `for` loop in combination with the `range()` function is more common.\n",
    "\n",
    "#### Structured `FOR` loop\n",
    "We have seen the for loop already, but we will formally introduce it here. The `for` loop executes a block of code repeatedly until the condition in the `for` statement is no longer true.\n",
    "\n",
    "#### Looping through an iterable\n",
    "An iterable is anything that can be looped over - typically a list, string, or tuple. \n",
    "The syntax for looping through an iterable is illustrated by an example.\n",
    "\n",
    "First a generic syntax\n",
    "\n",
    "    for a in iterable:\n",
    "    print(a)\n",
    "    \n",
    "Notice the colon `:` and the indentation.\n",
    "Now a specific example:"
   ]
  },
  {
   "cell_type": "markdown",
   "metadata": {},
   "source": [
    "___\n",
    "### Example: A Loop to Begin With! \n",
    "\n",
    "Make a list with \"Walter\", \"Jesse\", \"Gus, \"Hank\". Then, write a loop that prints all the elements of your lisk."
   ]
  },
  {
   "cell_type": "code",
   "execution_count": 2,
   "metadata": {},
   "outputs": [
    {
     "name": "stdout",
     "output_type": "stream",
     "text": [
      "Walter\n",
      "Jesse\n",
      "Gus\n",
      "Hank\n"
     ]
    }
   ],
   "source": [
    "# set a list\n",
    "BB = [\"Walter\",\"Jesse\",\"Gus\",\"Hank\"]\n",
    "# loop thru the list\n",
    "for AllStrings in BB:\n",
    "    print(AllStrings)"
   ]
  },
  {
   "cell_type": "markdown",
   "metadata": {},
   "source": [
    "___\n",
    "#### The `range()` function to create an iterable\n",
    "\n",
    "The `range(begin,end,increment)` function will create an iterable starting at a value of begin, in steps defined by increment (`begin += increment`), ending at `end`. \n",
    "\n",
    "So a generic syntax becomes\n",
    "\n",
    "    for a in range(begin,end,increment):\n",
    "    print(a)\n",
    "\n",
    "The example that follows is count-controlled repetition (increment skip if greater)"
   ]
  },
  {
   "cell_type": "code",
   "execution_count": 3,
   "metadata": {},
   "outputs": [
    {
     "name": "stdout",
     "output_type": "stream",
     "text": [
      "Walter\n",
      "Jesse\n",
      "Gus\n",
      "Hank\n"
     ]
    }
   ],
   "source": [
    "# set a list\n",
    "BB = [\"Walter\",\"Jesse\",\"Gus\",\"Hank\"]\n",
    "# loop thru the list\n",
    "for i in range(0,4,1): # Change the numbers, what happens?\n",
    "    print(BB[i])"
   ]
  },
  {
   "cell_type": "markdown",
   "metadata": {},
   "source": [
    "___\n",
    "### Example: That's odd! \n",
    "\n",
    "Write a loop to print all the odd numbers between 0 and 10."
   ]
  },
  {
   "cell_type": "code",
   "execution_count": 4,
   "metadata": {},
   "outputs": [
    {
     "name": "stdout",
     "output_type": "stream",
     "text": [
      "1\n",
      "3\n",
      "5\n",
      "7\n",
      "9\n"
     ]
    }
   ],
   "source": [
    "# For loop with range\n",
    "for x in range(1,10,2): # a sequence from 2 to 5 with steps of 1\n",
    "  print(x)"
   ]
  },
  {
   "cell_type": "markdown",
   "metadata": {},
   "source": [
    "___\n",
    "### <font color=purple>Nested Repetition | Loops within Loops</font>\n",
    " \n",
    "![](https://i.gifer.com/7kmF.gif) <br>\n",
    "\n"
   ]
  },
  {
   "cell_type": "markdown",
   "metadata": {},
   "source": [
    "> Round like a circle in a spiral, like a wheel within a wheel <br>\n",
    "Never ending or beginning on an ever spinning reel <br>\n",
    "Like a snowball down a mountain, or a carnival balloon <br>\n",
    "Like a carousel that's turning running rings around the moon <br>\n",
    "Like a clock whose hands are sweeping past the minutes of its face <br>\n",
    "And the world is like an apple whirling silently in space <br>\n",
    "Like the circles that you find in the windmills of your mind! <br>\n",
    "<br>\n",
    "***Windmills of Your Mind lyrics © Sony/ATV Music Publishing LLC, BMG Rights Management*** <br>\n",
    "***Songwriters: Marilyn Bergman / Michel Legrand / Alan Bergman*** <br>\n",
    "***Recommended versions: Neil Diamond | Dusty Springfield | Farhad Mehrad***  <br>"
   ]
  },
  {
   "cell_type": "markdown",
   "metadata": {},
   "source": [
    "\"Like the circles that you find in the windmills of your mind\", Nested repetition is when a control structure is placed inside of the body or main part of another control structure.\n",
    "\n",
    "#### `break` to exit out of a loop\n",
    "\n",
    "Sometimes you may want to exit the loop when a certain condition different from the counting\n",
    "condition is met. Perhaps you are looping through a list and want to exit when you find the\n",
    "first element in the list that matches some criterion. The break keyword is useful for such\n",
    "an operation.\n",
    "For example run the following program:"
   ]
  },
  {
   "cell_type": "code",
   "execution_count": 6,
   "metadata": {},
   "outputs": [
    {
     "name": "stdout",
     "output_type": "stream",
     "text": [
      "i =  0 j =  2\n",
      "i =  1 j =  4\n",
      "i =  2 j =  6\n"
     ]
    }
   ],
   "source": [
    "#\n",
    "j = 0\n",
    "for i in range(0,5,1):\n",
    "    j += 2\n",
    "    print (\"i = \",i,\"j = \",j)\n",
    "    if j == 6:\n",
    "        break"
   ]
  },
  {
   "cell_type": "code",
   "execution_count": 7,
   "metadata": {},
   "outputs": [
    {
     "name": "stdout",
     "output_type": "stream",
     "text": [
      "i =  0 j =  2\n",
      "i =  1 j =  4\n",
      "i =  2 j =  6\n",
      "i =  3 j =  8\n",
      "i =  4 j =  10\n"
     ]
    }
   ],
   "source": [
    "# One Small Change\n",
    "j = 0\n",
    "for i in range(0,5,1):\n",
    "    j += 2\n",
    "    print( \"i = \",i,\"j = \",j)\n",
    "    if j == 7:\n",
    "        break"
   ]
  },
  {
   "cell_type": "markdown",
   "metadata": {},
   "source": [
    "In the first case, the for loop only executes 3 times before the condition j == 6 is TRUE and the loop is exited. \n",
    "In the second case, j == 7 never happens so the loop completes all its anticipated traverses.\n",
    "\n",
    "In both cases an `if` statement was used within a for loop. Such \"mixed\" control structures\n",
    "are quite common (and pretty necessary). \n",
    "A `while` loop contained within a `for` loop, with several `if` statements would be very common and such a structure is called __nested control.__\n",
    "There is typically an upper limit to nesting but the limit is pretty large - easily in the\n",
    "hundreds. It depends on the language and the system architecture ; suffice to say it is not\n",
    "a practical limit except possibly for general-domain AI applications.\n",
    "<hr>\n",
    "We can also do mundane activities and leverage loops, arithmetic, and format codes to make useful tables like\n"
   ]
  },
  {
   "cell_type": "markdown",
   "metadata": {},
   "source": [
    "### Example: Cosines in the loop! \n",
    "\n",
    "Write a loop to print a table of the cosines of numbers between 0 and 0.01 with steps of 0.001."
   ]
  },
  {
   "cell_type": "code",
   "execution_count": 10,
   "metadata": {},
   "outputs": [
    {
     "name": "stdout",
     "output_type": "stream",
     "text": [
      "     Cosines     \n",
      "   x    |  cos(x) \n",
      "--------|--------\n",
      "0.000   |  1.0000 \n",
      "0.001   |  1.0000 \n",
      "0.002   |  1.0000 \n",
      "0.003   |  1.0000 \n",
      "0.004   |  1.0000 \n",
      "0.005   |  1.0000 \n",
      "0.006   |  1.0000 \n",
      "0.007   |  1.0000 \n",
      "0.008   |  1.0000 \n",
      "0.009   |  1.0000 \n",
      "0.010   |  1.0000 \n",
      "0.011   |  0.9999 \n",
      "0.012   |  0.9999 \n",
      "0.013   |  0.9999 \n",
      "0.014   |  0.9999 \n",
      "0.015   |  0.9999 \n",
      "0.016   |  0.9999 \n",
      "0.017   |  0.9999 \n",
      "0.018   |  0.9998 \n",
      "0.019   |  0.9998 \n",
      "0.020   |  0.9998 \n",
      "0.021   |  0.9998 \n",
      "0.022   |  0.9998 \n",
      "0.023   |  0.9997 \n",
      "0.024   |  0.9997 \n",
      "0.025   |  0.9997 \n",
      "0.026   |  0.9997 \n",
      "0.027   |  0.9996 \n",
      "0.028   |  0.9996 \n",
      "0.029   |  0.9996 \n",
      "0.030   |  0.9996 \n",
      "0.031   |  0.9995 \n",
      "0.032   |  0.9995 \n",
      "0.033   |  0.9995 \n",
      "0.034   |  0.9994 \n",
      "0.035   |  0.9994 \n",
      "0.036   |  0.9994 \n",
      "0.037   |  0.9993 \n",
      "0.038   |  0.9993 \n",
      "0.039   |  0.9992 \n",
      "0.040   |  0.9992 \n",
      "0.041   |  0.9992 \n",
      "0.042   |  0.9991 \n",
      "0.043   |  0.9991 \n",
      "0.044   |  0.9990 \n",
      "0.045   |  0.9990 \n",
      "0.046   |  0.9989 \n",
      "0.047   |  0.9989 \n",
      "0.048   |  0.9988 \n",
      "0.049   |  0.9988 \n",
      "0.050   |  0.9988 \n",
      "0.051   |  0.9987 \n",
      "0.052   |  0.9986 \n",
      "0.053   |  0.9986 \n",
      "0.054   |  0.9985 \n",
      "0.055   |  0.9985 \n",
      "0.056   |  0.9984 \n",
      "0.057   |  0.9984 \n",
      "0.058   |  0.9983 \n",
      "0.059   |  0.9983 \n",
      "0.060   |  0.9982 \n",
      "0.061   |  0.9981 \n",
      "0.062   |  0.9981 \n",
      "0.063   |  0.9980 \n",
      "0.064   |  0.9980 \n",
      "0.065   |  0.9979 \n",
      "0.066   |  0.9978 \n",
      "0.067   |  0.9978 \n",
      "0.068   |  0.9977 \n",
      "0.069   |  0.9976 \n",
      "0.070   |  0.9976 \n",
      "0.071   |  0.9975 \n",
      "0.072   |  0.9974 \n",
      "0.073   |  0.9973 \n",
      "0.074   |  0.9973 \n",
      "0.075   |  0.9972 \n",
      "0.076   |  0.9971 \n",
      "0.077   |  0.9970 \n",
      "0.078   |  0.9970 \n",
      "0.079   |  0.9969 \n",
      "0.080   |  0.9968 \n",
      "0.081   |  0.9967 \n",
      "0.082   |  0.9966 \n",
      "0.083   |  0.9966 \n",
      "0.084   |  0.9965 \n",
      "0.085   |  0.9964 \n",
      "0.086   |  0.9963 \n",
      "0.087   |  0.9962 \n",
      "0.088   |  0.9961 \n",
      "0.089   |  0.9960 \n",
      "0.090   |  0.9960 \n",
      "0.091   |  0.9959 \n",
      "0.092   |  0.9958 \n",
      "0.093   |  0.9957 \n",
      "0.094   |  0.9956 \n",
      "0.095   |  0.9955 \n",
      "0.096   |  0.9954 \n",
      "0.097   |  0.9953 \n",
      "0.098   |  0.9952 \n",
      "0.099   |  0.9951 \n"
     ]
    }
   ],
   "source": [
    "import math # package that contains cosine\n",
    "print(\"     Cosines     \")\n",
    "print(\"   x   \",\"|\",\" cos(x) \")\n",
    "print(\"--------|--------\")\n",
    "for i in range(0,100,1):\n",
    "    x = float(i)*0.001\n",
    "    print(\"%.3f\" % x, \"  |\", \" %.4f \"  % math.cos(x)) # note the format code and the placeholder % and syntax of using package"
   ]
  },
  {
   "cell_type": "markdown",
   "metadata": {},
   "source": [
    "___\n",
    "### Example: Getting the hang of it! \n",
    "\n",
    "Write a Python script that takes a real input value (a float) for x and returns the y\n",
    "value according to the rules below\n",
    "\n",
    "\\begin{gather}\n",
    "y = x~for~0 <= x < 1 \\\\\n",
    "y = x^2~for~1 <= x < 2 \\\\\n",
    "y = x + 2~for~2 <= x < 3 \\\\\n",
    "\\end{gather}\n",
    "\n",
    "Test the script with x values of 0.0, 1.0, 1.1, and 2.1. <br>\n",
    "add functionality to **automaticaly** populate the table below:\n",
    "\n",
    "|x|y(x)|\n",
    "|---:|---:|\n",
    "|0.0|  |\n",
    "|1.0|  |\n",
    "|2.0|  |\n",
    "|3.0|  |\n",
    "|4.0|  |\n",
    "|5.0|  |"
   ]
  },
  {
   "cell_type": "code",
   "execution_count": 16,
   "metadata": {},
   "outputs": [
    {
     "name": "stdin",
     "output_type": "stream",
     "text": [
      "Enter enter a float 2.1\n"
     ]
    },
    {
     "name": "stdout",
     "output_type": "stream",
     "text": [
      "x: 2.1\n",
      "y is equal to 4.1\n"
     ]
    }
   ],
   "source": [
    "userInput = input('Enter enter a float') #ask for user's input\n",
    "x = float(userInput)\n",
    "print(\"x:\", x)\n",
    "\n",
    "if x >= 0 and x < 1:\n",
    "    y = x\n",
    "    print(\"y is equal to\",y)\n",
    "elif x >= 1 and x < 2:\n",
    "    y = x*x\n",
    "    print(\"y is equal to\",y)\n",
    "else:\n",
    "    y = x+2\n",
    "    print(\"y is equal to\",y)"
   ]
  },
  {
   "cell_type": "code",
   "execution_count": 17,
   "metadata": {},
   "outputs": [
    {
     "name": "stdout",
     "output_type": "stream",
     "text": [
      "Requirement already satisfied: prettytable in c:\\users\\gould\\anaconda3\\lib\\site-packages (3.11.0)\n",
      "Requirement already satisfied: wcwidth in c:\\users\\gould\\appdata\\roaming\\python\\python312\\site-packages (from prettytable) (0.2.13)\n"
     ]
    },
    {
     "name": "stderr",
     "output_type": "stream",
     "text": [
      "WARNING: Skipping C:\\Users\\gould\\anaconda3\\Lib\\site-packages\\certifi-2024.6.2.dist-info due to invalid metadata entry 'name'\n",
      "WARNING: Skipping C:\\Users\\gould\\anaconda3\\Lib\\site-packages\\conda-24.5.0.dist-info due to invalid metadata entry 'name'\n",
      "WARNING: Skipping C:\\Users\\gould\\anaconda3\\Lib\\site-packages\\certifi-2024.6.2.dist-info due to invalid metadata entry 'name'\n",
      "WARNING: Skipping C:\\Users\\gould\\anaconda3\\Lib\\site-packages\\conda-24.5.0.dist-info due to invalid metadata entry 'name'\n",
      "WARNING: Skipping C:\\Users\\gould\\anaconda3\\Lib\\site-packages\\certifi-2024.6.2.dist-info due to invalid metadata entry 'name'\n",
      "WARNING: Skipping C:\\Users\\gould\\anaconda3\\Lib\\site-packages\\conda-24.5.0.dist-info due to invalid metadata entry 'name'\n",
      "WARNING: Skipping C:\\Users\\gould\\anaconda3\\Lib\\site-packages\\certifi-2024.6.2.dist-info due to invalid metadata entry 'name'\n",
      "WARNING: Skipping C:\\Users\\gould\\anaconda3\\Lib\\site-packages\\conda-24.5.0.dist-info due to invalid metadata entry 'name'\n",
      "WARNING: Skipping C:\\Users\\gould\\anaconda3\\Lib\\site-packages\\certifi-2024.6.2.dist-info due to invalid metadata entry 'name'\n",
      "WARNING: Skipping C:\\Users\\gould\\anaconda3\\Lib\\site-packages\\conda-24.5.0.dist-info due to invalid metadata entry 'name'\n",
      "WARNING: Skipping C:\\Users\\gould\\anaconda3\\Lib\\site-packages\\certifi-2024.6.2.dist-info due to invalid metadata entry 'name'\n",
      "WARNING: Skipping C:\\Users\\gould\\anaconda3\\Lib\\site-packages\\conda-24.5.0.dist-info due to invalid metadata entry 'name'\n"
     ]
    }
   ],
   "source": [
    "# Later we will explain more on installing Libraries but for now just run this cell to install pretty table\n",
    "!pip install prettytable"
   ]
  },
  {
   "cell_type": "code",
   "execution_count": 12,
   "metadata": {},
   "outputs": [
    {
     "name": "stdout",
     "output_type": "stream",
     "text": [
      "---x--- | ---y---\n",
      "--------|--------\n",
      "   0    |     0 \n",
      "   1    |     1 \n",
      "   2    |     4 \n",
      "   3    |     5 \n",
      "   4    |     6 \n",
      "   5    |     7 \n"
     ]
    }
   ],
   "source": [
    "# without pretty table\n",
    "\n",
    "print(\"---x---\",\"|\",\"---y---\")\n",
    "print(\"--------|--------\")\n",
    "for x in range(0,6,1):\n",
    "    if x >= 0 and x < 1:\n",
    "        y = x\n",
    "        print(\"%4.f\" % x, \"   |\", \" %4.f \" % y)\n",
    "    elif x >= 1 and x < 2:\n",
    "        y = x*x\n",
    "        print(\"%4.f\" % x, \"   |\", \" %4.f \" % y)\n",
    "    else:\n",
    "        y = x+2\n",
    "        print(\"%4.f\" % x, \"   |\", \" %4.f \" % y)"
   ]
  },
  {
   "cell_type": "code",
   "execution_count": 13,
   "metadata": {},
   "outputs": [
    {
     "name": "stdout",
     "output_type": "stream",
     "text": [
      "for x equal to 0 , y is equal to 0\n",
      "for x equal to 1 , y is equal to 1\n",
      "for x equal to 2 , y is equal to 4\n",
      "for x equal to 3 , y is equal to 5\n",
      "for x equal to 4 , y is equal to 6\n",
      "for x equal to 5 , y is equal to 7\n",
      "+---+---+\n",
      "| x | y |\n",
      "+---+---+\n",
      "| 0 | 0 |\n",
      "| 1 | 1 |\n",
      "| 2 | 4 |\n",
      "| 3 | 5 |\n",
      "| 4 | 6 |\n",
      "| 5 | 7 |\n",
      "+---+---+\n"
     ]
    }
   ],
   "source": [
    "# with pretty table\n",
    "\n",
    "from prettytable import PrettyTable #Required to create tables\n",
    "\n",
    "t = PrettyTable(['x', 'y']) #Define an empty table\n",
    "\n",
    "\n",
    "for x in range(0,6,1):\n",
    "    if x >= 0 and x < 1:\n",
    "        y = x\n",
    "        print(\"for x equal to\", x, \", y is equal to\",y)\n",
    "        t.add_row([x, y]) #will add a row to the table \"t\"\n",
    "    elif x >= 1 and x < 2:\n",
    "        y = x*x\n",
    "        print(\"for x equal to\", x, \", y is equal to\",y)\n",
    "        t.add_row([x, y])\n",
    "    else:\n",
    "        y = x+2\n",
    "        print(\"for x equal to\", x, \", y is equal to\",y)\n",
    "        t.add_row([x, y])\n",
    "\n",
    "print(t)"
   ]
  },
  {
   "cell_type": "markdown",
   "metadata": {},
   "source": [
    "___\n",
    "#### The `continue` statement\n",
    "The continue instruction skips the block of code after it is executed for that iteration. \n",
    "It is\n",
    "best illustrated by an example."
   ]
  },
  {
   "cell_type": "code",
   "execution_count": 18,
   "metadata": {},
   "outputs": [
    {
     "name": "stdout",
     "output_type": "stream",
     "text": [
      "\n",
      " i =  0 , j =  2\n",
      " this message will be skipped over if j = 6 \n",
      "\n",
      " i =  1 , j =  4\n",
      " this message will be skipped over if j = 6 \n",
      "\n",
      " i =  2 , j =  6\n",
      "\n",
      " i =  3 , j =  8\n",
      " this message will be skipped over if j = 6 \n",
      "\n",
      " i =  4 , j =  10\n",
      " this message will be skipped over if j = 6 \n"
     ]
    }
   ],
   "source": [
    "j = 0\n",
    "for i in range(0,5,1):\n",
    "    j += 2\n",
    "    print (\"\\n i = \", i , \", j = \", j) #here the \\n is a newline command\n",
    "    if j == 6:\n",
    "        continue\n",
    "    print(\" this message will be skipped over if j = 6 \") # still within the loop, so the skip is implemented\n",
    "    \n",
    "#When j ==6 the line after the continue keyword is not printed. \n",
    "#Other than that one difference the rest of the script runs normally."
   ]
  },
  {
   "cell_type": "code",
   "execution_count": null,
   "metadata": {},
   "outputs": [],
   "source": []
  },
  {
   "cell_type": "markdown",
   "metadata": {},
   "source": [
    "### Example 1\n",
    "\n",
    "Write a code that counts number of characters in a string. "
   ]
  },
  {
   "cell_type": "code",
   "execution_count": 19,
   "metadata": {},
   "outputs": [
    {
     "name": "stdout",
     "output_type": "stream",
     "text": [
      "The length of \"Coding is Awsome!\" is 17\n"
     ]
    }
   ],
   "source": [
    "my_str = \"Coding is Awsome!\"\n",
    "count = 0\n",
    "for i in my_str:\n",
    "    count += 1\n",
    "print(f\"The length of \\\"{my_str}\\\" is {count}\")"
   ]
  },
  {
   "cell_type": "markdown",
   "metadata": {},
   "source": [
    "### Example 2\n",
    "Write a script that adds all the digits of an integer. if the resulting sum is more than one digit keep repeating till the sum is  one digit"
   ]
  },
  {
   "cell_type": "code",
   "execution_count": 27,
   "metadata": {},
   "outputs": [
    {
     "name": "stdout",
     "output_type": "stream",
     "text": [
      "2\n"
     ]
    }
   ],
   "source": [
    "# example using recursion just for practice\n",
    "def add_digits (num):\n",
    "    str_num = str(num)\n",
    "    sum = 0\n",
    "    for n in str_num:\n",
    "        sum += int(n)\n",
    "\n",
    "    if sum >= 10:\n",
    "        return add_digits(sum)\n",
    "    else:\n",
    "        return sum\n",
    "\n",
    "\n",
    "print(add_digits(506))\n",
    "\n",
    "# on the first round, 5 + 6 = 11\n",
    "# on the secoond round, 1 + 1 = 2"
   ]
  },
  {
   "cell_type": "markdown",
   "metadata": {},
   "source": [
    "## EXERCISE 6.1 (80 marks)\n",
    "1. Print your name in 3 rows and columns by using nested for loops"
   ]
  },
  {
   "cell_type": "code",
   "execution_count": 29,
   "metadata": {},
   "outputs": [
    {
     "name": "stdout",
     "output_type": "stream",
     "text": [
      "Graysen Graysen Graysen \n",
      "Graysen Graysen Graysen \n",
      "Graysen Graysen Graysen \n"
     ]
    }
   ],
   "source": [
    "#Write your code here\n",
    "for i in range(3):\n",
    "    for j in range (3):\n",
    "        print(\"Graysen \", end = \"\")\n",
    "    print(\"\")"
   ]
  },
  {
   "cell_type": "markdown",
   "metadata": {},
   "source": [
    "2. FOR or WHILE? <br>\n",
    "1000 people have asked to be enlisted to take the first dose of COVID-19 vaccine. You are asked to write a loop and allow the ones who meet the requirements to take the shot. What kind of loop will you use? a FOR loop or a WHILE loop? Explain the logic behind your choice briefly. \n"
   ]
  },
  {
   "cell_type": "markdown",
   "metadata": {},
   "source": [
    "A for loop would be best in this case. It is likely that we would have a database, with each person having thier information in a column. We would have to itterate over the name column, grab the name, then get the row for the name, and check if they are elligible for the vaccine. \n",
    "\n",
    "If we used a while loop, we would simply be mimicking the functionality of a for loop, which does not make sense."
   ]
  },
  {
   "cell_type": "markdown",
   "metadata": {},
   "source": [
    "3. Print a pattern of stars using nested for loops:"
   ]
  },
  {
   "cell_type": "code",
   "execution_count": 39,
   "metadata": {},
   "outputs": [
    {
     "name": "stdout",
     "output_type": "stream",
     "text": [
      "*\n",
      "**\n",
      "***\n",
      "****\n",
      "*****\n",
      "******\n"
     ]
    }
   ],
   "source": [
    "def make_stars (n):\n",
    "    for i in range(1,n+1):\n",
    "        for j in range(i):\n",
    "            print(\"*\", end = \"\")\n",
    "        print(\"\")\n",
    "\n",
    "make_stars(6)"
   ]
  },
  {
   "cell_type": "markdown",
   "metadata": {},
   "source": [
    "# 4. Find the first occurrence of a number 8  in a my_list using a loop: <br>\n",
    "my_list = [3,7,9,2,80,45,34,78,8,2,7,90,93,12,46,8,34,8,4,90,4]"
   ]
  },
  {
   "cell_type": "code",
   "execution_count": 47,
   "metadata": {},
   "outputs": [
    {
     "name": "stdout",
     "output_type": "stream",
     "text": [
      "found the number 8 at index 8\n"
     ]
    }
   ],
   "source": [
    "def find_num (my_list, num):\n",
    "    for i in range(len(my_list)):\n",
    "        if my_list[i] == num:\n",
    "            print(f\"found the number {num} at index {i}\")\n",
    "            break\n",
    "\n",
    "my_list = [3,7,9,2,80,45,34,78,8,2,7,90,93,12,46,8,34,8,4,90,4]\n",
    "find_num(my_list, 8)"
   ]
  },
  {
   "cell_type": "markdown",
   "metadata": {},
   "source": [
    "5. Calculate the sum of numbers from 1 to 100 using a loop:"
   ]
  },
  {
   "cell_type": "code",
   "execution_count": 65,
   "metadata": {},
   "outputs": [
    {
     "name": "stdout",
     "output_type": "stream",
     "text": [
      "the sum from 1 to 100 is 5050\n"
     ]
    }
   ],
   "source": [
    "sum = 0\n",
    "up_to = 100\n",
    "for i in range(1, up_to + 1):\n",
    "    sum += i\n",
    "print(f\"the sum from 1 to {up_to} is {sum}\")"
   ]
  },
  {
   "cell_type": "markdown",
   "metadata": {},
   "source": [
    "6. Find all prime numbers between 1 and 50 using nested for and if: <br>\n",
    "Hint: You will need an outer loop that iterates from 2 to 50, and the inner for loop checks for divisibility of num by numbers from 2 to num. If it is divisible by any number, the inner loop is broken, otherwise, the else block is executed, and the number is printed."
   ]
  },
  {
   "cell_type": "code",
   "execution_count": 52,
   "metadata": {},
   "outputs": [
    {
     "name": "stdout",
     "output_type": "stream",
     "text": [
      "the primes from 1 to 50 is [1, 2, 3, 5, 7, 11, 13, 17, 19, 23, 29, 31, 37, 41, 43, 47]\n"
     ]
    }
   ],
   "source": [
    "primes = [1]\n",
    "for num in range(2, 51):\n",
    "    prime = True\n",
    "    for i in range(2, num):\n",
    "        if (num%i == 0):\n",
    "            prime = False\n",
    "    if prime:\n",
    "        primes.append(num)\n",
    "\n",
    "print(f\"the primes from 1 to 50 is {primes}\")"
   ]
  },
  {
   "cell_type": "markdown",
   "metadata": {},
   "source": [
    "7. Find the common elements in two lists using a for loop: <br>\n",
    "list1 = [1, 2, 3, 4, 5,6,9,3,7,9] <br>\n",
    "list2 = [3, 4, 5, 6, 7,65,4,7,3,2,8] <br>"
   ]
  },
  {
   "cell_type": "code",
   "execution_count": 66,
   "metadata": {},
   "outputs": [
    {
     "name": "stdout",
     "output_type": "stream",
     "text": [
      "The intersection of list1 and list2 is [2, 3, 4, 5, 6, 7]\n"
     ]
    }
   ],
   "source": [
    "list1 = [1, 2, 3, 4, 5,6,9,3,7,9]\n",
    "list2 = [3, 4, 5, 6, 7,65,4,7,3,2,8]\n",
    "intersection = []\n",
    "\n",
    "for i in list1:\n",
    "    if i in list2 and i not in intersection:\n",
    "        intersection.append(i)\n",
    "        \n",
    "print(f\"The intersection of list1 and list2 is {intersection}\")\n",
    "# Note: all items in the list intersection are unique"
   ]
  },
  {
   "cell_type": "markdown",
   "metadata": {},
   "source": [
    "8. Print numbers from 1 to 10. If a number is divisible by 4, stop the loop using a for loop and break statement:"
   ]
  },
  {
   "cell_type": "code",
   "execution_count": 64,
   "metadata": {},
   "outputs": [
    {
     "name": "stdout",
     "output_type": "stream",
     "text": [
      "1\n",
      "2\n",
      "3\n"
     ]
    }
   ],
   "source": [
    "for i in range(1,11):\n",
    "    if i % 4 == 0:\n",
    "        break\n",
    "    print(i)"
   ]
  },
  {
   "cell_type": "markdown",
   "metadata": {},
   "source": [
    "---\n",
    "## Lab Exercise 6.2 (20 marks)\n",
    "Ensure you entered your full name and R Number in the top cell<br>\n",
    "Convert to PDF and submit both PDF and IPYNB\n"
   ]
  },
  {
   "cell_type": "markdown",
   "metadata": {},
   "source": [
    "___\n",
    "![](https://media2.giphy.com/media/5nj4ZZWl6QwneEaBX4/source.gif) <br>\n",
    "\n",
    "\n",
    "*Here are some great reads on this topic:* \n",
    "- __\"Python for Loop\"__ available at *https://www.programiz.com/python-programming/for-loop/<br>\n",
    "- __\"Python \"for\" Loops (Definite Iteration)\"__ by __John Sturtz__ available at *https://realpython.com/python-for-loop/ <br>\n",
    "- __\"Python \"while\" Loops (Indefinite Iteration)\"__ by __John Sturtz__ available at *https://realpython.com/python-while-loop/ <br>\n",
    "- __\"loops in python\"__ available at *https://www.geeksforgeeks.org/loops-in-python/ <br>\n",
    "- __\"Python Exceptions: An Introduction\"__ by __Said van de Klundert__ available at *https://realpython.com/python-exceptions/ <br>\n",
    "\n",
    "*Here are some great videos on these topics:* \n",
    "- __\"Python For Loops - Python Tutorial for Absolute Beginners\"__ by __Programming with Mosh__ available at *https://www.youtube.com/watch?v=94UHCEmprCY <br>\n",
    "- __\"Python Tutorial for Beginners 7: Loops and Iterations - For/While Loops\"__ by __Corey Schafer__ available at *https://www.youtube.com/watch?v=6iF8Xb7Z3wQ <br>\n",
    "- __\"Python 3 Programming Tutorial - For loop\"__ by __sentdex__ available at *https://www.youtube.com/watch?v=xtXexPSfcZg <br><br>"
   ]
  },
  {
   "cell_type": "markdown",
   "metadata": {},
   "source": [
    "![](https://quotefancy.com/media/wallpaper/3840x2160/506210-Mason-Cooley-Quote-Reason-cannot-break-out-of-its-own-loop.jpg)"
   ]
  }
 ],
 "metadata": {
  "kernelspec": {
   "display_name": "Python 3 (ipykernel)",
   "language": "python",
   "name": "python3"
  },
  "language_info": {
   "codemirror_mode": {
    "name": "ipython",
    "version": 3
   },
   "file_extension": ".py",
   "mimetype": "text/x-python",
   "name": "python",
   "nbconvert_exporter": "python",
   "pygments_lexer": "ipython3",
   "version": "3.12.4"
  }
 },
 "nbformat": 4,
 "nbformat_minor": 4
}
