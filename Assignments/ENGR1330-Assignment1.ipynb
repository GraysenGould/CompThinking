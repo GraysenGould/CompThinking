{
 "cells": [
  {
   "cell_type": "markdown",
   "metadata": {},
   "source": [
    "## Assignment-1 (100 points)"
   ]
  },
  {
   "cell_type": "markdown",
   "metadata": {},
   "source": [
    "**Name: Graysen Gould**\n",
    "\n",
    "**R number: R11944656**"
   ]
  },
  {
   "cell_type": "code",
   "execution_count": 1,
   "metadata": {},
   "outputs": [
    {
     "name": "stdout",
     "output_type": "stream",
     "text": [
      "GouldPC\n",
      "gouldpc\\gouldC:\\Users\\gould\\anaconda3\\python.exe\n",
      "3.12.4 | packaged by Anaconda, Inc. | (main, Jun 18 2024, 15:03:56) [MSC v.1929 64 bit (AMD64)]\n",
      "sys.version_info(major=3, minor=12, micro=4, releaselevel='final', serial=0)\n",
      "\n"
     ]
    }
   ],
   "source": [
    "# RUN this cell only, do not modify it\n",
    "import sys\n",
    "! hostname\n",
    "! whoami\n",
    "print(sys.executable)\n",
    "print(sys.version)\n",
    "print(sys.version_info)"
   ]
  },
  {
   "cell_type": "markdown",
   "metadata": {},
   "source": [
    "**Exercise-1: Run the cell below**"
   ]
  },
  {
   "cell_type": "markdown",
   "metadata": {},
   "source": [
    "**(20 points)**"
   ]
  },
  {
   "cell_type": "code",
   "execution_count": 3,
   "metadata": {
    "collapsed": false,
    "jupyter": {
     "outputs_hidden": false
    }
   },
   "outputs": [
    {
     "name": "stdout",
     "output_type": "stream",
     "text": [
      "5\n",
      "3 + 2\n",
      "Dusty 5.0\n",
      "MyName MyNumber\n"
     ]
    }
   ],
   "source": [
    "print(3 + 2 )\n",
    "print('3 + 2')\n",
    "\n",
    "MyNumber = 3+2.0\n",
    "MyName = 'Dusty'\n",
    "\n",
    "print(MyName, MyNumber)\n",
    "print('MyName', 'MyNumber')"
   ]
  },
  {
   "cell_type": "markdown",
   "metadata": {},
   "source": [
    "**Answer the following questions based on the output**\n",
    "\n",
    "**1.  What is the difference between `print(3 + 2)` and `print('3 + 2')`?**\n",
    "\n",
    "**2.  What is the difference between `print(MyName, MyNumber)` and `print('MyName', 'MyNumber')`?**\n",
    "\n",
    "\n",
    "**3.  Change `MyNumber = 3+2` to `MyNumber = 3+2.0`, and re-run the script, what happens? Why?**\n"
   ]
  },
  {
   "cell_type": "markdown",
   "metadata": {},
   "source": [
    "**Write your answers  in the markdown cells below:**"
   ]
  },
  {
   "cell_type": "markdown",
   "metadata": {},
   "source": [
    "##### 1: The difference is that print(3+2) outputs the addition of two integers, and print('3+2') outputs the literal string '3 + 2'\n"
   ]
  },
  {
   "cell_type": "markdown",
   "metadata": {},
   "source": [
    "##### 2. In the first print expression, the two arguments are variables, so the print() function outputs the values of the variables. In the second statement, the two arguments are strings because they have quotations, so the print() function prints out the literal strings 'MyName' and 'MyNumber'\n",
    "\n",
    "\n",
    "\n"
   ]
  },
  {
   "cell_type": "markdown",
   "metadata": {},
   "source": [
    "##### 3. Since 2, and integer, was changed to 2.0, a float, the addition of these two numbers now has to be a float. In other words, type int + type float = type float\n"
   ]
  },
  {
   "cell_type": "markdown",
   "metadata": {},
   "source": [
    "**Exercise-2:**\n",
    "\n",
    "**Create a simple script that illustrates the following types of variables**\n",
    "\n",
    "- **integer**\n",
    "- **floating point (real)**\n",
    "- **string (alphanumeric)**\n",
    "- **boolean**\n",
    "\n",
    "**by** \n",
    "\n",
    "**1. Assigning a value to a string, integer, float, and boolean variable.  Use meaningful names for each variable.**  \n",
    "**2. Print the contents of each variable.**"
   ]
  },
  {
   "cell_type": "markdown",
   "metadata": {},
   "source": [
    "**(10 points)**"
   ]
  },
  {
   "cell_type": "code",
   "execution_count": 31,
   "metadata": {
    "collapsed": false,
    "jupyter": {
     "outputs_hidden": false
    }
   },
   "outputs": [],
   "source": [
    "# 1.\n",
    "favorite_int = 7\n",
    "favorite_float = 3.1415\n",
    "greeting = \"Hello World\"\n",
    "feeling_tired = True"
   ]
  },
  {
   "cell_type": "code",
   "execution_count": 32,
   "metadata": {},
   "outputs": [
    {
     "name": "stdout",
     "output_type": "stream",
     "text": [
      "My integer is: 7\n",
      "My floating point number is: 3.1415\n",
      "My String is: Hello World\n",
      "My boolean value is: True\n"
     ]
    }
   ],
   "source": [
    "# 2. \n",
    "\n",
    "print(f\"My integer is: {favorite_int}\")\n",
    "print(f\"My floating point number is: {favorite_float}\")\n",
    "print(f\"My String is: {greeting}\")\n",
    "print(f\"My boolean value is: {feeling_tired}\")"
   ]
  },
  {
   "cell_type": "markdown",
   "metadata": {},
   "source": [
    "**Exercise-3: Run the code cell below.  Now, calculate the expressions in the code cell below by hand and see if your output matches the Python output.** "
   ]
  },
  {
   "cell_type": "markdown",
   "metadata": {},
   "source": [
    "**(20 points)**"
   ]
  },
  {
   "cell_type": "code",
   "execution_count": 33,
   "metadata": {
    "collapsed": false,
    "jupyter": {
     "outputs_hidden": false
    }
   },
   "outputs": [
    {
     "name": "stdout",
     "output_type": "stream",
     "text": [
      "x1: 15.0\n",
      "x2: 3.0\n",
      "x3: 324.0\n"
     ]
    }
   ],
   "source": [
    "x1 = 7 + 3 * 6 / 2 - 1 # I calculated this by hand to be 15\n",
    "x2 = 2 % (2 + 2) * 2 - 2 / 2 # I calculated this by hand to be 3\n",
    "x3 = ( 3 * 9 * ( 3 + ( 9 * 3 / ( 3 ) ) ) ) # I calculated this by hand to be 324\n",
    "\n",
    "print(\"x1:\", x1)\n",
    "print(\"x2:\", x2)\n",
    "print(\"x3:\", x3)\n",
    "\n",
    "# all of the outputs match my hand calculations. the only difference is that they are all floats, not integers. "
   ]
  },
  {
   "cell_type": "markdown",
   "metadata": {},
   "source": [
    "**Exercise-4: Use input function to enter two single digit integers and assign them to variables x and y. Using logical and comparison operators, build an expression that will evaluate as True if the sum of x and y is greater than 10 and the product of x and y is less than 50. Run your code for the following values of x and y (you must use input function to enter these values!)**\n",
    "\n",
    "**a. 4,7**\n",
    "\n",
    "**b. 7,9**\n",
    "\n",
    "**c. 3,6**\n",
    "\n",
    "**Use following 3 cells to complete your response**"
   ]
  },
  {
   "cell_type": "markdown",
   "metadata": {},
   "source": [
    "**(25 points)**"
   ]
  },
  {
   "cell_type": "code",
   "execution_count": 16,
   "metadata": {
    "collapsed": false,
    "jupyter": {
     "outputs_hidden": false
    }
   },
   "outputs": [
    {
     "name": "stdin",
     "output_type": "stream",
     "text": [
      "please input your first integer:  4\n",
      "please input your second integer:  7\n"
     ]
    },
    {
     "data": {
      "text/plain": [
       "True"
      ]
     },
     "execution_count": 16,
     "metadata": {},
     "output_type": "execute_result"
    }
   ],
   "source": [
    "# a.\n",
    "def compare_ints():\n",
    "    x = int(input(\"please input your first integer: \"))\n",
    "    y = int(input(\"please input your second integer: \"))\n",
    "    if x+y > 10 and x*y < 50:\n",
    "        return True\n",
    "    else:\n",
    "        return False\n",
    "\n",
    "compare_ints()    "
   ]
  },
  {
   "cell_type": "code",
   "execution_count": 17,
   "metadata": {},
   "outputs": [
    {
     "name": "stdin",
     "output_type": "stream",
     "text": [
      "please input your first integer:  7\n",
      "please input your second integer:  9\n"
     ]
    },
    {
     "data": {
      "text/plain": [
       "False"
      ]
     },
     "execution_count": 17,
     "metadata": {},
     "output_type": "execute_result"
    }
   ],
   "source": [
    "# b.\n",
    "compare_ints()"
   ]
  },
  {
   "cell_type": "code",
   "execution_count": 18,
   "metadata": {},
   "outputs": [
    {
     "name": "stdin",
     "output_type": "stream",
     "text": [
      "please input your first integer:  3\n",
      "please input your second integer:  6\n"
     ]
    },
    {
     "data": {
      "text/plain": [
       "False"
      ]
     },
     "execution_count": 18,
     "metadata": {},
     "output_type": "execute_result"
    }
   ],
   "source": [
    "# c.\n",
    "compare_ints()"
   ]
  },
  {
   "cell_type": "markdown",
   "metadata": {},
   "source": [
    "**Exercise-5:**\n",
    "\n",
    "**a. Define a variable with the string \"Computational Thinking\".**\n",
    "\n",
    "**Use indexing and concatenation to print \"Computing\" from the above string**\n",
    "\n",
    "**b. A string is defined in the cell for part b. There are some typos in the string. Use appropriate string methods to correct the typos. Assign the corrected string to a new variable**"
   ]
  },
  {
   "cell_type": "markdown",
   "metadata": {},
   "source": [
    "**(25 points)**"
   ]
  },
  {
   "cell_type": "code",
   "execution_count": 26,
   "metadata": {},
   "outputs": [
    {
     "name": "stdout",
     "output_type": "stream",
     "text": [
      "Computing\n"
     ]
    }
   ],
   "source": [
    "# a.\n",
    "message = \"Computational Thinking\"\n",
    "new_message = message[:6] + \"ing\"\n",
    "print(new_message)"
   ]
  },
  {
   "cell_type": "code",
   "execution_count": 27,
   "metadata": {},
   "outputs": [
    {
     "name": "stdout",
     "output_type": "stream",
     "text": [
      "Computational Thinking\n"
     ]
    }
   ],
   "source": [
    "# b.\n",
    "\n",
    "mystr=\"Computtational Thinkin\"\n",
    "\n",
    "## write your code for part b here\n",
    "\n",
    "correct_str = mystr[:6] + mystr[7:] + \"g\"\n",
    "print(correct_str)"
   ]
  },
  {
   "cell_type": "code",
   "execution_count": null,
   "metadata": {},
   "outputs": [],
   "source": []
  }
 ],
 "metadata": {
  "kernelspec": {
   "display_name": "Python 3 (ipykernel)",
   "language": "python",
   "name": "python3"
  },
  "language_info": {
   "codemirror_mode": {
    "name": "ipython",
    "version": 3
   },
   "file_extension": ".py",
   "mimetype": "text/x-python",
   "name": "python",
   "nbconvert_exporter": "python",
   "pygments_lexer": "ipython3",
   "version": "3.12.4"
  }
 },
 "nbformat": 4,
 "nbformat_minor": 4
}
