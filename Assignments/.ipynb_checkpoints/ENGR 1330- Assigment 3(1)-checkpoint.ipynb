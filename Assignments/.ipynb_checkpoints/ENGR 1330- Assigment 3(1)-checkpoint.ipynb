{
 "cells": [
  {
   "cell_type": "markdown",
   "id": "0bb7bc00-e734-4fc9-9a9b-0f1974921d15",
   "metadata": {},
   "source": [
    "### Assignment 3"
   ]
  },
  {
   "cell_type": "markdown",
   "id": "13200445-9123-4c12-b397-f8abd55678bb",
   "metadata": {},
   "source": [
    "#### Your name: \n",
    "\n",
    "#### R number:"
   ]
  },
  {
   "cell_type": "code",
   "execution_count": null,
   "id": "b93e5ead-4c49-4c1f-9b1d-53a3115af751",
   "metadata": {},
   "outputs": [],
   "source": [
    "# Preamble script block to identify host, user, and kernel\n",
    "import sys\n",
    "! hostname\n",
    "! whoami\n",
    "print(sys.executable)\n",
    "print(sys.version)\n",
    "print(sys.version_info)"
   ]
  },
  {
   "cell_type": "markdown",
   "id": "ff4e3e8d-940e-4e96-b336-0b272656d99b",
   "metadata": {},
   "source": [
    "#### Part 1:\n",
    "\n",
    "**As part of this assignment, you will have to create a module as .py file, containing 2 variable definitions and 2 function definitions. The 2 variables, named secretnumber and secretname will contain a 2 digit integer and a word (i.e string) of 5 letters or less .(20 points)**\n",
    "\n",
    "**One function will be about making a user to guess the number. The function should not take any argument. In the function, use a loop to repeatedly ask the user to enter a number by input function. Everytime compare the entered number against secretnumber; if the number is smaller than secretnumber, print a message \"Guess higher\"; if found greater, then print \"Guess lower\". If the entered number matches secretnumber, then the user wins, so print a message \"You win!!\" and exit the loop. Otherwise, if the user trials exceed 10 attempts, print a message \"You lose\". (50 points)**\n",
    "\n",
    "**The other function will be about guessing the secretname. Up on entering the function, it will print a string made of asterisks, as many letters there are in the secrectname. Then using a loop, it will repeatedly ask user to enter a letter using input function; if the entered letter is anywhere in the secrectname, then replace the asterisk in that position by the letter, otheriwse print a meesage that the letter is not in the name. If all asterisks are replaced by letters, print \"You win!!\" and exit the loop; otherwise, if the user trials exceed 10 attempts, then print \"You lose\".(80 points)**\n",
    "\n",
    "    Example: Say, the secretname is \"rose\"; the function will print \"****\" to indicate there are 4 letters. Then if I enter \"e\", it will print \"***e\"; if I enter \"a\", it will print \"a is not in the name\"; if I enter \"r\", it will print \"r**e\", and so on.\n"
   ]
  },
  {
   "cell_type": "markdown",
   "id": "c34e80f7-1ed7-4501-973f-9950f7b2c73a",
   "metadata": {},
   "source": [
    "#### Part 2:\n",
    "\n",
    "**Import the module you created in part 1 in the cell below, and then perform the following: ask whether the user wants to play with word or number. Depending on the choice, call either of the two functions in the module and play the game. Run the code in two consecutive cells and show outputs both choices. (25+25 points)**"
   ]
  },
  {
   "cell_type": "code",
   "execution_count": null,
   "id": "6f93bcc7-c2ef-425e-a64f-8658a7669aaf",
   "metadata": {},
   "outputs": [],
   "source": [
    "# import module here"
   ]
  },
  {
   "cell_type": "code",
   "execution_count": null,
   "id": "10f0bf66-dce3-4599-adfa-396f3159d7a8",
   "metadata": {},
   "outputs": [],
   "source": [
    "# write and run the code for choice of word"
   ]
  },
  {
   "cell_type": "code",
   "execution_count": null,
   "id": "0538a152-1cbe-471b-aa79-06548f05c3f1",
   "metadata": {},
   "outputs": [],
   "source": [
    "# write and run the code for choice of number"
   ]
  },
  {
   "cell_type": "code",
   "execution_count": null,
   "id": "5d165127-e149-4bac-9fae-d62b88411d47",
   "metadata": {},
   "outputs": [],
   "source": []
  }
 ],
 "metadata": {
  "kernelspec": {
   "display_name": "Python 3 (ipykernel)",
   "language": "python",
   "name": "python3"
  },
  "language_info": {
   "codemirror_mode": {
    "name": "ipython",
    "version": 3
   },
   "file_extension": ".py",
   "mimetype": "text/x-python",
   "name": "python",
   "nbconvert_exporter": "python",
   "pygments_lexer": "ipython3",
   "version": "3.12.4"
  }
 },
 "nbformat": 4,
 "nbformat_minor": 5
}
