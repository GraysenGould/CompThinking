{
 "cells": [
  {
   "cell_type": "markdown",
   "id": "3a5bc07b",
   "metadata": {},
   "source": [
    "## pop, del and remove functions on lists: The differences"
   ]
  },
  {
   "cell_type": "code",
   "execution_count": null,
   "id": "c9829870",
   "metadata": {},
   "outputs": [],
   "source": [
    "# delete an element from a specific index from a list\n",
    "list1=[1,2,3,\"a\",6.0,False]\n",
    "del list1[4]\n",
    "list1"
   ]
  },
  {
   "cell_type": "code",
   "execution_count": null,
   "id": "57f387fb",
   "metadata": {},
   "outputs": [],
   "source": [
    "# extract an element from an index from a list and remove that from the list\n",
    "list1=[1,2,3,\"a\",6.0,False]\n",
    "element=list1.pop(4)\n",
    "element"
   ]
  },
  {
   "cell_type": "code",
   "execution_count": null,
   "id": "a91e47ba",
   "metadata": {},
   "outputs": [],
   "source": [
    "list1"
   ]
  },
  {
   "cell_type": "code",
   "execution_count": null,
   "id": "28aaaf6a",
   "metadata": {},
   "outputs": [],
   "source": [
    "# remove a certain element from a list\n",
    "list1=[1,2,3,\"a\",6.0,False]\n",
    "list1.remove(6.0)\n",
    "list1"
   ]
  },
  {
   "cell_type": "markdown",
   "id": "cb2e78c2",
   "metadata": {},
   "source": [
    "## more on dictionary"
   ]
  },
  {
   "cell_type": "markdown",
   "id": "30e0bb98",
   "metadata": {},
   "source": [
    "Example 1"
   ]
  },
  {
   "cell_type": "code",
   "execution_count": null,
   "id": "7ed8d5c5",
   "metadata": {},
   "outputs": [],
   "source": [
    "# create a dictionary by converting from list\n",
    "names=[\"Johnson\",\"Harry\",\"Ryan\",\"Diane\",\"Maria\"]\n",
    "ages=[10,9,6,5,8]"
   ]
  },
  {
   "cell_type": "code",
   "execution_count": null,
   "id": "f3516f8e",
   "metadata": {},
   "outputs": [],
   "source": [
    "newlist2=[[\"Names\",names],[\"Age\",ages]]  \n",
    "# the list should contain several lists or tuples, each having exactly 2 elements, the first one will be taken as the key, the second element as the value\n",
    "kids2=dict(newlist2)\n",
    "kids2"
   ]
  },
  {
   "cell_type": "code",
   "execution_count": null,
   "id": "c07eed8b",
   "metadata": {},
   "outputs": [],
   "source": [
    "# lets say, we want to create a dictionary so that we can get the age of a kid using its name\n",
    "newlist=[]\n",
    "\n",
    "for i in range(len(names)):\n",
    "    newlist.append([names[i],ages[i]])\n",
    "\n",
    "print(newlist)\n",
    "\n",
    "\n",
    "kids=dict(newlist)\n",
    "kids"
   ]
  },
  {
   "cell_type": "markdown",
   "id": "10052df0",
   "metadata": {},
   "source": [
    "Example 2: playing with keys "
   ]
  },
  {
   "cell_type": "code",
   "execution_count": null,
   "id": "f1338251",
   "metadata": {},
   "outputs": [],
   "source": [
    "veg=[\"potato\",\"spinach\",\"tomato\",\"broccoli\"]\n",
    "fruits=[\"orange\",\"apple\",\"banana\",\"strawberry\"]\n",
    "dairy=[\"butter\",\"yogurt\",\"cheese\"]"
   ]
  },
  {
   "cell_type": "code",
   "execution_count": null,
   "id": "09a2b315",
   "metadata": {},
   "outputs": [],
   "source": [
    "grocery={\"Veg\":veg,\"Fruits\":fruits,\"Dairy\":dairy}\n",
    "grocery"
   ]
  },
  {
   "cell_type": "code",
   "execution_count": null,
   "id": "8b0c86b2",
   "metadata": {},
   "outputs": [],
   "source": [
    "list(grocery.keys())"
   ]
  },
  {
   "cell_type": "code",
   "execution_count": null,
   "id": "d3825f34",
   "metadata": {},
   "outputs": [],
   "source": [
    "# get the keys in the form of a list, so you have the keys in an accessible format\n",
    "items=list(grocery)\n",
    "items"
   ]
  },
  {
   "cell_type": "code",
   "execution_count": null,
   "id": "4dfabc55",
   "metadata": {},
   "outputs": [],
   "source": [
    "grocery[\"Fruits\"]"
   ]
  },
  {
   "cell_type": "code",
   "execution_count": null,
   "id": "51650ea4",
   "metadata": {},
   "outputs": [],
   "source": [
    "#remove a key\n",
    "del grocery[\"Dairy\"]\n",
    "grocery"
   ]
  },
  {
   "cell_type": "code",
   "execution_count": null,
   "id": "15e61af8",
   "metadata": {},
   "outputs": [],
   "source": [
    "#replace a key\n",
    "grocery[\"Vegetable\"]=grocery.pop(\"Veg\")\n",
    "grocery"
   ]
  },
  {
   "cell_type": "code",
   "execution_count": null,
   "id": "c6d42dc8",
   "metadata": {},
   "outputs": [],
   "source": [
    "# add a new key and assign values to the key \n",
    "grocery[\"Seafood\"]=[\"shrimp\",\"salmon\",\"lobster\"]\n",
    "grocery"
   ]
  },
  {
   "cell_type": "code",
   "execution_count": null,
   "id": "2f41f003",
   "metadata": {},
   "outputs": [],
   "source": [
    "# copying values of one key to another\n",
    "grocery[\"Veggies\"]=grocery[\"Veg\"]\n",
    "grocery\n"
   ]
  },
  {
   "cell_type": "markdown",
   "id": "c57eaeb1",
   "metadata": {},
   "source": [
    "## Lets build an inventory! (Why exactly we need a dictionary)"
   ]
  },
  {
   "cell_type": "markdown",
   "id": "71d82ffd",
   "metadata": {},
   "source": [
    "https://www.kbb.com/car-make-model-list/new/view-all/make/\n"
   ]
  },
  {
   "cell_type": "markdown",
   "id": "cb0cdf67",
   "metadata": {},
   "source": [
    "An efficient way to save inventory data can be to create a dictionary, where you can avoid having repeated data (like, \"Make\" of cars in this example) to identify each unique item in an inventory"
   ]
  },
  {
   "cell_type": "code",
   "execution_count": null,
   "id": "a592df80",
   "metadata": {},
   "outputs": [],
   "source": [
    "cars={\"Makes\":{\"Audi\":[\"A3\",\"A4\",\"A5\"],\"Toyota\":[\"Camry\",\"Corolla\",\"Highlander\"],\"BMW\":[\"X2\",\"X3\",\"X5\"]},\"Year\":[2020,2021,2022,2023]}"
   ]
  },
  {
   "cell_type": "code",
   "execution_count": null,
   "id": "7884495b",
   "metadata": {},
   "outputs": [],
   "source": [
    "cars"
   ]
  },
  {
   "cell_type": "code",
   "execution_count": null,
   "id": "9321d139",
   "metadata": {},
   "outputs": [],
   "source": []
  }
 ],
 "metadata": {
  "kernelspec": {
   "display_name": "Python 3 (ipykernel)",
   "language": "python",
   "name": "python3"
  },
  "language_info": {
   "codemirror_mode": {
    "name": "ipython",
    "version": 3
   },
   "file_extension": ".py",
   "mimetype": "text/x-python",
   "name": "python",
   "nbconvert_exporter": "python",
   "pygments_lexer": "ipython3",
   "version": "3.12.4"
  }
 },
 "nbformat": 4,
 "nbformat_minor": 5
}
