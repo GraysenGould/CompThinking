{
 "cells": [
  {
   "cell_type": "markdown",
   "id": "134305f6",
   "metadata": {},
   "source": [
    "## import a module"
   ]
  },
  {
   "cell_type": "code",
   "execution_count": 5,
   "id": "18d17386",
   "metadata": {},
   "outputs": [],
   "source": [
    "import minimod"
   ]
  },
  {
   "cell_type": "code",
   "execution_count": 6,
   "id": "43239bb8",
   "metadata": {},
   "outputs": [
    {
     "data": {
      "text/plain": [
       "['__builtins__',\n",
       " '__cached__',\n",
       " '__doc__',\n",
       " '__file__',\n",
       " '__loader__',\n",
       " '__name__',\n",
       " '__package__',\n",
       " '__spec__',\n",
       " 'car',\n",
       " 'g',\n",
       " 'weight_Calc']"
      ]
     },
     "execution_count": 6,
     "metadata": {},
     "output_type": "execute_result"
    }
   ],
   "source": [
    "dir(minimod)"
   ]
  },
  {
   "cell_type": "markdown",
   "id": "40954b32",
   "metadata": {},
   "source": [
    "### Calling a function defined in a module:"
   ]
  },
  {
   "cell_type": "code",
   "execution_count": 7,
   "id": "2c470337",
   "metadata": {},
   "outputs": [],
   "source": [
    "mass=100\n",
    "weight=minimod.weight_Calc(mass) # module_name.function_name(args)"
   ]
  },
  {
   "cell_type": "code",
   "execution_count": 8,
   "id": "d8ef3b80",
   "metadata": {},
   "outputs": [
    {
     "data": {
      "text/plain": [
       "980.0000000000001"
      ]
     },
     "execution_count": 8,
     "metadata": {},
     "output_type": "execute_result"
    }
   ],
   "source": [
    "weight"
   ]
  },
  {
   "cell_type": "markdown",
   "id": "67b4e44d",
   "metadata": {},
   "source": [
    "### Accessing variable defined in a module:"
   ]
  },
  {
   "cell_type": "code",
   "execution_count": 9,
   "id": "7cdf0480",
   "metadata": {},
   "outputs": [
    {
     "data": {
      "text/plain": [
       "9.8"
      ]
     },
     "execution_count": 9,
     "metadata": {},
     "output_type": "execute_result"
    }
   ],
   "source": [
    "minimod.g"
   ]
  },
  {
   "cell_type": "markdown",
   "id": "046b4f3a",
   "metadata": {},
   "source": [
    "Note: you can change the value of a variable defined inside a module, for the current instance of the module\n",
    "but this doesnt make any change inside the module"
   ]
  },
  {
   "cell_type": "code",
   "execution_count": 10,
   "id": "ec8fc873",
   "metadata": {},
   "outputs": [
    {
     "data": {
      "text/plain": [
       "4"
      ]
     },
     "execution_count": 10,
     "metadata": {},
     "output_type": "execute_result"
    }
   ],
   "source": [
    "minimod.g=4 \n",
    "minimod.g"
   ]
  },
  {
   "cell_type": "markdown",
   "id": "5019897e",
   "metadata": {},
   "source": [
    "### import module with a nickname"
   ]
  },
  {
   "cell_type": "code",
   "execution_count": 11,
   "id": "07e79260",
   "metadata": {},
   "outputs": [],
   "source": [
    "import minimod as m"
   ]
  },
  {
   "cell_type": "code",
   "execution_count": 12,
   "id": "37e042fc",
   "metadata": {},
   "outputs": [
    {
     "data": {
      "text/plain": [
       "4"
      ]
     },
     "execution_count": 12,
     "metadata": {},
     "output_type": "execute_result"
    }
   ],
   "source": [
    "minimod.g"
   ]
  },
  {
   "cell_type": "code",
   "execution_count": 13,
   "id": "cd48853a",
   "metadata": {},
   "outputs": [
    {
     "data": {
      "text/plain": [
       "module"
      ]
     },
     "execution_count": 13,
     "metadata": {},
     "output_type": "execute_result"
    }
   ],
   "source": [
    "type(m)"
   ]
  },
  {
   "cell_type": "code",
   "execution_count": 14,
   "id": "04ce538e",
   "metadata": {},
   "outputs": [
    {
     "data": {
      "text/plain": [
       "['__builtins__',\n",
       " '__cached__',\n",
       " '__doc__',\n",
       " '__file__',\n",
       " '__loader__',\n",
       " '__name__',\n",
       " '__package__',\n",
       " '__spec__',\n",
       " 'car',\n",
       " 'g',\n",
       " 'weight_Calc']"
      ]
     },
     "execution_count": 14,
     "metadata": {},
     "output_type": "execute_result"
    }
   ],
   "source": [
    "dir(m)"
   ]
  },
  {
   "cell_type": "code",
   "execution_count": 15,
   "id": "6ff697ee",
   "metadata": {},
   "outputs": [
    {
     "data": {
      "text/plain": [
       "4"
      ]
     },
     "execution_count": 15,
     "metadata": {},
     "output_type": "execute_result"
    }
   ],
   "source": [
    "m.g"
   ]
  },
  {
   "cell_type": "code",
   "execution_count": 16,
   "id": "916ccfc8",
   "metadata": {},
   "outputs": [
    {
     "data": {
      "text/plain": [
       "480"
      ]
     },
     "execution_count": 16,
     "metadata": {},
     "output_type": "execute_result"
    }
   ],
   "source": [
    "m.weight_Calc(120)"
   ]
  },
  {
   "cell_type": "markdown",
   "id": "3d284fb9",
   "metadata": {},
   "source": [
    "### import selected items from a module"
   ]
  },
  {
   "cell_type": "code",
   "execution_count": 17,
   "id": "f9bc691f",
   "metadata": {},
   "outputs": [],
   "source": [
    "#from minimod import weight_Calc\n",
    "from minimod import weight_Calc as wc"
   ]
  },
  {
   "cell_type": "code",
   "execution_count": 18,
   "id": "49c716ee",
   "metadata": {},
   "outputs": [
    {
     "ename": "NameError",
     "evalue": "name 'weight_Calc' is not defined",
     "output_type": "error",
     "traceback": [
      "\u001b[1;31m---------------------------------------------------------------------------\u001b[0m",
      "\u001b[1;31mNameError\u001b[0m                                 Traceback (most recent call last)",
      "Cell \u001b[1;32mIn[18], line 1\u001b[0m\n\u001b[1;32m----> 1\u001b[0m \u001b[43mweight_Calc\u001b[49m(\u001b[38;5;241m100\u001b[39m)\n",
      "\u001b[1;31mNameError\u001b[0m: name 'weight_Calc' is not defined"
     ]
    }
   ],
   "source": [
    "weight_Calc(100)"
   ]
  },
  {
   "cell_type": "code",
   "execution_count": 20,
   "id": "ee064d7e",
   "metadata": {},
   "outputs": [
    {
     "data": {
      "text/plain": [
       "400"
      ]
     },
     "execution_count": 20,
     "metadata": {},
     "output_type": "execute_result"
    }
   ],
   "source": [
    "wc(100)"
   ]
  },
  {
   "cell_type": "markdown",
   "id": "f144b074",
   "metadata": {},
   "source": [
    "### Creating object of a class defined in a module:"
   ]
  },
  {
   "cell_type": "code",
   "execution_count": 21,
   "id": "18232054",
   "metadata": {},
   "outputs": [
    {
     "data": {
      "text/plain": [
       "minimod.car"
      ]
     },
     "execution_count": 21,
     "metadata": {},
     "output_type": "execute_result"
    }
   ],
   "source": [
    "mycar1 = minimod.car(\"audi\",\"a4\", \"blue\",2019)  # creating a variable of type \n",
    "type(mycar1)"
   ]
  },
  {
   "cell_type": "code",
   "execution_count": 22,
   "id": "e0cef3ab",
   "metadata": {},
   "outputs": [
    {
     "name": "stdout",
     "output_type": "stream",
     "text": [
      "\n",
      "the make of my car is:  audi\n"
     ]
    }
   ],
   "source": [
    "#mycar1.show() # call a method of car   \n",
    "\n",
    "Mk=mycar1.make # get an attribute of car\n",
    "\n",
    "print(\"\\nthe make of my car is: \",Mk) "
   ]
  },
  {
   "cell_type": "code",
   "execution_count": 23,
   "id": "74d6be44",
   "metadata": {},
   "outputs": [
    {
     "name": "stdout",
     "output_type": "stream",
     "text": [
      "\n",
      "Model is 488\n",
      "color is green\n",
      "Make is ferrari\n",
      "Year is 2015\n",
      "the make of my car is:  ferrari\n"
     ]
    }
   ],
   "source": [
    "# create another object of car\n",
    "mycar2 = minimod.car(\"ferrari\",\"488\", \"green\", 2015)\n",
    "type(mycar2)\n",
    "mycar2.show()    \n",
    "print(\"the make of my car is: \",mycar2.make)"
   ]
  },
  {
   "cell_type": "code",
   "execution_count": null,
   "id": "326ddd10",
   "metadata": {},
   "outputs": [],
   "source": []
  }
 ],
 "metadata": {
  "kernelspec": {
   "display_name": "Python 3 (ipykernel)",
   "language": "python",
   "name": "python3"
  },
  "language_info": {
   "codemirror_mode": {
    "name": "ipython",
    "version": 3
   },
   "file_extension": ".py",
   "mimetype": "text/x-python",
   "name": "python",
   "nbconvert_exporter": "python",
   "pygments_lexer": "ipython3",
   "version": "3.12.4"
  }
 },
 "nbformat": 4,
 "nbformat_minor": 5
}
