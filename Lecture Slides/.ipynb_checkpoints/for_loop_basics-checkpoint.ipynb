{
 "cells": [
  {
   "cell_type": "markdown",
   "metadata": {
    "id": "ZUpgCXx71Bq9"
   },
   "source": [
    "## For"
   ]
  },
  {
   "cell_type": "code",
   "execution_count": null,
   "metadata": {
    "id": "mm0qTcU-HVeP"
   },
   "outputs": [],
   "source": [
    "# iterating sequence can be a list\n",
    "for c in [1,\"hello\",2.5]:\n",
    "    print(c)\n",
    "    \n",
    "print(c)\n"
   ]
  },
  {
   "cell_type": "code",
   "execution_count": null,
   "metadata": {
    "id": "39aTRP6fF55n"
   },
   "outputs": [],
   "source": [
    "# iterating sequence can be a nested list\n",
    "\n",
    "for w,x,y,z in [[1,2,3,4],[5,6,7,8],[9,10,11,12]]:\n",
    "    print(w,x,y,z)\n",
    "    #s=w+x+y+z\n",
    "    print(w)\n",
    "    #m_wy=w*y\n",
    "    #s_xz=x+z\n",
    "    #print(s,m_wy,s_xz)\n",
    "    #print(\"\\n\")\n",
    "    #print(i)\n",
    "   "
   ]
  },
  {
   "cell_type": "code",
   "execution_count": null,
   "metadata": {},
   "outputs": [],
   "source": [
    "for x in [[1,2,3],[5,6,7,8],[9,10,11,12,13]]:\n",
    "    print(x[-1])"
   ]
  },
  {
   "cell_type": "code",
   "execution_count": null,
   "metadata": {
    "colab": {
     "base_uri": "https://localhost:8080/"
    },
    "id": "0AOUxmfXGNpj",
    "outputId": "c08f0b0d-be06-4644-e531-cb3ac9d6b9d7",
    "scrolled": true
   },
   "outputs": [],
   "source": [
    "#provided a list of strings, print the first and last character of each string in the list\n",
    "for c in [\"first\",\"second\",\"third\"]:   \n",
    "    print(c[0],c[-1])  # note the negative index. "
   ]
  },
  {
   "cell_type": "code",
   "execution_count": null,
   "metadata": {
    "id": "IkXh92ZBG0fY"
   },
   "outputs": [],
   "source": [
    "# iterating sequence can also be a string\n",
    "for c in \"TTU\":\n",
    "    print(c)"
   ]
  },
  {
   "cell_type": "code",
   "execution_count": null,
   "metadata": {},
   "outputs": [],
   "source": [
    "# iterating sequence can be a dictionary too\n",
    "for i in {\"a\":[1,2,3],\"b\":[4,5,6]}: \n",
    "    print(i)"
   ]
  },
  {
   "cell_type": "code",
   "execution_count": null,
   "metadata": {},
   "outputs": [],
   "source": [
    "mydict={\"a\":[1,2,3],\"b\":[4,5,6]}\n",
    "\n",
    "for i in mydict:\n",
    "    print(i,mydict[i])"
   ]
  },
  {
   "cell_type": "code",
   "execution_count": null,
   "metadata": {},
   "outputs": [],
   "source": [
    "for i in {4,1,2,3,1,2}:\n",
    "    print(i)"
   ]
  },
  {
   "cell_type": "markdown",
   "metadata": {},
   "source": [
    "## range function \n",
    "#### NOTE: range( ) never takes floats as arguments!!!"
   ]
  },
  {
   "cell_type": "code",
   "execution_count": null,
   "metadata": {
    "id": "insH273sHGS5"
   },
   "outputs": [],
   "source": [
    "for i in range(5):\n",
    "    print(\"hello world\")"
   ]
  },
  {
   "cell_type": "code",
   "execution_count": null,
   "metadata": {
    "id": "n9EgLf0yIE4T"
   },
   "outputs": [],
   "source": [
    "for i in range(2,6):\n",
    "    print(\"i=\",i)"
   ]
  },
  {
   "cell_type": "code",
   "execution_count": null,
   "metadata": {
    "id": "JCxVCTuoIOCv"
   },
   "outputs": [],
   "source": [
    "for x in range(12,51,2):\n",
    "    print(\"%i*2=\"%x,x**2)"
   ]
  },
  {
   "cell_type": "code",
   "execution_count": null,
   "metadata": {},
   "outputs": [],
   "source": []
  }
 ],
 "metadata": {
  "colab": {
   "name": "for loop ",
   "provenance": []
  },
  "kernelspec": {
   "display_name": "Python 3",
   "language": "python",
   "name": "python3"
  },
  "language_info": {
   "codemirror_mode": {
    "name": "ipython",
    "version": 3
   },
   "file_extension": ".py",
   "mimetype": "text/x-python",
   "name": "python",
   "nbconvert_exporter": "python",
   "pygments_lexer": "ipython3",
   "version": "3.8.8"
  }
 },
 "nbformat": 4,
 "nbformat_minor": 1
}
