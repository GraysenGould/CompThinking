{
 "cells": [
  {
   "cell_type": "markdown",
   "id": "c77833ed",
   "metadata": {},
   "source": [
    "## list"
   ]
  },
  {
   "cell_type": "code",
   "execution_count": null,
   "id": "f1faf7f4",
   "metadata": {},
   "outputs": [],
   "source": [
    "mylist1=[1,2,3,4,7,9,8,8,0,\"a\",\"b\",3.4,2,9,3,\"a\",\"Apple\",\"APPLE\",10,\"P\",\"2a\"]\n",
    "mylist2=[2,5.8,4,8,10.2]\n",
    "mylist3=[]"
   ]
  },
  {
   "cell_type": "code",
   "execution_count": null,
   "id": "b72a4a04",
   "metadata": {},
   "outputs": [],
   "source": [
    "len(mylist1)"
   ]
  },
  {
   "cell_type": "markdown",
   "id": "495ea7ef-c533-4c0d-a29c-3aeb9f1e13d5",
   "metadata": {},
   "source": [
    "#### Count occurances of a certain element"
   ]
  },
  {
   "cell_type": "code",
   "execution_count": null,
   "id": "f1d408f3",
   "metadata": {},
   "outputs": [],
   "source": [
    "mylist1.count(\"a\")"
   ]
  },
  {
   "cell_type": "markdown",
   "id": "3efe2013-2aa8-40ee-92e3-2624ea880387",
   "metadata": {},
   "source": [
    "#### Add new elements"
   ]
  },
  {
   "cell_type": "code",
   "execution_count": null,
   "id": "0a77ba58",
   "metadata": {},
   "outputs": [],
   "source": [
    "mylist2.insert(6,5.5)\n",
    "mylist2"
   ]
  },
  {
   "cell_type": "code",
   "execution_count": null,
   "id": "b01d6240",
   "metadata": {},
   "outputs": [],
   "source": [
    "mylist1.append(\"a\")\n",
    "mylist1"
   ]
  },
  {
   "cell_type": "code",
   "execution_count": null,
   "id": "6d19957f",
   "metadata": {},
   "outputs": [],
   "source": [
    "mylist1.append(mylist2)\n",
    "mylist1"
   ]
  },
  {
   "cell_type": "code",
   "execution_count": null,
   "id": "e2a850fb",
   "metadata": {},
   "outputs": [],
   "source": [
    "len(mylist1)"
   ]
  },
  {
   "cell_type": "markdown",
   "id": "5b1105f3-216a-4831-b7e6-3a8541595cb6",
   "metadata": {},
   "source": [
    "#### Use index to access elements"
   ]
  },
  {
   "cell_type": "code",
   "execution_count": null,
   "id": "c1646920",
   "metadata": {},
   "outputs": [],
   "source": [
    "## how to use index to pick 5.5 from mylist1?\n",
    "mylist1[22][5]"
   ]
  },
  {
   "cell_type": "markdown",
   "id": "b342f070-5ed4-4207-923b-8cb4be42a2fb",
   "metadata": {},
   "source": [
    "#### Sorting elements in a list"
   ]
  },
  {
   "cell_type": "code",
   "execution_count": null,
   "id": "57f53b7c",
   "metadata": {},
   "outputs": [],
   "source": [
    "mylist1.sort()"
   ]
  },
  {
   "cell_type": "code",
   "execution_count": null,
   "id": "d523e7c8",
   "metadata": {},
   "outputs": [],
   "source": [
    "mylist2.sort()  ## by default sorts in ascending order\n",
    "mylist2"
   ]
  },
  {
   "cell_type": "code",
   "execution_count": null,
   "id": "0b49433c",
   "metadata": {},
   "outputs": [],
   "source": [
    "alist=[\"a\",\"A\",\"apple\",\"Bee\",\"b\",\" \",\"10\"]\n",
    "alist.sort()\n",
    "alist"
   ]
  },
  {
   "cell_type": "code",
   "execution_count": null,
   "id": "8bf668d3",
   "metadata": {},
   "outputs": [],
   "source": [
    "mylist2.sort(reverse=True)  \n",
    "mylist2"
   ]
  },
  {
   "cell_type": "markdown",
   "id": "c96f5f5e-cd3a-4365-b872-1a1cb6e0d6c8",
   "metadata": {},
   "source": [
    "#### Removing elements"
   ]
  },
  {
   "cell_type": "code",
   "execution_count": null,
   "id": "c6201ed1",
   "metadata": {},
   "outputs": [],
   "source": [
    "mylist1.remove(\"a\")\n",
    "mylist1"
   ]
  },
  {
   "cell_type": "code",
   "execution_count": null,
   "id": "86ed7d7a",
   "metadata": {},
   "outputs": [],
   "source": [
    "mylist1.clear()\n",
    "mylist1"
   ]
  },
  {
   "cell_type": "markdown",
   "id": "2c96f303-8e29-41c8-8007-4478d11772cf",
   "metadata": {},
   "source": [
    "Example: "
   ]
  },
  {
   "cell_type": "code",
   "execution_count": null,
   "id": "8778acae",
   "metadata": {},
   "outputs": [],
   "source": [
    "new=[mylist1[mylist1.index(\"Apple\")]]\n",
    "new\n",
    "mylist1.index(\"Apple\")"
   ]
  },
  {
   "cell_type": "markdown",
   "id": "c361f328-ae5e-4cd9-a259-cccedd1b151e",
   "metadata": {},
   "source": [
    "#### Operations on lists"
   ]
  },
  {
   "cell_type": "code",
   "execution_count": null,
   "id": "ff06eb71",
   "metadata": {},
   "outputs": [],
   "source": [
    "s=sum(mylist2)\n",
    "s"
   ]
  },
  {
   "cell_type": "code",
   "execution_count": null,
   "id": "b71df288",
   "metadata": {},
   "outputs": [],
   "source": [
    "m=mylist1+mylist2\n",
    "m\n"
   ]
  },
  {
   "cell_type": "code",
   "execution_count": null,
   "id": "0f66c469",
   "metadata": {},
   "outputs": [],
   "source": [
    "m2=mylist2*3\n",
    "m2"
   ]
  },
  {
   "cell_type": "markdown",
   "id": "102ad141-503e-441f-8e14-0791c2ba02d7",
   "metadata": {},
   "source": [
    "## Example: "
   ]
  },
  {
   "cell_type": "markdown",
   "id": "c1fa517d",
   "metadata": {},
   "source": [
    "## tuples"
   ]
  },
  {
   "cell_type": "code",
   "execution_count": null,
   "id": "330e3fbd",
   "metadata": {},
   "outputs": [],
   "source": [
    "t=(1,2,3,4,\"a\",\"b\")\n",
    "type(t)"
   ]
  },
  {
   "cell_type": "code",
   "execution_count": null,
   "id": "1cc208e2",
   "metadata": {},
   "outputs": [],
   "source": [
    "t[2]"
   ]
  },
  {
   "cell_type": "code",
   "execution_count": null,
   "id": "0552c5d0",
   "metadata": {},
   "outputs": [],
   "source": [
    "list1=list(t) # create a list with the elements of the tuple t"
   ]
  },
  {
   "cell_type": "code",
   "execution_count": null,
   "id": "d8cfd3c3",
   "metadata": {},
   "outputs": [],
   "source": [
    "list1"
   ]
  },
  {
   "cell_type": "code",
   "execution_count": null,
   "id": "eace92b7",
   "metadata": {},
   "outputs": [],
   "source": [
    "t"
   ]
  },
  {
   "cell_type": "code",
   "execution_count": null,
   "id": "9fdd8aee",
   "metadata": {},
   "outputs": [],
   "source": [
    "list1.insert(2,5)"
   ]
  },
  {
   "cell_type": "code",
   "execution_count": null,
   "id": "60801f89",
   "metadata": {},
   "outputs": [],
   "source": [
    "list1"
   ]
  },
  {
   "cell_type": "code",
   "execution_count": null,
   "id": "cfd8e5f1",
   "metadata": {},
   "outputs": [],
   "source": [
    "t=tuple(list1)\n",
    "t"
   ]
  },
  {
   "cell_type": "markdown",
   "id": "2abca1ef",
   "metadata": {},
   "source": [
    "## dictionary"
   ]
  },
  {
   "cell_type": "code",
   "execution_count": null,
   "id": "2d35f8e5",
   "metadata": {},
   "outputs": [],
   "source": [
    "n=[\"John\",\"Alice\",\"William\"]\n",
    "mydict={\"Names\":n,\"Age\":[21,26,22],\"Group\":2,1:0}\n",
    "mydict"
   ]
  },
  {
   "cell_type": "code",
   "execution_count": null,
   "id": "a0da81f1",
   "metadata": {},
   "outputs": [],
   "source": [
    "mydict.keys()  # keys can be strings or numbers "
   ]
  },
  {
   "cell_type": "code",
   "execution_count": null,
   "id": "22b77eba-941a-496b-9b37-c84076a2f650",
   "metadata": {},
   "outputs": [],
   "source": [
    "len(mydict)  # how many keys, i.e. key-value pairs are in the dictionary"
   ]
  },
  {
   "cell_type": "code",
   "execution_count": null,
   "id": "a8312a59",
   "metadata": {},
   "outputs": [],
   "source": [
    "# get the values of a key\n",
    "a=mydict.get(\"Names\") # also mydict[\"Names\"]\n",
    "a"
   ]
  },
  {
   "cell_type": "code",
   "execution_count": null,
   "id": "fe6f2c17",
   "metadata": {},
   "outputs": [],
   "source": [
    "# this wont work\n",
    "mydict[2]"
   ]
  },
  {
   "cell_type": "markdown",
   "id": "658ca2c7-005c-412c-bfa4-4ce5878b3a93",
   "metadata": {},
   "source": [
    "#### Adding a new key"
   ]
  },
  {
   "cell_type": "code",
   "execution_count": null,
   "id": "4e8ca02b-5e6a-40c2-8416-e6a7f7d9ac00",
   "metadata": {},
   "outputs": [],
   "source": [
    "mydict"
   ]
  },
  {
   "cell_type": "code",
   "execution_count": null,
   "id": "a5fa0f0a",
   "metadata": {},
   "outputs": [],
   "source": [
    "mydict[\"\"]=[1,2,3,4]"
   ]
  },
  {
   "cell_type": "code",
   "execution_count": null,
   "id": "071f69eb",
   "metadata": {},
   "outputs": [],
   "source": [
    "mydict"
   ]
  },
  {
   "cell_type": "markdown",
   "id": "4e77e72d-a894-4c5d-97de-99bea2d07336",
   "metadata": {},
   "source": [
    "#### removing a key"
   ]
  },
  {
   "cell_type": "code",
   "execution_count": null,
   "id": "1fb34e48-b44b-4065-a7fe-b3d3455236c8",
   "metadata": {},
   "outputs": [],
   "source": [
    "del mydict[\"Names\"]\n",
    "mydict"
   ]
  },
  {
   "cell_type": "markdown",
   "id": "ddc19c9a-3c98-44bf-9ed3-9caa395ee10b",
   "metadata": {},
   "source": [
    "#### Addressing elements in a nested dictionary"
   ]
  },
  {
   "cell_type": "code",
   "execution_count": null,
   "id": "c5ec7380",
   "metadata": {},
   "outputs": [],
   "source": [
    "mydict1={\"Names\":[\"John\",\"Alice\",\"William\",{\"New\":[0,1,2,3,\"Hello\"]}],\"Age\":[21,26,22],\"Group\":2,1:0}"
   ]
  },
  {
   "cell_type": "code",
   "execution_count": null,
   "id": "3642df18",
   "metadata": {},
   "outputs": [],
   "source": [
    "# adress and print \"Hello\" from mydict1\n",
    "a=mydict1.....\n",
    "a"
   ]
  },
  {
   "cell_type": "code",
   "execution_count": null,
   "id": "955b2361",
   "metadata": {},
   "outputs": [],
   "source": []
  },
  {
   "cell_type": "markdown",
   "id": "ca448719",
   "metadata": {},
   "source": [
    "## set"
   ]
  },
  {
   "cell_type": "code",
   "execution_count": null,
   "id": "bd9c17b4",
   "metadata": {},
   "outputs": [],
   "source": [
    "s={1,2,\"2a\",3,21}\n",
    "s"
   ]
  },
  {
   "cell_type": "code",
   "execution_count": null,
   "id": "c076cb86",
   "metadata": {},
   "outputs": [],
   "source": [
    "s1={1,1,2,6,3,4,9} \n",
    "s1"
   ]
  },
  {
   "cell_type": "code",
   "execution_count": null,
   "id": "f7fa1954",
   "metadata": {},
   "outputs": [],
   "source": [
    "s2={4,8,0,5,\"b\",6,6,3}\n",
    "s3={\"a\",10}\n",
    "s2"
   ]
  },
  {
   "cell_type": "code",
   "execution_count": null,
   "id": "02c939cc",
   "metadata": {},
   "outputs": [],
   "source": [
    "s3"
   ]
  },
  {
   "cell_type": "code",
   "execution_count": null,
   "id": "1dfdedc6",
   "metadata": {},
   "outputs": [],
   "source": [
    "s=s1.union(s2,s3)"
   ]
  },
  {
   "cell_type": "code",
   "execution_count": null,
   "id": "b3d441ad",
   "metadata": {},
   "outputs": [],
   "source": [
    "s"
   ]
  },
  {
   "cell_type": "code",
   "execution_count": null,
   "id": "7bb070c1",
   "metadata": {},
   "outputs": [],
   "source": [
    "s=s2.intersection(s1)"
   ]
  },
  {
   "cell_type": "code",
   "execution_count": null,
   "id": "c2032db3",
   "metadata": {},
   "outputs": [],
   "source": [
    "s"
   ]
  },
  {
   "cell_type": "code",
   "execution_count": null,
   "id": "b1ff8aba",
   "metadata": {},
   "outputs": [],
   "source": [
    "s=s2.intersection(s3)\n",
    "s"
   ]
  },
  {
   "cell_type": "code",
   "execution_count": null,
   "id": "aedecca0",
   "metadata": {},
   "outputs": [],
   "source": [
    "len(s) # number of elements in a set"
   ]
  },
  {
   "cell_type": "markdown",
   "id": "84900f31",
   "metadata": {},
   "source": [
    "### Study more at:\n",
    "\n",
    "https://www.w3schools.com/python/python_lists.asp\n",
    "\n",
    "https://www.w3schools.com/python/python_tuples.asp\n",
    "\n",
    "https://www.w3schools.com/python/python_sets.asp\n",
    "\n",
    "https://www.w3schools.com/python/python_dictionaries.asp"
   ]
  },
  {
   "cell_type": "markdown",
   "id": "7f151381-24e4-4552-92fa-b797afdd729e",
   "metadata": {},
   "source": [
    "#### Example 1: Count how many unique characters are there in the given string:"
   ]
  },
  {
   "cell_type": "code",
   "execution_count": 17,
   "id": "27dde9c8-67e6-412f-afb3-09852fd79a10",
   "metadata": {},
   "outputs": [],
   "source": [
    "s=\"You must be the change you wish to see in the world\""
   ]
  },
  {
   "cell_type": "markdown",
   "id": "1326dfce-6d06-44fa-837a-be8ae2e9b2a6",
   "metadata": {},
   "source": [
    "#### Example 2: \n",
    "\n",
    "Given the temperatures of some days:\n",
    "\n",
    "    99,98,100,102,101,97,95,94,98,100,104;\n",
    "\n",
    "get the maximum, minimum and average tempartures."
   ]
  },
  {
   "cell_type": "code",
   "execution_count": null,
   "id": "c22b6f9e-0ba2-4184-80ea-75a0f933369d",
   "metadata": {},
   "outputs": [],
   "source": []
  }
 ],
 "metadata": {
  "kernelspec": {
   "display_name": "Python 3 (ipykernel)",
   "language": "python",
   "name": "python3"
  },
  "language_info": {
   "codemirror_mode": {
    "name": "ipython",
    "version": 3
   },
   "file_extension": ".py",
   "mimetype": "text/x-python",
   "name": "python",
   "nbconvert_exporter": "python",
   "pygments_lexer": "ipython3",
   "version": "3.12.4"
  }
 },
 "nbformat": 4,
 "nbformat_minor": 5
}
