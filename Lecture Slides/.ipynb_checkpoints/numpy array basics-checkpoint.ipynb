{
 "cells": [
  {
   "cell_type": "markdown",
   "metadata": {},
   "source": [
    "### Arrays:\n",
    "--> Only consists of elements belonging to the same data type\n",
    "\n",
    "--> Need to explicitly import a module for declaration\n",
    "\n",
    "--> Can directly handle arithmetic operations\n",
    "\n",
    "--> Preferred for longer sequence of data items\n",
    "\n",
    "--> Comparatively more compact in memory size\n"
   ]
  },
  {
   "cell_type": "code",
   "execution_count": null,
   "metadata": {
    "id": "9Fd3RtPCLSSf"
   },
   "outputs": [],
   "source": [
    "import numpy as np"
   ]
  },
  {
   "cell_type": "markdown",
   "metadata": {
    "id": "lMZd5cHMueIj"
   },
   "source": [
    "## numpy arrays"
   ]
  },
  {
   "cell_type": "code",
   "execution_count": null,
   "metadata": {
    "id": "_SJRF8Tfs_-Y"
   },
   "outputs": [],
   "source": [
    "x=[[[1,2,3]]]\n",
    "a=np.array(x,dtype=\"int16\") # you can specify the type and size as int8, int32, int64, float8, float16, float32....etc\n",
    "print(a)\n",
    "#print(x)\n",
    "type(a)"
   ]
  },
  {
   "cell_type": "code",
   "execution_count": null,
   "metadata": {},
   "outputs": [],
   "source": [
    "b=np.array([[1,2,3],[4,5,6],[7,8,9]])\n",
    "b"
   ]
  },
  {
   "cell_type": "code",
   "execution_count": null,
   "metadata": {},
   "outputs": [],
   "source": [
    "b1=np.array([[1.2,2,3],[4,5,6],[7,8,9]])\n",
    "b1 # note ll numbers converted to float as one element was a float"
   ]
  },
  {
   "cell_type": "code",
   "execution_count": null,
   "metadata": {},
   "outputs": [],
   "source": [
    "b1.dtype"
   ]
  },
  {
   "cell_type": "code",
   "execution_count": null,
   "metadata": {},
   "outputs": [],
   "source": [
    "b2=np.array([[1.2,2.5,3],[4,5.0,6],[7,8,9]],dtype=\"int16\") # forcing all elements to become integers\n",
    "b2 "
   ]
  },
  {
   "cell_type": "code",
   "execution_count": null,
   "metadata": {},
   "outputs": [],
   "source": [
    "b3=np.array([[1,2],[4,5,6],[7,8,9]]) # mismatch in number of elements in the lists\n",
    "b3 # you get an array of lists\n",
    "#b3.ndim\n",
    "#b3.dtype"
   ]
  },
  {
   "cell_type": "code",
   "execution_count": null,
   "metadata": {},
   "outputs": [],
   "source": [
    "b4=np.array([[1,2,\"a\"],[4,5,6],[7,8,9]]) #what if you have a string?\n",
    "b4  # all elements convetred to strings\n"
   ]
  },
  {
   "cell_type": "code",
   "execution_count": null,
   "metadata": {},
   "outputs": [],
   "source": [
    "b5=np.array([[1,2,True],[4,5,6],[False,8,9]]) #what if you have bools?\n",
    "b5"
   ]
  },
  {
   "cell_type": "code",
   "execution_count": null,
   "metadata": {},
   "outputs": [],
   "source": [
    "b6=np.array([[1,2,True],[4,\"h\",6],[False,8,9]]) #what if you have bools strings and numbers?\n",
    "b6"
   ]
  },
  {
   "cell_type": "code",
   "execution_count": null,
   "metadata": {},
   "outputs": [],
   "source": [
    "c=np.array([[8,3,0,7,2,1],[4,8,1,4,2,9]])\n",
    "c"
   ]
  },
  {
   "cell_type": "code",
   "execution_count": null,
   "metadata": {},
   "outputs": [],
   "source": [
    "e=[[[1,2,3]]]  # e is going to be a 2D array with dimensions (1,3) because of being enclosed by 2 pairs of brackets!\n",
    "e=np.array(e)\n",
    "e.shape\n",
    "# try this too:\n",
    "# e=[[[1,2,3]]] # its a 3D, with a shape (1,1,3)..."
   ]
  },
  {
   "cell_type": "code",
   "execution_count": null,
   "metadata": {},
   "outputs": [],
   "source": [
    "x=[[[1,2,3],[2,4,6]],[[1,2,3],[3,5,7]],[[1,3,4],[2,4,6]],[[1,3,5],[4,7,9]]]\n",
    "d=np.array(x)\n",
    "d"
   ]
  },
  {
   "cell_type": "markdown",
   "metadata": {},
   "source": [
    "### array properties"
   ]
  },
  {
   "cell_type": "code",
   "execution_count": null,
   "metadata": {
    "id": "O8D72Tv3uCI5"
   },
   "outputs": [],
   "source": [
    "q=d.shape\n",
    "q## dimensions e.g. row,column\n",
    "#type(d.shape) \n",
    "#q[2]"
   ]
  },
  {
   "cell_type": "code",
   "execution_count": null,
   "metadata": {},
   "outputs": [],
   "source": [
    "d.shape[-1]"
   ]
  },
  {
   "cell_type": "code",
   "execution_count": null,
   "metadata": {
    "colab": {
     "base_uri": "https://localhost:8080/"
    },
    "id": "3cqPTAEeuOmu",
    "outputId": "b51483ac-a711-4a67-a3bf-5d8d40401f23"
   },
   "outputs": [],
   "source": [
    "b.dtype  ## data type of the elements"
   ]
  },
  {
   "cell_type": "code",
   "execution_count": null,
   "metadata": {
    "colab": {
     "base_uri": "https://localhost:8080/"
    },
    "id": "pq3prMMtuUhy",
    "outputId": "6b204af4-b884-4031-db7c-0f6d20d52ded"
   },
   "outputs": [],
   "source": [
    "d.ndim  ## how many dimensions the array has"
   ]
  },
  {
   "cell_type": "code",
   "execution_count": null,
   "metadata": {},
   "outputs": [],
   "source": [
    "b.ndim"
   ]
  },
  {
   "cell_type": "code",
   "execution_count": null,
   "metadata": {
    "colab": {
     "base_uri": "https://localhost:8080/"
    },
    "id": "c2eNuGQ0ubXP",
    "outputId": "c55d05a6-6f56-42b2-8297-04a34622551b"
   },
   "outputs": [],
   "source": [
    "a.itemsize  ## size of each element in bytes"
   ]
  },
  {
   "cell_type": "code",
   "execution_count": null,
   "metadata": {
    "colab": {
     "base_uri": "https://localhost:8080/"
    },
    "id": "e7J-92Q9utYP",
    "outputId": "b9302da3-9081-4f5d-b40f-8ea3fb69f3b6"
   },
   "outputs": [],
   "source": [
    "d.size  ## total number of elements in the array"
   ]
  },
  {
   "cell_type": "code",
   "execution_count": null,
   "metadata": {
    "colab": {
     "base_uri": "https://localhost:8080/"
    },
    "id": "cdyLztoVuvBU",
    "outputId": "c201d8c9-8a86-4f03-e7cc-054719016305"
   },
   "outputs": [],
   "source": [
    "d.nbytes ## total size of the array in bytes\n",
    "print(d.nbytes)"
   ]
  },
  {
   "cell_type": "markdown",
   "metadata": {
    "id": "wLDMBJGfzNBa"
   },
   "source": [
    "### common numpy array generating functions"
   ]
  },
  {
   "cell_type": "code",
   "execution_count": null,
   "metadata": {
    "colab": {
     "base_uri": "https://localhost:8080/"
    },
    "id": "A1Wb373AxzxJ",
    "outputId": "cb55c12a-07a9-4899-89bf-010df4504945"
   },
   "outputs": [],
   "source": [
    "np.zeros(shape=(2,3,5,5)) #dimensions of the array depends on number of arguments\n",
    "#4D in this example"
   ]
  },
  {
   "cell_type": "code",
   "execution_count": null,
   "metadata": {},
   "outputs": [],
   "source": [
    "np.ones(shape=(2,3))"
   ]
  },
  {
   "cell_type": "code",
   "execution_count": null,
   "metadata": {
    "colab": {
     "base_uri": "https://localhost:8080/"
    },
    "id": "Qu02biGsyF3i",
    "outputId": "b7a5b74d-8e6c-467a-c184-51c61e133349"
   },
   "outputs": [],
   "source": [
    "np.identity(5)  ## generates a 2D identity array \n",
    "#also np.eye(5)"
   ]
  },
  {
   "cell_type": "code",
   "execution_count": null,
   "metadata": {
    "id": "_E1NL3n3yZ-K"
   },
   "outputs": [],
   "source": [
    "np.linspace(1.5,20,50)   #1D array"
   ]
  },
  {
   "cell_type": "code",
   "execution_count": null,
   "metadata": {
    "colab": {
     "base_uri": "https://localhost:8080/"
    },
    "id": "EPmDos4xyltJ",
    "outputId": "a78380af-cbf0-4fd9-90bd-e4854e9da872"
   },
   "outputs": [],
   "source": [
    "np.arange(10)"
   ]
  },
  {
   "cell_type": "code",
   "execution_count": null,
   "metadata": {
    "colab": {
     "base_uri": "https://localhost:8080/"
    },
    "id": "bB8f0B_myzmR",
    "outputId": "2c59dd13-7196-41f9-dcde-17ad8662844b"
   },
   "outputs": [],
   "source": [
    "np.random.randint(2,12) ## generates a random number between 0 and 11"
   ]
  },
  {
   "cell_type": "code",
   "execution_count": null,
   "metadata": {},
   "outputs": [],
   "source": [
    "np.random.randint(1,7,size=100) #1D array"
   ]
  },
  {
   "cell_type": "code",
   "execution_count": null,
   "metadata": {},
   "outputs": [],
   "source": [
    "np.random.rand(2,3,4) # floating point values between 0 to 1\n",
    "# argument sequence: (height,row,column)"
   ]
  },
  {
   "cell_type": "code",
   "execution_count": null,
   "metadata": {},
   "outputs": [],
   "source": [
    "from numpy import random\n",
    "random.rand(2,4,5)"
   ]
  },
  {
   "cell_type": "code",
   "execution_count": null,
   "metadata": {},
   "outputs": [],
   "source": []
  }
 ],
 "metadata": {
  "colab": {
   "collapsed_sections": [],
   "name": "intro to numpy",
   "provenance": []
  },
  "kernelspec": {
   "display_name": "Python 3 (ipykernel)",
   "language": "python",
   "name": "python3"
  },
  "language_info": {
   "codemirror_mode": {
    "name": "ipython",
    "version": 3
   },
   "file_extension": ".py",
   "mimetype": "text/x-python",
   "name": "python",
   "nbconvert_exporter": "python",
   "pygments_lexer": "ipython3",
   "version": "3.12.4"
  }
 },
 "nbformat": 4,
 "nbformat_minor": 4
}
