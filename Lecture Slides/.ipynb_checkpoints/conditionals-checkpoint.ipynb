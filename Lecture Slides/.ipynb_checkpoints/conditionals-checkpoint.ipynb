{
 "cells": [
  {
   "cell_type": "markdown",
   "id": "e4ec4415",
   "metadata": {},
   "source": [
    "# if"
   ]
  },
  {
   "cell_type": "code",
   "execution_count": null,
   "id": "7d2b4206",
   "metadata": {},
   "outputs": [],
   "source": [
    "my_basket=[\"apple\",\"banana\",\"orange\",\"pear\",\"strawberry\",\"blueberry\"]\n",
    "\n",
    "if \"apple\" in my_basket:\n",
    "    print(\"yes\")\n",
    "    print(\"this is also in if block\")\n",
    "    \n",
    "print(\"not part of if statement\")    "
   ]
  },
  {
   "cell_type": "code",
   "execution_count": null,
   "id": "d86a40ee",
   "metadata": {
    "scrolled": true
   },
   "outputs": [],
   "source": [
    "day=input(\"Is it weekday or weekend? \")\n",
    "weather=input(\"Is the weather good or bad? \")\n",
    "\n",
    "if day==\"weekend\" and weather==\"good\":\n",
    "    print(\"Lets go out for a coffee!!\")"
   ]
  },
  {
   "cell_type": "code",
   "execution_count": null,
   "id": "50e39a5a",
   "metadata": {},
   "outputs": [],
   "source": [
    "test1=float(input(\"enter test1 score \"))\n",
    "test2=float(input(\"enter test2 score \"))\n",
    "\n",
    "if test1>=80 or test2>=80:\n",
    "    print(\"Passed\")"
   ]
  },
  {
   "cell_type": "markdown",
   "id": "53c4861f",
   "metadata": {},
   "source": [
    "# if-else"
   ]
  },
  {
   "cell_type": "code",
   "execution_count": null,
   "id": "f5f91fa2",
   "metadata": {},
   "outputs": [],
   "source": [
    "my_pantry={\"Fruits\":my_basket,\"Bread\":4,\"Egg\":8,\"Veg\":[\"Lettuce\",\"tomato\",\"potato\",\"spinach\"]}\n",
    "\n",
    "a=\"tomato\"\n",
    "if a not in my_pantry[\"Veg\"]:\n",
    "    print(\"order {}\".format(a))\n",
    "else:\n",
    "    print(\"no need to order\")"
   ]
  },
  {
   "cell_type": "markdown",
   "id": "a6272b96",
   "metadata": {},
   "source": [
    "# if-elif-else"
   ]
  },
  {
   "cell_type": "code",
   "execution_count": null,
   "id": "f4834a30",
   "metadata": {},
   "outputs": [],
   "source": [
    "score=float(input(\"Enter total score: \"))"
   ]
  },
  {
   "cell_type": "code",
   "execution_count": null,
   "id": "55989ebc-665d-4626-82f1-9dbfc025317b",
   "metadata": {},
   "outputs": [],
   "source": [
    "#### using if-elif-else\n",
    "\n",
    "if score<60:\n",
    "    grade=\"F\"\n",
    "elif score<70:\n",
    "    grade=\"D\"\n",
    "elif score<80:\n",
    "    grade=\"C\"\n",
    "elif score<90:\n",
    "    grade=\"B\"\n",
    "else:\n",
    "    grade=\"A\"\n",
    "    \n",
    "print(\"Grade:\",grade)"
   ]
  },
  {
   "cell_type": "code",
   "execution_count": null,
   "id": "e2b9acf0-8c63-4869-b488-08b6f1f96c5d",
   "metadata": {},
   "outputs": [],
   "source": [
    "#### using if statement only:\n",
    "\n",
    "if score<70 and score>=60:\n",
    "    grade=\"D\"\n",
    "if score<90 and score>=80:\n",
    "    grade=\"B\"\n",
    "if score<80 and score>=70:\n",
    "    grade=\"C\"\n",
    "if score>=90:\n",
    "    grade=\"A\""
   ]
  },
  {
   "cell_type": "markdown",
   "id": "a073b663",
   "metadata": {},
   "source": [
    "# nested if"
   ]
  },
  {
   "cell_type": "code",
   "execution_count": null,
   "id": "d6d7c91d",
   "metadata": {},
   "outputs": [],
   "source": [
    "score=float(input(\"Enter total score: \"))\n",
    "\n",
    "if score<90:\n",
    "    if score<80:\n",
    "        if score<70:\n",
    "            if score<60:\n",
    "                grade=\"F\"\n",
    "            else:\n",
    "                grade=\"D\"\n",
    "        else:\n",
    "            grade=\"C\"\n",
    "    else:\n",
    "        grade=\"B\"\n",
    "else:\n",
    "    grade=\"A\"\n",
    "\n",
    "print(\"Grade:\",grade)\n"
   ]
  },
  {
   "cell_type": "code",
   "execution_count": null,
   "id": "566cd90c",
   "metadata": {},
   "outputs": [],
   "source": []
  },
  {
   "cell_type": "markdown",
   "id": "36baf996",
   "metadata": {},
   "source": [
    "##### "
   ]
  }
 ],
 "metadata": {
  "kernelspec": {
   "display_name": "Python 3 (ipykernel)",
   "language": "python",
   "name": "python3"
  },
  "language_info": {
   "codemirror_mode": {
    "name": "ipython",
    "version": 3
   },
   "file_extension": ".py",
   "mimetype": "text/x-python",
   "name": "python",
   "nbconvert_exporter": "python",
   "pygments_lexer": "ipython3",
   "version": "3.12.4"
  }
 },
 "nbformat": 4,
 "nbformat_minor": 5
}
