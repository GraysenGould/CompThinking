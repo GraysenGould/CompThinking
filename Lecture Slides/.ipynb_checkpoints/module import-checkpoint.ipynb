{
 "cells": [
  {
   "cell_type": "markdown",
   "id": "134305f6",
   "metadata": {},
   "source": [
    "## import a module"
   ]
  },
  {
   "cell_type": "code",
   "execution_count": null,
   "id": "18d17386",
   "metadata": {},
   "outputs": [],
   "source": [
    "import minimod"
   ]
  },
  {
   "cell_type": "code",
   "execution_count": null,
   "id": "43239bb8",
   "metadata": {},
   "outputs": [],
   "source": [
    "dir(minimod)"
   ]
  },
  {
   "cell_type": "markdown",
   "id": "40954b32",
   "metadata": {},
   "source": [
    "### Calling a function defined in a module:"
   ]
  },
  {
   "cell_type": "code",
   "execution_count": null,
   "id": "2c470337",
   "metadata": {},
   "outputs": [],
   "source": [
    "mass=100\n",
    "weight=minimod.weight_Calc(mass) # module_name.function_name(args)"
   ]
  },
  {
   "cell_type": "code",
   "execution_count": null,
   "id": "d8ef3b80",
   "metadata": {},
   "outputs": [],
   "source": [
    "weight"
   ]
  },
  {
   "cell_type": "markdown",
   "id": "67b4e44d",
   "metadata": {},
   "source": [
    "### Accessing variable defined in a module:"
   ]
  },
  {
   "cell_type": "code",
   "execution_count": null,
   "id": "7cdf0480",
   "metadata": {},
   "outputs": [],
   "source": [
    "minimod.g"
   ]
  },
  {
   "cell_type": "markdown",
   "id": "046b4f3a",
   "metadata": {},
   "source": [
    "Note: you can change the value of a variable defined inside a module, for the current instance of the module\n",
    "but this doesnt make any change inside the module"
   ]
  },
  {
   "cell_type": "code",
   "execution_count": null,
   "id": "ec8fc873",
   "metadata": {},
   "outputs": [],
   "source": [
    "minimod.g=4 \n",
    "minimod.g"
   ]
  },
  {
   "cell_type": "markdown",
   "id": "5019897e",
   "metadata": {},
   "source": [
    "### import module with a nickname"
   ]
  },
  {
   "cell_type": "code",
   "execution_count": null,
   "id": "07e79260",
   "metadata": {},
   "outputs": [],
   "source": [
    "import minimod as m"
   ]
  },
  {
   "cell_type": "code",
   "execution_count": null,
   "id": "37e042fc",
   "metadata": {},
   "outputs": [],
   "source": [
    "minimod.g"
   ]
  },
  {
   "cell_type": "code",
   "execution_count": null,
   "id": "cd48853a",
   "metadata": {},
   "outputs": [],
   "source": [
    "type(m)"
   ]
  },
  {
   "cell_type": "code",
   "execution_count": null,
   "id": "04ce538e",
   "metadata": {},
   "outputs": [],
   "source": [
    "dir(m)"
   ]
  },
  {
   "cell_type": "code",
   "execution_count": null,
   "id": "6ff697ee",
   "metadata": {},
   "outputs": [],
   "source": [
    "m.g"
   ]
  },
  {
   "cell_type": "code",
   "execution_count": null,
   "id": "916ccfc8",
   "metadata": {},
   "outputs": [],
   "source": [
    "m.weight_Calc(120)"
   ]
  },
  {
   "cell_type": "markdown",
   "id": "3d284fb9",
   "metadata": {},
   "source": [
    "### import selected items from a module"
   ]
  },
  {
   "cell_type": "code",
   "execution_count": null,
   "id": "f9bc691f",
   "metadata": {},
   "outputs": [],
   "source": [
    "#from minimod import weight_Calc\n",
    "from minimod import weight_Calc as wc"
   ]
  },
  {
   "cell_type": "code",
   "execution_count": null,
   "id": "49c716ee",
   "metadata": {},
   "outputs": [],
   "source": [
    "weight_Calc(100)"
   ]
  },
  {
   "cell_type": "code",
   "execution_count": null,
   "id": "ee064d7e",
   "metadata": {},
   "outputs": [],
   "source": [
    "wc(100)"
   ]
  },
  {
   "cell_type": "markdown",
   "id": "f144b074",
   "metadata": {},
   "source": [
    "### Creating object of a class defined in a module:"
   ]
  },
  {
   "cell_type": "code",
   "execution_count": null,
   "id": "18232054",
   "metadata": {},
   "outputs": [],
   "source": [
    "mycar1 = minimod.car(\"audi\",\"a4\", \"blue\",2019)  # creating a variable of type \n",
    "type(mycar1)"
   ]
  },
  {
   "cell_type": "code",
   "execution_count": null,
   "id": "e0cef3ab",
   "metadata": {},
   "outputs": [],
   "source": [
    "#mycar1.show() # call a method of car   \n",
    "\n",
    "Mk=mycar1.make # get an attribute of car\n",
    "\n",
    "print(\"\\nthe make of my car is: \",Mk) "
   ]
  },
  {
   "cell_type": "code",
   "execution_count": null,
   "id": "74d6be44",
   "metadata": {},
   "outputs": [],
   "source": [
    "# create another object of car\n",
    "mycar2 = minimod.car(\"ferrari\",\"488\", \"green\", 2015)\n",
    "type(mycar2)\n",
    "mycar2.show()    \n",
    "print(\"the make of my car is: \",mycar2.make)"
   ]
  },
  {
   "cell_type": "code",
   "execution_count": null,
   "id": "326ddd10",
   "metadata": {},
   "outputs": [],
   "source": []
  }
 ],
 "metadata": {
  "kernelspec": {
   "display_name": "Python 3 (ipykernel)",
   "language": "python",
   "name": "python3"
  },
  "language_info": {
   "codemirror_mode": {
    "name": "ipython",
    "version": 3
   },
   "file_extension": ".py",
   "mimetype": "text/x-python",
   "name": "python",
   "nbconvert_exporter": "python",
   "pygments_lexer": "ipython3",
   "version": "3.12.4"
  }
 },
 "nbformat": 4,
 "nbformat_minor": 5
}
