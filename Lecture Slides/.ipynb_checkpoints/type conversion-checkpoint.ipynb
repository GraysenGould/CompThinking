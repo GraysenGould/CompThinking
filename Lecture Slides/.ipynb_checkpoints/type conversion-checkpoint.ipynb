{
 "cells": [
  {
   "cell_type": "markdown",
   "id": "769a1204-8170-4b83-96f1-dc3b3b331cca",
   "metadata": {},
   "source": [
    "### Type conversion in python:\n",
    "\n",
    "Type conversion of data is performed by invoking a function to convert to desired type, as long as the conversion is valid. \n",
    "\n",
    "                conversion_function(data_to_be_converted)\n",
    "\n",
    "Names of the conversion functions are same as the way python displays the types, e.g.:\n",
    "            \n",
    "            int(), float(), str(), bool()"
   ]
  },
  {
   "cell_type": "code",
   "execution_count": 1,
   "id": "04834af0",
   "metadata": {},
   "outputs": [],
   "source": [
    "x=12.56\n",
    "y=10\n",
    "z=\"happy\""
   ]
  },
  {
   "cell_type": "code",
   "execution_count": 2,
   "id": "2f58747b",
   "metadata": {},
   "outputs": [
    {
     "data": {
      "text/plain": [
       "10.0"
      ]
     },
     "execution_count": 2,
     "metadata": {},
     "output_type": "execute_result"
    }
   ],
   "source": [
    "# int to float\n",
    "n1=float(y)\n",
    "n1"
   ]
  },
  {
   "cell_type": "code",
   "execution_count": 3,
   "id": "27c490c5",
   "metadata": {},
   "outputs": [
    {
     "data": {
      "text/plain": [
       "12"
      ]
     },
     "execution_count": 3,
     "metadata": {},
     "output_type": "execute_result"
    }
   ],
   "source": [
    "# float to int\n",
    "n2=int(x)\n",
    "n2"
   ]
  },
  {
   "cell_type": "code",
   "execution_count": 4,
   "id": "88e89871",
   "metadata": {},
   "outputs": [
    {
     "data": {
      "text/plain": [
       "'12.56'"
      ]
     },
     "execution_count": 4,
     "metadata": {},
     "output_type": "execute_result"
    }
   ],
   "source": [
    "# float to str\n",
    "s1=str(x)\n",
    "s1\n",
    "#len(s1)"
   ]
  },
  {
   "cell_type": "code",
   "execution_count": 5,
   "id": "7283403f",
   "metadata": {},
   "outputs": [
    {
     "data": {
      "text/plain": [
       "'10'"
      ]
     },
     "execution_count": 5,
     "metadata": {},
     "output_type": "execute_result"
    }
   ],
   "source": [
    "#int to str\n",
    "s2=str(y)\n",
    "s2"
   ]
  },
  {
   "cell_type": "code",
   "execution_count": 6,
   "id": "918380c3",
   "metadata": {},
   "outputs": [
    {
     "ename": "ValueError",
     "evalue": "invalid literal for int() with base 10: '12.56'",
     "output_type": "error",
     "traceback": [
      "\u001b[1;31m---------------------------------------------------------------------------\u001b[0m",
      "\u001b[1;31mValueError\u001b[0m                                Traceback (most recent call last)",
      "Cell \u001b[1;32mIn[6], line 2\u001b[0m\n\u001b[0;32m      1\u001b[0m \u001b[38;5;66;03m# str to int\u001b[39;00m\n\u001b[1;32m----> 2\u001b[0m n3\u001b[38;5;241m=\u001b[39m\u001b[38;5;28;43mint\u001b[39;49m\u001b[43m(\u001b[49m\u001b[43ms1\u001b[49m\u001b[43m)\u001b[49m\u001b[38;5;66;03m# try int(\"z\")\u001b[39;00m\n\u001b[0;32m      3\u001b[0m \u001b[38;5;28mprint\u001b[39m(n3)\n\u001b[0;32m      4\u001b[0m \u001b[38;5;28mtype\u001b[39m(n3)\n",
      "\u001b[1;31mValueError\u001b[0m: invalid literal for int() with base 10: '12.56'"
     ]
    }
   ],
   "source": [
    "# str to int\n",
    "n3=int(s1)# try int(\"z\")\n",
    "print(n3)\n",
    "type(n3)"
   ]
  },
  {
   "cell_type": "code",
   "execution_count": 7,
   "id": "15759906",
   "metadata": {},
   "outputs": [
    {
     "data": {
      "text/plain": [
       "10.0"
      ]
     },
     "execution_count": 7,
     "metadata": {},
     "output_type": "execute_result"
    }
   ],
   "source": [
    "# str to float\n",
    "n4=float(s2)\n",
    "n4"
   ]
  },
  {
   "cell_type": "code",
   "execution_count": null,
   "id": "529744c6",
   "metadata": {},
   "outputs": [],
   "source": [
    "# str to int: CAUTION !!\n",
    "n5=int(float(input(\"your age\")))\n",
    "n5"
   ]
  },
  {
   "cell_type": "code",
   "execution_count": null,
   "id": "8e373d21",
   "metadata": {},
   "outputs": [],
   "source": [
    "int(float(input(\"your age\")))"
   ]
  },
  {
   "cell_type": "markdown",
   "id": "de3c94f4",
   "metadata": {},
   "source": [
    "NOTE: type conversion operation doesnt change the original variable,\n",
    "rather creates a new data with the converted type, which may be saved \n",
    "as another variable"
   ]
  },
  {
   "cell_type": "code",
   "execution_count": null,
   "id": "12051946",
   "metadata": {},
   "outputs": [],
   "source": [
    "print(type(x))\n",
    "print(type(y))\n",
    "print(type(z))"
   ]
  },
  {
   "cell_type": "code",
   "execution_count": null,
   "id": "adccd7d6",
   "metadata": {},
   "outputs": [],
   "source": [
    "a=bool(-0.1) #try bool(0)\n",
    "a"
   ]
  },
  {
   "cell_type": "code",
   "execution_count": null,
   "id": "6c37b871",
   "metadata": {},
   "outputs": [],
   "source": [
    "b=bool(0.0)\n",
    "b"
   ]
  },
  {
   "cell_type": "code",
   "execution_count": null,
   "id": "ddc38b41",
   "metadata": {},
   "outputs": [],
   "source": [
    "c=bool(\"\")\n",
    "c"
   ]
  },
  {
   "cell_type": "code",
   "execution_count": null,
   "id": "64769bf8",
   "metadata": {},
   "outputs": [],
   "source": [
    "d=bool(\" \")\n",
    "d"
   ]
  },
  {
   "cell_type": "code",
   "execution_count": null,
   "id": "15ee4f72",
   "metadata": {},
   "outputs": [],
   "source": [
    "b=True\n",
    "c=float(b)\n",
    "d=int(b)\n",
    "e=str(b)\n",
    "print(\"c: \",c);print(\"d: \",d);print(\"e: \",e) # you can write multiple lines of codes in same physical line using semicolon"
   ]
  },
  {
   "cell_type": "markdown",
   "id": "66284148",
   "metadata": {},
   "source": [
    "### Practice example:"
   ]
  },
  {
   "cell_type": "markdown",
   "id": "01cabeb7",
   "metadata": {},
   "source": [
    "#### Enter your scores for each item out of 100 and calculate the weighted total:"
   ]
  },
  {
   "cell_type": "code",
   "execution_count": null,
   "id": "0f891272",
   "metadata": {},
   "outputs": [],
   "source": [
    "quiz=float(input(\"enter your quiz total: \"))\n",
    "exam=float(input(\"enter your exam total: \"))\n",
    "assignment=float(input(\"enter your assignment total: \"))\n",
    "lab=float(input(\"enter your lab total: \"))\n",
    "project=float(input(\"enter your project score: \"))"
   ]
  },
  {
   "cell_type": "code",
   "execution_count": null,
   "id": "d1d8dbfd",
   "metadata": {},
   "outputs": [],
   "source": [
    "total=0.10*quiz+0.30*exam+0.15*project+0.25*assignment+0.20*lab\n",
    "total"
   ]
  },
  {
   "cell_type": "code",
   "execution_count": null,
   "id": "ddc2c065-f02b-4f73-b16d-78e0456f9356",
   "metadata": {},
   "outputs": [],
   "source": []
  }
 ],
 "metadata": {
  "kernelspec": {
   "display_name": "Python 3 (ipykernel)",
   "language": "python",
   "name": "python3"
  },
  "language_info": {
   "codemirror_mode": {
    "name": "ipython",
    "version": 3
   },
   "file_extension": ".py",
   "mimetype": "text/x-python",
   "name": "python",
   "nbconvert_exporter": "python",
   "pygments_lexer": "ipython3",
   "version": "3.12.4"
  }
 },
 "nbformat": 4,
 "nbformat_minor": 5
}
