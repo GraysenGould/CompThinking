{
 "cells": [
  {
   "cell_type": "markdown",
   "metadata": {
    "id": "qoUQvz_pMSYv"
   },
   "source": [
    "## while loop"
   ]
  },
  {
   "cell_type": "markdown",
   "metadata": {
    "id": "Yv70dfGzOA8H"
   },
   "source": [
    "#### example: traingle of stars"
   ]
  },
  {
   "cell_type": "code",
   "execution_count": 2,
   "metadata": {
    "colab": {
     "base_uri": "https://localhost:8080/"
    },
    "id": "UCvfxhJcNobm",
    "outputId": "ed0e2237-60ee-4a65-b734-e13b56a2c380"
   },
   "outputs": [
    {
     "name": "stdout",
     "output_type": "stream",
     "text": [
      "*\n",
      "**\n",
      "***\n",
      "****\n",
      "*****\n",
      "******\n",
      "*******\n",
      "********\n",
      "end of code\n"
     ]
    }
   ],
   "source": [
    "s=\"*\"\n",
    "i=0\n",
    "while i<=7:\n",
    "    print(s)\n",
    "    s=s+\"*\"\n",
    "    i=i+1\n",
    "print(\"end of code\")"
   ]
  },
  {
   "cell_type": "markdown",
   "metadata": {
    "id": "fxAanuJ2OHDa"
   },
   "source": [
    "#### example: sum of numbers from 5 to n"
   ]
  },
  {
   "cell_type": "code",
   "execution_count": 4,
   "metadata": {
    "colab": {
     "base_uri": "https://localhost:8080/"
    },
    "id": "4RSxnf60ON8P",
    "outputId": "97f478de-f18d-423c-88dd-a64803acbfe9"
   },
   "outputs": [
    {
     "name": "stdout",
     "output_type": "stream",
     "text": [
      "enter number: 4\n",
      "sum  0\n",
      "5\n"
     ]
    }
   ],
   "source": [
    "n=int(input(\"enter number: \"))\n",
    "s=0\n",
    "i=5\n",
    "while i<=n:\n",
    "    print(i)\n",
    "    s=s+i  \n",
    "    i=i+1\n",
    "\n",
    "print(\"sum \",s)\n",
    "print(i)"
   ]
  },
  {
   "cell_type": "markdown",
   "metadata": {},
   "source": [
    "#### Add first n odd numbers"
   ]
  },
  {
   "cell_type": "code",
   "execution_count": 5,
   "metadata": {},
   "outputs": [
    {
     "name": "stdout",
     "output_type": "stream",
     "text": [
      "enter number: 10\n",
      "100\n",
      "21\n"
     ]
    }
   ],
   "source": [
    "n=int(input(\"enter number: \"))\n",
    "s=0\n",
    "i=1\n",
    "x=1\n",
    "while i<=n:\n",
    "    s=s+x\n",
    "    x=x+2\n",
    "    i=i+1\n",
    "    \n",
    "print(s)\n",
    "print(x)"
   ]
  },
  {
   "cell_type": "code",
   "execution_count": null,
   "metadata": {},
   "outputs": [],
   "source": []
  }
 ],
 "metadata": {
  "colab": {
   "collapsed_sections": [],
   "name": " while loop and loop control",
   "provenance": []
  },
  "kernelspec": {
   "display_name": "Python 3",
   "language": "python",
   "name": "python3"
  },
  "language_info": {
   "codemirror_mode": {
    "name": "ipython",
    "version": 3
   },
   "file_extension": ".py",
   "mimetype": "text/x-python",
   "name": "python",
   "nbconvert_exporter": "python",
   "pygments_lexer": "ipython3",
   "version": "3.8.8"
  }
 },
 "nbformat": 4,
 "nbformat_minor": 1
}
