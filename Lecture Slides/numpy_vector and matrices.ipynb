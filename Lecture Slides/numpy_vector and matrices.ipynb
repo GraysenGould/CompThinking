{
 "cells": [
  {
   "cell_type": "markdown",
   "metadata": {},
   "source": [
    "  --> vector is representation of a single quantity by   combination of different quantities (e.g. z=3x+5y)\n",
    "    \n",
    "   --> vectors are 1 dimensional sequence of numbers\n",
    "    \n",
    "   --> 1D arrays can represent vectors and perform vector operation\n",
    "    \n",
    "   --> multiple vectors can be combined together to form a 2     dimensional structure,it is then called a \"matrix\"\n",
    "    \n",
    "   --> 2D arrays can represent matrices and perform matrix operation\n",
    "\n"
   ]
  },
  {
   "cell_type": "code",
   "execution_count": null,
   "metadata": {},
   "outputs": [],
   "source": [
    "import numpy as np"
   ]
  },
  {
   "cell_type": "code",
   "execution_count": null,
   "metadata": {},
   "outputs": [],
   "source": [
    "a=np.array([1,2,3])\n",
    "a"
   ]
  },
  {
   "cell_type": "code",
   "execution_count": null,
   "metadata": {},
   "outputs": [],
   "source": [
    "e=np.array([[1,2,3],[3,4,5]])\n",
    "e"
   ]
  },
  {
   "cell_type": "code",
   "execution_count": null,
   "metadata": {},
   "outputs": [],
   "source": [
    "b=np.array([[1,2,3],[4,5,6],[7,8,9]])\n",
    "b"
   ]
  },
  {
   "cell_type": "code",
   "execution_count": null,
   "metadata": {},
   "outputs": [],
   "source": [
    "c=np.array([[8,3,0,7,2,1],[4,8,1,4,2,9]])\n",
    "c"
   ]
  },
  {
   "cell_type": "code",
   "execution_count": null,
   "metadata": {},
   "outputs": [],
   "source": [
    "d=np.array([[[1,2,3],[2,4,6]],[[1,2,3],[3,5,7]],[[1,3,4],[2,4,6]]])\n",
    "d"
   ]
  },
  {
   "cell_type": "code",
   "execution_count": null,
   "metadata": {},
   "outputs": [],
   "source": [
    "print(a,\"\\n\")\n",
    "print(b,\"\\n\")\n",
    "np.matmul(a,b) ## martix multiplication, also done by @ operator"
   ]
  },
  {
   "cell_type": "code",
   "execution_count": null,
   "metadata": {},
   "outputs": [],
   "source": [
    "a@b"
   ]
  },
  {
   "cell_type": "code",
   "execution_count": null,
   "metadata": {},
   "outputs": [],
   "source": [
    "b@a"
   ]
  },
  {
   "cell_type": "code",
   "execution_count": null,
   "metadata": {},
   "outputs": [],
   "source": [
    "print(a@np.transpose(b))"
   ]
  },
  {
   "cell_type": "code",
   "execution_count": null,
   "metadata": {},
   "outputs": [],
   "source": [
    "print(b@a) # note the results are different for b@a and a@b"
   ]
  },
  {
   "cell_type": "markdown",
   "metadata": {},
   "source": [
    "a=[a1 a2 a3]\n",
    "\n",
    "b=[[b11 b12 b13]\n",
    "   [b21 b22 b23]\n",
    "   [b31 b32 b33]]\n",
    "   \n",
    "a@b=[a1*b11+a2*b21+a3*b31  a1*b12+a2*b22+a3*b23  a1*b13+a2*b23+a3*b33]\n",
    "\n",
    "b@a= [b11*a1+b12*a2+b13*a3  b21*a1+b22*a2+b23*a3  b31*a1+b32*a2*b33*a3]"
   ]
  },
  {
   "cell_type": "code",
   "execution_count": null,
   "metadata": {},
   "outputs": [],
   "source": [
    "e"
   ]
  },
  {
   "cell_type": "code",
   "execution_count": null,
   "metadata": {},
   "outputs": [],
   "source": [
    "b"
   ]
  },
  {
   "cell_type": "code",
   "execution_count": null,
   "metadata": {},
   "outputs": [],
   "source": [
    "print(e@b) # how about b@e?"
   ]
  },
  {
   "cell_type": "code",
   "execution_count": null,
   "metadata": {},
   "outputs": [],
   "source": []
  },
  {
   "cell_type": "markdown",
   "metadata": {},
   "source": [
    "#### Rule for matrix multiplication:\n",
    "\n",
    "The number of columns in the first matrix (i.e. 2D array) should be equal to the number of rows in the seocnd matrix. \n",
    "\n",
    "if A has r1 rows and c1 columns and B has r2 rows and c2 columns, then c1=r2 is the condition for matrix multiplication to be valid.\n",
    "\n",
    "The resultant array will have r1 rows and c2 columns.\n",
    "\n",
    "Example: if A is a (3x5) array and B is a (5x7) array, the multiplication is valid, and the product will be an array of (3x7).\n"
   ]
  },
  {
   "cell_type": "code",
   "execution_count": null,
   "metadata": {},
   "outputs": [],
   "source": []
  }
 ],
 "metadata": {
  "colab": {
   "collapsed_sections": [],
   "name": "intro to numpy",
   "provenance": []
  },
  "kernelspec": {
   "display_name": "Python 3 (ipykernel)",
   "language": "python",
   "name": "python3"
  },
  "language_info": {
   "codemirror_mode": {
    "name": "ipython",
    "version": 3
   },
   "file_extension": ".py",
   "mimetype": "text/x-python",
   "name": "python",
   "nbconvert_exporter": "python",
   "pygments_lexer": "ipython3",
   "version": "3.12.4"
  }
 },
 "nbformat": 4,
 "nbformat_minor": 4
}
