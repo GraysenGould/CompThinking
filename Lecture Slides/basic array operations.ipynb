{
 "cells": [
  {
   "cell_type": "markdown",
   "metadata": {
    "id": "lMZd5cHMueIj"
   },
   "source": [
    "## numpy arrays"
   ]
  },
  {
   "cell_type": "code",
   "execution_count": 1,
   "metadata": {
    "id": "9Fd3RtPCLSSf"
   },
   "outputs": [],
   "source": [
    "import numpy as np"
   ]
  },
  {
   "cell_type": "code",
   "execution_count": 2,
   "metadata": {
    "id": "_SJRF8Tfs_-Y",
    "scrolled": true
   },
   "outputs": [],
   "source": [
    "a=np.array([1,2,3])\n"
   ]
  },
  {
   "cell_type": "code",
   "execution_count": 3,
   "metadata": {},
   "outputs": [
    {
     "data": {
      "text/plain": [
       "array([[1, 2, 3],\n",
       "       [4, 5, 6],\n",
       "       [7, 8, 9]])"
      ]
     },
     "execution_count": 3,
     "metadata": {},
     "output_type": "execute_result"
    }
   ],
   "source": [
    "b=np.array([[1,2,3],[4,5,6],[7,8,9]])\n",
    "b"
   ]
  },
  {
   "cell_type": "code",
   "execution_count": 4,
   "metadata": {},
   "outputs": [
    {
     "data": {
      "text/plain": [
       "array([[8, 3, 0, 7, 2, 1],\n",
       "       [4, 8, 1, 4, 2, 9]])"
      ]
     },
     "execution_count": 4,
     "metadata": {},
     "output_type": "execute_result"
    }
   ],
   "source": [
    "c=np.array([[8,3,0,7,2,1],[4,8,1,4,2,9]])\n",
    "c"
   ]
  },
  {
   "cell_type": "code",
   "execution_count": 5,
   "metadata": {},
   "outputs": [
    {
     "data": {
      "text/plain": [
       "array([[[1, 2, 3],\n",
       "        [2, 4, 6]],\n",
       "\n",
       "       [[1, 2, 3],\n",
       "        [3, 5, 7]],\n",
       "\n",
       "       [[1, 3, 4],\n",
       "        [2, 4, 6]]])"
      ]
     },
     "execution_count": 5,
     "metadata": {},
     "output_type": "execute_result"
    }
   ],
   "source": [
    "x=[[[1,2,3],[2,4,6]],[[1,2,3],[3,5,7]],[[1,3,4],[2,4,6]]]\n",
    "d=np.array(x)\n",
    "d"
   ]
  },
  {
   "cell_type": "code",
   "execution_count": 6,
   "metadata": {},
   "outputs": [
    {
     "data": {
      "text/plain": [
       "array([[1, 2, 3],\n",
       "       [3, 4, 5]])"
      ]
     },
     "execution_count": 6,
     "metadata": {},
     "output_type": "execute_result"
    }
   ],
   "source": [
    "e=np.array([[1,2,3],[3,4,5]])\n",
    "e"
   ]
  },
  {
   "cell_type": "markdown",
   "metadata": {},
   "source": [
    "### Array indexing"
   ]
  },
  {
   "cell_type": "code",
   "execution_count": 14,
   "metadata": {},
   "outputs": [
    {
     "data": {
      "text/plain": [
       "array([[[1, 2, 3],\n",
       "        [2, 4, 6]],\n",
       "\n",
       "       [[1, 2, 3],\n",
       "        [3, 5, 7]],\n",
       "\n",
       "       [[1, 3, 4],\n",
       "        [2, 4, 6]]])"
      ]
     },
     "execution_count": 14,
     "metadata": {},
     "output_type": "execute_result"
    }
   ],
   "source": [
    "d"
   ]
  },
  {
   "cell_type": "code",
   "execution_count": 16,
   "metadata": {},
   "outputs": [
    {
     "data": {
      "text/plain": [
       "array([[[2, 3]]])"
      ]
     },
     "execution_count": 16,
     "metadata": {},
     "output_type": "execute_result"
    }
   ],
   "source": [
    "d[1:2:1,0:1:2,1:3:1]"
   ]
  },
  {
   "cell_type": "code",
   "execution_count": 18,
   "metadata": {},
   "outputs": [
    {
     "data": {
      "text/plain": [
       "array([[1, 2, 3],\n",
       "       [1, 2, 3],\n",
       "       [1, 3, 4]])"
      ]
     },
     "execution_count": 18,
     "metadata": {},
     "output_type": "execute_result"
    }
   ],
   "source": [
    "# display the first rows\n",
    "d[:,0,:]"
   ]
  },
  {
   "cell_type": "code",
   "execution_count": null,
   "metadata": {},
   "outputs": [],
   "source": [
    "#display the second columns\n",
    "d[:,:,1]"
   ]
  },
  {
   "cell_type": "code",
   "execution_count": null,
   "metadata": {},
   "outputs": [],
   "source": [
    "# display the second 2D plane \n",
    "d[1,:,:]"
   ]
  },
  {
   "cell_type": "code",
   "execution_count": null,
   "metadata": {},
   "outputs": [],
   "source": []
  },
  {
   "cell_type": "code",
   "execution_count": null,
   "metadata": {},
   "outputs": [],
   "source": [
    "#display the 1st and 2nd columns of the 2nd row of the 3rd 2D plane\n",
    "d[2,1,0:2]"
   ]
  },
  {
   "cell_type": "code",
   "execution_count": null,
   "metadata": {},
   "outputs": [],
   "source": []
  },
  {
   "cell_type": "code",
   "execution_count": null,
   "metadata": {},
   "outputs": [],
   "source": [
    "d.shape"
   ]
  },
  {
   "cell_type": "code",
   "execution_count": 8,
   "metadata": {},
   "outputs": [
    {
     "name": "stdout",
     "output_type": "stream",
     "text": [
      "[[[ 1  2  3]\n",
      "  [ 2  4 40]]\n",
      "\n",
      " [[ 1  2  3]\n",
      "  [ 3 40 40]]\n",
      "\n",
      " [[ 1  3  4]\n",
      "  [ 2  4 40]]]\n",
      "d[0,1,2]\n",
      "d[1,1,1]\n",
      "d[1,1,2]\n",
      "d[2,1,2]\n",
      "\n",
      "modified d:\n",
      "\n",
      " [[[ 1  2  3]\n",
      "  [ 2  4 40]]\n",
      "\n",
      " [[ 1  2  3]\n",
      "  [ 3 40 40]]\n",
      "\n",
      " [[ 1  3  4]\n",
      "  [ 2  4 40]]]\n"
     ]
    }
   ],
   "source": [
    "## if any array element in array d is greater than 4, replace that element with 40\n",
    "print(d)\n",
    "for i in range(d.shape[-3]):\n",
    "    for j in range(d.shape[-2]):\n",
    "        for k in range(d.shape[-1]):\n",
    "            if d[i,j,k]>4:\n",
    "                print (\"d[{},{},{}]\".format(i,j,k))\n",
    "                d[i,j,k]=40\n",
    "                \n",
    "print(\"\\nmodified d:\\n\\n\",d)"
   ]
  },
  {
   "cell_type": "markdown",
   "metadata": {
    "id": "83yqukCP42qu"
   },
   "source": [
    "### re-arranging array elements"
   ]
  },
  {
   "cell_type": "code",
   "execution_count": 9,
   "metadata": {},
   "outputs": [
    {
     "data": {
      "text/plain": [
       "array([[8, 3, 0, 7, 2, 1],\n",
       "       [4, 8, 1, 4, 2, 9]])"
      ]
     },
     "execution_count": 9,
     "metadata": {},
     "output_type": "execute_result"
    }
   ],
   "source": [
    "c"
   ]
  },
  {
   "cell_type": "code",
   "execution_count": 10,
   "metadata": {
    "id": "XbNETudF6iVO"
   },
   "outputs": [
    {
     "name": "stdout",
     "output_type": "stream",
     "text": [
      "c: \n",
      " [[8 3 0 7 2 1]\n",
      " [4 8 1 4 2 9]]\n",
      "c1: \n",
      " [[8 3 0 7]\n",
      " [2 1 4 8]\n",
      " [1 4 2 9]]\n"
     ]
    }
   ],
   "source": [
    "c1=np.reshape(c,(3,4)) ## total elements in array c is 12\n",
    "print(\"c: \\n\",c)\n",
    "print(\"c1: \\n\",c1)"
   ]
  },
  {
   "cell_type": "code",
   "execution_count": 13,
   "metadata": {},
   "outputs": [
    {
     "data": {
      "text/plain": [
       "array([[8],\n",
       "       [3],\n",
       "       [0],\n",
       "       [7],\n",
       "       [2],\n",
       "       [1],\n",
       "       [4],\n",
       "       [8],\n",
       "       [1],\n",
       "       [4],\n",
       "       [2],\n",
       "       [9]])"
      ]
     },
     "execution_count": 13,
     "metadata": {},
     "output_type": "execute_result"
    }
   ],
   "source": [
    "# 2D to 2D\n",
    "c4=np.reshape(c,(12,1))  \n",
    "c4"
   ]
  },
  {
   "cell_type": "code",
   "execution_count": 14,
   "metadata": {},
   "outputs": [
    {
     "data": {
      "text/plain": [
       "array([8, 3, 0, 7, 2, 1, 4, 8, 1, 4, 2, 9])"
      ]
     },
     "execution_count": 14,
     "metadata": {},
     "output_type": "execute_result"
    }
   ],
   "source": [
    "# convert from 2D to 1D\n",
    "c2=np.reshape(c,(12))\n",
    "c2"
   ]
  },
  {
   "cell_type": "code",
   "execution_count": 15,
   "metadata": {},
   "outputs": [
    {
     "data": {
      "text/plain": [
       "array([[[[8],\n",
       "         [3]],\n",
       "\n",
       "        [[0],\n",
       "         [7]]],\n",
       "\n",
       "\n",
       "       [[[2],\n",
       "         [1]],\n",
       "\n",
       "        [[4],\n",
       "         [8]]],\n",
       "\n",
       "\n",
       "       [[[1],\n",
       "         [4]],\n",
       "\n",
       "        [[2],\n",
       "         [9]]]])"
      ]
     },
     "execution_count": 15,
     "metadata": {},
     "output_type": "execute_result"
    }
   ],
   "source": [
    "#convert from 2D to 3D\n",
    "c3=np.reshape(c,(3,2,2,1))\n",
    "c3"
   ]
  },
  {
   "cell_type": "code",
   "execution_count": 16,
   "metadata": {},
   "outputs": [
    {
     "data": {
      "text/plain": [
       "array([[[ 1,  2,  3],\n",
       "        [ 2,  4, 40]],\n",
       "\n",
       "       [[ 1,  2,  3],\n",
       "        [ 3, 40, 40]],\n",
       "\n",
       "       [[ 1,  3,  4],\n",
       "        [ 2,  4, 40]]])"
      ]
     },
     "execution_count": 16,
     "metadata": {},
     "output_type": "execute_result"
    }
   ],
   "source": [
    "d"
   ]
  },
  {
   "cell_type": "code",
   "execution_count": 17,
   "metadata": {},
   "outputs": [
    {
     "data": {
      "text/plain": [
       "array([[[ 1,  1,  1],\n",
       "        [ 2,  3,  2]],\n",
       "\n",
       "       [[ 2,  2,  3],\n",
       "        [ 4, 40,  4]],\n",
       "\n",
       "       [[ 3,  3,  4],\n",
       "        [40, 40, 40]]])"
      ]
     },
     "execution_count": 17,
     "metadata": {},
     "output_type": "execute_result"
    }
   ],
   "source": [
    "np.transpose(d)  ## convert the columns into rows and rows into columns"
   ]
  },
  {
   "cell_type": "markdown",
   "metadata": {
    "id": "otEULINgoIvA"
   },
   "source": [
    "### math operations"
   ]
  },
  {
   "cell_type": "code",
   "execution_count": 18,
   "metadata": {},
   "outputs": [
    {
     "data": {
      "text/plain": [
       "array([[1, 2, 3],\n",
       "       [4, 5, 6],\n",
       "       [7, 8, 9]])"
      ]
     },
     "execution_count": 18,
     "metadata": {},
     "output_type": "execute_result"
    }
   ],
   "source": [
    "b"
   ]
  },
  {
   "cell_type": "code",
   "execution_count": 19,
   "metadata": {},
   "outputs": [
    {
     "data": {
      "text/plain": [
       "5.0"
      ]
     },
     "execution_count": 19,
     "metadata": {},
     "output_type": "execute_result"
    }
   ],
   "source": [
    "np.average(b)"
   ]
  },
  {
   "cell_type": "code",
   "execution_count": 20,
   "metadata": {},
   "outputs": [
    {
     "data": {
      "text/plain": [
       "8.0"
      ]
     },
     "execution_count": 20,
     "metadata": {},
     "output_type": "execute_result"
    }
   ],
   "source": [
    "np.average(b[2,:])"
   ]
  },
  {
   "cell_type": "code",
   "execution_count": 21,
   "metadata": {},
   "outputs": [
    {
     "data": {
      "text/plain": [
       "array([[[ 1,  2,  3],\n",
       "        [ 2,  4, 40]],\n",
       "\n",
       "       [[ 1,  2,  3],\n",
       "        [ 3, 40, 40]],\n",
       "\n",
       "       [[ 1,  3,  4],\n",
       "        [ 2,  4, 40]]])"
      ]
     },
     "execution_count": 21,
     "metadata": {},
     "output_type": "execute_result"
    }
   ],
   "source": [
    "d"
   ]
  },
  {
   "cell_type": "code",
   "execution_count": 22,
   "metadata": {
    "id": "XAFw8r4X66r5"
   },
   "outputs": [
    {
     "data": {
      "text/plain": [
       "array([[[1.        , 1.41421356, 1.73205081],\n",
       "        [1.41421356, 2.        , 6.32455532]],\n",
       "\n",
       "       [[1.        , 1.41421356, 1.73205081],\n",
       "        [1.73205081, 6.32455532, 6.32455532]],\n",
       "\n",
       "       [[1.        , 1.73205081, 2.        ],\n",
       "        [1.41421356, 2.        , 6.32455532]]])"
      ]
     },
     "execution_count": 22,
     "metadata": {},
     "output_type": "execute_result"
    }
   ],
   "source": [
    "np.sqrt(d)"
   ]
  },
  {
   "cell_type": "code",
   "execution_count": 23,
   "metadata": {},
   "outputs": [
    {
     "data": {
      "text/plain": [
       "array([[8, 3, 0, 7, 2, 1],\n",
       "       [4, 8, 1, 4, 2, 9]])"
      ]
     },
     "execution_count": 23,
     "metadata": {},
     "output_type": "execute_result"
    }
   ],
   "source": [
    "c"
   ]
  },
  {
   "cell_type": "code",
   "execution_count": 24,
   "metadata": {
    "id": "w_f9Ysid7vsL"
   },
   "outputs": [
    {
     "data": {
      "text/plain": [
       "array([[2.98095799e+03, 2.00855369e+01, 1.00000000e+00, 1.09663316e+03,\n",
       "        7.38905610e+00, 2.71828183e+00],\n",
       "       [5.45981500e+01, 2.98095799e+03, 2.71828183e+00, 5.45981500e+01,\n",
       "        7.38905610e+00, 8.10308393e+03]])"
      ]
     },
     "execution_count": 24,
     "metadata": {},
     "output_type": "execute_result"
    }
   ],
   "source": [
    "np.exp(c)"
   ]
  },
  {
   "cell_type": "code",
   "execution_count": 25,
   "metadata": {},
   "outputs": [
    {
     "data": {
      "text/plain": [
       "array([[1, 2, 3],\n",
       "       [4, 5, 6],\n",
       "       [7, 8, 9]])"
      ]
     },
     "execution_count": 25,
     "metadata": {},
     "output_type": "execute_result"
    }
   ],
   "source": [
    "b"
   ]
  },
  {
   "cell_type": "code",
   "execution_count": 26,
   "metadata": {},
   "outputs": [
    {
     "data": {
      "text/plain": [
       "array([[[ 1,  2,  3],\n",
       "        [ 2,  4, 40]],\n",
       "\n",
       "       [[ 1,  2,  3],\n",
       "        [ 3, 40, 40]],\n",
       "\n",
       "       [[ 1,  3,  4],\n",
       "        [ 2,  4, 40]]])"
      ]
     },
     "execution_count": 26,
     "metadata": {},
     "output_type": "execute_result"
    }
   ],
   "source": [
    "d"
   ]
  },
  {
   "cell_type": "code",
   "execution_count": 27,
   "metadata": {},
   "outputs": [
    {
     "data": {
      "text/plain": [
       "array([[1, 2, 3],\n",
       "       [3, 4, 5]])"
      ]
     },
     "execution_count": 27,
     "metadata": {},
     "output_type": "execute_result"
    }
   ],
   "source": [
    "e"
   ]
  },
  {
   "cell_type": "code",
   "execution_count": 28,
   "metadata": {},
   "outputs": [
    {
     "name": "stdout",
     "output_type": "stream",
     "text": [
      "[[[ 2  4  6]\n",
      "  [ 5  8 45]]\n",
      "\n",
      " [[ 2  4  6]\n",
      "  [ 6 44 45]]\n",
      "\n",
      " [[ 2  5  7]\n",
      "  [ 5  8 45]]]\n"
     ]
    }
   ],
   "source": [
    "print(e+d)"
   ]
  },
  {
   "cell_type": "code",
   "execution_count": 29,
   "metadata": {},
   "outputs": [
    {
     "data": {
      "text/plain": [
       "array([1, 2, 3])"
      ]
     },
     "execution_count": 29,
     "metadata": {},
     "output_type": "execute_result"
    }
   ],
   "source": [
    "a"
   ]
  },
  {
   "cell_type": "code",
   "execution_count": 30,
   "metadata": {},
   "outputs": [
    {
     "data": {
      "text/plain": [
       "array([[[ 2,  4,  6],\n",
       "        [ 3,  6, 43]],\n",
       "\n",
       "       [[ 2,  4,  6],\n",
       "        [ 4, 42, 43]],\n",
       "\n",
       "       [[ 2,  5,  7],\n",
       "        [ 3,  6, 43]]])"
      ]
     },
     "execution_count": 30,
     "metadata": {},
     "output_type": "execute_result"
    }
   ],
   "source": [
    "a+d"
   ]
  },
  {
   "cell_type": "code",
   "execution_count": 31,
   "metadata": {},
   "outputs": [
    {
     "data": {
      "text/plain": [
       "array([[8, 3, 0, 7, 2, 1],\n",
       "       [4, 8, 1, 4, 2, 9]])"
      ]
     },
     "execution_count": 31,
     "metadata": {},
     "output_type": "execute_result"
    }
   ],
   "source": [
    "c"
   ]
  },
  {
   "cell_type": "code",
   "execution_count": 32,
   "metadata": {},
   "outputs": [
    {
     "data": {
      "text/plain": [
       "array([[1, 2, 3],\n",
       "       [3, 4, 5]])"
      ]
     },
     "execution_count": 32,
     "metadata": {},
     "output_type": "execute_result"
    }
   ],
   "source": [
    "e"
   ]
  },
  {
   "cell_type": "code",
   "execution_count": 33,
   "metadata": {},
   "outputs": [
    {
     "ename": "ValueError",
     "evalue": "operands could not be broadcast together with shapes (2,6) (2,3) ",
     "output_type": "error",
     "traceback": [
      "\u001b[1;31m---------------------------------------------------------------------------\u001b[0m",
      "\u001b[1;31mValueError\u001b[0m                                Traceback (most recent call last)",
      "Cell \u001b[1;32mIn[33], line 1\u001b[0m\n\u001b[1;32m----> 1\u001b[0m \u001b[43mc\u001b[49m\u001b[38;5;241;43m+\u001b[39;49m\u001b[43me\u001b[49m\n",
      "\u001b[1;31mValueError\u001b[0m: operands could not be broadcast together with shapes (2,6) (2,3) "
     ]
    }
   ],
   "source": [
    "c+e"
   ]
  },
  {
   "cell_type": "code",
   "execution_count": null,
   "metadata": {},
   "outputs": [],
   "source": [
    "a"
   ]
  },
  {
   "cell_type": "code",
   "execution_count": 34,
   "metadata": {},
   "outputs": [
    {
     "data": {
      "text/plain": [
       "array([[1, 2, 3],\n",
       "       [4, 5, 6],\n",
       "       [7, 8, 9]])"
      ]
     },
     "execution_count": 34,
     "metadata": {},
     "output_type": "execute_result"
    }
   ],
   "source": [
    "b"
   ]
  },
  {
   "cell_type": "code",
   "execution_count": 35,
   "metadata": {},
   "outputs": [
    {
     "data": {
      "text/plain": [
       "array([[ 1,  4,  9],\n",
       "       [ 4, 10, 18],\n",
       "       [ 7, 16, 27]])"
      ]
     },
     "execution_count": 35,
     "metadata": {},
     "output_type": "execute_result"
    }
   ],
   "source": [
    "a*b"
   ]
  },
  {
   "cell_type": "code",
   "execution_count": 36,
   "metadata": {},
   "outputs": [
    {
     "data": {
      "text/plain": [
       "array([[ 1,  4,  9],\n",
       "       [ 4, 10, 18],\n",
       "       [ 7, 16, 27]])"
      ]
     },
     "execution_count": 36,
     "metadata": {},
     "output_type": "execute_result"
    }
   ],
   "source": [
    "b*a"
   ]
  },
  {
   "cell_type": "code",
   "execution_count": 37,
   "metadata": {},
   "outputs": [
    {
     "data": {
      "text/plain": [
       "array([[[  1,   4,   9],\n",
       "        [  6,  16, 200]],\n",
       "\n",
       "       [[  1,   4,   9],\n",
       "        [  9, 160, 200]],\n",
       "\n",
       "       [[  1,   6,  12],\n",
       "        [  6,  16, 200]]])"
      ]
     },
     "execution_count": 37,
     "metadata": {},
     "output_type": "execute_result"
    }
   ],
   "source": [
    "e*d"
   ]
  },
  {
   "cell_type": "code",
   "execution_count": 38,
   "metadata": {},
   "outputs": [
    {
     "data": {
      "text/plain": [
       "array([[1, 2, 3],\n",
       "       [4, 5, 6]])"
      ]
     },
     "execution_count": 38,
     "metadata": {},
     "output_type": "execute_result"
    }
   ],
   "source": [
    "b[0:2,:]"
   ]
  },
  {
   "cell_type": "code",
   "execution_count": 39,
   "metadata": {},
   "outputs": [
    {
     "data": {
      "text/plain": [
       "array([[1, 2, 3],\n",
       "       [3, 4, 5]])"
      ]
     },
     "execution_count": 39,
     "metadata": {},
     "output_type": "execute_result"
    }
   ],
   "source": [
    "e"
   ]
  },
  {
   "cell_type": "code",
   "execution_count": 40,
   "metadata": {},
   "outputs": [
    {
     "data": {
      "text/plain": [
       "array([[ 1,  4,  9],\n",
       "       [12, 20, 30]])"
      ]
     },
     "execution_count": 40,
     "metadata": {},
     "output_type": "execute_result"
    }
   ],
   "source": [
    "e*b[0:2,:] # array multiplication on selective rows and/or columns"
   ]
  },
  {
   "cell_type": "code",
   "execution_count": 41,
   "metadata": {},
   "outputs": [
    {
     "data": {
      "text/plain": [
       "array([[[  1,   4,   9],\n",
       "        [  2,   8, 120]],\n",
       "\n",
       "       [[  1,   4,   9],\n",
       "        [  3,  80, 120]],\n",
       "\n",
       "       [[  1,   6,  12],\n",
       "        [  2,   8, 120]]])"
      ]
     },
     "execution_count": 41,
     "metadata": {},
     "output_type": "execute_result"
    }
   ],
   "source": [
    "b[0:1,:]*d"
   ]
  },
  {
   "cell_type": "code",
   "execution_count": 42,
   "metadata": {},
   "outputs": [
    {
     "data": {
      "text/plain": [
       "array([[[  1,   4,   9],\n",
       "        [  8,  20, 240]],\n",
       "\n",
       "       [[  1,   4,   9],\n",
       "        [ 12, 200, 240]],\n",
       "\n",
       "       [[  1,   6,  12],\n",
       "        [  8,  20, 240]]])"
      ]
     },
     "execution_count": 42,
     "metadata": {},
     "output_type": "execute_result"
    }
   ],
   "source": [
    "b[0:2,:]*d"
   ]
  },
  {
   "cell_type": "markdown",
   "metadata": {},
   "source": [
    "### copying an array"
   ]
  },
  {
   "cell_type": "code",
   "execution_count": 43,
   "metadata": {},
   "outputs": [
    {
     "name": "stdout",
     "output_type": "stream",
     "text": [
      "[1 2 3]\n",
      "a [5 2 3] \n",
      "acopy [1 2 3] \n",
      "a_dup [5 2 3]\n"
     ]
    }
   ],
   "source": [
    "a=np.array([1,2,3])\n",
    "#b=np.array([1,2,3])\n",
    "print(a)\n",
    "acopy=np.copy(a)\n",
    "a_dup=a\n",
    "a[0]=5\n",
    "print(\"a\",a,\"\\nacopy\",acopy,\"\\na_dup\",a_dup) ## note the difference between creating copy of a and assigning a to another variable "
   ]
  },
  {
   "cell_type": "markdown",
   "metadata": {},
   "source": [
    "## sorting array elements"
   ]
  },
  {
   "cell_type": "code",
   "execution_count": 44,
   "metadata": {},
   "outputs": [
    {
     "name": "stdout",
     "output_type": "stream",
     "text": [
      "[[ 17  -6   2]\n",
      " [ 86 -12   0]\n",
      " [  0  23  12]]\n",
      "\n",
      "[[ -6   2  17]\n",
      " [-12   0  86]\n",
      " [  0  12  23]]\n",
      "\n",
      "Along columns : \n",
      " [[  0 -12   0]\n",
      " [ 17  -6   2]\n",
      " [ 86  23  12]]\n",
      "\n",
      "Along rows : \n",
      " [[ -6   2  17]\n",
      " [-12   0  86]\n",
      " [  0  12  23]]\n",
      "\n",
      "Along None Axis : \n",
      " [-12  -6   0   0   2  12  17  23  86]\n"
     ]
    }
   ],
   "source": [
    "a = np.array([[17,-6,2],[86,-12,0],[0,23,12]])\n",
    "print(a)\n",
    "print()\n",
    "print(np.sort(a))\n",
    "print (\"\\nAlong columns : \\n\", np.sort(a,axis = 0)) #This will be sorting in each column\n",
    "print (\"\\nAlong rows : \\n\", np.sort(a,axis = 1) ) #This will be sorting in each row\n",
    "#print (\"Sorting by default : \\n\", np.sort(a) )          #Same as above\n",
    "print (\"\\nAlong None Axis : \\n\", np.sort(a,axis = None) ) #This will be sorted like a 1D array\n",
    "#axis=2 for sortimg along height..."
   ]
  },
  {
   "cell_type": "code",
   "execution_count": 45,
   "metadata": {},
   "outputs": [
    {
     "data": {
      "text/plain": [
       "array([[[ 1,  2,  3],\n",
       "        [ 2,  4, 40]],\n",
       "\n",
       "       [[ 1,  2,  3],\n",
       "        [ 3, 40, 40]],\n",
       "\n",
       "       [[ 1,  3,  4],\n",
       "        [ 2,  4, 40]]])"
      ]
     },
     "execution_count": 45,
     "metadata": {},
     "output_type": "execute_result"
    }
   ],
   "source": [
    "d"
   ]
  },
  {
   "cell_type": "code",
   "execution_count": 46,
   "metadata": {},
   "outputs": [
    {
     "data": {
      "text/plain": [
       "array([[[ 1,  2,  3],\n",
       "        [ 2,  4, 40]],\n",
       "\n",
       "       [[ 1,  2,  3],\n",
       "        [ 3, 40, 40]],\n",
       "\n",
       "       [[ 1,  3,  4],\n",
       "        [ 2,  4, 40]]])"
      ]
     },
     "execution_count": 46,
     "metadata": {},
     "output_type": "execute_result"
    }
   ],
   "source": [
    "np.sort(d,axis=2)"
   ]
  },
  {
   "cell_type": "markdown",
   "metadata": {},
   "source": [
    "    __________________________________________________________________________________________________\n",
    "Practice:         \n",
    "\n",
    "\n",
    "https://pythonexamples.org/numpy/#5    \n",
    "\n",
    "\n",
    "http://54.243.252.9/engr-1330webroot/engr1330jb/_build/html/lessons/lesson09/lesson09.html  \n",
    "    __________________________________________________________________________________________________\n",
    "    "
   ]
  },
  {
   "cell_type": "code",
   "execution_count": null,
   "metadata": {},
   "outputs": [],
   "source": []
  }
 ],
 "metadata": {
  "colab": {
   "collapsed_sections": [],
   "name": "intro to numpy",
   "provenance": []
  },
  "kernelspec": {
   "display_name": "Python 3 (ipykernel)",
   "language": "python",
   "name": "python3"
  },
  "language_info": {
   "codemirror_mode": {
    "name": "ipython",
    "version": 3
   },
   "file_extension": ".py",
   "mimetype": "text/x-python",
   "name": "python",
   "nbconvert_exporter": "python",
   "pygments_lexer": "ipython3",
   "version": "3.12.4"
  }
 },
 "nbformat": 4,
 "nbformat_minor": 4
}
