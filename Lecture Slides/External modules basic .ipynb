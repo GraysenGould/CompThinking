{
 "cells": [
  {
   "cell_type": "markdown",
   "metadata": {},
   "source": [
    "## External Modules\n",
    "\n",
    "\n",
    "#### Think about the new house example. You have just moved into a new house today and you have found a toolbox in the garage with a hammer, some nails and a screwdriver (and these are your only tools by the way!). These tools are similar to the built-in functions you find in Python. Functions like print(), type(), and input() that are already there and you just call and use them whenever you need. Now, let's say you need to change a roof light. You have a bulb but you have no ladder so you can't get that high. In a case like this, you may decide to put some boxes on top of each other and use them as steps. This steps-like tool that you created to solve the problem is very similar to a user-defined function. A tool that was not there by default and you created (designed, defined) it to serve your purpose.      <br>\n",
    "\n",
    "#### The next morning, you wake up and notice that your lawn is very long and you decide to cut it but ... with the tools that you have it is extremely hard to cut lawn, if not impossible. What would you do then? At this point, you would probably ask a neighbor or a friend for the mower or go to a shop and buy or rent a mower, bring it home and cut your lawn. This is very similar to importing an external module in python. We bring in a tool that we need to solve a problem. <br>\n",
    "\n",
    "#### Moduels provide additional functionality to the basic Python package, much like a new piece of equipment adds functionality to a tool box. Just like in the house, importing too many libraries can sometimes complicate and slow down your programs - so we only import what we need for each program. <br>\n",
    "\n",
    "___\n",
    "\n",
    "## How to \"import\" an external module?\n",
    "\n",
    "#### If you want access to an external module in you code, all you have to do is:"
   ]
  },
  {
   "cell_type": "code",
   "execution_count": null,
   "metadata": {},
   "outputs": [],
   "source": [
    "import math"
   ]
  },
  {
   "cell_type": "markdown",
   "metadata": {},
   "source": [
    "#### From this point on in your code, you can use the math name to access this module. For example, to add up all the numbers in a list you can do:"
   ]
  },
  {
   "cell_type": "code",
   "execution_count": null,
   "metadata": {},
   "outputs": [],
   "source": [
    "nums = [1., 6., 9.23]\n",
    "total = math.fsum(nums)\n",
    "print(total)"
   ]
  },
  {
   "cell_type": "markdown",
   "metadata": {},
   "source": [
    "#### This code asks Python to run the function fsum which belongs to the math module in a similar way to how the append function belonged to the list object.\n",
    "\n",
    "#### As an example, Michael Corleone is the Michael that belongs to the Corleone family, We could use the dot notation to write his name Corleone.Michael, just as fsum is a function that belongs to the math module.\n",
    "#### It’s not just functions that a module can provide - there can also be variables as well:"
   ]
  },
  {
   "cell_type": "code",
   "execution_count": null,
   "metadata": {},
   "outputs": [],
   "source": [
    "print(math.pi)"
   ]
  },
  {
   "cell_type": "markdown",
   "metadata": {},
   "source": [
    "#### Let's say we do not want to import the entire library (toolbox) but we only need one specific function (tool). If you just want to import a specific function rather than a whole module, you can say this when importing. You then only need to call the function name without the module name as well:"
   ]
  },
  {
   "cell_type": "code",
   "execution_count": null,
   "metadata": {},
   "outputs": [],
   "source": [
    "from math import fsum\n",
    "nums = [1., 6., 9.23]\n",
    "total = fsum(nums)\n",
    "print(total)"
   ]
  },
  {
   "cell_type": "markdown",
   "metadata": {},
   "source": [
    "#### Finally, you can also rename what something is imported as if it conflicts with another name you are using or you just want to make it clearer:"
   ]
  },
  {
   "cell_type": "code",
   "execution_count": null,
   "metadata": {},
   "outputs": [],
   "source": [
    "import math as ma   # \"matematik\" is a Turkish work which means mathematics\n",
    "nums = [1., 6., 9.23]\n",
    "total = ma.fsum(nums)\n",
    "print(total)"
   ]
  },
  {
   "cell_type": "code",
   "execution_count": 1,
   "metadata": {},
   "outputs": [
    {
     "data": {
      "text/plain": [
       "1"
      ]
     },
     "execution_count": 1,
     "metadata": {},
     "output_type": "execute_result"
    }
   ],
   "source": [
    "# also run this\n",
    "import random\n",
    "\n",
    "random.randint(1, 6)"
   ]
  },
  {
   "cell_type": "markdown",
   "metadata": {},
   "source": [
    "## User-defined Modules:\n",
    "#### Same as user-defined functions, we can have user-defined libraries. Python files with codes in them that can be imported, similar to other external modules. Let's make one together:"
   ]
  },
  {
   "cell_type": "markdown",
   "metadata": {},
   "source": [
    "![](https://media2.giphy.com/media/5nj4ZZWl6QwneEaBX4/source.gif) <br>\n",
    "\n",
    "*Parts of this notebook were inspired by:* \n",
    "\n",
    "- __\"Using External Modules\"__ available at *https://bham-carpentries.github.io/2018-12-17-bham_python-novice-inflammation/08-libraries/index.html* <br>\n",
    "\n",
    "\n",
    "*Here are some great reads on this topic:* \n",
    "\n",
    "- __\"Python Modules and Packages – An Introduction\"__ by __John Sturtz _ available at *https://realpython.com/python-modules-packages/* <br>\n",
    "- __\"30 Days Of Python 👨‍💻 - Day 17 - External Modules\"__ available at *https://www.c-sharpcorner.com/article/30-days-of-python-day-17-external-modules/* <br>\n",
    "- __\"Python Modules\"__ available at *https://www.programiz.com/python-programming/modules* <br>\n",
    "\n",
    "\n",
    "*Here are some great videos on these topics:* \n",
    "\n",
    "- __\"Python Tutorial for Beginners 9: Import Modules and Exploring The Standard Library\"__ by __Corey Schafer__ available at *https://www.youtube.com/watch?v=CqvZ3vGoGs0* <br>\n",
    "\n",
    "- __\"#45 Python Tutorial for Beginners | Modules\"__ by __Telusko__ available at *https://www.youtube.com/watch?v=1RuMJ53CKds* <br>\n",
    "\n",
    "- __\"Top 18 Most Useful Python Modules\"__ by __Tech With Tim__ available at *https://www.youtube.com/watch?v=Vi9Y9AL13Rc* <br>\n",
    "\n",
    "\n"
   ]
  },
  {
   "cell_type": "code",
   "execution_count": null,
   "metadata": {},
   "outputs": [],
   "source": []
  }
 ],
 "metadata": {
  "kernelspec": {
   "display_name": "Python 3 (ipykernel)",
   "language": "python",
   "name": "python3"
  },
  "language_info": {
   "codemirror_mode": {
    "name": "ipython",
    "version": 3
   },
   "file_extension": ".py",
   "mimetype": "text/x-python",
   "name": "python",
   "nbconvert_exporter": "python",
   "pygments_lexer": "ipython3",
   "version": "3.12.4"
  }
 },
 "nbformat": 4,
 "nbformat_minor": 4
}
