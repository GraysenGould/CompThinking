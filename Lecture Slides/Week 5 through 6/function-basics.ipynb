{
 "cells": [
  {
   "cell_type": "markdown",
   "metadata": {
    "id": "Ny9SCKip8neT"
   },
   "source": [
    "#### Functions "
   ]
  },
  {
   "cell_type": "code",
   "execution_count": null,
   "metadata": {},
   "outputs": [],
   "source": [
    "def myfunction(a,b,c):\n",
    "    s=a+b+c\n",
    "    return s\n",
    "\n",
    "print(s)"
   ]
  },
  {
   "cell_type": "code",
   "execution_count": null,
   "metadata": {},
   "outputs": [],
   "source": [
    "d=myfunction(1,2,3)\n",
    "d\n"
   ]
  },
  {
   "cell_type": "code",
   "execution_count": null,
   "metadata": {},
   "outputs": [],
   "source": [
    "x=2;y=5;z=8\n",
    "d=myfunction(x,y,z)\n",
    "d"
   ]
  },
  {
   "cell_type": "code",
   "execution_count": 1,
   "metadata": {},
   "outputs": [
    {
     "name": "stdout",
     "output_type": "stream",
     "text": [
      "-2\n"
     ]
    }
   ],
   "source": [
    "def afunction(param1,param2):\n",
    "    #sub=param1-param2\n",
    "    return param1-param2 \n",
    "\n",
    "x=afunction(param2=4,param1=2) \n",
    "print(x)"
   ]
  },
  {
   "cell_type": "code",
   "execution_count": 13,
   "metadata": {},
   "outputs": [
    {
     "name": "stdout",
     "output_type": "stream",
     "text": [
      "9\n"
     ]
    }
   ],
   "source": [
    "def test(a, b=10):\n",
    "    print(a + b)\n",
    "\n",
    "test(b = 8, a = 1)"
   ]
  },
  {
   "cell_type": "code",
   "execution_count": null,
   "metadata": {},
   "outputs": [],
   "source": [
    "def afunction(param1,param2):\n",
    "    sub=param1-param2\n",
    "    add=param1+param2\n",
    "    return sub,add # return multiple values\n",
    "\n",
    "x=afunction(4,2)\n",
    "print(x)\n",
    "\n",
    "y,z=afunction(4,2)\n",
    "print(y,z)"
   ]
  },
  {
   "cell_type": "markdown",
   "metadata": {
    "id": "gSqspjYNuSPK"
   },
   "source": [
    "##### Example 1: volume of cylinder"
   ]
  },
  {
   "cell_type": "code",
   "execution_count": null,
   "metadata": {
    "id": "PkfuXXuA8mKg"
   },
   "outputs": [],
   "source": [
    "def volume_cylinder(r,h):\n",
    "    v=3.1416*r*r*h\n",
    "    print(v)\n",
    "    return v \n",
    "\n",
    "rad=float(input(\"enter radius: \"))\n",
    "ht=float(input(\"enter height: \"))\n",
    "vol=volume_cylinder(rad,ht)\n",
    "print(\"volume: \",vol)"
   ]
  },
  {
   "cell_type": "markdown",
   "metadata": {},
   "source": [
    "Exercise: What if you have 10 cylinders with different h and r? "
   ]
  },
  {
   "cell_type": "code",
   "execution_count": null,
   "metadata": {},
   "outputs": [],
   "source": [
    "h=[2,4,5,4,3,4,6,7,9,6]\n",
    "r=[1,0.7,1,1,1.2,1.5,0.8,0.5,1.6,0.8]\n",
    "cyl_vol=[]\n",
    "for i in range(10):\n",
    "    cyl_vol.append(volume_cylinder(r[i],h[i]))\n",
    "    \n",
    "cyl_vol\n"
   ]
  },
  {
   "cell_type": "markdown",
   "metadata": {
    "id": "Gd3Z8yc1uWgj"
   },
   "source": [
    "##### Example 2: sum of arbitrary power series"
   ]
  },
  {
   "cell_type": "code",
   "execution_count": null,
   "metadata": {
    "colab": {
     "base_uri": "https://localhost:8080/"
    },
    "id": "6pdiCbVT9Qrm",
    "outputId": "3a33d696-4f28-449c-8f9c-efc869b8609b"
   },
   "outputs": [],
   "source": [
    "def power_series(n,r):\n",
    "    s=0\n",
    "    for i in range(1,n+1):\n",
    "        s=s+i**r\n",
    "    return s\n",
    "\n",
    "s1= power_series(10,3)\n",
    "print(\"sum of the series:\",s1)\n",
    "\n",
    "#you can also call a function inside print function\n",
    "#print(power_series(10,2)) "
   ]
  },
  {
   "cell_type": "markdown",
   "metadata": {
    "id": "GflYwMGVuN20"
   },
   "source": [
    "#### function with no return"
   ]
  },
  {
   "cell_type": "code",
   "execution_count": null,
   "metadata": {
    "colab": {
     "base_uri": "https://localhost:8080/"
    },
    "id": "JVCZrOcBtySo",
    "outputId": "7667194c-a82b-4241-be33-31d4c34a6ce6"
   },
   "outputs": [],
   "source": [
    "def myfunc():\n",
    "    print(\"This is my function\")    \n",
    "    return\n",
    "\n",
    "print(myfunc())"
   ]
  },
  {
   "cell_type": "markdown",
   "metadata": {
    "id": "J9JoOpXCV22Y"
   },
   "source": [
    "### Scope of variables: local and global"
   ]
  },
  {
   "cell_type": "code",
   "execution_count": 2,
   "metadata": {
    "colab": {
     "base_uri": "https://localhost:8080/"
    },
    "id": "iy0Tch1e-qHl",
    "outputId": "2da6e622-b89e-4e48-8c45-bd4101b1ce08"
   },
   "outputs": [
    {
     "name": "stdout",
     "output_type": "stream",
     "text": [
      "hello\n",
      "hello\n",
      "local variable x:  45\n",
      "x after calling a =  hello\n",
      "global x on calling b is:  25\n",
      "final value of x after calling b =  25\n"
     ]
    }
   ],
   "source": [
    "x=\"hello\"\n",
    "\n",
    "\n",
    "def a():\n",
    "    #print(x)\n",
    "    x=0\n",
    "    for i in range(10):\n",
    "        x=x+i\n",
    "    print(\"local variable x: \",x)\n",
    "    return x\n",
    "\n",
    "def b():\n",
    "    \n",
    "    global x\n",
    "    x=25\n",
    "    print(\"global x on calling b is: \",x)\n",
    "    \n",
    "def c():\n",
    "    print(x)\n",
    "\n",
    "print(x)\n",
    "c()\n",
    "a()\n",
    "print(\"x after calling a = \",x)\n",
    "b()\n",
    "print(\"final value of x after calling b = \",x)\n"
   ]
  },
  {
   "cell_type": "code",
   "execution_count": 4,
   "metadata": {},
   "outputs": [],
   "source": [
    "def a1():\n",
    "    print(\"hello\")\n",
    "    x=2\n",
    "    def b1(): \n",
    "        global x\n",
    "        x=3\n",
    "        print(x)\n",
    "        y=2\n",
    "    b1()\n",
    "    print(y)"
   ]
  },
  {
   "cell_type": "code",
   "execution_count": 5,
   "metadata": {},
   "outputs": [
    {
     "name": "stdout",
     "output_type": "stream",
     "text": [
      "hello\n",
      "3\n"
     ]
    },
    {
     "ename": "NameError",
     "evalue": "name 'y' is not defined",
     "output_type": "error",
     "traceback": [
      "\u001b[0;31m---------------------------------------------------------------------------\u001b[0m",
      "\u001b[0;31mNameError\u001b[0m                                 Traceback (most recent call last)",
      "\u001b[0;32m<ipython-input-5-1070b7276d63>\u001b[0m in \u001b[0;36m<module>\u001b[0;34m\u001b[0m\n\u001b[0;32m----> 1\u001b[0;31m \u001b[0ma1\u001b[0m\u001b[0;34m(\u001b[0m\u001b[0;34m)\u001b[0m\u001b[0;34m\u001b[0m\u001b[0;34m\u001b[0m\u001b[0m\n\u001b[0m",
      "\u001b[0;32m<ipython-input-4-5a90c0e07060>\u001b[0m in \u001b[0;36ma1\u001b[0;34m()\u001b[0m\n\u001b[1;32m      8\u001b[0m         \u001b[0my\u001b[0m\u001b[0;34m=\u001b[0m\u001b[0;36m2\u001b[0m\u001b[0;34m\u001b[0m\u001b[0;34m\u001b[0m\u001b[0m\n\u001b[1;32m      9\u001b[0m     \u001b[0mb1\u001b[0m\u001b[0;34m(\u001b[0m\u001b[0;34m)\u001b[0m\u001b[0;34m\u001b[0m\u001b[0;34m\u001b[0m\u001b[0m\n\u001b[0;32m---> 10\u001b[0;31m     \u001b[0mprint\u001b[0m\u001b[0;34m(\u001b[0m\u001b[0my\u001b[0m\u001b[0;34m)\u001b[0m\u001b[0;34m\u001b[0m\u001b[0;34m\u001b[0m\u001b[0m\n\u001b[0m",
      "\u001b[0;31mNameError\u001b[0m: name 'y' is not defined"
     ]
    }
   ],
   "source": [
    "a1()"
   ]
  },
  {
   "cell_type": "code",
   "execution_count": 6,
   "metadata": {},
   "outputs": [
    {
     "name": "stdout",
     "output_type": "stream",
     "text": [
      "3\n"
     ]
    }
   ],
   "source": [
    "print(x)"
   ]
  },
  {
   "cell_type": "markdown",
   "metadata": {
    "id": "IOy8VJl-va9k"
   },
   "source": [
    "### scope of functions"
   ]
  },
  {
   "cell_type": "code",
   "execution_count": null,
   "metadata": {
    "colab": {
     "base_uri": "https://localhost:8080/",
     "height": 267
    },
    "id": "acKlbE8MUgkj",
    "outputId": "e518b153-fb26-4651-99cf-e5ec3337723e"
   },
   "outputs": [],
   "source": [
    "def myfunc_1():\n",
    "    print(\"This is inside myfunc_1\")\n",
    "\n",
    "    def myfunc_2(a,b):\n",
    "        \n",
    "        print(\"this is inside myfunc_2: a+b = \",a+b)\n",
    "    \n",
    "    print(\"before myfunc2....\")\n",
    "    \n",
    "    myfunc_2(3,7)\n",
    "\n",
    "    print(\"end of myfunc_1 \\n\\n\")\n",
    "\n",
    "myfunc_1()\n",
    "myfunc_2(1,2)"
   ]
  },
  {
   "cell_type": "code",
   "execution_count": null,
   "metadata": {},
   "outputs": [],
   "source": []
  }
 ],
 "metadata": {
  "colab": {
   "collapsed_sections": [],
   "name": "Functions",
   "provenance": []
  },
  "kernelspec": {
   "display_name": "Python 3 (ipykernel)",
   "language": "python",
   "name": "python3"
  },
  "language_info": {
   "codemirror_mode": {
    "name": "ipython",
    "version": 3
   },
   "file_extension": ".py",
   "mimetype": "text/x-python",
   "name": "python",
   "nbconvert_exporter": "python",
   "pygments_lexer": "ipython3",
   "version": "3.12.4"
  }
 },
 "nbformat": 4,
 "nbformat_minor": 4
}
