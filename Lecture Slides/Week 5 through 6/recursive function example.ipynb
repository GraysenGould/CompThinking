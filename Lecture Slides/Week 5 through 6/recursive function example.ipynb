{
 "cells": [
  {
   "cell_type": "markdown",
   "id": "6fc9ca52-7999-4232-9f67-94de1497eeff",
   "metadata": {},
   "source": [
    "**Example of function recursion: To find element in a hierarchical data structure**"
   ]
  },
  {
   "cell_type": "code",
   "execution_count": 3,
   "id": "701716b5",
   "metadata": {},
   "outputs": [],
   "source": [
    "alist=[[[[1,2,8,0,7],[3,5,5]],[[7,9],1,[1,4],[2,6,0,1]],5,[[7,9],[3,5,0]]],2,[4,9,3],[[[[6,5],[4,6]],[9,0,7,7,6],9,[[1,0],[3,6]]],[[7,4,5,4],[3,6],[3,9,7,3,1]]],[[1,6,1,2],[0,2],[3,7,6,6,5]]]"
   ]
  },
  {
   "cell_type": "code",
   "execution_count": 4,
   "id": "490d8395",
   "metadata": {},
   "outputs": [],
   "source": [
    "def findelement(a,b):\n",
    "    for i in range(len(a)):\n",
    "        if type(a[i])==int:\n",
    "            if a[i]==b:\n",
    "                print(\"{} is found\".format(b))\n",
    "        elif type(a[i]==list):\n",
    "            findelement(a[i],b)\n",
    "            \n",
    "    return\n",
    "        #note: as the for loop defines a finite number of iteration, the return condition is not necessary\n",
    "        "
   ]
  },
  {
   "cell_type": "code",
   "execution_count": 5,
   "id": "8985aae2",
   "metadata": {},
   "outputs": [
    {
     "name": "stdout",
     "output_type": "stream",
     "text": [
      "2 is found\n",
      "2 is found\n",
      "2 is found\n",
      "2 is found\n",
      "2 is found\n"
     ]
    }
   ],
   "source": [
    "s=findelement(alist,2)"
   ]
  },
  {
   "cell_type": "code",
   "execution_count": null,
   "id": "bc5b6af8-f306-4cbe-bb3b-11e3a4f2cc2b",
   "metadata": {},
   "outputs": [],
   "source": []
  }
 ],
 "metadata": {
  "kernelspec": {
   "display_name": "Python 3 (ipykernel)",
   "language": "python",
   "name": "python3"
  },
  "language_info": {
   "codemirror_mode": {
    "name": "ipython",
    "version": 3
   },
   "file_extension": ".py",
   "mimetype": "text/x-python",
   "name": "python",
   "nbconvert_exporter": "python",
   "pygments_lexer": "ipython3",
   "version": "3.12.4"
  }
 },
 "nbformat": 4,
 "nbformat_minor": 5
}
