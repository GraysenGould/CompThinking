{
 "cells": [
  {
   "cell_type": "code",
   "execution_count": 3,
   "id": "fb24bd86",
   "metadata": {},
   "outputs": [],
   "source": [
    "g=9.8"
   ]
  },
  {
   "cell_type": "code",
   "execution_count": 4,
   "id": "7aa37f41",
   "metadata": {},
   "outputs": [],
   "source": [
    "def weight_Calc(m):\n",
    "    f=m*g\n",
    "    return f"
   ]
  },
  {
   "cell_type": "code",
   "execution_count": 5,
   "id": "cd7daa23",
   "metadata": {},
   "outputs": [],
   "source": [
    "class car():\n",
    "     \n",
    "    # init method or constructor\n",
    "    def __init__(self, mk, mdl, clr, yr): # define attributes of the class car\n",
    "        self.model = mdl\n",
    "        self.color = clr\n",
    "        self.make = mk\n",
    "        self.year = yr\n",
    "         \n",
    "    def show(self): # define a method associated with car\n",
    "        print(\"\\nModel is\", self.model )\n",
    "        print(\"color is\", self.color )\n",
    "        print(\"Make is\", self.make)\n",
    "        print(\"Year is\", self.year)\n",
    "         \n"
   ]
  },
  {
   "cell_type": "code",
   "execution_count": null,
   "id": "a0e8c85a",
   "metadata": {},
   "outputs": [],
   "source": []
  }
 ],
 "metadata": {
  "kernelspec": {
   "display_name": "Python 3 (ipykernel)",
   "language": "python",
   "name": "python3"
  },
  "language_info": {
   "codemirror_mode": {
    "name": "ipython",
    "version": 3
   },
   "file_extension": ".py",
   "mimetype": "text/x-python",
   "name": "python",
   "nbconvert_exporter": "python",
   "pygments_lexer": "ipython3",
   "version": "3.12.4"
  }
 },
 "nbformat": 4,
 "nbformat_minor": 5
}
