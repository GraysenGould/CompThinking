{
 "cells": [
  {
   "cell_type": "markdown",
   "metadata": {},
   "source": [
    "### Arrays:\n",
    "--> Only consists of elements belonging to the same data type\n",
    "\n",
    "--> Need to explicitly import a module for declaration\n",
    "\n",
    "--> Can directly handle arithmetic operations\n",
    "\n",
    "--> Preferred for longer sequence of data items\n",
    "\n",
    "--> Comparatively more compact in memory size\n"
   ]
  },
  {
   "cell_type": "code",
   "execution_count": 1,
   "metadata": {
    "id": "9Fd3RtPCLSSf"
   },
   "outputs": [],
   "source": [
    "import numpy as np"
   ]
  },
  {
   "cell_type": "markdown",
   "metadata": {
    "id": "lMZd5cHMueIj"
   },
   "source": [
    "## numpy arrays"
   ]
  },
  {
   "cell_type": "code",
   "execution_count": 2,
   "metadata": {
    "id": "_SJRF8Tfs_-Y"
   },
   "outputs": [
    {
     "name": "stdout",
     "output_type": "stream",
     "text": [
      "[[[1 2 3]]]\n"
     ]
    },
    {
     "data": {
      "text/plain": [
       "numpy.ndarray"
      ]
     },
     "execution_count": 2,
     "metadata": {},
     "output_type": "execute_result"
    }
   ],
   "source": [
    "x=[[[1,2,3]]]\n",
    "a=np.array(x,dtype=\"int16\") # you can specify the type and size as int8, int32, int64, float8, float16, float32....etc\n",
    "print(a)\n",
    "#print(x)\n",
    "type(a)"
   ]
  },
  {
   "cell_type": "code",
   "execution_count": 3,
   "metadata": {},
   "outputs": [
    {
     "data": {
      "text/plain": [
       "array([[1, 2, 3],\n",
       "       [4, 5, 6],\n",
       "       [7, 8, 9]])"
      ]
     },
     "execution_count": 3,
     "metadata": {},
     "output_type": "execute_result"
    }
   ],
   "source": [
    "b=np.array([[1,2,3],[4,5,6],[7,8,9]])\n",
    "b"
   ]
  },
  {
   "cell_type": "code",
   "execution_count": 4,
   "metadata": {},
   "outputs": [
    {
     "data": {
      "text/plain": [
       "array([[1.2, 2. , 3. ],\n",
       "       [4. , 5. , 6. ],\n",
       "       [7. , 8. , 9. ]])"
      ]
     },
     "execution_count": 4,
     "metadata": {},
     "output_type": "execute_result"
    }
   ],
   "source": [
    "b1=np.array([[1.2,2,3],[4,5,6],[7,8,9]])\n",
    "b1 # note ll numbers converted to float as one element was a float"
   ]
  },
  {
   "cell_type": "code",
   "execution_count": 5,
   "metadata": {},
   "outputs": [
    {
     "data": {
      "text/plain": [
       "dtype('float64')"
      ]
     },
     "execution_count": 5,
     "metadata": {},
     "output_type": "execute_result"
    }
   ],
   "source": [
    "b1.dtype"
   ]
  },
  {
   "cell_type": "code",
   "execution_count": 6,
   "metadata": {},
   "outputs": [
    {
     "data": {
      "text/plain": [
       "array([[1, 2, 3],\n",
       "       [4, 5, 6],\n",
       "       [7, 8, 9]], dtype=int16)"
      ]
     },
     "execution_count": 6,
     "metadata": {},
     "output_type": "execute_result"
    }
   ],
   "source": [
    "b2=np.array([[1.2,2.5,3],[4,5.0,6],[7,8,9]],dtype=\"int16\") # forcing all elements to become integers\n",
    "b2 "
   ]
  },
  {
   "cell_type": "code",
   "execution_count": 7,
   "metadata": {},
   "outputs": [
    {
     "data": {
      "text/plain": [
       "array([[1, 2, 3],\n",
       "       [4, 5, 6],\n",
       "       [7, 8, 9]])"
      ]
     },
     "execution_count": 7,
     "metadata": {},
     "output_type": "execute_result"
    }
   ],
   "source": [
    "b3=np.array([[1,2,3],[4,5,6],[7,8,9]]) # mismatch in number of elements in the lists\n",
    "b3 # you get an array of lists\n",
    "#b3.ndim\n",
    "#b3.dtype"
   ]
  },
  {
   "cell_type": "code",
   "execution_count": 8,
   "metadata": {},
   "outputs": [
    {
     "data": {
      "text/plain": [
       "array([['1', '2', 'a'],\n",
       "       ['4', '5', '6'],\n",
       "       ['7', '8', '9']], dtype='<U11')"
      ]
     },
     "execution_count": 8,
     "metadata": {},
     "output_type": "execute_result"
    }
   ],
   "source": [
    "b4=np.array([[1,2,\"a\"],[4,5,6],[7,8,9]]) #what if you have a string?\n",
    "b4  # all elements convetred to strings\n"
   ]
  },
  {
   "cell_type": "code",
   "execution_count": 9,
   "metadata": {},
   "outputs": [
    {
     "data": {
      "text/plain": [
       "array([[1, 2, 1],\n",
       "       [4, 5, 6],\n",
       "       [0, 8, 9]])"
      ]
     },
     "execution_count": 9,
     "metadata": {},
     "output_type": "execute_result"
    }
   ],
   "source": [
    "b5=np.array([[1,2,True],[4,5,6],[False,8,9]]) #what if you have bools?\n",
    "b5"
   ]
  },
  {
   "cell_type": "code",
   "execution_count": 10,
   "metadata": {},
   "outputs": [
    {
     "data": {
      "text/plain": [
       "array([['1', '2', 'True'],\n",
       "       ['4', 'h', '6'],\n",
       "       ['False', '8', '9']], dtype='<U11')"
      ]
     },
     "execution_count": 10,
     "metadata": {},
     "output_type": "execute_result"
    }
   ],
   "source": [
    "b6=np.array([[1,2,True],[4,\"h\",6],[False,8,9]]) #what if you have bools strings and numbers?\n",
    "b6"
   ]
  },
  {
   "cell_type": "code",
   "execution_count": 11,
   "metadata": {},
   "outputs": [
    {
     "data": {
      "text/plain": [
       "array([[8, 3, 0, 7, 2, 1],\n",
       "       [4, 8, 1, 4, 2, 9]])"
      ]
     },
     "execution_count": 11,
     "metadata": {},
     "output_type": "execute_result"
    }
   ],
   "source": [
    "c=np.array([[8,3,0,7,2,1],[4,8,1,4,2,9]])\n",
    "c"
   ]
  },
  {
   "cell_type": "code",
   "execution_count": 12,
   "metadata": {},
   "outputs": [
    {
     "data": {
      "text/plain": [
       "(1, 1, 3)"
      ]
     },
     "execution_count": 12,
     "metadata": {},
     "output_type": "execute_result"
    }
   ],
   "source": [
    "e=[[[1,2,3]]]  # e is going to be a 2D array with dimensions (1,3) because of being enclosed by 2 pairs of brackets!\n",
    "e=np.array(e)\n",
    "e.shape\n",
    "# try this too:\n",
    "# e=[[[1,2,3]]] # its a 3D, with a shape (1,1,3)..."
   ]
  },
  {
   "cell_type": "code",
   "execution_count": 16,
   "metadata": {},
   "outputs": [
    {
     "data": {
      "text/plain": [
       "array([[[1, 2, 3],\n",
       "        [2, 4, 6]],\n",
       "\n",
       "       [[1, 2, 3],\n",
       "        [3, 5, 7]],\n",
       "\n",
       "       [[1, 3, 4],\n",
       "        [2, 4, 6]],\n",
       "\n",
       "       [[1, 3, 5],\n",
       "        [4, 7, 9]]])"
      ]
     },
     "execution_count": 16,
     "metadata": {},
     "output_type": "execute_result"
    }
   ],
   "source": [
    "x=[[[1,2,3],[2,4,6]],[[1,2,3],[3,5,7]],[[1,3,4],[2,4,6]],[[1,3,5],[4,7,9]]]\n",
    "d=np.array(x)\n",
    "d"
   ]
  },
  {
   "cell_type": "markdown",
   "metadata": {},
   "source": [
    "### array properties"
   ]
  },
  {
   "cell_type": "code",
   "execution_count": 17,
   "metadata": {
    "id": "O8D72Tv3uCI5"
   },
   "outputs": [
    {
     "data": {
      "text/plain": [
       "(4, 2, 3)"
      ]
     },
     "execution_count": 17,
     "metadata": {},
     "output_type": "execute_result"
    }
   ],
   "source": [
    "q=d.shape\n",
    "q## dimensions e.g. row,column\n",
    "#type(d.shape) \n",
    "#q[2]"
   ]
  },
  {
   "cell_type": "code",
   "execution_count": 18,
   "metadata": {},
   "outputs": [
    {
     "data": {
      "text/plain": [
       "3"
      ]
     },
     "execution_count": 18,
     "metadata": {},
     "output_type": "execute_result"
    }
   ],
   "source": [
    "d.shape[-1]"
   ]
  },
  {
   "cell_type": "code",
   "execution_count": 19,
   "metadata": {
    "colab": {
     "base_uri": "https://localhost:8080/"
    },
    "id": "3cqPTAEeuOmu",
    "outputId": "b51483ac-a711-4a67-a3bf-5d8d40401f23"
   },
   "outputs": [
    {
     "data": {
      "text/plain": [
       "dtype('int32')"
      ]
     },
     "execution_count": 19,
     "metadata": {},
     "output_type": "execute_result"
    }
   ],
   "source": [
    "b.dtype  ## data type of the elements"
   ]
  },
  {
   "cell_type": "code",
   "execution_count": 20,
   "metadata": {
    "colab": {
     "base_uri": "https://localhost:8080/"
    },
    "id": "pq3prMMtuUhy",
    "outputId": "6b204af4-b884-4031-db7c-0f6d20d52ded"
   },
   "outputs": [
    {
     "data": {
      "text/plain": [
       "3"
      ]
     },
     "execution_count": 20,
     "metadata": {},
     "output_type": "execute_result"
    }
   ],
   "source": [
    "d.ndim  ## how many dimensions the array has"
   ]
  },
  {
   "cell_type": "code",
   "execution_count": 21,
   "metadata": {},
   "outputs": [
    {
     "data": {
      "text/plain": [
       "2"
      ]
     },
     "execution_count": 21,
     "metadata": {},
     "output_type": "execute_result"
    }
   ],
   "source": [
    "b.ndim"
   ]
  },
  {
   "cell_type": "code",
   "execution_count": 22,
   "metadata": {
    "colab": {
     "base_uri": "https://localhost:8080/"
    },
    "id": "c2eNuGQ0ubXP",
    "outputId": "c55d05a6-6f56-42b2-8297-04a34622551b"
   },
   "outputs": [
    {
     "data": {
      "text/plain": [
       "2"
      ]
     },
     "execution_count": 22,
     "metadata": {},
     "output_type": "execute_result"
    }
   ],
   "source": [
    "a.itemsize  ## size of each element in bytes"
   ]
  },
  {
   "cell_type": "code",
   "execution_count": 23,
   "metadata": {
    "colab": {
     "base_uri": "https://localhost:8080/"
    },
    "id": "e7J-92Q9utYP",
    "outputId": "b9302da3-9081-4f5d-b40f-8ea3fb69f3b6"
   },
   "outputs": [
    {
     "data": {
      "text/plain": [
       "24"
      ]
     },
     "execution_count": 23,
     "metadata": {},
     "output_type": "execute_result"
    }
   ],
   "source": [
    "d.size  ## total number of elements in the array"
   ]
  },
  {
   "cell_type": "code",
   "execution_count": 24,
   "metadata": {
    "colab": {
     "base_uri": "https://localhost:8080/"
    },
    "id": "cdyLztoVuvBU",
    "outputId": "c201d8c9-8a86-4f03-e7cc-054719016305"
   },
   "outputs": [
    {
     "name": "stdout",
     "output_type": "stream",
     "text": [
      "96\n"
     ]
    }
   ],
   "source": [
    "d.nbytes ## total size of the array in bytes\n",
    "print(d.nbytes)"
   ]
  },
  {
   "cell_type": "markdown",
   "metadata": {
    "id": "wLDMBJGfzNBa"
   },
   "source": [
    "### common numpy array generating functions"
   ]
  },
  {
   "cell_type": "code",
   "execution_count": 25,
   "metadata": {
    "colab": {
     "base_uri": "https://localhost:8080/"
    },
    "id": "A1Wb373AxzxJ",
    "outputId": "cb55c12a-07a9-4899-89bf-010df4504945"
   },
   "outputs": [
    {
     "data": {
      "text/plain": [
       "array([[[[0., 0., 0., 0., 0.],\n",
       "         [0., 0., 0., 0., 0.],\n",
       "         [0., 0., 0., 0., 0.],\n",
       "         [0., 0., 0., 0., 0.],\n",
       "         [0., 0., 0., 0., 0.]],\n",
       "\n",
       "        [[0., 0., 0., 0., 0.],\n",
       "         [0., 0., 0., 0., 0.],\n",
       "         [0., 0., 0., 0., 0.],\n",
       "         [0., 0., 0., 0., 0.],\n",
       "         [0., 0., 0., 0., 0.]],\n",
       "\n",
       "        [[0., 0., 0., 0., 0.],\n",
       "         [0., 0., 0., 0., 0.],\n",
       "         [0., 0., 0., 0., 0.],\n",
       "         [0., 0., 0., 0., 0.],\n",
       "         [0., 0., 0., 0., 0.]]],\n",
       "\n",
       "\n",
       "       [[[0., 0., 0., 0., 0.],\n",
       "         [0., 0., 0., 0., 0.],\n",
       "         [0., 0., 0., 0., 0.],\n",
       "         [0., 0., 0., 0., 0.],\n",
       "         [0., 0., 0., 0., 0.]],\n",
       "\n",
       "        [[0., 0., 0., 0., 0.],\n",
       "         [0., 0., 0., 0., 0.],\n",
       "         [0., 0., 0., 0., 0.],\n",
       "         [0., 0., 0., 0., 0.],\n",
       "         [0., 0., 0., 0., 0.]],\n",
       "\n",
       "        [[0., 0., 0., 0., 0.],\n",
       "         [0., 0., 0., 0., 0.],\n",
       "         [0., 0., 0., 0., 0.],\n",
       "         [0., 0., 0., 0., 0.],\n",
       "         [0., 0., 0., 0., 0.]]]])"
      ]
     },
     "execution_count": 25,
     "metadata": {},
     "output_type": "execute_result"
    }
   ],
   "source": [
    "np.zeros(shape=(2,3,5,5)) #dimensions of the array depends on number of arguments\n",
    "#4D in this example"
   ]
  },
  {
   "cell_type": "code",
   "execution_count": 26,
   "metadata": {},
   "outputs": [
    {
     "data": {
      "text/plain": [
       "array([[1., 1., 1.],\n",
       "       [1., 1., 1.]])"
      ]
     },
     "execution_count": 26,
     "metadata": {},
     "output_type": "execute_result"
    }
   ],
   "source": [
    "np.ones(shape=(2,3))"
   ]
  },
  {
   "cell_type": "code",
   "execution_count": 27,
   "metadata": {
    "colab": {
     "base_uri": "https://localhost:8080/"
    },
    "id": "Qu02biGsyF3i",
    "outputId": "b7a5b74d-8e6c-467a-c184-51c61e133349"
   },
   "outputs": [
    {
     "data": {
      "text/plain": [
       "array([[1., 0., 0., 0., 0.],\n",
       "       [0., 1., 0., 0., 0.],\n",
       "       [0., 0., 1., 0., 0.],\n",
       "       [0., 0., 0., 1., 0.],\n",
       "       [0., 0., 0., 0., 1.]])"
      ]
     },
     "execution_count": 27,
     "metadata": {},
     "output_type": "execute_result"
    }
   ],
   "source": [
    "np.identity(5)  ## generates a 2D identity array \n",
    "#also np.eye(5)"
   ]
  },
  {
   "cell_type": "code",
   "execution_count": 28,
   "metadata": {
    "id": "_E1NL3n3yZ-K"
   },
   "outputs": [
    {
     "data": {
      "text/plain": [
       "array([ 1.5       ,  1.87755102,  2.25510204,  2.63265306,  3.01020408,\n",
       "        3.3877551 ,  3.76530612,  4.14285714,  4.52040816,  4.89795918,\n",
       "        5.2755102 ,  5.65306122,  6.03061224,  6.40816327,  6.78571429,\n",
       "        7.16326531,  7.54081633,  7.91836735,  8.29591837,  8.67346939,\n",
       "        9.05102041,  9.42857143,  9.80612245, 10.18367347, 10.56122449,\n",
       "       10.93877551, 11.31632653, 11.69387755, 12.07142857, 12.44897959,\n",
       "       12.82653061, 13.20408163, 13.58163265, 13.95918367, 14.33673469,\n",
       "       14.71428571, 15.09183673, 15.46938776, 15.84693878, 16.2244898 ,\n",
       "       16.60204082, 16.97959184, 17.35714286, 17.73469388, 18.1122449 ,\n",
       "       18.48979592, 18.86734694, 19.24489796, 19.62244898, 20.        ])"
      ]
     },
     "execution_count": 28,
     "metadata": {},
     "output_type": "execute_result"
    }
   ],
   "source": [
    "np.linspace(1.5,20,50)   #1D array"
   ]
  },
  {
   "cell_type": "code",
   "execution_count": 29,
   "metadata": {
    "colab": {
     "base_uri": "https://localhost:8080/"
    },
    "id": "EPmDos4xyltJ",
    "outputId": "a78380af-cbf0-4fd9-90bd-e4854e9da872"
   },
   "outputs": [
    {
     "data": {
      "text/plain": [
       "array([0, 1, 2, 3, 4, 5, 6, 7, 8, 9])"
      ]
     },
     "execution_count": 29,
     "metadata": {},
     "output_type": "execute_result"
    }
   ],
   "source": [
    "np.arange(10)"
   ]
  },
  {
   "cell_type": "code",
   "execution_count": 29,
   "metadata": {
    "colab": {
     "base_uri": "https://localhost:8080/"
    },
    "id": "bB8f0B_myzmR",
    "outputId": "2c59dd13-7196-41f9-dcde-17ad8662844b"
   },
   "outputs": [
    {
     "data": {
      "text/plain": [
       "10"
      ]
     },
     "execution_count": 29,
     "metadata": {},
     "output_type": "execute_result"
    }
   ],
   "source": [
    "np.random.randint(2,12) ## generates a random number between 0 and 11"
   ]
  },
  {
   "cell_type": "code",
   "execution_count": 30,
   "metadata": {},
   "outputs": [
    {
     "data": {
      "text/plain": [
       "array([6, 4, 1, 3, 5, 6, 4, 4, 2, 5, 6, 5, 2, 6, 2, 5, 1, 6, 1, 6, 5, 6,\n",
       "       4, 4, 5, 2, 2, 1, 4, 5, 3, 3, 1, 3, 6, 2, 3, 5, 6, 6, 5, 6, 3, 3,\n",
       "       1, 1, 1, 1, 2, 3, 2, 4, 1, 4, 2, 4, 5, 4, 3, 1, 4, 5, 5, 1, 6, 3,\n",
       "       3, 4, 3, 6, 5, 6, 1, 3, 3, 5, 6, 5, 5, 2, 4, 5, 1, 4, 3, 5, 5, 1,\n",
       "       6, 4, 5, 4, 1, 4, 3, 3, 5, 3, 4, 5])"
      ]
     },
     "execution_count": 30,
     "metadata": {},
     "output_type": "execute_result"
    }
   ],
   "source": [
    "np.random.randint(1,7,size=100) #1D array"
   ]
  },
  {
   "cell_type": "code",
   "execution_count": 30,
   "metadata": {},
   "outputs": [
    {
     "data": {
      "text/plain": [
       "array([[[0.52471978, 0.75820926, 0.63462368, 0.85784669],\n",
       "        [0.75943359, 0.48610478, 0.41445653, 0.42133117],\n",
       "        [0.34890228, 0.81062979, 0.3903606 , 0.75191898]],\n",
       "\n",
       "       [[0.11666421, 0.70070399, 0.28498131, 0.7935743 ],\n",
       "        [0.60970495, 0.58906337, 0.14552788, 0.43749393],\n",
       "        [0.37316351, 0.45925822, 0.08044461, 0.1884848 ]]])"
      ]
     },
     "execution_count": 30,
     "metadata": {},
     "output_type": "execute_result"
    }
   ],
   "source": [
    "np.random.rand(2,3,4) # floating point values between 0 to 1\n",
    "# argument sequence: (height,row,column)"
   ]
  },
  {
   "cell_type": "code",
   "execution_count": 32,
   "metadata": {},
   "outputs": [
    {
     "data": {
      "text/plain": [
       "array([[[0.79696646, 0.879094  , 0.205021  , 0.75161976, 0.75941261],\n",
       "        [0.4513484 , 0.38163291, 0.56386214, 0.97467837, 0.90745078],\n",
       "        [0.86100559, 0.70117397, 0.07577738, 0.36081316, 0.9889437 ],\n",
       "        [0.8655858 , 0.50001089, 0.0256652 , 0.54002407, 0.87061736]],\n",
       "\n",
       "       [[0.30398714, 0.65793315, 0.6091659 , 0.98871006, 0.59449095],\n",
       "        [0.57064428, 0.32742071, 0.2822626 , 0.22891394, 0.25604025],\n",
       "        [0.85071976, 0.26150206, 0.7105811 , 0.56424637, 0.58460093],\n",
       "        [0.0085311 , 0.2619015 , 0.11788783, 0.68253136, 0.25136123]],\n",
       "\n",
       "       [[0.36269252, 0.27416112, 0.10613291, 0.8896872 , 0.40637312],\n",
       "        [0.57257637, 0.90868988, 0.35309428, 0.46647539, 0.13560229],\n",
       "        [0.31608722, 0.83510319, 0.36578746, 0.71500413, 0.65401831],\n",
       "        [0.45506873, 0.21208164, 0.37745994, 0.02982672, 0.52072612]],\n",
       "\n",
       "       [[0.03184655, 0.38514768, 0.64736106, 0.90310877, 0.13874637],\n",
       "        [0.08864126, 0.10868021, 0.60304195, 0.59571176, 0.01318065],\n",
       "        [0.57204873, 0.93629144, 0.4214461 , 0.66316598, 0.54599008],\n",
       "        [0.2976    , 0.86130418, 0.60839777, 0.33453887, 0.91995733]]])"
      ]
     },
     "execution_count": 32,
     "metadata": {},
     "output_type": "execute_result"
    }
   ],
   "source": [
    "from numpy import random\n",
    "random.rand(4,4,5)"
   ]
  },
  {
   "cell_type": "code",
   "execution_count": null,
   "metadata": {},
   "outputs": [],
   "source": []
  }
 ],
 "metadata": {
  "colab": {
   "collapsed_sections": [],
   "name": "intro to numpy",
   "provenance": []
  },
  "kernelspec": {
   "display_name": "Python 3 (ipykernel)",
   "language": "python",
   "name": "python3"
  },
  "language_info": {
   "codemirror_mode": {
    "name": "ipython",
    "version": 3
   },
   "file_extension": ".py",
   "mimetype": "text/x-python",
   "name": "python",
   "nbconvert_exporter": "python",
   "pygments_lexer": "ipython3",
   "version": "3.12.4"
  }
 },
 "nbformat": 4,
 "nbformat_minor": 4
}
