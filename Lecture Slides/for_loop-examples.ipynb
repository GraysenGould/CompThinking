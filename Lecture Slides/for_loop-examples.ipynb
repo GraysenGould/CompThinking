{
 "cells": [
  {
   "cell_type": "markdown",
   "metadata": {
    "id": "ZUpgCXx71Bq9"
   },
   "source": [
    "## For"
   ]
  },
  {
   "cell_type": "markdown",
   "metadata": {
    "id": "34tyNoZW1Ehj"
   },
   "source": [
    "##### Example 1: print a triangle of stars"
   ]
  },
  {
   "cell_type": "code",
   "execution_count": 1,
   "metadata": {
    "colab": {
     "base_uri": "https://localhost:8080/"
    },
    "id": "lsQ4yBdp1DUx",
    "outputId": "b53176df-c3d4-4bd2-f96c-b7015cd68596"
   },
   "outputs": [
    {
     "name": "stdin",
     "output_type": "stream",
     "text": [
      "enter height of triangle:  5\n"
     ]
    },
    {
     "name": "stdout",
     "output_type": "stream",
     "text": [
      "*\n",
      "**\n",
      "***\n",
      "****\n",
      "*****\n",
      "end of code\n"
     ]
    }
   ],
   "source": [
    "s=\"*\"  \n",
    "n=int(input(\"enter height of triangle: \"))\n",
    "for i in range(n):\n",
    "    print(s)\n",
    "    s=s+\"*\"\n",
    "    \n",
    "# s=\"\"  \n",
    "#n=int(input(\"enter height of triangle: \"))\n",
    "#for i in range(n):\n",
    "#    s=s+\"*\"\n",
    "#    print(s)\n",
    "\n",
    "\n",
    "print(\"end of code\") # not part of for loop"
   ]
  },
  {
   "cell_type": "code",
   "execution_count": 2,
   "metadata": {},
   "outputs": [
    {
     "name": "stdout",
     "output_type": "stream",
     "text": [
      "\n"
     ]
    }
   ],
   "source": [
    "print()"
   ]
  },
  {
   "cell_type": "markdown",
   "metadata": {
    "id": "TTRtt_rw8vB6"
   },
   "source": [
    "##### Example 2: sum all numbers from 1 to n"
   ]
  },
  {
   "cell_type": "code",
   "execution_count": 4,
   "metadata": {
    "colab": {
     "base_uri": "https://localhost:8080/"
    },
    "id": "KvmaG5-swgI5",
    "outputId": "fbafc3bd-9aef-4dc9-aef1-ff424e9ece30"
   },
   "outputs": [
    {
     "name": "stdin",
     "output_type": "stream",
     "text": [
      "enter number:  5\n"
     ]
    },
    {
     "name": "stdout",
     "output_type": "stream",
     "text": [
      "sum  from 1 to n:  15\n"
     ]
    }
   ],
   "source": [
    "n=int(input(\"enter number: \"))\n",
    "s=0\n",
    "for i in range(1,n+1):\n",
    "    s=s+i  \n",
    "    #print(i)\n",
    "\n",
    "print(\"sum  from 1 to n: \",s)"
   ]
  },
  {
   "cell_type": "markdown",
   "metadata": {
    "id": "mpAj9s9B4nM0"
   },
   "source": [
    "##### Example 3: sum of the first n odd or even numbers"
   ]
  },
  {
   "cell_type": "code",
   "execution_count": 6,
   "metadata": {
    "colab": {
     "base_uri": "https://localhost:8080/"
    },
    "id": "tJWxmj8C5eFi",
    "outputId": "6ee0334d-f12f-4e8e-f69b-d0217783f124",
    "scrolled": true
   },
   "outputs": [
    {
     "name": "stdin",
     "output_type": "stream",
     "text": [
      "enter number:  5\n",
      "enter 1 for odds and 2 for evens:  1\n"
     ]
    },
    {
     "name": "stdout",
     "output_type": "stream",
     "text": [
      "1\n",
      "3\n",
      "5\n",
      "7\n",
      "9\n",
      "25\n",
      "11\n"
     ]
    }
   ],
   "source": [
    "n=int(float(input(\"enter number: \")))\n",
    "m=int(float(input(\"enter 1 for odds and 2 for evens: \")))\n",
    "if m==1:\n",
    "    s=0\n",
    "    x=1\n",
    "    for i in range(n):\n",
    "        print(x)\n",
    "        s=s+x\n",
    "        x=x+2 \n",
    "    \n",
    "elif m==2:\n",
    "    s=0\n",
    "    x=2\n",
    "    for i in range(n):\n",
    "        s=s+x\n",
    "        x=x+2\n",
    "        print(x)\n",
    "else:\n",
    "    print(\"press 1 or 2\")\n",
    "\n",
    "print(s)\n",
    "print(x)"
   ]
  },
  {
   "cell_type": "markdown",
   "metadata": {
    "id": "3E95jagowgxE"
   },
   "source": [
    "##### Example 4: sum of the odd or even numbers less than n\n",
    "\n"
   ]
  },
  {
   "cell_type": "code",
   "execution_count": null,
   "metadata": {
    "colab": {
     "base_uri": "https://localhost:8080/"
    },
    "id": "CpLowdwK1bMX",
    "outputId": "24943622-9172-445b-fdb3-ce771a20f868"
   },
   "outputs": [],
   "source": [
    "n=int(input(\"enter number: \"))\n",
    "m=int(input(\"enter 1 for odds and 2 for evens: \"))\n",
    "if m==1:\n",
    "    s=0\n",
    "    for i in range(1,n,2):\n",
    "        s=s+i \n",
    "        print(i)\n",
    "elif m==2:\n",
    "    s=0\n",
    "    for i in range(2,n,2):\n",
    "        s=s+i\n",
    "        print(i)\n",
    "else:\n",
    "    print(\"press 1 or 2\")\n",
    "\n",
    "print(\"sum \",s)"
   ]
  },
  {
   "cell_type": "markdown",
   "metadata": {},
   "source": [
    "##### Example 5: Calculate volumes of multiple cylinders"
   ]
  },
  {
   "cell_type": "code",
   "execution_count": 7,
   "metadata": {},
   "outputs": [
    {
     "name": "stdout",
     "output_type": "stream",
     "text": [
      "[100.5312, 603.1872, 508.9392, 201.0624, 339.2928, 2199.1200000000003]\n"
     ]
    }
   ],
   "source": [
    "box=[[4,2],[8,3],[9,2],[4,4],[6,3],[10,7]] \n",
    "# dimesnions of 6 cylinders, in form of [radius, height]\n",
    "volumes=[]\n",
    "\n",
    "for (r,h) in box:\n",
    "    v=3.1416*r*r*h\n",
    "    volumes.append(v)\n",
    "    \n",
    "print(volumes)"
   ]
  },
  {
   "cell_type": "code",
   "execution_count": null,
   "metadata": {},
   "outputs": [],
   "source": []
  }
 ],
 "metadata": {
  "colab": {
   "name": "for loop ",
   "provenance": []
  },
  "kernelspec": {
   "display_name": "Python 3 (ipykernel)",
   "language": "python",
   "name": "python3"
  },
  "language_info": {
   "codemirror_mode": {
    "name": "ipython",
    "version": 3
   },
   "file_extension": ".py",
   "mimetype": "text/x-python",
   "name": "python",
   "nbconvert_exporter": "python",
   "pygments_lexer": "ipython3",
   "version": "3.12.4"
  }
 },
 "nbformat": 4,
 "nbformat_minor": 4
}
