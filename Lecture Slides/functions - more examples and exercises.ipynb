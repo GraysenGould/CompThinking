{
 "cells": [
  {
   "cell_type": "markdown",
   "metadata": {},
   "source": [
    "# <font color=orange>Lecture 8: Functions</font>\n",
    "\n"
   ]
  },
  {
   "cell_type": "markdown",
   "metadata": {},
   "source": [
    "## Functions\n",
    "\n",
    "> In mathematics, a function[note 1] is a binary relation between two sets that associates each element of the first set to exactly one element of the second set. Typical examples are functions from integers to integers, or from the real numbers to real numbers.Functions were originally the idealization of how a varying quantity depends on another quantity. \n",
    "- Wikipedia (https://en.wikipedia.org/wiki/Function_(mathematics))\n",
    "\n",
    "#### You may be familiar with the mathematical concept of a function. A function is a relationship or mapping between one or more inputs and a set of outputs. In mathematics, a function is typically represented like this:\n",
    "\n",
    "![](https://files.realpython.com/media/t.74ec5430f457.png) <br>\n",
    "\n",
    "#### Here, f is a function that operates on the inputs x and y. The output of the function is z. However, programming functions are much more generalized and versatile than this mathematical definition. In fact, appropriate function definition and use is so critical to proper software development that virtually all modern programming languages support both built-in and user-defined functions.\n",
    "\n",
    "\n",
    "#### In programming, a function is a block of code which only runs when it is called. You can pass data, known as parameters, into a function. A function can return data as a result.\n",
    "\n",
    "___\n",
    "\n",
    "## Python Built in Functions\n",
    "#### Python has a set of built-in functions and we have already seen and worked with many of them:\n",
    "\n",
    "![](https://i.stack.imgur.com/LxITc.png) <br>\n",
    "\n",
    "\n",
    "#### Each of these built-in functions performs a specific task. The code that accomplishes the task is defined somewhere, but you don’t need to know where or even how the code works. All you need to know about is the function’s interface:\n",
    "\n",
    "> What arguments (if any) it takes <br>\n",
    "> What values (if any) it returns <br>\n",
    "\n",
    "#### Then you call the function and pass the appropriate arguments. Program execution goes off to the designated body of code and does its useful thing. When the function is finished, execution returns to your code where it left off. The function may or may not return data for your code to use, as the examples above do."
   ]
  },
  {
   "cell_type": "markdown",
   "metadata": {},
   "source": [
    "___\n",
    "\n",
    "## Python User Defined Functions\n",
    "#### Python allows us to define our own functions. When you define your own Python function, it works just the same as a built in function: From somewhere in your code, you’ll call your Python function and program execution will transfer to the body of code that makes up the function. When the function is finished, execution returns to the location where the function was called. Depending on how you designed the function’s interface, data may be passed in when the function is called, and return values may be passed back when it finishes.\n",
    "\n",
    "\n",
    "### Why define functions?\n",
    "- ***Abstraction and Reusability*** : When we need to use a set of actions (e.g., operations and instructions) often in our code, A good solution is to define a Python function that performs the task. Anywhere in your application that you need to accomplish the task, you simply call the function. Down the line, if you decide to change how it works, then you only need to change the code in one location, which is the place where the function is defined. The changes will automatically be picked up anywhere the function is called. <br>\n",
    "- ***Modularity*** : Functions allow complex processes to be broken up into smaller steps. Breaking a large task into smaller, bite-sized sub-tasks helps make the large task easier to think about and manage. As programs become more complicated, it becomes increasingly beneficial to modularize them in this way. (Divide-and-conquer algorithm) <br>\n",
    "- ***Namespace Separation*** : A namespace is a region of a program in which identifiers have meaning. When a Python function is called, a new namespace is created for that function, one that is distinct from all other namespaces that already exist. The practical upshot of this is that variables can be defined and used within a Python function even if they have the same name as variables defined in other functions or in the main program. This means that when you write code within a function, you can use variable names and identifiers without worrying about whether they’re already used elsewhere outside the function. This helps minimize errors in code considerably. <br>\n",
    "\n",
    "\n",
    "### How to define a function?\n",
    "\n",
    "#### The usual syntax for defining a Python function is as follows:"
   ]
  },
  {
   "cell_type": "code",
   "execution_count": null,
   "metadata": {},
   "outputs": [],
   "source": [
    "def <function_name>([<parameters>]):\n",
    "    <statement(s)>"
   ]
  },
  {
   "cell_type": "markdown",
   "metadata": {},
   "source": [
    "#### Where:\n",
    "\n",
    "- ***def*** : The keyword that informs Python that a function is being defined. <br>\n",
    "- ***function_name*** : A valid Python identifier that names the function. <br>\n",
    "- ***parameters*** : An optional, comma-separated list of parameters that may be passed to the function. <br>\n",
    "- ***:*** : Punctuation that denotes the end of the Python function header (the name and parameter list). <br>\n",
    "- ***statement(s)*** : A block of valid Python statements. <br>\n",
    "\n",
    "\n",
    "#### The final item, ***statement(s)***, is called the body of the function. The body is a block of statements that will be executed when the function is called. The body of a Python function is defined by indentation in accordance with the off-side rule. This is the same as code blocks associated with a control structure, like an if or while statement. <br>\n",
    "\n",
    "#### To call a function that is already defined, use the following syntax:"
   ]
  },
  {
   "cell_type": "code",
   "execution_count": null,
   "metadata": {},
   "outputs": [],
   "source": [
    "<function_name>([<arguments>])"
   ]
  },
  {
   "cell_type": "markdown",
   "metadata": {},
   "source": [
    "#### ***arguments*** are the values passed into the function. They correspond to the ***parameters*** in the Python function definition. You can define a function that doesn’t take any arguments, but ***the parentheses are still required***. Both a function definition and a function call must always include parentheses, even if they’re empty.\n",
    "\n",
    "___\n",
    "\n",
    "### Example: The First Python Function"
   ]
  },
  {
   "cell_type": "code",
   "execution_count": null,
   "metadata": {},
   "outputs": [],
   "source": [
    "def f():\n",
    "    mystatement = 'This is my first function and that is brilliant enough!'\n",
    "    print(mystatement)\n"
   ]
  },
  {
   "cell_type": "code",
   "execution_count": null,
   "metadata": {},
   "outputs": [],
   "source": [
    "f()"
   ]
  },
  {
   "cell_type": "markdown",
   "metadata": {},
   "source": [
    "___\n",
    "\n",
    "### What if we need a more complicated function? A function that requires arguments?\n",
    "\n",
    "#### Information can be passed into functions as arguments.Arguments are specified after the function name, inside the parentheses. You can add as many arguments as you want, just separate them with a comma. The terms parameter and argument can be used for the same thing: information that are passed into a function.\n",
    "\n",
    "___\n",
    "### Example: \n",
    "- A) Write a function to convert degrees fahrenheit to degrees celsius?\n",
    "- B) Write a function to convert degrees celsius to degrees fahrenheit?\n",
    "\n",
    "![](https://www.101computing.net/wp/wp-content/uploads/fahrenheit_to_celsius_formulas.png) <br>\n",
    "\n"
   ]
  },
  {
   "cell_type": "code",
   "execution_count": null,
   "metadata": {},
   "outputs": [],
   "source": [
    "#Step A\n",
    "\n",
    "def F2C(f):\n",
    "    C = (f-32)*5/9\n",
    "    print(f,\"degrees fahrenheit will be \",C,\" degrees celsius\")"
   ]
  },
  {
   "cell_type": "code",
   "execution_count": null,
   "metadata": {},
   "outputs": [],
   "source": [
    "F2C(104)"
   ]
  },
  {
   "cell_type": "code",
   "execution_count": null,
   "metadata": {},
   "outputs": [],
   "source": [
    "#Step B\n"
   ]
  },
  {
   "cell_type": "markdown",
   "metadata": {},
   "source": [
    "___\n",
    "### Example: \n",
    "- A) Write a function that receives a list of object and prints the type of all objects in that list.\n",
    "- B) Test your function for [15,\"Stanley\",8,14.3]\n",
    "- C) Write a function that receives a list of object and prints the contents in that list.\n"
   ]
  },
  {
   "cell_type": "code",
   "execution_count": null,
   "metadata": {},
   "outputs": [],
   "source": [
    "#Step A\n",
    "\n",
    "def TypeCheck(list):\n",
    "    for x in list:\n",
    "        print(type(x))\n"
   ]
  },
  {
   "cell_type": "code",
   "execution_count": null,
   "metadata": {},
   "outputs": [],
   "source": [
    "#Step B\n",
    "L = [15,\"Stanley\",8,14.3]\n",
    "TypeCheck(L)"
   ]
  },
  {
   "cell_type": "code",
   "execution_count": null,
   "metadata": {},
   "outputs": [],
   "source": [
    "#Step C - do it yourself\n",
    "\n"
   ]
  },
  {
   "cell_type": "markdown",
   "metadata": {},
   "source": [
    "___\n",
    "### Example: \n",
    "- A) Write a function to calculate the volume of a Rectangular Prism.\n",
    "- B) Test your function for a Rectangular Prism with width of 2, length of 5, and height of 10. Compare the functions outcome with a hand calculation.\n",
    "- C) What about a Rectangular Prism with length of 6, height of 3, and width of 5.\n"
   ]
  },
  {
   "cell_type": "code",
   "execution_count": null,
   "metadata": {},
   "outputs": [],
   "source": [
    "#Step A"
   ]
  },
  {
   "cell_type": "code",
   "execution_count": null,
   "metadata": {},
   "outputs": [],
   "source": [
    "#Step B"
   ]
  },
  {
   "cell_type": "code",
   "execution_count": null,
   "metadata": {},
   "outputs": [],
   "source": [
    "#Step C"
   ]
  },
  {
   "cell_type": "markdown",
   "metadata": {},
   "source": [
    "# Discussion exercise"
   ]
  },
  {
   "cell_type": "code",
   "execution_count": null,
   "metadata": {},
   "outputs": [],
   "source": [
    "# Writing a function to calculate the force in Newtons based on the input mass and the input acceleration values\n",
    "\n",
    "def force_in_newton(mass, acceleration):\n",
    "    mass_converted = mass*0.001\n",
    "    acceleration_converted = acceleration*0.01\n",
    "    \n",
    "    force = mass_converted*acceleration_converted\n",
    "    return force\n",
    "\n",
    "mass_value = 3500\n",
    "acceleration_value = 750\n",
    "force_in_newton(mass_value, acceleration_value)"
   ]
  },
  {
   "cell_type": "markdown",
   "metadata": {},
   "source": [
    "![](https://media2.giphy.com/media/5nj4ZZWl6QwneEaBX4/source.gif) <br>\n",
    "\n",
    "*Parts of this noteboos were inspired by:* \n",
    "\n",
    "- __\"Defining Your Own Python Function\"__ by __John Sturtz__ available at *https://realpython.com/defining-your-own-python-function/* <br>\n",
    "\n",
    "- __\"Python Global, Local and Nonlocal variables\"__ available at *https://www.programiz.com/python-programming/global-local-nonlocal-variables* <br>\n",
    "\n",
    "*Here are some great reads on this topic:* \n",
    "\n",
    "- __\"Python Functions\"__ available at *https://www.w3schools.com/python/python_functions.asp* <br>\n",
    "- __\"Python Functions\"__ available at *https://www.programiz.com/python-programming/function* <br>\n",
    "- __\"Introducing Functions\"__ available at *http://introtopython.org/introducing_functions.html* <br>\n",
    "\n",
    "\n",
    "*Here are some great videos on these topics:* \n",
    "\n",
    "- __\"Function Calls and Definitions\"__ by __Howard Francis__ available at *https://realpython.com/lessons/function-calls-definitions/* <br>\n",
    "\n",
    "- __\"How To Use Functions In Python (Python Tutorial #3)\"__ by __CS Dojo__ available at *https://www.youtube.com/watch?v=NSbOtYzIQI0* <br>\n",
    "\n",
    "- __\"Python Tutorial for Beginners 8: Functions\"__ by __Corey Schafer__ available at *https://www.youtube.com/watch?v=9Os0o3wzS_I* <br>\n",
    "\n",
    "- __\"Using Functions in Python | Learning Python for Beginners | Code with Kylie #7\"__ by __Kylie Ying__ available at *https://www.youtube.com/watch?v=WRI4fXDIXWM* <br>\n",
    "\n",
    "\n",
    "\n",
    "\n",
    "\n"
   ]
  }
 ],
 "metadata": {
  "kernelspec": {
   "display_name": "Python 3 (ipykernel)",
   "language": "python",
   "name": "python3"
  },
  "language_info": {
   "codemirror_mode": {
    "name": "ipython",
    "version": 3
   },
   "file_extension": ".py",
   "mimetype": "text/x-python",
   "name": "python",
   "nbconvert_exporter": "python",
   "pygments_lexer": "ipython3",
   "version": "3.12.4"
  }
 },
 "nbformat": 4,
 "nbformat_minor": 4
}
