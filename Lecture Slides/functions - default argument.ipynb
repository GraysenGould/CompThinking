{
 "cells": [
  {
   "cell_type": "markdown",
   "metadata": {},
   "source": [
    "## Default arguments\n"
   ]
  },
  {
   "cell_type": "code",
   "execution_count": null,
   "metadata": {},
   "outputs": [],
   "source": [
    "# Function arguments with default values\n",
    "\n",
    "def sum_func(n=10):\n",
    "    summing = 0\n",
    "    for i in range(n+1):\n",
    "        summing = summing + i\n",
    "    return summing\n",
    "\n",
    "my_sum = sum_func()\n",
    "my_sum"
   ]
  },
  {
   "cell_type": "code",
   "execution_count": null,
   "metadata": {},
   "outputs": [],
   "source": [
    "def f(a=2,b=1,c=6,d=3):\n",
    "    return a+b+c+d\n",
    "\n",
    "print(f(b=10))"
   ]
  },
  {
   "cell_type": "code",
   "execution_count": null,
   "metadata": {},
   "outputs": [],
   "source": [
    "# The number that you pass will always take over the default value assigned to the argument in the function block\n",
    "\n",
    "def sum_func(n=10):\n",
    "    summing = 0\n",
    "    for i in range(n+1):\n",
    "        summing = summing + i\n",
    "    return summing\n",
    "\n",
    "my_sum = sum_func(5)\n",
    "my_sum"
   ]
  },
  {
   "cell_type": "code",
   "execution_count": null,
   "metadata": {},
   "outputs": [],
   "source": [
    "# A non-default argument cannot follow a default argument\n",
    "\n",
    "def func(b, a = 2.2):\n",
    "    summing = a+b\n",
    "    return summing\n",
    "\n",
    "first = func(3.3,5)\n",
    "first"
   ]
  }
 ],
 "metadata": {
  "kernelspec": {
   "display_name": "Python 3 (ipykernel)",
   "language": "python",
   "name": "python3"
  },
  "language_info": {
   "codemirror_mode": {
    "name": "ipython",
    "version": 3
   },
   "file_extension": ".py",
   "mimetype": "text/x-python",
   "name": "python",
   "nbconvert_exporter": "python",
   "pygments_lexer": "ipython3",
   "version": "3.12.4"
  }
 },
 "nbformat": 4,
 "nbformat_minor": 4
}
