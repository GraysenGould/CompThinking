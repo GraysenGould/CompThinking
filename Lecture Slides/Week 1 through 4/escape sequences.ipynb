{
 "cells": [
  {
   "cell_type": "markdown",
   "id": "0c1ce578",
   "metadata": {},
   "source": [
    "Escape Sequence:\n",
    "\n",
    "In python, escape sequence is a sequence of characters, that will be literally escaped from the string and will carry out some formatting operations. The escape sequences begin with \\ , and when some specific characters follow the \\\\, together they form the escape sequence."
   ]
  },
  {
   "cell_type": "code",
   "execution_count": 5,
   "id": "4eb39bb5",
   "metadata": {},
   "outputs": [
    {
     "name": "stdout",
     "output_type": "stream",
     "text": [
      "hello world\n"
     ]
    }
   ],
   "source": [
    "print(\"hello world\")  #no escape sequence"
   ]
  },
  {
   "cell_type": "code",
   "execution_count": 6,
   "id": "63eabc9b",
   "metadata": {},
   "outputs": [
    {
     "name": "stdout",
     "output_type": "stream",
     "text": [
      "hello \n",
      "\n",
      "\n",
      "world\n"
     ]
    }
   ],
   "source": [
    "print(\"hello \\n\\n\\nworld\") # newline"
   ]
  },
  {
   "cell_type": "code",
   "execution_count": 7,
   "id": "2e8a6261",
   "metadata": {},
   "outputs": [
    {
     "name": "stdout",
     "output_type": "stream",
     "text": [
      "hell world\n"
     ]
    }
   ],
   "source": [
    "print(\"hello\\b world\") #backspace"
   ]
  },
  {
   "cell_type": "code",
   "execution_count": 8,
   "id": "a4a73d75",
   "metadata": {},
   "outputs": [
    {
     "name": "stdout",
     "output_type": "stream",
     "text": [
      "hello\tworld\n"
     ]
    }
   ],
   "source": [
    "print(\"hello\\tworld\")"
   ]
  },
  {
   "cell_type": "code",
   "execution_count": 9,
   "id": "95948b8b",
   "metadata": {},
   "outputs": [
    {
     "name": "stdout",
     "output_type": "stream",
     "text": [
      "world \n"
     ]
    }
   ],
   "source": [
    "print(\"hello \\rworld\") #carriage return"
   ]
  },
  {
   "cell_type": "code",
   "execution_count": 10,
   "id": "a358c030",
   "metadata": {},
   "outputs": [
    {
     "name": "stdout",
     "output_type": "stream",
     "text": [
      "hello \"world\"\n"
     ]
    }
   ],
   "source": [
    "print(\"hello \\\"world\\\"\") #insert quotation"
   ]
  },
  {
   "cell_type": "code",
   "execution_count": 11,
   "id": "940b904a",
   "metadata": {},
   "outputs": [
    {
     "name": "stdout",
     "output_type": "stream",
     "text": [
      "hello \\world\n"
     ]
    }
   ],
   "source": [
    "print(\"hello \\\\world\")"
   ]
  },
  {
   "cell_type": "code",
   "execution_count": 12,
   "id": "138b60aa",
   "metadata": {},
   "outputs": [
    {
     "name": "stdout",
     "output_type": "stream",
     "text": [
      "g\n"
     ]
    }
   ],
   "source": [
    "print(\"\\x67\")"
   ]
  },
  {
   "cell_type": "code",
   "execution_count": null,
   "id": "0381de3c-3e38-4170-8386-ca2ab3edb178",
   "metadata": {},
   "outputs": [],
   "source": []
  }
 ],
 "metadata": {
  "kernelspec": {
   "display_name": "Python 3 (ipykernel)",
   "language": "python",
   "name": "python3"
  },
  "language_info": {
   "codemirror_mode": {
    "name": "ipython",
    "version": 3
   },
   "file_extension": ".py",
   "mimetype": "text/x-python",
   "name": "python",
   "nbconvert_exporter": "python",
   "pygments_lexer": "ipython3",
   "version": "3.12.4"
  }
 },
 "nbformat": 4,
 "nbformat_minor": 5
}
