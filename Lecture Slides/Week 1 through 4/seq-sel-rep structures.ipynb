{
 "cells": [
  {
   "cell_type": "code",
   "execution_count": null,
   "id": "6ca796e9",
   "metadata": {},
   "outputs": [],
   "source": [
    "list1=[49, 30, 92, 99, 13, 92, 88, 74, 7, 4, 41, 84, 80, 86, 79, 28, 98, 73, 8, 61, 16, \n",
    "       70, 65, 92, 36, 37, 5, 9, 27, 30, 23, 74, 70, 4, 36, 18, 75, 82, 9, 4, 65, 43, 51,\n",
    "       60, 55, 13, 80, 84, 76, 8, 1, 16, 93, 10, 79, 42, 5, 36, 49, 26, 25, 64, 49, 98, \n",
    "       39, 71, 81, 70, 3, 96, 70, 31, 14, 75, 59, 7, 76, 63, 71, 91, 86, 67, 37, 85, 48,\n",
    "       45, 77, 7, 23, 63, 31, 45, 99, 82, 56, 65, 34, 67, 46, 29]"
   ]
  },
  {
   "cell_type": "code",
   "execution_count": null,
   "id": "94f8c45a",
   "metadata": {},
   "outputs": [],
   "source": [
    "list_o=[]\n",
    "list_e=[]"
   ]
  },
  {
   "cell_type": "code",
   "execution_count": null,
   "id": "0145a052",
   "metadata": {},
   "outputs": [],
   "source": [
    "for i in list1:\n",
    "    if i%2==0:\n",
    "        list_e.append(i)\n",
    "    else:\n",
    "        list_o.append(i)"
   ]
  },
  {
   "cell_type": "code",
   "execution_count": null,
   "id": "b27665e6",
   "metadata": {},
   "outputs": [],
   "source": [
    "print(\"list of odd numbers:\",list_o,\"\\n\")\n",
    "print(\"list of even numbers:\",list_e)"
   ]
  },
  {
   "cell_type": "code",
   "execution_count": null,
   "id": "81f4f2b3",
   "metadata": {},
   "outputs": [],
   "source": [
    "len(list_o)"
   ]
  },
  {
   "cell_type": "code",
   "execution_count": null,
   "id": "73650c8f",
   "metadata": {},
   "outputs": [],
   "source": [
    "len(list_e)"
   ]
  },
  {
   "cell_type": "code",
   "execution_count": null,
   "id": "22258b10",
   "metadata": {},
   "outputs": [],
   "source": []
  }
 ],
 "metadata": {
  "kernelspec": {
   "display_name": "Python 3 (ipykernel)",
   "language": "python",
   "name": "python3"
  },
  "language_info": {
   "codemirror_mode": {
    "name": "ipython",
    "version": 3
   },
   "file_extension": ".py",
   "mimetype": "text/x-python",
   "name": "python",
   "nbconvert_exporter": "python",
   "pygments_lexer": "ipython3",
   "version": "3.12.4"
  }
 },
 "nbformat": 4,
 "nbformat_minor": 5
}
