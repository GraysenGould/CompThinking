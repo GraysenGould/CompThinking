{
 "cells": [
  {
   "cell_type": "markdown",
   "metadata": {
    "id": "qoUQvz_pMSYv"
   },
   "source": [
    "## while loop"
   ]
  },
  {
   "cell_type": "code",
   "execution_count": 4,
   "metadata": {
    "id": "qrf7VOLiTGvu"
   },
   "outputs": [
    {
     "name": "stdin",
     "output_type": "stream",
     "text": [
      "enter a number:  3\n"
     ]
    },
    {
     "name": "stdout",
     "output_type": "stream",
     "text": [
      "3\n",
      "4\n",
      "5\n",
      "6\n",
      "7\n",
      "8\n",
      "last i 9\n"
     ]
    }
   ],
   "source": [
    "i=int(input(\"enter a number: \"))\n",
    "while i<9:\n",
    "    print(i)\n",
    "    i=i+1\n",
    "\n",
    "print(\"last i\",i)"
   ]
  },
  {
   "cell_type": "markdown",
   "metadata": {
    "id": "Dr7Q_DBfT9RH"
   },
   "source": [
    "### nested loops"
   ]
  },
  {
   "cell_type": "code",
   "execution_count": 6,
   "metadata": {
    "colab": {
     "base_uri": "https://localhost:8080/"
    },
    "id": "Ghgrc-TiT_wY",
    "outputId": "c78f4a3a-54e4-42ce-d77a-ec61f3bee9f2"
   },
   "outputs": [
    {
     "name": "stdout",
     "output_type": "stream",
     "text": [
      "table of 1 =\n",
      "1 * 1 = 1\n",
      "1 * 2 = 2\n",
      "1 * 3 = 3\n",
      "1 * 4 = 4\n",
      "1 * 5 = 5\n",
      "1 * 6 = 6\n",
      "1 * 7 = 7\n",
      "1 * 8 = 8\n",
      "1 * 9 = 9\n",
      "1 * 10 = 10\n",
      "table of 2 =\n",
      "2 * 1 = 2\n",
      "2 * 2 = 4\n",
      "2 * 3 = 6\n",
      "2 * 4 = 8\n",
      "2 * 5 = 10\n",
      "2 * 6 = 12\n",
      "2 * 7 = 14\n",
      "2 * 8 = 16\n",
      "2 * 9 = 18\n",
      "2 * 10 = 20\n",
      "table of 3 =\n",
      "3 * 1 = 3\n",
      "3 * 2 = 6\n",
      "3 * 3 = 9\n",
      "3 * 4 = 12\n",
      "3 * 5 = 15\n",
      "3 * 6 = 18\n",
      "3 * 7 = 21\n",
      "3 * 8 = 24\n",
      "3 * 9 = 27\n",
      "3 * 10 = 30\n",
      "table of 4 =\n",
      "4 * 1 = 4\n",
      "4 * 2 = 8\n",
      "4 * 3 = 12\n",
      "4 * 4 = 16\n",
      "4 * 5 = 20\n",
      "4 * 6 = 24\n",
      "4 * 7 = 28\n",
      "4 * 8 = 32\n",
      "4 * 9 = 36\n",
      "4 * 10 = 40\n",
      "table of 5 =\n",
      "5 * 1 = 5\n",
      "5 * 2 = 10\n",
      "5 * 3 = 15\n",
      "5 * 4 = 20\n",
      "5 * 5 = 25\n",
      "5 * 6 = 30\n",
      "5 * 7 = 35\n",
      "5 * 8 = 40\n",
      "5 * 9 = 45\n",
      "5 * 10 = 50\n"
     ]
    }
   ],
   "source": [
    "for i in range(1,6):\n",
    "    print(\"table of\",i,\"=\")\n",
    "    for j in range(1,16):\n",
    "        if j==11:\n",
    "            break\n",
    "\n",
    "        print(i,\"*\",j,\"=\",i*j)\n",
    "#this is really bad code\n"
   ]
  },
  {
   "cell_type": "markdown",
   "metadata": {
    "id": "FIybI3FpOkHA"
   },
   "source": [
    "### \"break\" statement"
   ]
  },
  {
   "cell_type": "code",
   "execution_count": 10,
   "metadata": {
    "id": "vwf-KB40Ku_i"
   },
   "outputs": [
    {
     "name": "stdin",
     "output_type": "stream",
     "text": [
      "enter the temperature:  50\n"
     ]
    },
    {
     "name": "stdout",
     "output_type": "stream",
     "text": [
      "keep the heating on\n"
     ]
    },
    {
     "name": "stdin",
     "output_type": "stream",
     "text": [
      "enter the temperature:  70\n"
     ]
    },
    {
     "name": "stdout",
     "output_type": "stream",
     "text": [
      "keep the heating on\n"
     ]
    },
    {
     "name": "stdin",
     "output_type": "stream",
     "text": [
      "enter the temperature:  80\n"
     ]
    },
    {
     "name": "stdout",
     "output_type": "stream",
     "text": [
      "turn off heating\n"
     ]
    }
   ],
   "source": [
    "temp=int(input(\"enter the temperature: \"))\n",
    "i=0\n",
    "while temp<75:\n",
    "    if i>=3:\n",
    "        print(\"its taking too long!\")\n",
    "        break\n",
    "    print(\"keep the heating on\")\n",
    "    temp=int(input(\"enter the temperature: \"))\n",
    "    i=i+1\n",
    "\n",
    "        \n",
    "print(\"turn off heating\")"
   ]
  },
  {
   "cell_type": "code",
   "execution_count": null,
   "metadata": {},
   "outputs": [],
   "source": []
  },
  {
   "cell_type": "markdown",
   "metadata": {
    "id": "zZKeXkdxRXe_"
   },
   "source": [
    "### \"continue\" statement"
   ]
  },
  {
   "cell_type": "code",
   "execution_count": 11,
   "metadata": {
    "id": "4FCBOAuEQ9sn"
   },
   "outputs": [
    {
     "name": "stdin",
     "output_type": "stream",
     "text": [
      "enter number:  7\n"
     ]
    },
    {
     "name": "stdout",
     "output_type": "stream",
     "text": [
      "-0.4488\n",
      "-0.5236\n",
      "-0.62832\n",
      "-0.7854\n",
      "-1.0472\n",
      "-1.5708\n",
      "-3.1416\n",
      "3.1416\n",
      "1.5708\n",
      "1.0472\n",
      "0.7854\n",
      "0.62832\n",
      "0.5236\n",
      "0.4488\n"
     ]
    }
   ],
   "source": [
    "n=3.1416\n",
    "r=int(input(\"enter number: \"))\n",
    "for i in range(-r,r+1):\n",
    "    if i==0:\n",
    "        continue\n",
    "    d=n/i\n",
    "    print(d)"
   ]
  },
  {
   "cell_type": "code",
   "execution_count": 14,
   "metadata": {},
   "outputs": [
    {
     "name": "stdout",
     "output_type": "stream",
     "text": [
      "1\n",
      "4\n",
      "9\n",
      "please do not use: a\n",
      "9\n",
      "25\n",
      "36\n",
      "49\n",
      "please do not use: b\n"
     ]
    }
   ],
   "source": [
    "l=[1,2,3,\"a\",3,5,6,7,\"b\"]\n",
    "for i in l:\n",
    "    if type(i)!=int and type(i)!=float:\n",
    "        print(f\"please do not use: {i}\")\n",
    "        continue\n",
    "    print(i**2)"
   ]
  },
  {
   "cell_type": "code",
   "execution_count": null,
   "metadata": {},
   "outputs": [],
   "source": [
    "\n",
    "for j in range(10):\n",
    "    i=0\n",
    "    while True:\n",
    "        i=i+1\n",
    "        if i==3:\n",
    "            break"
   ]
  },
  {
   "cell_type": "code",
   "execution_count": null,
   "metadata": {},
   "outputs": [],
   "source": []
  },
  {
   "cell_type": "markdown",
   "metadata": {},
   "source": [
    "# for vs while"
   ]
  },
  {
   "cell_type": "code",
   "execution_count": 15,
   "metadata": {},
   "outputs": [
    {
     "name": "stdout",
     "output_type": "stream",
     "text": [
      "sum:  5050\n"
     ]
    }
   ],
   "source": [
    "n=0\n",
    "s=0\n",
    "while n<=100:\n",
    "    s=s+n\n",
    "    n=n+1   \n",
    "print(\"sum: \",s)"
   ]
  },
  {
   "cell_type": "code",
   "execution_count": 16,
   "metadata": {},
   "outputs": [
    {
     "name": "stdout",
     "output_type": "stream",
     "text": [
      "sum:  5050\n"
     ]
    }
   ],
   "source": [
    "s=0\n",
    "for n in range(101): \n",
    "    s=s+n\n",
    "print(\"sum: \",s)"
   ]
  },
  {
   "cell_type": "code",
   "execution_count": 19,
   "metadata": {},
   "outputs": [
    {
     "name": "stdout",
     "output_type": "stream",
     "text": [
      "5050\n"
     ]
    }
   ],
   "source": [
    "# much better way to do this computation\n",
    "n = 100\n",
    "print(n * (n+1) // 2)"
   ]
  },
  {
   "cell_type": "code",
   "execution_count": null,
   "metadata": {},
   "outputs": [],
   "source": []
  }
 ],
 "metadata": {
  "colab": {
   "collapsed_sections": [],
   "name": " while loop and loop control",
   "provenance": []
  },
  "kernelspec": {
   "display_name": "Python 3 (ipykernel)",
   "language": "python",
   "name": "python3"
  },
  "language_info": {
   "codemirror_mode": {
    "name": "ipython",
    "version": 3
   },
   "file_extension": ".py",
   "mimetype": "text/x-python",
   "name": "python",
   "nbconvert_exporter": "python",
   "pygments_lexer": "ipython3",
   "version": "3.12.4"
  }
 },
 "nbformat": 4,
 "nbformat_minor": 4
}
