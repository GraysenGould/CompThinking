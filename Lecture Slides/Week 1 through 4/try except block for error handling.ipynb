{
 "cells": [
  {
   "cell_type": "markdown",
   "id": "b3a22376",
   "metadata": {},
   "source": [
    "##### Enter 3 numbers and calculate their sum"
   ]
  },
  {
   "cell_type": "code",
   "execution_count": null,
   "id": "d52b36b0",
   "metadata": {},
   "outputs": [],
   "source": [
    "try:\n",
    "    n1=float(input(\"enter the 1st number:\"))\n",
    "    n2=float(input(\"enter the 2nd number:\"))\n",
    "    n3=float(input(\"enter the 3rd number:\"))\n",
    "    n=n1+n2+n3\n",
    "    print(\"the sum is: \",n)\n",
    "except:\n",
    "    print(\"please type a number\")\n",
    "\n",
    "print(\"Have another try!\")\n"
   ]
  },
  {
   "cell_type": "markdown",
   "id": "7ddefa9e",
   "metadata": {},
   "source": [
    "##### Enter a number and check if its even"
   ]
  },
  {
   "cell_type": "code",
   "execution_count": null,
   "id": "50653cb4",
   "metadata": {},
   "outputs": [],
   "source": [
    "try:\n",
    "    num=int(input(\"enter your number: \"))\n",
    "    iseven=num%2==0\n",
    "    print(\"is the number even? \",iseven)\n",
    "except:\n",
    "    print(\"please enter an integer number\")"
   ]
  },
  {
   "cell_type": "code",
   "execution_count": null,
   "id": "0729766d",
   "metadata": {},
   "outputs": [],
   "source": []
  },
  {
   "cell_type": "code",
   "execution_count": null,
   "id": "e9ffb154",
   "metadata": {},
   "outputs": [],
   "source": [
    "fy"
   ]
  }
 ],
 "metadata": {
  "kernelspec": {
   "display_name": "Python 3 (ipykernel)",
   "language": "python",
   "name": "python3"
  },
  "language_info": {
   "codemirror_mode": {
    "name": "ipython",
    "version": 3
   },
   "file_extension": ".py",
   "mimetype": "text/x-python",
   "name": "python",
   "nbconvert_exporter": "python",
   "pygments_lexer": "ipython3",
   "version": "3.12.4"
  }
 },
 "nbformat": 4,
 "nbformat_minor": 5
}
