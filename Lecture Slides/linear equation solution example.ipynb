{
 "cells": [
  {
   "cell_type": "markdown",
   "id": "5ee6cff6",
   "metadata": {},
   "source": [
    "### Using arrays to solve linear equations"
   ]
  },
  {
   "cell_type": "markdown",
   "id": "e7246dca",
   "metadata": {},
   "source": [
    "We have the data of different customerswho purchased some fruits from a shop that sells: \n",
    "Banana, orange, mango, strawberry, apple, pineapple.\n",
    "\n",
    "\n",
    "    Customer\tbanana\t orange\t mango\t strawberry\t apple\t  pineapple\ttotal spent\n",
    "\n",
    "        1\t        5    \t    0       2      10\t          4\t       0\t      8.54\n",
    "    \n",
    "        2\t       10\t    5\t    0\t    0\t          6\t       2\t      14.6\n",
    "\n",
    "        3\t        0\t   10\t    0\t   25\t          2\t       1\t      8.35\n",
    "\n",
    "        4\t        2\t    6\t    6\t    0\t          6\t       0\t     10.58\n",
    "\n",
    "        5\t        6\t    4\t    3\t   12             3\t       1             11.45\n",
    "     \n",
    "        6\t        8\t   12\t    4\t    0\t         10\t       0\t     17.32\n",
    "\n",
    "\n",
    "\n",
    "We know the quantities per item and the total amount spent. \n",
    "How can we find the unit prices of each of the fruit items?\n",
    "\n",
    "Lets create the linear equations based on the data:\n",
    "\n",
    "    5a+0b+2c+10d+4e+0f=8.54\n",
    "\n",
    "    10a+5b+0c+0d+6e+2f=14.6\n",
    "\n",
    "    0a+10b+0c+25d+2e+1f=8.35\n",
    "\n",
    "    2a+6b+6c+0d+6e+0f=10.58\n",
    "\n",
    "    6a+4b+3c+12d+3e+1f=11.45\n",
    "\n",
    "    8a+12b+4c+0d+10e+0f=17.32\n",
    "\n",
    "The variables a,b,c,d,e,f represent banana, orange, mango, strawberry, apple and pineapple, respectively.\n",
    "The coefficients of a,b,c,d,e,f are the quantities. The right side of the equations has the total amount spent per customer. \n",
    "\n",
    "P.S: Each of the above equations is called \"linear equation\" because the output is a linear combination of the input variables (i.e. a,b,c,d,e,f)"
   ]
  },
  {
   "cell_type": "code",
   "execution_count": null,
   "id": "a02fd292",
   "metadata": {},
   "outputs": [],
   "source": [
    "import numpy as np"
   ]
  },
  {
   "cell_type": "code",
   "execution_count": null,
   "id": "0b1089a0",
   "metadata": {},
   "outputs": [],
   "source": [
    "units=np.array([[5,0,2,10,4,0],[10,5,0,0,6,2],[0,10,0,25,2,1],[2,6,6,0,6,0],[6,4,3,12,3,1],[8,12,4,0,10,0]])\n",
    "units"
   ]
  },
  {
   "cell_type": "code",
   "execution_count": null,
   "id": "0361ab36",
   "metadata": {},
   "outputs": [],
   "source": [
    "spent=np.array([8.54,14.6,8.35,10.58,11.45,17.32])\n",
    "spent"
   ]
  },
  {
   "cell_type": "code",
   "execution_count": null,
   "id": "e6db3a18",
   "metadata": {},
   "outputs": [],
   "source": [
    "U=np.linalg.inv(units)\n",
    "U"
   ]
  },
  {
   "cell_type": "code",
   "execution_count": null,
   "id": "6957e794",
   "metadata": {},
   "outputs": [],
   "source": [
    "unit_prices=U@spent"
   ]
  },
  {
   "cell_type": "code",
   "execution_count": null,
   "id": "76d02679",
   "metadata": {},
   "outputs": [],
   "source": [
    "unit_prices"
   ]
  },
  {
   "cell_type": "code",
   "execution_count": null,
   "id": "1501d4ea",
   "metadata": {},
   "outputs": [],
   "source": [
    "unit_prices=spent@np.transpose(U)"
   ]
  },
  {
   "cell_type": "code",
   "execution_count": null,
   "id": "313cd378",
   "metadata": {},
   "outputs": [],
   "source": [
    "unit_prices"
   ]
  },
  {
   "cell_type": "code",
   "execution_count": null,
   "id": "15c48fb3",
   "metadata": {},
   "outputs": [],
   "source": [
    "# try easier way: \n",
    "unit_prices=np.linalg.solve(units,spent)\n",
    "unit_prices"
   ]
  },
  {
   "cell_type": "code",
   "execution_count": null,
   "id": "51d7554a",
   "metadata": {},
   "outputs": [],
   "source": [
    "items=[\"Banana\",\"Orange\",\"mango\",\"Strawberry\",\"Apple\",\"Pineapple\"]\n",
    "prices={}"
   ]
  },
  {
   "cell_type": "code",
   "execution_count": null,
   "id": "7beb40c7",
   "metadata": {},
   "outputs": [],
   "source": [
    "for i in range(6):\n",
    "    prices[items[i]+\" (in $)\"]=round(unit_prices[i],2)\n",
    "\n",
    "print(prices)"
   ]
  },
  {
   "cell_type": "code",
   "execution_count": null,
   "id": "ff7db2f0",
   "metadata": {},
   "outputs": [],
   "source": []
  }
 ],
 "metadata": {
  "kernelspec": {
   "display_name": "Python 3 (ipykernel)",
   "language": "python",
   "name": "python3"
  },
  "language_info": {
   "codemirror_mode": {
    "name": "ipython",
    "version": 3
   },
   "file_extension": ".py",
   "mimetype": "text/x-python",
   "name": "python",
   "nbconvert_exporter": "python",
   "pygments_lexer": "ipython3",
   "version": "3.12.4"
  }
 },
 "nbformat": 4,
 "nbformat_minor": 5
}
