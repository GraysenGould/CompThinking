{
 "cells": [
  {
   "cell_type": "markdown",
   "metadata": {
    "id": "ZUpgCXx71Bq9"
   },
   "source": [
    "## For"
   ]
  },
  {
   "cell_type": "code",
   "execution_count": 1,
   "metadata": {
    "id": "mm0qTcU-HVeP"
   },
   "outputs": [
    {
     "name": "stdout",
     "output_type": "stream",
     "text": [
      "1\n",
      "hello\n",
      "2.5\n",
      "2.5\n"
     ]
    }
   ],
   "source": [
    "# iterating sequence can be a list\n",
    "for c in [1,\"hello\",2.5]:\n",
    "    print(c)\n",
    "    \n",
    "print(c)\n"
   ]
  },
  {
   "cell_type": "code",
   "execution_count": 2,
   "metadata": {
    "id": "39aTRP6fF55n"
   },
   "outputs": [
    {
     "name": "stdout",
     "output_type": "stream",
     "text": [
      "1 2 3 4\n",
      "1\n",
      "5 6 7 8\n",
      "5\n",
      "9 10 11 12\n",
      "9\n"
     ]
    }
   ],
   "source": [
    "# iterating sequence can be a nested list\n",
    "\n",
    "for w,x,y,z in [[1,2,3,4],[5,6,7,8],[9,10,11,12]]:\n",
    "    print(w,x,y,z)\n",
    "    #s=w+x+y+z\n",
    "    print(w)\n",
    "    #m_wy=w*y\n",
    "    #s_xz=x+z\n",
    "    #print(s,m_wy,s_xz)\n",
    "    #print(\"\\n\")\n",
    "    #print(i)\n",
    "   "
   ]
  },
  {
   "cell_type": "code",
   "execution_count": 3,
   "metadata": {},
   "outputs": [
    {
     "name": "stdout",
     "output_type": "stream",
     "text": [
      "3\n",
      "8\n",
      "13\n"
     ]
    }
   ],
   "source": [
    "for x in [[1,2,3],[5,6,7,8],[9,10,11,12,13]]:\n",
    "    print(x[-1])"
   ]
  },
  {
   "cell_type": "code",
   "execution_count": 4,
   "metadata": {
    "colab": {
     "base_uri": "https://localhost:8080/"
    },
    "id": "0AOUxmfXGNpj",
    "outputId": "c08f0b0d-be06-4644-e531-cb3ac9d6b9d7",
    "scrolled": true
   },
   "outputs": [
    {
     "name": "stdout",
     "output_type": "stream",
     "text": [
      "f t\n",
      "s d\n",
      "t d\n"
     ]
    }
   ],
   "source": [
    "#provided a list of strings, print the first and last character of each string in the list\n",
    "for c in [\"first\",\"second\",\"third\"]:   \n",
    "    print(c[0],c[-1])  # note the negative index. "
   ]
  },
  {
   "cell_type": "code",
   "execution_count": 5,
   "metadata": {
    "id": "IkXh92ZBG0fY"
   },
   "outputs": [
    {
     "name": "stdout",
     "output_type": "stream",
     "text": [
      "T\n",
      "T\n",
      "U\n"
     ]
    }
   ],
   "source": [
    "# iterating sequence can also be a string\n",
    "for c in \"TTU\":\n",
    "    print(c)"
   ]
  },
  {
   "cell_type": "code",
   "execution_count": 6,
   "metadata": {},
   "outputs": [
    {
     "name": "stdout",
     "output_type": "stream",
     "text": [
      "a\n",
      "b\n"
     ]
    }
   ],
   "source": [
    "# iterating sequence can be a dictionary too\n",
    "for i in {\"a\":[1,2,3],\"b\":[4,5,6]}: \n",
    "    print(i)"
   ]
  },
  {
   "cell_type": "code",
   "execution_count": 7,
   "metadata": {},
   "outputs": [
    {
     "name": "stdout",
     "output_type": "stream",
     "text": [
      "a [1, 2, 3]\n",
      "b [4, 5, 6]\n"
     ]
    }
   ],
   "source": [
    "mydict={\"a\":[1,2,3],\"b\":[4,5,6]}\n",
    "\n",
    "for i in mydict:\n",
    "    print(i,mydict[i])"
   ]
  },
  {
   "cell_type": "code",
   "execution_count": 8,
   "metadata": {},
   "outputs": [
    {
     "name": "stdout",
     "output_type": "stream",
     "text": [
      "1\n",
      "2\n",
      "3\n",
      "4\n"
     ]
    }
   ],
   "source": [
    "for i in {4,1,2,3,1,2}:\n",
    "    print(i)"
   ]
  },
  {
   "cell_type": "markdown",
   "metadata": {},
   "source": [
    "## range function \n",
    "#### NOTE: range( ) never takes floats as arguments!!!"
   ]
  },
  {
   "cell_type": "code",
   "execution_count": 9,
   "metadata": {
    "id": "insH273sHGS5"
   },
   "outputs": [
    {
     "name": "stdout",
     "output_type": "stream",
     "text": [
      "hello world\n",
      "hello world\n",
      "hello world\n",
      "hello world\n",
      "hello world\n"
     ]
    }
   ],
   "source": [
    "for i in range(5):\n",
    "    print(\"hello world\")"
   ]
  },
  {
   "cell_type": "code",
   "execution_count": 10,
   "metadata": {
    "id": "n9EgLf0yIE4T"
   },
   "outputs": [
    {
     "name": "stdout",
     "output_type": "stream",
     "text": [
      "i= 2\n",
      "i= 3\n",
      "i= 4\n",
      "i= 5\n"
     ]
    }
   ],
   "source": [
    "for i in range(2,6):\n",
    "    print(\"i=\",i)"
   ]
  },
  {
   "cell_type": "code",
   "execution_count": 11,
   "metadata": {
    "id": "JCxVCTuoIOCv"
   },
   "outputs": [
    {
     "name": "stdout",
     "output_type": "stream",
     "text": [
      "12*2= 144\n",
      "14*2= 196\n",
      "16*2= 256\n",
      "18*2= 324\n",
      "20*2= 400\n",
      "22*2= 484\n",
      "24*2= 576\n",
      "26*2= 676\n",
      "28*2= 784\n",
      "30*2= 900\n",
      "32*2= 1024\n",
      "34*2= 1156\n",
      "36*2= 1296\n",
      "38*2= 1444\n",
      "40*2= 1600\n",
      "42*2= 1764\n",
      "44*2= 1936\n",
      "46*2= 2116\n",
      "48*2= 2304\n",
      "50*2= 2500\n"
     ]
    }
   ],
   "source": [
    "for x in range(12,51,2):\n",
    "    print(\"%i*2=\"%x,x**2)"
   ]
  },
  {
   "cell_type": "code",
   "execution_count": null,
   "metadata": {},
   "outputs": [],
   "source": []
  }
 ],
 "metadata": {
  "colab": {
   "name": "for loop ",
   "provenance": []
  },
  "kernelspec": {
   "display_name": "Python 3 (ipykernel)",
   "language": "python",
   "name": "python3"
  },
  "language_info": {
   "codemirror_mode": {
    "name": "ipython",
    "version": 3
   },
   "file_extension": ".py",
   "mimetype": "text/x-python",
   "name": "python",
   "nbconvert_exporter": "python",
   "pygments_lexer": "ipython3",
   "version": "3.12.4"
  }
 },
 "nbformat": 4,
 "nbformat_minor": 4
}
