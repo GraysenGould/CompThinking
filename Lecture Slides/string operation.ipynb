{
 "cells": [
  {
   "cell_type": "markdown",
   "id": "0c7612eb",
   "metadata": {},
   "source": [
    "## Slicing and indexing\n",
    "\n",
    "###### The indexing method you are learning today is not exclusive for strings but universal in python for indexing any collections of data (e.g. lists, arrays, dataframes etc)"
   ]
  },
  {
   "cell_type": "code",
   "execution_count": null,
   "id": "3f8cb073",
   "metadata": {},
   "outputs": [],
   "source": [
    "s4=\"Hello World!   \"\n",
    "len(s4)"
   ]
  },
  {
   "cell_type": "code",
   "execution_count": null,
   "id": "783fbecd",
   "metadata": {},
   "outputs": [],
   "source": [
    "s4[4]"
   ]
  },
  {
   "cell_type": "code",
   "execution_count": null,
   "id": "2dceff45",
   "metadata": {},
   "outputs": [],
   "source": [
    "s5=s4[3:8]\n",
    "s6=s4[:5]\n",
    "s7=s4[6:]\n",
    "print(s4)\n",
    "print(s5)\n",
    "print(s6)\n",
    "print(s7)"
   ]
  },
  {
   "cell_type": "code",
   "execution_count": null,
   "id": "09b3be56",
   "metadata": {},
   "outputs": [],
   "source": [
    "s4[2:10]"
   ]
  },
  {
   "cell_type": "code",
   "execution_count": null,
   "id": "003e0968",
   "metadata": {},
   "outputs": [],
   "source": [
    "s4[6:11]"
   ]
  },
  {
   "cell_type": "code",
   "execution_count": null,
   "id": "b78ef93d",
   "metadata": {},
   "outputs": [],
   "source": [
    "s4[1:11:3]"
   ]
  },
  {
   "cell_type": "code",
   "execution_count": null,
   "id": "b187ffcd",
   "metadata": {},
   "outputs": [],
   "source": [
    "len(s4)"
   ]
  },
  {
   "cell_type": "code",
   "execution_count": null,
   "id": "7c18e4bf",
   "metadata": {},
   "outputs": [],
   "source": [
    "s4[-1]"
   ]
  },
  {
   "cell_type": "code",
   "execution_count": null,
   "id": "89c13056",
   "metadata": {},
   "outputs": [],
   "source": [
    "s4[::-1]"
   ]
  },
  {
   "cell_type": "markdown",
   "id": "583ab885",
   "metadata": {},
   "source": [
    "## Modification\n",
    "\n",
    "\n",
    "##### These modification functions are \"methods\" exclusively defined for the class \"string\", that means:\n",
    "\n",
    "1. We cannot apply these methods on objects of any other class (i.e. on non-string variable or data )\n",
    "2. We cannot call these functions independently, rather we must call them in association with an object of class \"string\". That is done by the \"dot\" convention:\n",
    "\n",
    "                     string_object.string_method(args)\n",
    "\n",
    "\n",
    "\n",
    "###### You may read more about the dot convention here: https://builtin.com/data-science/dot-notation"
   ]
  },
  {
   "cell_type": "code",
   "execution_count": null,
   "id": "a2598a7c",
   "metadata": {},
   "outputs": [],
   "source": [
    "s8=s4.upper()\n",
    "print(s4)"
   ]
  },
  {
   "cell_type": "code",
   "execution_count": null,
   "id": "94f653e7",
   "metadata": {},
   "outputs": [],
   "source": [
    "s9=s4.lower()\n",
    "print(s9)"
   ]
  },
  {
   "cell_type": "code",
   "execution_count": null,
   "id": "48af5830",
   "metadata": {},
   "outputs": [],
   "source": [
    "s10=s4.replace(\"World\",\"Friends\")\n",
    "s11=s4.replace(\" \",\",\")\n",
    "print(s10)\n",
    "print(s11)\n",
    "print(s4)"
   ]
  },
  {
   "cell_type": "code",
   "execution_count": null,
   "id": "3f4a01a1",
   "metadata": {},
   "outputs": [],
   "source": [
    "s12=s4[:12].replace(\" \",\",\")\n",
    "print(s12)\n",
    "len(s12)"
   ]
  },
  {
   "cell_type": "code",
   "execution_count": null,
   "id": "13fa6af8",
   "metadata": {},
   "outputs": [],
   "source": [
    "s13=s4.strip()\n",
    "s13"
   ]
  },
  {
   "cell_type": "code",
   "execution_count": null,
   "id": "a8cafe9b",
   "metadata": {},
   "outputs": [],
   "source": [
    "l=len(s13) ## to check if the spaces are really removed\n",
    "print(l)"
   ]
  },
  {
   "cell_type": "code",
   "execution_count": null,
   "id": "2ecf4870",
   "metadata": {},
   "outputs": [],
   "source": [
    "len(s4)"
   ]
  },
  {
   "cell_type": "code",
   "execution_count": null,
   "id": "c2aafebd",
   "metadata": {
    "scrolled": true
   },
   "outputs": [],
   "source": [
    "s=\"Orange, Apple, Banana, Cherry\"\n",
    "s_new=s.split(\", \") \n",
    "print(s_new)"
   ]
  },
  {
   "cell_type": "code",
   "execution_count": null,
   "id": "92b60ba5",
   "metadata": {},
   "outputs": [],
   "source": [
    "print(type(s_new))"
   ]
  },
  {
   "cell_type": "code",
   "execution_count": null,
   "id": "65dc78c4",
   "metadata": {},
   "outputs": [],
   "source": [
    "s.find(\"Banana\") #s4.index()"
   ]
  },
  {
   "cell_type": "code",
   "execution_count": null,
   "id": "8d0d4bc7",
   "metadata": {},
   "outputs": [],
   "source": [
    "s[15:21]"
   ]
  },
  {
   "cell_type": "code",
   "execution_count": null,
   "id": "2de401a6",
   "metadata": {},
   "outputs": [],
   "source": [
    "s.find(\"a\")"
   ]
  },
  {
   "cell_type": "markdown",
   "id": "7180077d",
   "metadata": {},
   "source": [
    "## Format"
   ]
  },
  {
   "cell_type": "markdown",
   "id": "f5d937f9",
   "metadata": {},
   "source": [
    "### Example 1"
   ]
  },
  {
   "cell_type": "code",
   "execution_count": null,
   "id": "4d77bc40",
   "metadata": {},
   "outputs": [],
   "source": [
    "who_am_i=\"My name is {}. I am from {}.\"\n",
    "print(who_am_i)\n",
    "len(who_am_i)"
   ]
  },
  {
   "cell_type": "code",
   "execution_count": null,
   "id": "4f8d7298",
   "metadata": {},
   "outputs": [],
   "source": [
    "name=input(\"What is your name? \")\n",
    "state=input(\"Which state you are from? \")"
   ]
  },
  {
   "cell_type": "code",
   "execution_count": null,
   "id": "39a9ac61",
   "metadata": {},
   "outputs": [],
   "source": [
    "I_am=who_am_i.format(name,state)\n",
    "print(who_am_i)"
   ]
  },
  {
   "cell_type": "markdown",
   "id": "dc9140a3",
   "metadata": {},
   "source": [
    "### Example 2"
   ]
  },
  {
   "cell_type": "code",
   "execution_count": null,
   "id": "06042cc3",
   "metadata": {},
   "outputs": [],
   "source": [
    "me=\"I am {} years old\"\n",
    "age=22.5\n",
    "me.format(age)"
   ]
  },
  {
   "cell_type": "markdown",
   "id": "d5d8db77",
   "metadata": {},
   "source": [
    "### string formatting using % operator: \n",
    "(read more at: https://www.geeksforgeeks.org/string-formatting-in-python/)"
   ]
  },
  {
   "cell_type": "code",
   "execution_count": 1,
   "id": "270682cf",
   "metadata": {},
   "outputs": [
    {
     "data": {
      "text/plain": [
       "'I am 22.000000 years old'"
      ]
     },
     "execution_count": 1,
     "metadata": {},
     "output_type": "execute_result"
    }
   ],
   "source": [
    "me=\"I am %f years old\"%22\n",
    "me"
   ]
  },
  {
   "cell_type": "markdown",
   "id": "780a35a2",
   "metadata": {},
   "source": [
    "## Concatenation"
   ]
  },
  {
   "cell_type": "code",
   "execution_count": null,
   "id": "a089a550",
   "metadata": {},
   "outputs": [],
   "source": [
    "s1=\"Orange\"\n",
    "s2=\"Apple\"\n",
    "s3=\"Banana\"\n",
    "s4=s1+\" \"+s2+\" \"+s3\n",
    "print(s4)"
   ]
  },
  {
   "cell_type": "code",
   "execution_count": null,
   "id": "76cb0999",
   "metadata": {},
   "outputs": [],
   "source": [
    "s1*3"
   ]
  },
  {
   "cell_type": "code",
   "execution_count": null,
   "id": "8932a12d",
   "metadata": {},
   "outputs": [],
   "source": [
    "s1+4"
   ]
  },
  {
   "cell_type": "markdown",
   "id": "a1af63ed",
   "metadata": {},
   "source": [
    "### Practice problems: \n",
    "#### (Refer to the link: https://www.w3schools.com/python/python_ref_string.asp)\n"
   ]
  },
  {
   "cell_type": "markdown",
   "id": "755d4c23",
   "metadata": {},
   "source": [
    "##### For the given string s, do the followings:\n",
    "1. Find how many times the character \"o\",\"e\", \"r\" and space appears in the string"
   ]
  },
  {
   "cell_type": "code",
   "execution_count": 3,
   "id": "1921ca5a",
   "metadata": {},
   "outputs": [
    {
     "data": {
      "text/plain": [
       "1"
      ]
     },
     "execution_count": 3,
     "metadata": {},
     "output_type": "execute_result"
    }
   ],
   "source": [
    "s=\"The 22 quick brown fox jumped over the lazy dog\"\n",
    "o=\"22\"\n",
    "s.count(o)"
   ]
  },
  {
   "cell_type": "code",
   "execution_count": 4,
   "id": "f65d873a",
   "metadata": {},
   "outputs": [
    {
     "data": {
      "text/plain": [
       "2"
      ]
     },
     "execution_count": 4,
     "metadata": {},
     "output_type": "execute_result"
    }
   ],
   "source": [
    "s.count(\"r\")"
   ]
  },
  {
   "cell_type": "code",
   "execution_count": 5,
   "id": "3c2f9919",
   "metadata": {},
   "outputs": [
    {
     "data": {
      "text/plain": [
       "4"
      ]
     },
     "execution_count": 5,
     "metadata": {},
     "output_type": "execute_result"
    }
   ],
   "source": [
    "s.count(\"e\")"
   ]
  },
  {
   "cell_type": "code",
   "execution_count": 6,
   "id": "23261e19",
   "metadata": {},
   "outputs": [
    {
     "data": {
      "text/plain": [
       "9"
      ]
     },
     "execution_count": 6,
     "metadata": {},
     "output_type": "execute_result"
    }
   ],
   "source": [
    "s.count(\" \")"
   ]
  },
  {
   "cell_type": "markdown",
   "id": "a86fd353",
   "metadata": {},
   "source": [
    "2. Find the index position of fox\n"
   ]
  },
  {
   "cell_type": "code",
   "execution_count": 7,
   "id": "c3ee1f96",
   "metadata": {},
   "outputs": [
    {
     "data": {
      "text/plain": [
       "19"
      ]
     },
     "execution_count": 7,
     "metadata": {},
     "output_type": "execute_result"
    }
   ],
   "source": [
    "s.find(\"fox\")\n",
    "# s.index(\"fox\") ## will do the same thing"
   ]
  },
  {
   "cell_type": "markdown",
   "id": "a4c15c81",
   "metadata": {},
   "source": [
    "3. Count how many words are there in s "
   ]
  },
  {
   "cell_type": "code",
   "execution_count": 8,
   "id": "b272d9db",
   "metadata": {},
   "outputs": [
    {
     "data": {
      "text/plain": [
       "['The', '22', 'quick', 'brown', 'fox', 'jumped', 'over', 'the', 'lazy', 'dog']"
      ]
     },
     "execution_count": 8,
     "metadata": {},
     "output_type": "execute_result"
    }
   ],
   "source": [
    "words=s.split(\" \") #use space as separator\n",
    "words"
   ]
  },
  {
   "cell_type": "code",
   "execution_count": 9,
   "id": "f8047199",
   "metadata": {},
   "outputs": [
    {
     "name": "stdout",
     "output_type": "stream",
     "text": [
      "There are 10 words in s\n"
     ]
    }
   ],
   "source": [
    "print(\"There are {} words in s\".format(len(words)))"
   ]
  },
  {
   "cell_type": "markdown",
   "id": "485e618f",
   "metadata": {},
   "source": []
  },
  {
   "cell_type": "code",
   "execution_count": null,
   "id": "060072c2-e6a8-46dd-8279-217413a76c2a",
   "metadata": {},
   "outputs": [],
   "source": []
  }
 ],
 "metadata": {
  "kernelspec": {
   "display_name": "Python 3 (ipykernel)",
   "language": "python",
   "name": "python3"
  },
  "language_info": {
   "codemirror_mode": {
    "name": "ipython",
    "version": 3
   },
   "file_extension": ".py",
   "mimetype": "text/x-python",
   "name": "python",
   "nbconvert_exporter": "python",
   "pygments_lexer": "ipython3",
   "version": "3.12.4"
  }
 },
 "nbformat": 4,
 "nbformat_minor": 5
}
